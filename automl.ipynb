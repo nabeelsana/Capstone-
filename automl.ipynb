{
 "cells": [
  {
   "cell_type": "markdown",
   "metadata": {},
   "source": [
    "# Automated ML\n",
    "\n",
    "TODO: Import Dependencies. In the cell below, import all the dependencies that you will need to complete the project."
   ]
  },
  {
   "cell_type": "code",
   "execution_count": 1,
   "metadata": {
    "gather": {
     "logged": 1598423888013
    },
    "jupyter": {
     "outputs_hidden": false,
     "source_hidden": false
    },
    "nteract": {
     "transient": {
      "deleting": false
     }
    }
   },
   "outputs": [
    {
     "name": "stdout",
     "output_type": "stream",
     "text": [
      "SDK version: 1.19.0\n"
     ]
    }
   ],
   "source": [
    "import logging\n",
    "import os\n",
    "import csv\n",
    "\n",
    "from matplotlib import pyplot as plt\n",
    "import numpy as np\n",
    "import pandas as pd\n",
    "from sklearn import datasets\n",
    "import pkg_resources\n",
    "\n",
    "import azureml.core\n",
    "from azureml.core.experiment import Experiment\n",
    "from azureml.core.workspace import Workspace\n",
    "from azureml.train.automl import AutoMLConfig\n",
    "from azureml.core.dataset import Dataset\n",
    "\n",
    "\n",
    "\n",
    "# Check core SDK version number\n",
    "print(\"SDK version:\", azureml.core.VERSION)"
   ]
  },
  {
   "cell_type": "markdown",
   "metadata": {},
   "source": [
    "## Dataset\n",
    "\n",
    "### Overview\n",
    "TODO: In this markdown cell, give an overview of the dataset you are using. Also mention the task you will be performing.\n",
    "\n",
    "\n",
    "TODO: Get data. In the cell below, write code to access the data you will be using in this project. Remember that the dataset needs to be external."
   ]
  },
  {
   "cell_type": "code",
   "execution_count": 2,
   "metadata": {
    "gather": {
     "logged": 1598423890461
    },
    "jupyter": {
     "outputs_hidden": false,
     "source_hidden": false
    },
    "nteract": {
     "transient": {
      "deleting": false
     }
    }
   },
   "outputs": [
    {
     "name": "stdout",
     "output_type": "stream",
     "text": [
      "quick-starts-ws-135610\n",
      "aml-quickstarts-135610\n",
      "southcentralus\n",
      "a0a76bad-11a1-4a2d-9887-97a29122c8ed\n"
     ]
    }
   ],
   "source": [
    "ws = Workspace.from_config()\n",
    "print(ws.name, ws.resource_group, ws.location, ws.subscription_id, sep = '\\n')\n",
    "\n"
   ]
  },
  {
   "cell_type": "code",
   "execution_count": 3,
   "metadata": {},
   "outputs": [
    {
     "data": {
      "text/html": [
       "<table style=\"width:100%\"><tr><th>Name</th><th>Workspace</th><th>Report Page</th><th>Docs Page</th></tr><tr><td>capstone-Automl</td><td>quick-starts-ws-135610</td><td><a href=\"https://ml.azure.com/experiments/capstone-Automl?wsid=/subscriptions/a0a76bad-11a1-4a2d-9887-97a29122c8ed/resourcegroups/aml-quickstarts-135610/workspaces/quick-starts-ws-135610\" target=\"_blank\" rel=\"noopener\">Link to Azure Machine Learning studio</a></td><td><a href=\"https://docs.microsoft.com/en-us/python/api/azureml-core/azureml.core.experiment.Experiment?view=azure-ml-py\" target=\"_blank\" rel=\"noopener\">Link to Documentation</a></td></tr></table>"
      ],
      "text/plain": [
       "Experiment(Name: capstone-Automl,\n",
       "Workspace: quick-starts-ws-135610)"
      ]
     },
     "execution_count": 3,
     "metadata": {},
     "output_type": "execute_result"
    }
   ],
   "source": [
    "# choose a name for experiment\n",
    "experiment_name = 'capstone-Automl'\n",
    "project_folder = './pipeline-project'\n",
    "\n",
    "experiment=Experiment(ws, experiment_name)\n",
    "experiment"
   ]
  },
  {
   "cell_type": "markdown",
   "metadata": {},
   "source": [
    "# Creat Compute Cluster"
   ]
  },
  {
   "cell_type": "code",
   "execution_count": 4,
   "metadata": {},
   "outputs": [
    {
     "name": "stdout",
     "output_type": "stream",
     "text": [
      "Creating\n",
      "Succeeded.................................................................................................................\n",
      "AmlCompute wait for completion finished\n",
      "\n",
      "Wait timeout has been reached\n",
      "Current provisioning state of AmlCompute is \"Succeeded\" and current node count is \"0\"\n"
     ]
    },
    {
     "data": {
      "text/plain": [
       "<azureml.core.compute.amlcompute.AmlComputeStatus at 0x7f750291aef0>"
      ]
     },
     "execution_count": 4,
     "metadata": {},
     "output_type": "execute_result"
    }
   ],
   "source": [
    "from azureml.core.compute import AmlCompute\n",
    "from azureml.core.compute import ComputeTarget\n",
    "from azureml.core.compute_target import ComputeTargetException\n",
    "\n",
    "\n",
    "# Choose a name for your GPU cluster\n",
    "amlcompute_cluster_name = \"auto-ml\"\n",
    "\n",
    "# Verify that cluster does not exist already\n",
    "try:\n",
    "    compute_target = ComputeTarget(workspace=ws, name=amlcompute_cluster_name)\n",
    "    print('Found existing cluster, use it.')\n",
    "except ComputeTargetException:\n",
    "    compute_config = AmlCompute.provisioning_configuration(vm_size='STANDARD_NC6',# for GPU, use \"STANDARD_NC6\"\n",
    "                                                           #vm_priority = 'lowpriority', # optional\n",
    "                                                           max_nodes=4)\n",
    "    compute_target = ComputeTarget.create(ws, amlcompute_cluster_name, compute_config)\n",
    "\n",
    "compute_target.wait_for_completion(show_output=True, min_node_count = 1, timeout_in_minutes = 10)\n",
    "# For a more detailed view of current AmlCompute status, use get_status().\n",
    "compute_target.get_status()"
   ]
  },
  {
   "cell_type": "markdown",
   "metadata": {},
   "source": [
    "Data"
   ]
  },
  {
   "cell_type": "code",
   "execution_count": 5,
   "metadata": {},
   "outputs": [],
   "source": [
    "from azureml.data.dataset_factory import TabularDatasetFactory\n"
   ]
  },
  {
   "cell_type": "code",
   "execution_count": 6,
   "metadata": {},
   "outputs": [],
   "source": [
    "datastore= ws.get_default_datastore()"
   ]
  },
  {
   "cell_type": "code",
   "execution_count": 7,
   "metadata": {},
   "outputs": [
    {
     "name": "stdout",
     "output_type": "stream",
     "text": [
      "Uploading an estimated of 3 files\n",
      "Uploading ./automl.ipynb\n",
      "Uploaded ./automl.ipynb, 1 files out of an estimated total of 3\n",
      "Uploading ./heart_failure_clinical_records_dataset.csv\n",
      "Uploaded ./heart_failure_clinical_records_dataset.csv, 2 files out of an estimated total of 3\n",
      "Uploading ./.ipynb_checkpoints/automl-checkpoint.ipynb\n",
      "Uploaded ./.ipynb_checkpoints/automl-checkpoint.ipynb, 3 files out of an estimated total of 3\n",
      "Uploaded 3 files\n"
     ]
    },
    {
     "data": {
      "text/plain": [
       "$AZUREML_DATAREFERENCE_workspaceblobstore"
      ]
     },
     "execution_count": 7,
     "metadata": {},
     "output_type": "execute_result"
    }
   ],
   "source": [
    "datastore.upload(src_dir= './', target_path= './')"
   ]
  },
  {
   "cell_type": "code",
   "execution_count": 8,
   "metadata": {},
   "outputs": [],
   "source": [
    "tds= Dataset.Tabular.from_delimited_files(datastore.path('./heart_failure_clinical_records_dataset.csv'))"
   ]
  },
  {
   "cell_type": "code",
   "execution_count": 9,
   "metadata": {},
   "outputs": [
    {
     "data": {
      "text/html": [
       "<div>\n",
       "<style scoped>\n",
       "    .dataframe tbody tr th:only-of-type {\n",
       "        vertical-align: middle;\n",
       "    }\n",
       "\n",
       "    .dataframe tbody tr th {\n",
       "        vertical-align: top;\n",
       "    }\n",
       "\n",
       "    .dataframe thead th {\n",
       "        text-align: right;\n",
       "    }\n",
       "</style>\n",
       "<table border=\"1\" class=\"dataframe\">\n",
       "  <thead>\n",
       "    <tr style=\"text-align: right;\">\n",
       "      <th></th>\n",
       "      <th>age</th>\n",
       "      <th>anaemia</th>\n",
       "      <th>creatinine_phosphokinase</th>\n",
       "      <th>diabetes</th>\n",
       "      <th>ejection_fraction</th>\n",
       "      <th>high_blood_pressure</th>\n",
       "      <th>platelets</th>\n",
       "      <th>serum_creatinine</th>\n",
       "      <th>serum_sodium</th>\n",
       "      <th>sex</th>\n",
       "      <th>smoking</th>\n",
       "      <th>time</th>\n",
       "      <th>DEATH_EVENT</th>\n",
       "    </tr>\n",
       "  </thead>\n",
       "  <tbody>\n",
       "    <tr>\n",
       "      <th>0</th>\n",
       "      <td>75.0</td>\n",
       "      <td>0</td>\n",
       "      <td>582</td>\n",
       "      <td>0</td>\n",
       "      <td>20</td>\n",
       "      <td>1</td>\n",
       "      <td>265000.00</td>\n",
       "      <td>1.9</td>\n",
       "      <td>130</td>\n",
       "      <td>1</td>\n",
       "      <td>0</td>\n",
       "      <td>4</td>\n",
       "      <td>1</td>\n",
       "    </tr>\n",
       "    <tr>\n",
       "      <th>1</th>\n",
       "      <td>55.0</td>\n",
       "      <td>0</td>\n",
       "      <td>7861</td>\n",
       "      <td>0</td>\n",
       "      <td>38</td>\n",
       "      <td>0</td>\n",
       "      <td>263358.03</td>\n",
       "      <td>1.1</td>\n",
       "      <td>136</td>\n",
       "      <td>1</td>\n",
       "      <td>0</td>\n",
       "      <td>6</td>\n",
       "      <td>1</td>\n",
       "    </tr>\n",
       "    <tr>\n",
       "      <th>2</th>\n",
       "      <td>65.0</td>\n",
       "      <td>0</td>\n",
       "      <td>146</td>\n",
       "      <td>0</td>\n",
       "      <td>20</td>\n",
       "      <td>0</td>\n",
       "      <td>162000.00</td>\n",
       "      <td>1.3</td>\n",
       "      <td>129</td>\n",
       "      <td>1</td>\n",
       "      <td>1</td>\n",
       "      <td>7</td>\n",
       "      <td>1</td>\n",
       "    </tr>\n",
       "    <tr>\n",
       "      <th>3</th>\n",
       "      <td>50.0</td>\n",
       "      <td>1</td>\n",
       "      <td>111</td>\n",
       "      <td>0</td>\n",
       "      <td>20</td>\n",
       "      <td>0</td>\n",
       "      <td>210000.00</td>\n",
       "      <td>1.9</td>\n",
       "      <td>137</td>\n",
       "      <td>1</td>\n",
       "      <td>0</td>\n",
       "      <td>7</td>\n",
       "      <td>1</td>\n",
       "    </tr>\n",
       "    <tr>\n",
       "      <th>4</th>\n",
       "      <td>65.0</td>\n",
       "      <td>1</td>\n",
       "      <td>160</td>\n",
       "      <td>1</td>\n",
       "      <td>20</td>\n",
       "      <td>0</td>\n",
       "      <td>327000.00</td>\n",
       "      <td>2.7</td>\n",
       "      <td>116</td>\n",
       "      <td>0</td>\n",
       "      <td>0</td>\n",
       "      <td>8</td>\n",
       "      <td>1</td>\n",
       "    </tr>\n",
       "  </tbody>\n",
       "</table>\n",
       "</div>"
      ],
      "text/plain": [
       "    age  anaemia  creatinine_phosphokinase  diabetes  ejection_fraction  \\\n",
       "0  75.0        0                       582         0                 20   \n",
       "1  55.0        0                      7861         0                 38   \n",
       "2  65.0        0                       146         0                 20   \n",
       "3  50.0        1                       111         0                 20   \n",
       "4  65.0        1                       160         1                 20   \n",
       "\n",
       "   high_blood_pressure  platelets  serum_creatinine  serum_sodium  sex  \\\n",
       "0                    1  265000.00               1.9           130    1   \n",
       "1                    0  263358.03               1.1           136    1   \n",
       "2                    0  162000.00               1.3           129    1   \n",
       "3                    0  210000.00               1.9           137    1   \n",
       "4                    0  327000.00               2.7           116    0   \n",
       "\n",
       "   smoking  time  DEATH_EVENT  \n",
       "0        0     4            1  \n",
       "1        0     6            1  \n",
       "2        1     7            1  \n",
       "3        0     7            1  \n",
       "4        0     8            1  "
      ]
     },
     "execution_count": 9,
     "metadata": {},
     "output_type": "execute_result"
    }
   ],
   "source": [
    "tds.to_pandas_dataframe().head()"
   ]
  },
  {
   "cell_type": "markdown",
   "metadata": {},
   "source": [
    "## AutoML Configuration\n",
    "\n",
    "TODO: Explain why you chose the automl settings and cofiguration you used below."
   ]
  },
  {
   "cell_type": "code",
   "execution_count": 10,
   "metadata": {
    "gather": {
     "logged": 1598429217746
    },
    "jupyter": {
     "outputs_hidden": false,
     "source_hidden": false
    },
    "nteract": {
     "transient": {
      "deleting": false
     }
    }
   },
   "outputs": [],
   "source": [
    "# TODO: Put your automl settings here\n",
    "automl_settings = {\n",
    "    \"experiment_timeout_minutes\": 20,\n",
    "    \"max_concurrent_iterations\": 4,\n",
    "    \"primary_metric\" : 'accuracy'\n",
    "}\n",
    "\n",
    "# TODO: Put your automl config here\n",
    "automl_config = AutoMLConfig(compute_target=compute_target,\n",
    "                             task = \"classification\",\n",
    "                             training_data=tds,\n",
    "                             label_column_name=\"DEATH_EVENT\",   \n",
    "                             enable_early_stopping= True,\n",
    "                             featurization= 'auto',\n",
    "                             debug_log = \"automl_errors.log\",\n",
    "                             **automl_settings\n",
    "                            )"
   ]
  },
  {
   "cell_type": "code",
   "execution_count": 11,
   "metadata": {
    "gather": {
     "logged": 1598431107951
    },
    "jupyter": {
     "outputs_hidden": false,
     "source_hidden": false
    },
    "nteract": {
     "transient": {
      "deleting": false
     }
    }
   },
   "outputs": [
    {
     "name": "stdout",
     "output_type": "stream",
     "text": [
      "Running on remote.\n"
     ]
    }
   ],
   "source": [
    "# TODO: Submit your experiment\n",
    "remote_run = experiment.submit(automl_config)"
   ]
  },
  {
   "cell_type": "markdown",
   "metadata": {},
   "source": [
    "## Run Details\n",
    "\n",
    "OPTIONAL: Write about the different models trained and their performance. Why do you think some models did better than others?\n",
    "\n",
    "TODO: In the cell below, use the `RunDetails` widget to show the different experiments."
   ]
  },
  {
   "cell_type": "code",
   "execution_count": 12,
   "metadata": {
    "gather": {
     "logged": 1598431121770
    },
    "jupyter": {
     "outputs_hidden": false,
     "source_hidden": false
    },
    "nteract": {
     "transient": {
      "deleting": false
     }
    }
   },
   "outputs": [
    {
     "name": "stdout",
     "output_type": "stream",
     "text": [
      "\n",
      "Current status: ModelSelection. Beginning model selection.\n",
      "\n",
      "****************************************************************************************************\n",
      "DATA GUARDRAILS: \n",
      "\n",
      "TYPE:         Cross validation\n",
      "STATUS:       DONE\n",
      "DESCRIPTION:  Each iteration of the trained model was validated through cross-validation.\n",
      "              \n",
      "DETAILS:      \n",
      "+---------------------------------+\n",
      "|Number of folds                  |\n",
      "+=================================+\n",
      "|10                               |\n",
      "+---------------------------------+\n",
      "\n",
      "****************************************************************************************************\n",
      "\n",
      "TYPE:         Class balancing detection\n",
      "STATUS:       PASSED\n",
      "DESCRIPTION:  Your inputs were analyzed, and all classes are balanced in your training data.\n",
      "              Learn more about imbalanced data: https://aka.ms/AutomatedMLImbalancedData\n",
      "\n",
      "****************************************************************************************************\n",
      "\n",
      "TYPE:         Missing feature values imputation\n",
      "STATUS:       PASSED\n",
      "DESCRIPTION:  No feature missing values were detected in the training data.\n",
      "              Learn more about missing value imputation: https://aka.ms/AutomatedMLFeaturization\n",
      "\n",
      "****************************************************************************************************\n",
      "\n",
      "TYPE:         High cardinality feature detection\n",
      "STATUS:       PASSED\n",
      "DESCRIPTION:  Your inputs were analyzed, and no high cardinality features were detected.\n",
      "              Learn more about high cardinality feature handling: https://aka.ms/AutomatedMLFeaturization\n",
      "\n",
      "****************************************************************************************************\n",
      "\n",
      "****************************************************************************************************\n",
      "ITERATION: The iteration being evaluated.\n",
      "PIPELINE: A summary description of the pipeline being evaluated.\n",
      "DURATION: Time taken for the current iteration.\n",
      "METRIC: The result of computing score on the fitted pipeline.\n",
      "BEST: The best observed score thus far.\n",
      "****************************************************************************************************\n",
      "\n",
      " ITERATION   PIPELINE                                       DURATION      METRIC      BEST\n",
      "         3   MinMaxScaler RandomForest                      0:00:47       0.8324    0.8324\n",
      "         0   MaxAbsScaler LightGBM                          0:00:57       0.8360    0.8360\n",
      "         1   MaxAbsScaler XGBoostClassifier                 0:00:41       0.8126    0.8360\n",
      "         2   MinMaxScaler RandomForest                      0:00:39       0.8393    0.8393\n",
      "         7   MinMaxScaler SVM                               0:00:37       0.7260    0.8393\n",
      "         8   MaxAbsScaler GradientBoosting                  0:00:34       0.8460    0.8460\n",
      "         4   MinMaxScaler RandomForest                      0:02:12       0.8292    0.8460\n",
      "         6   RobustScaler ExtremeRandomTrees                0:02:25       0.8057    0.8460\n",
      "         9   StandardScalerWrapper RandomForest             0:00:39       0.8428    0.8460\n",
      "         5   StandardScalerWrapper LightGBM                 0:03:00       0.8562    0.8562\n",
      "        10   SparseNormalizer LightGBM                      0:00:48       0.7293    0.8562\n",
      "        11   RobustScaler GradientBoosting                  0:00:40       0.8462    0.8562\n",
      "        12   SparseNormalizer XGBoostClassifier             0:00:36       0.8425    0.8562\n",
      "        13   SparseNormalizer LightGBM                      0:00:52       0.8362    0.8562\n",
      "        14   StandardScalerWrapper LightGBM                 0:00:47       0.8226    0.8562\n",
      "        15   RobustScaler ExtremeRandomTrees                0:00:41       0.8597    0.8597\n",
      "        16   RobustScaler RandomForest                      0:00:47       0.8426    0.8597\n",
      "        17   StandardScalerWrapper ExtremeRandomTrees       0:00:41       0.8462    0.8597\n",
      "        18   SparseNormalizer XGBoostClassifier             0:00:37       0.8228    0.8597\n",
      "        19   MaxAbsScaler LightGBM                          0:00:53       0.7757    0.8597\n",
      "        20   StandardScalerWrapper RandomForest             0:00:40       0.8228    0.8597\n",
      "        21   RobustScaler RandomForest                      0:00:44       0.8428    0.8597\n",
      "        22   MinMaxScaler RandomForest                      0:00:46       0.8360    0.8597\n",
      "        24   MaxAbsScaler GradientBoosting                  0:00:38       0.8361    0.8597\n",
      "        23   MinMaxScaler LightGBM                          0:00:50       0.7826    0.8597\n",
      "        25   SparseNormalizer ExtremeRandomTrees            0:00:44       0.5885    0.8597\n",
      "        26   SparseNormalizer RandomForest                  0:00:32       0.8091    0.8597\n",
      "        28   MinMaxScaler LightGBM                          0:01:01       0.8526    0.8597\n",
      "        27   StandardScalerWrapper XGBoostClassifier        0:00:32       0.8493    0.8597\n",
      "        29   StandardScalerWrapper ExtremeRandomTrees       0:00:48       0.8394    0.8597\n",
      "        30   StandardScalerWrapper ExtremeRandomTrees       0:00:55       0.6792    0.8597\n",
      "        31   StandardScalerWrapper LightGBM                 0:00:48       0.8393    0.8597\n",
      "        32   MaxAbsScaler LightGBM                          0:00:46       0.7892    0.8597\n",
      "        33   StandardScalerWrapper LightGBM                 0:00:47       0.8529    0.8597\n",
      "        34   StandardScalerWrapper XGBoostClassifier        0:00:26       0.8360    0.8597\n",
      "        35                                                  0:00:17          nan    0.8597\n",
      "        36    VotingEnsemble                                0:01:46       0.8729    0.8729\n",
      "        37    StackEnsemble                                 0:01:44       0.8629    0.8729\n"
     ]
    },
    {
     "data": {
      "text/plain": [
       "{'runId': 'AutoML_f2ba87a0-9fdf-4292-b8eb-4f82d234cff9',\n",
       " 'target': 'auto-ml',\n",
       " 'status': 'Completed',\n",
       " 'startTimeUtc': '2021-01-21T16:25:00.317482Z',\n",
       " 'endTimeUtc': '2021-01-21T16:47:12.994306Z',\n",
       " 'properties': {'num_iterations': '1000',\n",
       "  'training_type': 'TrainFull',\n",
       "  'acquisition_function': 'EI',\n",
       "  'primary_metric': 'accuracy',\n",
       "  'train_split': '0',\n",
       "  'acquisition_parameter': '0',\n",
       "  'num_cross_validation': None,\n",
       "  'target': 'auto-ml',\n",
       "  'AMLSettingsJsonString': '{\"path\":null,\"name\":\"capstone-Automl\",\"subscription_id\":\"a0a76bad-11a1-4a2d-9887-97a29122c8ed\",\"resource_group\":\"aml-quickstarts-135610\",\"workspace_name\":\"quick-starts-ws-135610\",\"region\":\"southcentralus\",\"compute_target\":\"auto-ml\",\"spark_service\":null,\"azure_service\":\"remote\",\"many_models\":false,\"pipeline_fetch_max_batch_size\":1,\"iterations\":1000,\"primary_metric\":\"accuracy\",\"task_type\":\"classification\",\"data_script\":null,\"validation_size\":0.0,\"n_cross_validations\":null,\"y_min\":null,\"y_max\":null,\"num_classes\":null,\"featurization\":\"auto\",\"_ignore_package_version_incompatibilities\":false,\"is_timeseries\":false,\"max_cores_per_iteration\":1,\"max_concurrent_iterations\":4,\"iteration_timeout_minutes\":null,\"mem_in_mb\":null,\"enforce_time_on_windows\":false,\"experiment_timeout_minutes\":20,\"experiment_exit_score\":null,\"whitelist_models\":null,\"blacklist_algos\":[\"TensorFlowLinearClassifier\",\"TensorFlowDNN\"],\"supported_models\":[\"KNN\",\"RandomForest\",\"LogisticRegression\",\"BernoulliNaiveBayes\",\"XGBoostClassifier\",\"AveragedPerceptronClassifier\",\"MultinomialNaiveBayes\",\"TensorFlowDNN\",\"TensorFlowLinearClassifier\",\"ExtremeRandomTrees\",\"SGD\",\"SVM\",\"DecisionTree\",\"GradientBoosting\",\"LightGBM\",\"LinearSVM\"],\"auto_blacklist\":true,\"blacklist_samples_reached\":false,\"exclude_nan_labels\":true,\"verbosity\":20,\"_debug_log\":\"azureml_automl.log\",\"show_warnings\":false,\"model_explainability\":true,\"service_url\":null,\"sdk_url\":null,\"sdk_packages\":null,\"enable_onnx_compatible_models\":false,\"enable_split_onnx_featurizer_estimator_models\":false,\"vm_type\":\"STANDARD_NC6\",\"telemetry_verbosity\":20,\"send_telemetry\":true,\"enable_dnn\":false,\"scenario\":\"SDK-1.13.0\",\"environment_label\":null,\"force_text_dnn\":false,\"enable_feature_sweeping\":true,\"enable_early_stopping\":true,\"early_stopping_n_iters\":10,\"metrics\":null,\"enable_ensembling\":true,\"enable_stack_ensembling\":true,\"ensemble_iterations\":15,\"enable_tf\":false,\"enable_subsampling\":null,\"subsample_seed\":null,\"enable_nimbusml\":false,\"enable_streaming\":false,\"force_streaming\":false,\"track_child_runs\":true,\"allowed_private_models\":[],\"label_column_name\":\"DEATH_EVENT\",\"weight_column_name\":null,\"cv_split_column_names\":null,\"enable_local_managed\":false,\"_local_managed_run_id\":null,\"cost_mode\":1,\"lag_length\":0,\"metric_operation\":\"maximize\",\"preprocess\":true}',\n",
       "  'DataPrepJsonString': '{\\\\\"training_data\\\\\": \\\\\"{\\\\\\\\\\\\\"blocks\\\\\\\\\\\\\": [{\\\\\\\\\\\\\"id\\\\\\\\\\\\\": \\\\\\\\\\\\\"2147ec45-55a0-4a53-b1a1-beea2f14b8b5\\\\\\\\\\\\\", \\\\\\\\\\\\\"type\\\\\\\\\\\\\": \\\\\\\\\\\\\"Microsoft.DPrep.GetDatastoreFilesBlock\\\\\\\\\\\\\", \\\\\\\\\\\\\"arguments\\\\\\\\\\\\\": {\\\\\\\\\\\\\"datastores\\\\\\\\\\\\\": [{\\\\\\\\\\\\\"datastoreName\\\\\\\\\\\\\": \\\\\\\\\\\\\"workspaceblobstore\\\\\\\\\\\\\", \\\\\\\\\\\\\"path\\\\\\\\\\\\\": \\\\\\\\\\\\\"./heart_failure_clinical_records_dataset.csv\\\\\\\\\\\\\", \\\\\\\\\\\\\"resourceGroup\\\\\\\\\\\\\": \\\\\\\\\\\\\"aml-quickstarts-135610\\\\\\\\\\\\\", \\\\\\\\\\\\\"subscription\\\\\\\\\\\\\": \\\\\\\\\\\\\"a0a76bad-11a1-4a2d-9887-97a29122c8ed\\\\\\\\\\\\\", \\\\\\\\\\\\\"workspaceName\\\\\\\\\\\\\": \\\\\\\\\\\\\"quick-starts-ws-135610\\\\\\\\\\\\\"}]}, \\\\\\\\\\\\\"localData\\\\\\\\\\\\\": {}, \\\\\\\\\\\\\"isEnabled\\\\\\\\\\\\\": true, \\\\\\\\\\\\\"name\\\\\\\\\\\\\": null, \\\\\\\\\\\\\"annotation\\\\\\\\\\\\\": null}, {\\\\\\\\\\\\\"id\\\\\\\\\\\\\": \\\\\\\\\\\\\"c35f519d-7f9e-4296-b5e5-ec325df02be5\\\\\\\\\\\\\", \\\\\\\\\\\\\"type\\\\\\\\\\\\\": \\\\\\\\\\\\\"Microsoft.DPrep.ParseDelimitedBlock\\\\\\\\\\\\\", \\\\\\\\\\\\\"arguments\\\\\\\\\\\\\": {\\\\\\\\\\\\\"columnHeadersMode\\\\\\\\\\\\\": 3, \\\\\\\\\\\\\"fileEncoding\\\\\\\\\\\\\": 0, \\\\\\\\\\\\\"handleQuotedLineBreaks\\\\\\\\\\\\\": false, \\\\\\\\\\\\\"preview\\\\\\\\\\\\\": false, \\\\\\\\\\\\\"separator\\\\\\\\\\\\\": \\\\\\\\\\\\\",\\\\\\\\\\\\\", \\\\\\\\\\\\\"skipRows\\\\\\\\\\\\\": 0, \\\\\\\\\\\\\"skipRowsMode\\\\\\\\\\\\\": 0}, \\\\\\\\\\\\\"localData\\\\\\\\\\\\\": {}, \\\\\\\\\\\\\"isEnabled\\\\\\\\\\\\\": true, \\\\\\\\\\\\\"name\\\\\\\\\\\\\": null, \\\\\\\\\\\\\"annotation\\\\\\\\\\\\\": null}, {\\\\\\\\\\\\\"id\\\\\\\\\\\\\": \\\\\\\\\\\\\"85862da5-80ca-4740-aba9-358c62165007\\\\\\\\\\\\\", \\\\\\\\\\\\\"type\\\\\\\\\\\\\": \\\\\\\\\\\\\"Microsoft.DPrep.DropColumnsBlock\\\\\\\\\\\\\", \\\\\\\\\\\\\"arguments\\\\\\\\\\\\\": {\\\\\\\\\\\\\"columns\\\\\\\\\\\\\": {\\\\\\\\\\\\\"type\\\\\\\\\\\\\": 0, \\\\\\\\\\\\\"details\\\\\\\\\\\\\": {\\\\\\\\\\\\\"selectedColumns\\\\\\\\\\\\\": [\\\\\\\\\\\\\"Path\\\\\\\\\\\\\"]}}}, \\\\\\\\\\\\\"localData\\\\\\\\\\\\\": {}, \\\\\\\\\\\\\"isEnabled\\\\\\\\\\\\\": true, \\\\\\\\\\\\\"name\\\\\\\\\\\\\": null, \\\\\\\\\\\\\"annotation\\\\\\\\\\\\\": null}, {\\\\\\\\\\\\\"id\\\\\\\\\\\\\": \\\\\\\\\\\\\"4337473b-1b9a-407e-aa48-6021f3b6208d\\\\\\\\\\\\\", \\\\\\\\\\\\\"type\\\\\\\\\\\\\": \\\\\\\\\\\\\"Microsoft.DPrep.SetColumnTypesBlock\\\\\\\\\\\\\", \\\\\\\\\\\\\"arguments\\\\\\\\\\\\\": {\\\\\\\\\\\\\"columnConversion\\\\\\\\\\\\\": [{\\\\\\\\\\\\\"column\\\\\\\\\\\\\": {\\\\\\\\\\\\\"type\\\\\\\\\\\\\": 2, \\\\\\\\\\\\\"details\\\\\\\\\\\\\": {\\\\\\\\\\\\\"selectedColumn\\\\\\\\\\\\\": \\\\\\\\\\\\\"age\\\\\\\\\\\\\"}}, \\\\\\\\\\\\\"typeProperty\\\\\\\\\\\\\": 3}, {\\\\\\\\\\\\\"column\\\\\\\\\\\\\": {\\\\\\\\\\\\\"type\\\\\\\\\\\\\": 2, \\\\\\\\\\\\\"details\\\\\\\\\\\\\": {\\\\\\\\\\\\\"selectedColumn\\\\\\\\\\\\\": \\\\\\\\\\\\\"anaemia\\\\\\\\\\\\\"}}, \\\\\\\\\\\\\"typeProperty\\\\\\\\\\\\\": 2}, {\\\\\\\\\\\\\"column\\\\\\\\\\\\\": {\\\\\\\\\\\\\"type\\\\\\\\\\\\\": 2, \\\\\\\\\\\\\"details\\\\\\\\\\\\\": {\\\\\\\\\\\\\"selectedColumn\\\\\\\\\\\\\": \\\\\\\\\\\\\"creatinine_phosphokinase\\\\\\\\\\\\\"}}, \\\\\\\\\\\\\"typeProperty\\\\\\\\\\\\\": 2}, {\\\\\\\\\\\\\"column\\\\\\\\\\\\\": {\\\\\\\\\\\\\"type\\\\\\\\\\\\\": 2, \\\\\\\\\\\\\"details\\\\\\\\\\\\\": {\\\\\\\\\\\\\"selectedColumn\\\\\\\\\\\\\": \\\\\\\\\\\\\"diabetes\\\\\\\\\\\\\"}}, \\\\\\\\\\\\\"typeProperty\\\\\\\\\\\\\": 2}, {\\\\\\\\\\\\\"column\\\\\\\\\\\\\": {\\\\\\\\\\\\\"type\\\\\\\\\\\\\": 2, \\\\\\\\\\\\\"details\\\\\\\\\\\\\": {\\\\\\\\\\\\\"selectedColumn\\\\\\\\\\\\\": \\\\\\\\\\\\\"ejection_fraction\\\\\\\\\\\\\"}}, \\\\\\\\\\\\\"typeProperty\\\\\\\\\\\\\": 2}, {\\\\\\\\\\\\\"column\\\\\\\\\\\\\": {\\\\\\\\\\\\\"type\\\\\\\\\\\\\": 2, \\\\\\\\\\\\\"details\\\\\\\\\\\\\": {\\\\\\\\\\\\\"selectedColumn\\\\\\\\\\\\\": \\\\\\\\\\\\\"high_blood_pressure\\\\\\\\\\\\\"}}, \\\\\\\\\\\\\"typeProperty\\\\\\\\\\\\\": 2}, {\\\\\\\\\\\\\"column\\\\\\\\\\\\\": {\\\\\\\\\\\\\"type\\\\\\\\\\\\\": 2, \\\\\\\\\\\\\"details\\\\\\\\\\\\\": {\\\\\\\\\\\\\"selectedColumn\\\\\\\\\\\\\": \\\\\\\\\\\\\"platelets\\\\\\\\\\\\\"}}, \\\\\\\\\\\\\"typeProperty\\\\\\\\\\\\\": 3}, {\\\\\\\\\\\\\"column\\\\\\\\\\\\\": {\\\\\\\\\\\\\"type\\\\\\\\\\\\\": 2, \\\\\\\\\\\\\"details\\\\\\\\\\\\\": {\\\\\\\\\\\\\"selectedColumn\\\\\\\\\\\\\": \\\\\\\\\\\\\"serum_creatinine\\\\\\\\\\\\\"}}, \\\\\\\\\\\\\"typeProperty\\\\\\\\\\\\\": 3}, {\\\\\\\\\\\\\"column\\\\\\\\\\\\\": {\\\\\\\\\\\\\"type\\\\\\\\\\\\\": 2, \\\\\\\\\\\\\"details\\\\\\\\\\\\\": {\\\\\\\\\\\\\"selectedColumn\\\\\\\\\\\\\": \\\\\\\\\\\\\"serum_sodium\\\\\\\\\\\\\"}}, \\\\\\\\\\\\\"typeProperty\\\\\\\\\\\\\": 2}, {\\\\\\\\\\\\\"column\\\\\\\\\\\\\": {\\\\\\\\\\\\\"type\\\\\\\\\\\\\": 2, \\\\\\\\\\\\\"details\\\\\\\\\\\\\": {\\\\\\\\\\\\\"selectedColumn\\\\\\\\\\\\\": \\\\\\\\\\\\\"sex\\\\\\\\\\\\\"}}, \\\\\\\\\\\\\"typeProperty\\\\\\\\\\\\\": 2}, {\\\\\\\\\\\\\"column\\\\\\\\\\\\\": {\\\\\\\\\\\\\"type\\\\\\\\\\\\\": 2, \\\\\\\\\\\\\"details\\\\\\\\\\\\\": {\\\\\\\\\\\\\"selectedColumn\\\\\\\\\\\\\": \\\\\\\\\\\\\"smoking\\\\\\\\\\\\\"}}, \\\\\\\\\\\\\"typeProperty\\\\\\\\\\\\\": 2}, {\\\\\\\\\\\\\"column\\\\\\\\\\\\\": {\\\\\\\\\\\\\"type\\\\\\\\\\\\\": 2, \\\\\\\\\\\\\"details\\\\\\\\\\\\\": {\\\\\\\\\\\\\"selectedColumn\\\\\\\\\\\\\": \\\\\\\\\\\\\"time\\\\\\\\\\\\\"}}, \\\\\\\\\\\\\"typeProperty\\\\\\\\\\\\\": 2}, {\\\\\\\\\\\\\"column\\\\\\\\\\\\\": {\\\\\\\\\\\\\"type\\\\\\\\\\\\\": 2, \\\\\\\\\\\\\"details\\\\\\\\\\\\\": {\\\\\\\\\\\\\"selectedColumn\\\\\\\\\\\\\": \\\\\\\\\\\\\"DEATH_EVENT\\\\\\\\\\\\\"}}, \\\\\\\\\\\\\"typeProperty\\\\\\\\\\\\\": 2}]}, \\\\\\\\\\\\\"localData\\\\\\\\\\\\\": {}, \\\\\\\\\\\\\"isEnabled\\\\\\\\\\\\\": true, \\\\\\\\\\\\\"name\\\\\\\\\\\\\": null, \\\\\\\\\\\\\"annotation\\\\\\\\\\\\\": null}], \\\\\\\\\\\\\"inspectors\\\\\\\\\\\\\": [], \\\\\\\\\\\\\"meta\\\\\\\\\\\\\": {\\\\\\\\\\\\\"savedDatasetId\\\\\\\\\\\\\": \\\\\\\\\\\\\"56904a39-f725-44ea-ae56-bf04cdba0d56\\\\\\\\\\\\\", \\\\\\\\\\\\\"datasetType\\\\\\\\\\\\\": \\\\\\\\\\\\\"tabular\\\\\\\\\\\\\", \\\\\\\\\\\\\"subscriptionId\\\\\\\\\\\\\": \\\\\\\\\\\\\"a0a76bad-11a1-4a2d-9887-97a29122c8ed\\\\\\\\\\\\\", \\\\\\\\\\\\\"workspaceId\\\\\\\\\\\\\": \\\\\\\\\\\\\"ef92b98d-8496-47bc-8ace-5cddf14d5920\\\\\\\\\\\\\", \\\\\\\\\\\\\"workspaceLocation\\\\\\\\\\\\\": \\\\\\\\\\\\\"southcentralus\\\\\\\\\\\\\"}}\\\\\", \\\\\"activities\\\\\": 0}',\n",
       "  'EnableSubsampling': None,\n",
       "  'runTemplate': 'AutoML',\n",
       "  'azureml.runsource': 'automl',\n",
       "  'display_task_type': 'classification',\n",
       "  'dependencies_versions': '{\"azureml-widgets\": \"1.19.0\", \"azureml-train\": \"1.19.0\", \"azureml-train-restclients-hyperdrive\": \"1.19.0\", \"azureml-train-core\": \"1.19.0\", \"azureml-train-automl\": \"1.19.0\", \"azureml-train-automl-runtime\": \"1.19.0\", \"azureml-train-automl-client\": \"1.19.0\", \"azureml-tensorboard\": \"1.19.0\", \"azureml-telemetry\": \"1.19.0\", \"azureml-sdk\": \"1.19.0\", \"azureml-samples\": \"0+unknown\", \"azureml-pipeline\": \"1.19.0\", \"azureml-pipeline-steps\": \"1.19.0\", \"azureml-pipeline-core\": \"1.19.0\", \"azureml-opendatasets\": \"1.19.0\", \"azureml-model-management-sdk\": \"1.0.1b6.post1\", \"azureml-mlflow\": \"1.19.0\", \"azureml-interpret\": \"1.19.0\", \"azureml-explain-model\": \"1.19.0\", \"azureml-defaults\": \"1.19.0\", \"azureml-dataset-runtime\": \"1.19.0.post1\", \"azureml-dataprep\": \"2.6.1\", \"azureml-dataprep-rslex\": \"1.4.0\", \"azureml-dataprep-native\": \"26.0.0\", \"azureml-datadrift\": \"1.19.0\", \"azureml-core\": \"1.19.0\", \"azureml-contrib-services\": \"1.19.0\", \"azureml-contrib-server\": \"1.19.0\", \"azureml-contrib-reinforcementlearning\": \"1.19.0\", \"azureml-contrib-pipeline-steps\": \"1.19.0\", \"azureml-contrib-notebook\": \"1.19.0\", \"azureml-contrib-interpret\": \"1.19.0\", \"azureml-contrib-gbdt\": \"1.19.0\", \"azureml-contrib-fairness\": \"1.19.0\", \"azureml-contrib-dataset\": \"1.19.0\", \"azureml-cli-common\": \"1.19.0\", \"azureml-automl-runtime\": \"1.19.0\", \"azureml-automl-core\": \"1.19.0\", \"azureml-accel-models\": \"1.19.0\"}',\n",
       "  '_aml_system_scenario_identification': 'Remote.Parent',\n",
       "  'ClientType': 'SDK',\n",
       "  'environment_cpu_name': 'AzureML-AutoML',\n",
       "  'environment_cpu_label': 'prod',\n",
       "  'environment_gpu_name': 'AzureML-AutoML-GPU',\n",
       "  'environment_gpu_label': 'prod',\n",
       "  'root_attribution': 'automl',\n",
       "  'attribution': 'AutoML',\n",
       "  'Orchestrator': 'AutoML',\n",
       "  'CancelUri': 'https://southcentralus.experiments.azureml.net/jasmine/v1.0/subscriptions/a0a76bad-11a1-4a2d-9887-97a29122c8ed/resourceGroups/aml-quickstarts-135610/providers/Microsoft.MachineLearningServices/workspaces/quick-starts-ws-135610/experimentids/da571e10-880c-4c2c-9a03-4032daa53d4b/cancel/AutoML_f2ba87a0-9fdf-4292-b8eb-4f82d234cff9',\n",
       "  'ClientSdkVersion': '1.20.0',\n",
       "  'snapshotId': '00000000-0000-0000-0000-000000000000',\n",
       "  'SetupRunId': 'AutoML_f2ba87a0-9fdf-4292-b8eb-4f82d234cff9_setup',\n",
       "  'SetupRunContainerId': 'dcid.AutoML_f2ba87a0-9fdf-4292-b8eb-4f82d234cff9_setup',\n",
       "  'FeaturizationRunJsonPath': 'featurizer_container.json',\n",
       "  'FeaturizationRunId': 'AutoML_f2ba87a0-9fdf-4292-b8eb-4f82d234cff9_featurize',\n",
       "  'ProblemInfoJsonString': '{\"dataset_num_categorical\": 0, \"is_sparse\": false, \"subsampling\": false, \"dataset_classes\": 2, \"dataset_features\": 12, \"dataset_samples\": 299, \"single_frequency_class_detected\": false}',\n",
       "  'ModelExplainRunId': 'AutoML_f2ba87a0-9fdf-4292-b8eb-4f82d234cff9_ModelExplain'},\n",
       " 'inputDatasets': [{'dataset': {'id': '56904a39-f725-44ea-ae56-bf04cdba0d56'}, 'consumptionDetails': {'type': 'RunInput', 'inputName': 'training_data', 'mechanism': 'Direct'}}],\n",
       " 'outputDatasets': [],\n",
       " 'logFiles': {}}"
      ]
     },
     "execution_count": 12,
     "metadata": {},
     "output_type": "execute_result"
    }
   ],
   "source": [
    "# Retrieve and save your best automl model.\n",
    "remote_run.wait_for_completion(show_output=True)\n",
    "\n"
   ]
  },
  {
   "cell_type": "markdown",
   "metadata": {},
   "source": [
    "## Best Model\n",
    "\n",
    "TODO: In the cell below, get the best model from the automl experiments and display all the properties of the model.\n",
    "\n"
   ]
  },
  {
   "cell_type": "code",
   "execution_count": 15,
   "metadata": {
    "gather": {
     "logged": 1598431425670
    },
    "jupyter": {
     "outputs_hidden": false,
     "source_hidden": false
    },
    "nteract": {
     "transient": {
      "deleting": false
     }
    }
   },
   "outputs": [
    {
     "name": "stderr",
     "output_type": "stream",
     "text": [
      "WARNING:root:The version of the SDK does not match the version the model was trained on.\n",
      "WARNING:root:The consistency in the result may not be guaranteed.\n",
      "WARNING:root:Package:azureml-automl-core, training version:1.20.0, current version:1.19.0\n",
      "Package:azureml-automl-runtime, training version:1.20.0, current version:1.19.0\n",
      "Package:azureml-core, training version:1.20.0, current version:1.19.0\n",
      "Package:azureml-dataprep, training version:2.7.2, current version:2.6.1\n",
      "Package:azureml-dataprep-native, training version:27.0.0, current version:26.0.0\n",
      "Package:azureml-dataprep-rslex, training version:1.5.0, current version:1.4.0\n",
      "Package:azureml-dataset-runtime, training version:1.20.0, current version:1.19.0.post1\n",
      "Package:azureml-defaults, training version:1.20.0, current version:1.19.0\n",
      "Package:azureml-interpret, training version:1.20.0, current version:1.19.0\n",
      "Package:azureml-pipeline-core, training version:1.20.0, current version:1.19.0\n",
      "Package:azureml-telemetry, training version:1.20.0, current version:1.19.0\n",
      "Package:azureml-train-automl-client, training version:1.20.0, current version:1.19.0\n",
      "Package:azureml-train-automl-runtime, training version:1.20.0, current version:1.19.0\n",
      "WARNING:root:Please ensure the version of your local conda dependencies match the version on which your model was trained in order to properly retrieve your model.\n"
     ]
    },
    {
     "ename": "AttributeError",
     "evalue": "Can't get attribute 'XGBoostLabelEncoder' on <module 'xgboost.compat' from '/anaconda/envs/azureml_py36/lib/python3.6/site-packages/xgboost/compat.py'>",
     "output_type": "error",
     "traceback": [
      "\u001b[0;31m---------------------------------------------------------------------------\u001b[0m",
      "\u001b[0;31mAttributeError\u001b[0m                            Traceback (most recent call last)",
      "\u001b[0;32m<ipython-input-15-618dc6f0fcf3>\u001b[0m in \u001b[0;36m<module>\u001b[0;34m\u001b[0m\n\u001b[1;32m      1\u001b[0m \u001b[0;31m#TODO: Save the best model\u001b[0m\u001b[0;34m\u001b[0m\u001b[0;34m\u001b[0m\u001b[0;34m\u001b[0m\u001b[0m\n\u001b[0;32m----> 2\u001b[0;31m \u001b[0mbest_run\u001b[0m\u001b[0;34m,\u001b[0m \u001b[0mfitted_model\u001b[0m \u001b[0;34m=\u001b[0m \u001b[0mremote_run\u001b[0m\u001b[0;34m.\u001b[0m\u001b[0mget_output\u001b[0m\u001b[0;34m(\u001b[0m\u001b[0;34m)\u001b[0m\u001b[0;34m\u001b[0m\u001b[0;34m\u001b[0m\u001b[0m\n\u001b[0m",
      "\u001b[0;32m/anaconda/envs/azureml_py36/lib/python3.6/site-packages/azureml/train/automl/run.py\u001b[0m in \u001b[0;36mget_output\u001b[0;34m(self, iteration, metric, return_onnx_model, return_split_onnx_model, **kwargs)\u001b[0m\n\u001b[1;32m    692\u001b[0m                     \u001b[0mfitted_model\u001b[0m \u001b[0;34m=\u001b[0m \u001b[0m_download_automl_onnx_model\u001b[0m\u001b[0;34m(\u001b[0m\u001b[0mcurr_run\u001b[0m\u001b[0;34m,\u001b[0m \u001b[0mmodel_name\u001b[0m\u001b[0;34m)\u001b[0m\u001b[0;34m\u001b[0m\u001b[0;34m\u001b[0m\u001b[0m\n\u001b[1;32m    693\u001b[0m                 \u001b[0;32melse\u001b[0m\u001b[0;34m:\u001b[0m\u001b[0;34m\u001b[0m\u001b[0;34m\u001b[0m\u001b[0m\n\u001b[0;32m--> 694\u001b[0;31m                     \u001b[0mfitted_model\u001b[0m \u001b[0;34m=\u001b[0m \u001b[0m_download_automl_model\u001b[0m\u001b[0;34m(\u001b[0m\u001b[0mcurr_run\u001b[0m\u001b[0;34m,\u001b[0m \u001b[0mmodel_name\u001b[0m\u001b[0;34m)\u001b[0m\u001b[0;34m\u001b[0m\u001b[0;34m\u001b[0m\u001b[0m\n\u001b[0m\u001b[1;32m    695\u001b[0m \u001b[0;34m\u001b[0m\u001b[0m\n\u001b[1;32m    696\u001b[0m             \u001b[0;32mreturn\u001b[0m \u001b[0mcurr_run\u001b[0m\u001b[0;34m,\u001b[0m \u001b[0mfitted_model\u001b[0m\u001b[0;34m\u001b[0m\u001b[0;34m\u001b[0m\u001b[0m\n",
      "\u001b[0;32m/anaconda/envs/azureml_py36/lib/python3.6/site-packages/azureml/train/automl/_model_download_utilities.py\u001b[0m in \u001b[0;36m_download_automl_model\u001b[0;34m(run, model_name)\u001b[0m\n\u001b[1;32m     85\u001b[0m             \u001b[0;31m# Pass through any exceptions from loading the model.\u001b[0m\u001b[0;34m\u001b[0m\u001b[0;34m\u001b[0m\u001b[0;34m\u001b[0m\u001b[0m\n\u001b[1;32m     86\u001b[0m             \u001b[0;31m# Try is used here to ensure we can cleanup the side effect of model downlad.\u001b[0m\u001b[0;34m\u001b[0m\u001b[0;34m\u001b[0m\u001b[0;34m\u001b[0m\u001b[0m\n\u001b[0;32m---> 87\u001b[0;31m             \u001b[0mmodel\u001b[0m \u001b[0;34m=\u001b[0m \u001b[0m_load_automl_model\u001b[0m\u001b[0;34m(\u001b[0m\u001b[0mmodel_path\u001b[0m\u001b[0;34m)\u001b[0m\u001b[0;34m\u001b[0m\u001b[0;34m\u001b[0m\u001b[0m\n\u001b[0m\u001b[1;32m     88\u001b[0m             \u001b[0;32mif\u001b[0m \u001b[0mmodel\u001b[0m \u001b[0;32mis\u001b[0m \u001b[0;32mNone\u001b[0m\u001b[0;34m:\u001b[0m\u001b[0;34m\u001b[0m\u001b[0;34m\u001b[0m\u001b[0m\n\u001b[1;32m     89\u001b[0m                 \u001b[0;31m# If we can retrieve the automl runtime version, we do so we can inform the user what to install.\u001b[0m\u001b[0;34m\u001b[0m\u001b[0;34m\u001b[0m\u001b[0;34m\u001b[0m\u001b[0m\n",
      "\u001b[0;32m/anaconda/envs/azureml_py36/lib/python3.6/site-packages/azureml/train/automl/_model_download_utilities.py\u001b[0m in \u001b[0;36m_load_automl_model\u001b[0;34m(model_path)\u001b[0m\n\u001b[1;32m    151\u001b[0m         \u001b[0;32mimport\u001b[0m \u001b[0mazureml\u001b[0m\u001b[0;34m.\u001b[0m\u001b[0mtrain\u001b[0m\u001b[0;34m.\u001b[0m\u001b[0mautoml\u001b[0m\u001b[0;34m.\u001b[0m\u001b[0mruntime\u001b[0m\u001b[0;34m\u001b[0m\u001b[0;34m\u001b[0m\u001b[0m\n\u001b[1;32m    152\u001b[0m         \u001b[0;32mwith\u001b[0m \u001b[0mopen\u001b[0m\u001b[0;34m(\u001b[0m\u001b[0mmodel_path\u001b[0m\u001b[0;34m,\u001b[0m \u001b[0;34m\"rb\"\u001b[0m\u001b[0;34m)\u001b[0m \u001b[0;32mas\u001b[0m \u001b[0mmodel_file\u001b[0m\u001b[0;34m:\u001b[0m\u001b[0;34m\u001b[0m\u001b[0;34m\u001b[0m\u001b[0m\n\u001b[0;32m--> 153\u001b[0;31m             \u001b[0mfitted_model\u001b[0m \u001b[0;34m=\u001b[0m \u001b[0mpickle\u001b[0m\u001b[0;34m.\u001b[0m\u001b[0mload\u001b[0m\u001b[0;34m(\u001b[0m\u001b[0mmodel_file\u001b[0m\u001b[0;34m)\u001b[0m  \u001b[0;31m# type: Optional[Any]\u001b[0m\u001b[0;34m\u001b[0m\u001b[0;34m\u001b[0m\u001b[0m\n\u001b[0m\u001b[1;32m    154\u001b[0m             \u001b[0;32mreturn\u001b[0m \u001b[0mfitted_model\u001b[0m\u001b[0;34m\u001b[0m\u001b[0;34m\u001b[0m\u001b[0m\n\u001b[1;32m    155\u001b[0m     \u001b[0;32mexcept\u001b[0m \u001b[0mImportError\u001b[0m \u001b[0;32mas\u001b[0m \u001b[0me\u001b[0m\u001b[0;34m:\u001b[0m\u001b[0;34m\u001b[0m\u001b[0;34m\u001b[0m\u001b[0m\n",
      "\u001b[0;31mAttributeError\u001b[0m: Can't get attribute 'XGBoostLabelEncoder' on <module 'xgboost.compat' from '/anaconda/envs/azureml_py36/lib/python3.6/site-packages/xgboost/compat.py'>"
     ]
    }
   ],
   "source": [
    "#TODO: Save the best model\n",
    "best_run, fitted_model = remote_run.get_output()\n"
   ]
  },
  {
   "cell_type": "code",
   "execution_count": 14,
   "metadata": {},
   "outputs": [
    {
     "ename": "NameError",
     "evalue": "name 'best_run' is not defined",
     "output_type": "error",
     "traceback": [
      "\u001b[0;31m---------------------------------------------------------------------------\u001b[0m",
      "\u001b[0;31mNameError\u001b[0m                                 Traceback (most recent call last)",
      "\u001b[0;32m<ipython-input-14-27dd6d9222d7>\u001b[0m in \u001b[0;36m<module>\u001b[0;34m\u001b[0m\n\u001b[0;32m----> 1\u001b[0;31m \u001b[0mprint\u001b[0m\u001b[0;34m(\u001b[0m\u001b[0mbest_run\u001b[0m\u001b[0;34m)\u001b[0m\u001b[0;34m\u001b[0m\u001b[0;34m\u001b[0m\u001b[0m\n\u001b[0m\u001b[1;32m      2\u001b[0m \u001b[0mprint\u001b[0m\u001b[0;34m(\u001b[0m\u001b[0mfitted_model\u001b[0m\u001b[0;34m)\u001b[0m\u001b[0;34m\u001b[0m\u001b[0;34m\u001b[0m\u001b[0m\n",
      "\u001b[0;31mNameError\u001b[0m: name 'best_run' is not defined"
     ]
    }
   ],
   "source": [
    "print(best_run)\n",
    "print(fitted_model)"
   ]
  },
  {
   "cell_type": "code",
   "execution_count": 16,
   "metadata": {},
   "outputs": [
    {
     "data": {
      "application/vnd.jupyter.widget-view+json": {
       "model_id": "219f09e84313487b96302bae47c16493",
       "version_major": 2,
       "version_minor": 0
      },
      "text/plain": [
       "_AutoMLWidget(widget_settings={'childWidgetDisplay': 'popup', 'send_telemetry': False, 'log_level': 'INFO', 's…"
      ]
     },
     "metadata": {},
     "output_type": "display_data"
    },
    {
     "data": {
      "application/aml.mini.widget.v1": "{\"status\": \"Completed\", \"workbench_run_details_uri\": \"https://ml.azure.com/experiments/capstone-Automl/runs/AutoML_f2ba87a0-9fdf-4292-b8eb-4f82d234cff9?wsid=/subscriptions/a0a76bad-11a1-4a2d-9887-97a29122c8ed/resourcegroups/aml-quickstarts-135610/workspaces/quick-starts-ws-135610\", \"run_id\": \"AutoML_f2ba87a0-9fdf-4292-b8eb-4f82d234cff9\", \"run_properties\": {\"run_id\": \"AutoML_f2ba87a0-9fdf-4292-b8eb-4f82d234cff9\", \"created_utc\": \"2021-01-21T16:24:41.201264Z\", \"properties\": {\"num_iterations\": \"1000\", \"training_type\": \"TrainFull\", \"acquisition_function\": \"EI\", \"primary_metric\": \"accuracy\", \"train_split\": \"0\", \"acquisition_parameter\": \"0\", \"num_cross_validation\": null, \"target\": \"auto-ml\", \"AMLSettingsJsonString\": \"{\\\"path\\\":null,\\\"name\\\":\\\"capstone-Automl\\\",\\\"subscription_id\\\":\\\"a0a76bad-11a1-4a2d-9887-97a29122c8ed\\\",\\\"resource_group\\\":\\\"aml-quickstarts-135610\\\",\\\"workspace_name\\\":\\\"quick-starts-ws-135610\\\",\\\"region\\\":\\\"southcentralus\\\",\\\"compute_target\\\":\\\"auto-ml\\\",\\\"spark_service\\\":null,\\\"azure_service\\\":\\\"remote\\\",\\\"many_models\\\":false,\\\"pipeline_fetch_max_batch_size\\\":1,\\\"iterations\\\":1000,\\\"primary_metric\\\":\\\"accuracy\\\",\\\"task_type\\\":\\\"classification\\\",\\\"data_script\\\":null,\\\"validation_size\\\":0.0,\\\"n_cross_validations\\\":null,\\\"y_min\\\":null,\\\"y_max\\\":null,\\\"num_classes\\\":null,\\\"featurization\\\":\\\"auto\\\",\\\"_ignore_package_version_incompatibilities\\\":false,\\\"is_timeseries\\\":false,\\\"max_cores_per_iteration\\\":1,\\\"max_concurrent_iterations\\\":4,\\\"iteration_timeout_minutes\\\":null,\\\"mem_in_mb\\\":null,\\\"enforce_time_on_windows\\\":false,\\\"experiment_timeout_minutes\\\":20,\\\"experiment_exit_score\\\":null,\\\"whitelist_models\\\":null,\\\"blacklist_algos\\\":[\\\"TensorFlowLinearClassifier\\\",\\\"TensorFlowDNN\\\"],\\\"supported_models\\\":[\\\"KNN\\\",\\\"RandomForest\\\",\\\"LogisticRegression\\\",\\\"BernoulliNaiveBayes\\\",\\\"XGBoostClassifier\\\",\\\"AveragedPerceptronClassifier\\\",\\\"MultinomialNaiveBayes\\\",\\\"TensorFlowDNN\\\",\\\"TensorFlowLinearClassifier\\\",\\\"ExtremeRandomTrees\\\",\\\"SGD\\\",\\\"SVM\\\",\\\"DecisionTree\\\",\\\"GradientBoosting\\\",\\\"LightGBM\\\",\\\"LinearSVM\\\"],\\\"auto_blacklist\\\":true,\\\"blacklist_samples_reached\\\":false,\\\"exclude_nan_labels\\\":true,\\\"verbosity\\\":20,\\\"_debug_log\\\":\\\"azureml_automl.log\\\",\\\"show_warnings\\\":false,\\\"model_explainability\\\":true,\\\"service_url\\\":null,\\\"sdk_url\\\":null,\\\"sdk_packages\\\":null,\\\"enable_onnx_compatible_models\\\":false,\\\"enable_split_onnx_featurizer_estimator_models\\\":false,\\\"vm_type\\\":\\\"STANDARD_NC6\\\",\\\"telemetry_verbosity\\\":20,\\\"send_telemetry\\\":true,\\\"enable_dnn\\\":false,\\\"scenario\\\":\\\"SDK-1.13.0\\\",\\\"environment_label\\\":null,\\\"force_text_dnn\\\":false,\\\"enable_feature_sweeping\\\":true,\\\"enable_early_stopping\\\":true,\\\"early_stopping_n_iters\\\":10,\\\"metrics\\\":null,\\\"enable_ensembling\\\":true,\\\"enable_stack_ensembling\\\":true,\\\"ensemble_iterations\\\":15,\\\"enable_tf\\\":false,\\\"enable_subsampling\\\":null,\\\"subsample_seed\\\":null,\\\"enable_nimbusml\\\":false,\\\"enable_streaming\\\":false,\\\"force_streaming\\\":false,\\\"track_child_runs\\\":true,\\\"allowed_private_models\\\":[],\\\"label_column_name\\\":\\\"DEATH_EVENT\\\",\\\"weight_column_name\\\":null,\\\"cv_split_column_names\\\":null,\\\"enable_local_managed\\\":false,\\\"_local_managed_run_id\\\":null,\\\"cost_mode\\\":1,\\\"lag_length\\\":0,\\\"metric_operation\\\":\\\"maximize\\\",\\\"preprocess\\\":true}\", \"DataPrepJsonString\": \"{\\\\\\\"training_data\\\\\\\": \\\\\\\"{\\\\\\\\\\\\\\\"blocks\\\\\\\\\\\\\\\": [{\\\\\\\\\\\\\\\"id\\\\\\\\\\\\\\\": \\\\\\\\\\\\\\\"2147ec45-55a0-4a53-b1a1-beea2f14b8b5\\\\\\\\\\\\\\\", \\\\\\\\\\\\\\\"type\\\\\\\\\\\\\\\": \\\\\\\\\\\\\\\"Microsoft.DPrep.GetDatastoreFilesBlock\\\\\\\\\\\\\\\", \\\\\\\\\\\\\\\"arguments\\\\\\\\\\\\\\\": {\\\\\\\\\\\\\\\"datastores\\\\\\\\\\\\\\\": [{\\\\\\\\\\\\\\\"datastoreName\\\\\\\\\\\\\\\": \\\\\\\\\\\\\\\"workspaceblobstore\\\\\\\\\\\\\\\", \\\\\\\\\\\\\\\"path\\\\\\\\\\\\\\\": \\\\\\\\\\\\\\\"./heart_failure_clinical_records_dataset.csv\\\\\\\\\\\\\\\", \\\\\\\\\\\\\\\"resourceGroup\\\\\\\\\\\\\\\": \\\\\\\\\\\\\\\"aml-quickstarts-135610\\\\\\\\\\\\\\\", \\\\\\\\\\\\\\\"subscription\\\\\\\\\\\\\\\": \\\\\\\\\\\\\\\"a0a76bad-11a1-4a2d-9887-97a29122c8ed\\\\\\\\\\\\\\\", \\\\\\\\\\\\\\\"workspaceName\\\\\\\\\\\\\\\": \\\\\\\\\\\\\\\"quick-starts-ws-135610\\\\\\\\\\\\\\\"}]}, \\\\\\\\\\\\\\\"localData\\\\\\\\\\\\\\\": {}, \\\\\\\\\\\\\\\"isEnabled\\\\\\\\\\\\\\\": true, \\\\\\\\\\\\\\\"name\\\\\\\\\\\\\\\": null, \\\\\\\\\\\\\\\"annotation\\\\\\\\\\\\\\\": null}, {\\\\\\\\\\\\\\\"id\\\\\\\\\\\\\\\": \\\\\\\\\\\\\\\"c35f519d-7f9e-4296-b5e5-ec325df02be5\\\\\\\\\\\\\\\", \\\\\\\\\\\\\\\"type\\\\\\\\\\\\\\\": \\\\\\\\\\\\\\\"Microsoft.DPrep.ParseDelimitedBlock\\\\\\\\\\\\\\\", \\\\\\\\\\\\\\\"arguments\\\\\\\\\\\\\\\": {\\\\\\\\\\\\\\\"columnHeadersMode\\\\\\\\\\\\\\\": 3, \\\\\\\\\\\\\\\"fileEncoding\\\\\\\\\\\\\\\": 0, \\\\\\\\\\\\\\\"handleQuotedLineBreaks\\\\\\\\\\\\\\\": false, \\\\\\\\\\\\\\\"preview\\\\\\\\\\\\\\\": false, \\\\\\\\\\\\\\\"separator\\\\\\\\\\\\\\\": \\\\\\\\\\\\\\\",\\\\\\\\\\\\\\\", \\\\\\\\\\\\\\\"skipRows\\\\\\\\\\\\\\\": 0, \\\\\\\\\\\\\\\"skipRowsMode\\\\\\\\\\\\\\\": 0}, \\\\\\\\\\\\\\\"localData\\\\\\\\\\\\\\\": {}, \\\\\\\\\\\\\\\"isEnabled\\\\\\\\\\\\\\\": true, \\\\\\\\\\\\\\\"name\\\\\\\\\\\\\\\": null, \\\\\\\\\\\\\\\"annotation\\\\\\\\\\\\\\\": null}, {\\\\\\\\\\\\\\\"id\\\\\\\\\\\\\\\": \\\\\\\\\\\\\\\"85862da5-80ca-4740-aba9-358c62165007\\\\\\\\\\\\\\\", \\\\\\\\\\\\\\\"type\\\\\\\\\\\\\\\": \\\\\\\\\\\\\\\"Microsoft.DPrep.DropColumnsBlock\\\\\\\\\\\\\\\", \\\\\\\\\\\\\\\"arguments\\\\\\\\\\\\\\\": {\\\\\\\\\\\\\\\"columns\\\\\\\\\\\\\\\": {\\\\\\\\\\\\\\\"type\\\\\\\\\\\\\\\": 0, \\\\\\\\\\\\\\\"details\\\\\\\\\\\\\\\": {\\\\\\\\\\\\\\\"selectedColumns\\\\\\\\\\\\\\\": [\\\\\\\\\\\\\\\"Path\\\\\\\\\\\\\\\"]}}}, \\\\\\\\\\\\\\\"localData\\\\\\\\\\\\\\\": {}, \\\\\\\\\\\\\\\"isEnabled\\\\\\\\\\\\\\\": true, \\\\\\\\\\\\\\\"name\\\\\\\\\\\\\\\": null, \\\\\\\\\\\\\\\"annotation\\\\\\\\\\\\\\\": null}, {\\\\\\\\\\\\\\\"id\\\\\\\\\\\\\\\": \\\\\\\\\\\\\\\"4337473b-1b9a-407e-aa48-6021f3b6208d\\\\\\\\\\\\\\\", \\\\\\\\\\\\\\\"type\\\\\\\\\\\\\\\": \\\\\\\\\\\\\\\"Microsoft.DPrep.SetColumnTypesBlock\\\\\\\\\\\\\\\", \\\\\\\\\\\\\\\"arguments\\\\\\\\\\\\\\\": {\\\\\\\\\\\\\\\"columnConversion\\\\\\\\\\\\\\\": [{\\\\\\\\\\\\\\\"column\\\\\\\\\\\\\\\": {\\\\\\\\\\\\\\\"type\\\\\\\\\\\\\\\": 2, \\\\\\\\\\\\\\\"details\\\\\\\\\\\\\\\": {\\\\\\\\\\\\\\\"selectedColumn\\\\\\\\\\\\\\\": \\\\\\\\\\\\\\\"age\\\\\\\\\\\\\\\"}}, \\\\\\\\\\\\\\\"typeProperty\\\\\\\\\\\\\\\": 3}, {\\\\\\\\\\\\\\\"column\\\\\\\\\\\\\\\": {\\\\\\\\\\\\\\\"type\\\\\\\\\\\\\\\": 2, \\\\\\\\\\\\\\\"details\\\\\\\\\\\\\\\": {\\\\\\\\\\\\\\\"selectedColumn\\\\\\\\\\\\\\\": \\\\\\\\\\\\\\\"anaemia\\\\\\\\\\\\\\\"}}, \\\\\\\\\\\\\\\"typeProperty\\\\\\\\\\\\\\\": 2}, {\\\\\\\\\\\\\\\"column\\\\\\\\\\\\\\\": {\\\\\\\\\\\\\\\"type\\\\\\\\\\\\\\\": 2, \\\\\\\\\\\\\\\"details\\\\\\\\\\\\\\\": {\\\\\\\\\\\\\\\"selectedColumn\\\\\\\\\\\\\\\": \\\\\\\\\\\\\\\"creatinine_phosphokinase\\\\\\\\\\\\\\\"}}, \\\\\\\\\\\\\\\"typeProperty\\\\\\\\\\\\\\\": 2}, {\\\\\\\\\\\\\\\"column\\\\\\\\\\\\\\\": {\\\\\\\\\\\\\\\"type\\\\\\\\\\\\\\\": 2, \\\\\\\\\\\\\\\"details\\\\\\\\\\\\\\\": {\\\\\\\\\\\\\\\"selectedColumn\\\\\\\\\\\\\\\": \\\\\\\\\\\\\\\"diabetes\\\\\\\\\\\\\\\"}}, \\\\\\\\\\\\\\\"typeProperty\\\\\\\\\\\\\\\": 2}, {\\\\\\\\\\\\\\\"column\\\\\\\\\\\\\\\": {\\\\\\\\\\\\\\\"type\\\\\\\\\\\\\\\": 2, \\\\\\\\\\\\\\\"details\\\\\\\\\\\\\\\": {\\\\\\\\\\\\\\\"selectedColumn\\\\\\\\\\\\\\\": \\\\\\\\\\\\\\\"ejection_fraction\\\\\\\\\\\\\\\"}}, \\\\\\\\\\\\\\\"typeProperty\\\\\\\\\\\\\\\": 2}, {\\\\\\\\\\\\\\\"column\\\\\\\\\\\\\\\": {\\\\\\\\\\\\\\\"type\\\\\\\\\\\\\\\": 2, \\\\\\\\\\\\\\\"details\\\\\\\\\\\\\\\": {\\\\\\\\\\\\\\\"selectedColumn\\\\\\\\\\\\\\\": \\\\\\\\\\\\\\\"high_blood_pressure\\\\\\\\\\\\\\\"}}, \\\\\\\\\\\\\\\"typeProperty\\\\\\\\\\\\\\\": 2}, {\\\\\\\\\\\\\\\"column\\\\\\\\\\\\\\\": {\\\\\\\\\\\\\\\"type\\\\\\\\\\\\\\\": 2, \\\\\\\\\\\\\\\"details\\\\\\\\\\\\\\\": {\\\\\\\\\\\\\\\"selectedColumn\\\\\\\\\\\\\\\": \\\\\\\\\\\\\\\"platelets\\\\\\\\\\\\\\\"}}, \\\\\\\\\\\\\\\"typeProperty\\\\\\\\\\\\\\\": 3}, {\\\\\\\\\\\\\\\"column\\\\\\\\\\\\\\\": {\\\\\\\\\\\\\\\"type\\\\\\\\\\\\\\\": 2, \\\\\\\\\\\\\\\"details\\\\\\\\\\\\\\\": {\\\\\\\\\\\\\\\"selectedColumn\\\\\\\\\\\\\\\": \\\\\\\\\\\\\\\"serum_creatinine\\\\\\\\\\\\\\\"}}, \\\\\\\\\\\\\\\"typeProperty\\\\\\\\\\\\\\\": 3}, {\\\\\\\\\\\\\\\"column\\\\\\\\\\\\\\\": {\\\\\\\\\\\\\\\"type\\\\\\\\\\\\\\\": 2, \\\\\\\\\\\\\\\"details\\\\\\\\\\\\\\\": {\\\\\\\\\\\\\\\"selectedColumn\\\\\\\\\\\\\\\": \\\\\\\\\\\\\\\"serum_sodium\\\\\\\\\\\\\\\"}}, \\\\\\\\\\\\\\\"typeProperty\\\\\\\\\\\\\\\": 2}, {\\\\\\\\\\\\\\\"column\\\\\\\\\\\\\\\": {\\\\\\\\\\\\\\\"type\\\\\\\\\\\\\\\": 2, \\\\\\\\\\\\\\\"details\\\\\\\\\\\\\\\": {\\\\\\\\\\\\\\\"selectedColumn\\\\\\\\\\\\\\\": \\\\\\\\\\\\\\\"sex\\\\\\\\\\\\\\\"}}, \\\\\\\\\\\\\\\"typeProperty\\\\\\\\\\\\\\\": 2}, {\\\\\\\\\\\\\\\"column\\\\\\\\\\\\\\\": {\\\\\\\\\\\\\\\"type\\\\\\\\\\\\\\\": 2, \\\\\\\\\\\\\\\"details\\\\\\\\\\\\\\\": {\\\\\\\\\\\\\\\"selectedColumn\\\\\\\\\\\\\\\": \\\\\\\\\\\\\\\"smoking\\\\\\\\\\\\\\\"}}, \\\\\\\\\\\\\\\"typeProperty\\\\\\\\\\\\\\\": 2}, {\\\\\\\\\\\\\\\"column\\\\\\\\\\\\\\\": {\\\\\\\\\\\\\\\"type\\\\\\\\\\\\\\\": 2, \\\\\\\\\\\\\\\"details\\\\\\\\\\\\\\\": {\\\\\\\\\\\\\\\"selectedColumn\\\\\\\\\\\\\\\": \\\\\\\\\\\\\\\"time\\\\\\\\\\\\\\\"}}, \\\\\\\\\\\\\\\"typeProperty\\\\\\\\\\\\\\\": 2}, {\\\\\\\\\\\\\\\"column\\\\\\\\\\\\\\\": {\\\\\\\\\\\\\\\"type\\\\\\\\\\\\\\\": 2, \\\\\\\\\\\\\\\"details\\\\\\\\\\\\\\\": {\\\\\\\\\\\\\\\"selectedColumn\\\\\\\\\\\\\\\": \\\\\\\\\\\\\\\"DEATH_EVENT\\\\\\\\\\\\\\\"}}, \\\\\\\\\\\\\\\"typeProperty\\\\\\\\\\\\\\\": 2}]}, \\\\\\\\\\\\\\\"localData\\\\\\\\\\\\\\\": {}, \\\\\\\\\\\\\\\"isEnabled\\\\\\\\\\\\\\\": true, \\\\\\\\\\\\\\\"name\\\\\\\\\\\\\\\": null, \\\\\\\\\\\\\\\"annotation\\\\\\\\\\\\\\\": null}], \\\\\\\\\\\\\\\"inspectors\\\\\\\\\\\\\\\": [], \\\\\\\\\\\\\\\"meta\\\\\\\\\\\\\\\": {\\\\\\\\\\\\\\\"savedDatasetId\\\\\\\\\\\\\\\": \\\\\\\\\\\\\\\"56904a39-f725-44ea-ae56-bf04cdba0d56\\\\\\\\\\\\\\\", \\\\\\\\\\\\\\\"datasetType\\\\\\\\\\\\\\\": \\\\\\\\\\\\\\\"tabular\\\\\\\\\\\\\\\", \\\\\\\\\\\\\\\"subscriptionId\\\\\\\\\\\\\\\": \\\\\\\\\\\\\\\"a0a76bad-11a1-4a2d-9887-97a29122c8ed\\\\\\\\\\\\\\\", \\\\\\\\\\\\\\\"workspaceId\\\\\\\\\\\\\\\": \\\\\\\\\\\\\\\"ef92b98d-8496-47bc-8ace-5cddf14d5920\\\\\\\\\\\\\\\", \\\\\\\\\\\\\\\"workspaceLocation\\\\\\\\\\\\\\\": \\\\\\\\\\\\\\\"southcentralus\\\\\\\\\\\\\\\"}}\\\\\\\", \\\\\\\"activities\\\\\\\": 0}\", \"EnableSubsampling\": null, \"runTemplate\": \"AutoML\", \"azureml.runsource\": \"automl\", \"display_task_type\": \"classification\", \"dependencies_versions\": \"{\\\"azureml-widgets\\\": \\\"1.19.0\\\", \\\"azureml-train\\\": \\\"1.19.0\\\", \\\"azureml-train-restclients-hyperdrive\\\": \\\"1.19.0\\\", \\\"azureml-train-core\\\": \\\"1.19.0\\\", \\\"azureml-train-automl\\\": \\\"1.19.0\\\", \\\"azureml-train-automl-runtime\\\": \\\"1.19.0\\\", \\\"azureml-train-automl-client\\\": \\\"1.19.0\\\", \\\"azureml-tensorboard\\\": \\\"1.19.0\\\", \\\"azureml-telemetry\\\": \\\"1.19.0\\\", \\\"azureml-sdk\\\": \\\"1.19.0\\\", \\\"azureml-samples\\\": \\\"0+unknown\\\", \\\"azureml-pipeline\\\": \\\"1.19.0\\\", \\\"azureml-pipeline-steps\\\": \\\"1.19.0\\\", \\\"azureml-pipeline-core\\\": \\\"1.19.0\\\", \\\"azureml-opendatasets\\\": \\\"1.19.0\\\", \\\"azureml-model-management-sdk\\\": \\\"1.0.1b6.post1\\\", \\\"azureml-mlflow\\\": \\\"1.19.0\\\", \\\"azureml-interpret\\\": \\\"1.19.0\\\", \\\"azureml-explain-model\\\": \\\"1.19.0\\\", \\\"azureml-defaults\\\": \\\"1.19.0\\\", \\\"azureml-dataset-runtime\\\": \\\"1.19.0.post1\\\", \\\"azureml-dataprep\\\": \\\"2.6.1\\\", \\\"azureml-dataprep-rslex\\\": \\\"1.4.0\\\", \\\"azureml-dataprep-native\\\": \\\"26.0.0\\\", \\\"azureml-datadrift\\\": \\\"1.19.0\\\", \\\"azureml-core\\\": \\\"1.19.0\\\", \\\"azureml-contrib-services\\\": \\\"1.19.0\\\", \\\"azureml-contrib-server\\\": \\\"1.19.0\\\", \\\"azureml-contrib-reinforcementlearning\\\": \\\"1.19.0\\\", \\\"azureml-contrib-pipeline-steps\\\": \\\"1.19.0\\\", \\\"azureml-contrib-notebook\\\": \\\"1.19.0\\\", \\\"azureml-contrib-interpret\\\": \\\"1.19.0\\\", \\\"azureml-contrib-gbdt\\\": \\\"1.19.0\\\", \\\"azureml-contrib-fairness\\\": \\\"1.19.0\\\", \\\"azureml-contrib-dataset\\\": \\\"1.19.0\\\", \\\"azureml-cli-common\\\": \\\"1.19.0\\\", \\\"azureml-automl-runtime\\\": \\\"1.19.0\\\", \\\"azureml-automl-core\\\": \\\"1.19.0\\\", \\\"azureml-accel-models\\\": \\\"1.19.0\\\"}\", \"_aml_system_scenario_identification\": \"Remote.Parent\", \"ClientType\": \"SDK\", \"environment_cpu_name\": \"AzureML-AutoML\", \"environment_cpu_label\": \"prod\", \"environment_gpu_name\": \"AzureML-AutoML-GPU\", \"environment_gpu_label\": \"prod\", \"root_attribution\": \"automl\", \"attribution\": \"AutoML\", \"Orchestrator\": \"AutoML\", \"CancelUri\": \"https://southcentralus.experiments.azureml.net/jasmine/v1.0/subscriptions/a0a76bad-11a1-4a2d-9887-97a29122c8ed/resourceGroups/aml-quickstarts-135610/providers/Microsoft.MachineLearningServices/workspaces/quick-starts-ws-135610/experimentids/da571e10-880c-4c2c-9a03-4032daa53d4b/cancel/AutoML_f2ba87a0-9fdf-4292-b8eb-4f82d234cff9\", \"ClientSdkVersion\": \"1.20.0\", \"snapshotId\": \"00000000-0000-0000-0000-000000000000\", \"SetupRunId\": \"AutoML_f2ba87a0-9fdf-4292-b8eb-4f82d234cff9_setup\", \"SetupRunContainerId\": \"dcid.AutoML_f2ba87a0-9fdf-4292-b8eb-4f82d234cff9_setup\", \"FeaturizationRunJsonPath\": \"featurizer_container.json\", \"FeaturizationRunId\": \"AutoML_f2ba87a0-9fdf-4292-b8eb-4f82d234cff9_featurize\", \"ProblemInfoJsonString\": \"{\\\"dataset_num_categorical\\\": 0, \\\"is_sparse\\\": false, \\\"subsampling\\\": false, \\\"dataset_classes\\\": 2, \\\"dataset_features\\\": 12, \\\"dataset_samples\\\": 299, \\\"single_frequency_class_detected\\\": false}\", \"ModelExplainRunId\": \"AutoML_f2ba87a0-9fdf-4292-b8eb-4f82d234cff9_ModelExplain\"}, \"tags\": {\"model_explain_run\": \"best_run\", \"_aml_system_azureml.automlComponent\": \"AutoML\", \"is_gpu\": \"True\", \"pipeline_id\": \"\", \"score\": \"\", \"predicted_cost\": \"\", \"fit_time\": \"\", \"training_percent\": \"\", \"iteration\": \"\", \"run_preprocessor\": \"\", \"run_algorithm\": \"\", \"dynamic_whitelisting_iterations\": \"<25>;<30>;<35>;\", \"automl_best_child_run_id\": \"AutoML_f2ba87a0-9fdf-4292-b8eb-4f82d234cff9_36\", \"model_explain_best_run_child_id\": \"AutoML_f2ba87a0-9fdf-4292-b8eb-4f82d234cff9_36\"}, \"end_time_utc\": \"2021-01-21T16:47:12.994306Z\", \"status\": \"Completed\", \"log_files\": {}, \"log_groups\": [], \"run_duration\": \"0:22:31\"}, \"child_runs\": [{\"run_id\": \"AutoML_f2ba87a0-9fdf-4292-b8eb-4f82d234cff9_1\", \"run_number\": 5, \"metric\": null, \"status\": \"Completed\", \"run_type\": \"azureml.scriptrun\", \"training_percent\": \"100\", \"start_time\": \"2021-01-21T16:34:51.677656Z\", \"end_time\": \"2021-01-21T16:35:33.152602Z\", \"created_time\": \"2021-01-21T16:32:54.04478Z\", \"created_time_dt\": \"2021-01-21T16:32:54.04478Z\", \"duration\": \"0:02:39\", \"iteration\": \"1\", \"goal\": \"accuracy_max\", \"run_name\": \"MaxAbsScaler, XGBoostClassifier\", \"run_properties\": \"copy=True\", \"primary_metric\": 0.81264368, \"best_metric\": 0.83597701}, {\"run_id\": \"AutoML_f2ba87a0-9fdf-4292-b8eb-4f82d234cff9_3\", \"run_number\": 6, \"metric\": null, \"status\": \"Completed\", \"run_type\": \"azureml.scriptrun\", \"training_percent\": \"100\", \"start_time\": \"2021-01-21T16:33:04.375606Z\", \"end_time\": \"2021-01-21T16:33:51.794033Z\", \"created_time\": \"2021-01-21T16:32:54.096795Z\", \"created_time_dt\": \"2021-01-21T16:32:54.096795Z\", \"duration\": \"0:00:57\", \"iteration\": \"3\", \"goal\": \"accuracy_max\", \"run_name\": \"MinMaxScaler, RandomForest\", \"run_properties\": \"copy=True, feature_range=(0, 1\", \"primary_metric\": 0.83241379, \"best_metric\": 0.83931034}, {\"run_id\": \"AutoML_f2ba87a0-9fdf-4292-b8eb-4f82d234cff9_2\", \"run_number\": 7, \"metric\": null, \"status\": \"Completed\", \"run_type\": \"azureml.scriptrun\", \"training_percent\": \"100\", \"start_time\": \"2021-01-21T16:35:39.230258Z\", \"end_time\": \"2021-01-21T16:36:18.16933Z\", \"created_time\": \"2021-01-21T16:32:54.099937Z\", \"created_time_dt\": \"2021-01-21T16:32:54.099937Z\", \"duration\": \"0:03:24\", \"iteration\": \"2\", \"goal\": \"accuracy_max\", \"run_name\": \"MinMaxScaler, RandomForest\", \"run_properties\": \"copy=True, feature_range=(0, 1\", \"primary_metric\": 0.83931034, \"best_metric\": 0.83931034}, {\"run_id\": \"AutoML_f2ba87a0-9fdf-4292-b8eb-4f82d234cff9_0\", \"run_number\": 8, \"metric\": null, \"status\": \"Completed\", \"run_type\": \"azureml.scriptrun\", \"training_percent\": \"100\", \"start_time\": \"2021-01-21T16:33:54.937125Z\", \"end_time\": \"2021-01-21T16:34:51.900716Z\", \"created_time\": \"2021-01-21T16:32:54.213333Z\", \"created_time_dt\": \"2021-01-21T16:32:54.213333Z\", \"duration\": \"0:01:57\", \"iteration\": \"0\", \"goal\": \"accuracy_max\", \"run_name\": \"MaxAbsScaler, LightGBM\", \"run_properties\": \"copy=True\", \"primary_metric\": 0.83597701, \"best_metric\": 0.83597701}, {\"run_id\": \"AutoML_f2ba87a0-9fdf-4292-b8eb-4f82d234cff9_4\", \"run_number\": 9, \"metric\": null, \"status\": \"Completed\", \"run_type\": \"azureml.scriptrun\", \"training_percent\": \"100\", \"start_time\": \"2021-01-21T16:36:10.85221Z\", \"end_time\": \"2021-01-21T16:38:22.754225Z\", \"created_time\": \"2021-01-21T16:33:56.239538Z\", \"created_time_dt\": \"2021-01-21T16:33:56.239538Z\", \"duration\": \"0:04:26\", \"iteration\": \"4\", \"goal\": \"accuracy_max\", \"run_name\": \"MinMaxScaler, RandomForest\", \"run_properties\": \"copy=True, feature_range=(0, 1\", \"primary_metric\": 0.8291954, \"best_metric\": 0.83931034}, {\"run_id\": \"AutoML_f2ba87a0-9fdf-4292-b8eb-4f82d234cff9_5\", \"run_number\": 10, \"metric\": null, \"status\": \"Completed\", \"run_type\": \"azureml.scriptrun\", \"training_percent\": \"100\", \"start_time\": \"2021-01-21T16:36:11.537331Z\", \"end_time\": \"2021-01-21T16:39:11.966524Z\", \"created_time\": \"2021-01-21T16:34:55.982346Z\", \"created_time_dt\": \"2021-01-21T16:34:55.982346Z\", \"duration\": \"0:04:15\", \"iteration\": \"5\", \"goal\": \"accuracy_max\", \"run_name\": \"StandardScalerWrapper, LightGBM\", \"run_properties\": \"<azureml.automl.runtime.shared.model_wrappers.StandardScalerWrapper object at 0x7f5d66292b38\", \"primary_metric\": 0.8562069, \"best_metric\": 0.8562069}, {\"run_id\": \"AutoML_f2ba87a0-9fdf-4292-b8eb-4f82d234cff9_6\", \"run_number\": 11, \"metric\": null, \"status\": \"Completed\", \"run_type\": \"azureml.scriptrun\", \"training_percent\": \"100\", \"start_time\": \"2021-01-21T16:36:11.791457Z\", \"end_time\": \"2021-01-21T16:38:36.95351Z\", \"created_time\": \"2021-01-21T16:35:37.656898Z\", \"created_time_dt\": \"2021-01-21T16:35:37.656898Z\", \"duration\": \"0:02:59\", \"iteration\": \"6\", \"goal\": \"accuracy_max\", \"run_name\": \"RobustScaler, ExtremeRandomTrees\", \"run_properties\": \"copy=True, quantile_range=[10, 90], with_centering=True,\\n             with_scaling=False\", \"primary_metric\": 0.80574713, \"best_metric\": 0.8562069}, {\"run_id\": \"AutoML_f2ba87a0-9fdf-4292-b8eb-4f82d234cff9_7\", \"run_number\": 12, \"metric\": null, \"status\": \"Completed\", \"run_type\": \"azureml.scriptrun\", \"training_percent\": \"100\", \"start_time\": \"2021-01-21T16:36:34.162225Z\", \"end_time\": \"2021-01-21T16:37:11.275418Z\", \"created_time\": \"2021-01-21T16:36:21.613283Z\", \"created_time_dt\": \"2021-01-21T16:36:21.613283Z\", \"duration\": \"0:00:49\", \"iteration\": \"7\", \"goal\": \"accuracy_max\", \"run_name\": \"MinMaxScaler, SVM\", \"run_properties\": \"copy=True, feature_range=(0, 1\", \"primary_metric\": 0.72597701, \"best_metric\": 0.8562069}, {\"run_id\": \"AutoML_f2ba87a0-9fdf-4292-b8eb-4f82d234cff9_8\", \"run_number\": 13, \"metric\": null, \"status\": \"Completed\", \"run_type\": \"azureml.scriptrun\", \"training_percent\": \"100\", \"start_time\": \"2021-01-21T16:37:24.959497Z\", \"end_time\": \"2021-01-21T16:37:59.115196Z\", \"created_time\": \"2021-01-21T16:37:13.583098Z\", \"created_time_dt\": \"2021-01-21T16:37:13.583098Z\", \"duration\": \"0:00:45\", \"iteration\": \"8\", \"goal\": \"accuracy_max\", \"run_name\": \"MaxAbsScaler, GradientBoosting\", \"run_properties\": \"copy=True\", \"primary_metric\": 0.84597701, \"best_metric\": 0.8562069}, {\"run_id\": \"AutoML_f2ba87a0-9fdf-4292-b8eb-4f82d234cff9_9\", \"run_number\": 14, \"metric\": null, \"status\": \"Completed\", \"run_type\": \"azureml.scriptrun\", \"training_percent\": \"100\", \"start_time\": \"2021-01-21T16:38:11.412433Z\", \"end_time\": \"2021-01-21T16:38:50.375361Z\", \"created_time\": \"2021-01-21T16:38:01.147871Z\", \"created_time_dt\": \"2021-01-21T16:38:01.147871Z\", \"duration\": \"0:00:49\", \"iteration\": \"9\", \"goal\": \"accuracy_max\", \"run_name\": \"StandardScalerWrapper, RandomForest\", \"run_properties\": \"<azureml.automl.runtime.shared.model_wrappers.StandardScalerWrapper object at 0x7f6fbf0fa320\", \"primary_metric\": 0.84275862, \"best_metric\": 0.8562069}, {\"run_id\": \"AutoML_f2ba87a0-9fdf-4292-b8eb-4f82d234cff9_10\", \"run_number\": 15, \"metric\": null, \"status\": \"Completed\", \"run_type\": \"azureml.scriptrun\", \"training_percent\": \"100\", \"start_time\": \"2021-01-21T16:38:36.170823Z\", \"end_time\": \"2021-01-21T16:39:24.634785Z\", \"created_time\": \"2021-01-21T16:38:24.479627Z\", \"created_time_dt\": \"2021-01-21T16:38:24.479627Z\", \"duration\": \"0:01:00\", \"iteration\": \"10\", \"goal\": \"accuracy_max\", \"run_name\": \"SparseNormalizer, LightGBM\", \"run_properties\": \"<azureml.automl.runtime.shared.model_wrappers.SparseNormalizer object at 0x7fdca02e74a8\", \"primary_metric\": 0.72931034, \"best_metric\": 0.8562069}, {\"run_id\": \"AutoML_f2ba87a0-9fdf-4292-b8eb-4f82d234cff9_11\", \"run_number\": 16, \"metric\": null, \"status\": \"Completed\", \"run_type\": \"azureml.scriptrun\", \"training_percent\": \"100\", \"start_time\": \"2021-01-21T16:38:51.163229Z\", \"end_time\": \"2021-01-21T16:39:31.121383Z\", \"created_time\": \"2021-01-21T16:38:38.697263Z\", \"created_time_dt\": \"2021-01-21T16:38:38.697263Z\", \"duration\": \"0:00:52\", \"iteration\": \"11\", \"goal\": \"accuracy_max\", \"run_name\": \"RobustScaler, GradientBoosting\", \"run_properties\": \"copy=True, quantile_range=[25, 75], with_centering=False,\\n             with_scaling=False\", \"primary_metric\": 0.8462069, \"best_metric\": 0.8562069}, {\"run_id\": \"AutoML_f2ba87a0-9fdf-4292-b8eb-4f82d234cff9_12\", \"run_number\": 17, \"metric\": null, \"status\": \"Completed\", \"run_type\": \"azureml.scriptrun\", \"training_percent\": \"100\", \"start_time\": \"2021-01-21T16:39:02.74254Z\", \"end_time\": \"2021-01-21T16:39:39.064025Z\", \"created_time\": \"2021-01-21T16:38:52.177977Z\", \"created_time_dt\": \"2021-01-21T16:38:52.177977Z\", \"duration\": \"0:00:46\", \"iteration\": \"12\", \"goal\": \"accuracy_max\", \"run_name\": \"SparseNormalizer, XGBoostClassifier\", \"run_properties\": \"<azureml.automl.runtime.shared.model_wrappers.SparseNormalizer object at 0x7fe679df1f28\", \"primary_metric\": 0.84252874, \"best_metric\": 0.8562069}, {\"run_id\": \"AutoML_f2ba87a0-9fdf-4292-b8eb-4f82d234cff9_13\", \"run_number\": 18, \"metric\": null, \"status\": \"Completed\", \"run_type\": \"azureml.scriptrun\", \"training_percent\": \"100\", \"start_time\": \"2021-01-21T16:39:25.857394Z\", \"end_time\": \"2021-01-21T16:40:17.417299Z\", \"created_time\": \"2021-01-21T16:39:14.059365Z\", \"created_time_dt\": \"2021-01-21T16:39:14.059365Z\", \"duration\": \"0:01:03\", \"iteration\": \"13\", \"goal\": \"accuracy_max\", \"run_name\": \"SparseNormalizer, LightGBM\", \"run_properties\": \"<azureml.automl.runtime.shared.model_wrappers.SparseNormalizer object at 0x7f8905cb1240\", \"primary_metric\": 0.8362069, \"best_metric\": 0.8562069}, {\"run_id\": \"AutoML_f2ba87a0-9fdf-4292-b8eb-4f82d234cff9_14\", \"run_number\": 19, \"metric\": null, \"status\": \"Completed\", \"run_type\": \"azureml.scriptrun\", \"training_percent\": \"100\", \"start_time\": \"2021-01-21T16:39:38.569941Z\", \"end_time\": \"2021-01-21T16:40:25.776798Z\", \"created_time\": \"2021-01-21T16:39:26.540551Z\", \"created_time_dt\": \"2021-01-21T16:39:26.540551Z\", \"duration\": \"0:00:59\", \"iteration\": \"14\", \"goal\": \"accuracy_max\", \"run_name\": \"StandardScalerWrapper, LightGBM\", \"run_properties\": \"<azureml.automl.runtime.shared.model_wrappers.StandardScalerWrapper object at 0x7f5a530bf208\", \"primary_metric\": 0.82264368, \"best_metric\": 0.8562069}, {\"run_id\": \"AutoML_f2ba87a0-9fdf-4292-b8eb-4f82d234cff9_15\", \"run_number\": 20, \"metric\": null, \"status\": \"Completed\", \"run_type\": \"azureml.scriptrun\", \"training_percent\": \"100\", \"start_time\": \"2021-01-21T16:39:44.896229Z\", \"end_time\": \"2021-01-21T16:40:26.111293Z\", \"created_time\": \"2021-01-21T16:39:32.914893Z\", \"created_time_dt\": \"2021-01-21T16:39:32.914893Z\", \"duration\": \"0:00:53\", \"iteration\": \"15\", \"goal\": \"accuracy_max\", \"run_name\": \"RobustScaler, ExtremeRandomTrees\", \"run_properties\": \"copy=True, quantile_range=[25, 75], with_centering=True,\\n             with_scaling=False\", \"primary_metric\": 0.85965517, \"best_metric\": 0.85965517}, {\"run_id\": \"AutoML_f2ba87a0-9fdf-4292-b8eb-4f82d234cff9_16\", \"run_number\": 21, \"metric\": null, \"status\": \"Completed\", \"run_type\": \"azureml.scriptrun\", \"training_percent\": \"100\", \"start_time\": \"2021-01-21T16:39:52.546778Z\", \"end_time\": \"2021-01-21T16:40:39.145776Z\", \"created_time\": \"2021-01-21T16:39:40.804031Z\", \"created_time_dt\": \"2021-01-21T16:39:40.804031Z\", \"duration\": \"0:00:58\", \"iteration\": \"16\", \"goal\": \"accuracy_max\", \"run_name\": \"RobustScaler, RandomForest\", \"run_properties\": \"copy=True, quantile_range=[10, 90], with_centering=True,\\n             with_scaling=True\", \"primary_metric\": 0.84264368, \"best_metric\": 0.85965517}, {\"run_id\": \"AutoML_f2ba87a0-9fdf-4292-b8eb-4f82d234cff9_17\", \"run_number\": 22, \"metric\": null, \"status\": \"Completed\", \"run_type\": \"azureml.scriptrun\", \"training_percent\": \"100\", \"start_time\": \"2021-01-21T16:40:29.36904Z\", \"end_time\": \"2021-01-21T16:41:10.08434Z\", \"created_time\": \"2021-01-21T16:40:19.454005Z\", \"created_time_dt\": \"2021-01-21T16:40:19.454005Z\", \"duration\": \"0:00:50\", \"iteration\": \"17\", \"goal\": \"accuracy_max\", \"run_name\": \"StandardScalerWrapper, ExtremeRandomTrees\", \"run_properties\": \"<azureml.automl.runtime.shared.model_wrappers.StandardScalerWrapper object at 0x7fb2ec09b828\", \"primary_metric\": 0.8462069, \"best_metric\": 0.85965517}, {\"run_id\": \"AutoML_f2ba87a0-9fdf-4292-b8eb-4f82d234cff9_18\", \"run_number\": 23, \"metric\": null, \"status\": \"Completed\", \"run_type\": \"azureml.scriptrun\", \"training_percent\": \"100\", \"start_time\": \"2021-01-21T16:40:39.934404Z\", \"end_time\": \"2021-01-21T16:41:17.129287Z\", \"created_time\": \"2021-01-21T16:40:27.747703Z\", \"created_time_dt\": \"2021-01-21T16:40:27.747703Z\", \"duration\": \"0:00:49\", \"iteration\": \"18\", \"goal\": \"accuracy_max\", \"run_name\": \"SparseNormalizer, XGBoostClassifier\", \"run_properties\": \"<azureml.automl.runtime.shared.model_wrappers.SparseNormalizer object at 0x7fc614c16a90\", \"primary_metric\": 0.82275862, \"best_metric\": 0.85965517}, {\"run_id\": \"AutoML_f2ba87a0-9fdf-4292-b8eb-4f82d234cff9_19\", \"run_number\": 24, \"metric\": null, \"status\": \"Completed\", \"run_type\": \"azureml.scriptrun\", \"training_percent\": \"100\", \"start_time\": \"2021-01-21T16:40:39.598193Z\", \"end_time\": \"2021-01-21T16:41:33.031619Z\", \"created_time\": \"2021-01-21T16:40:27.797978Z\", \"created_time_dt\": \"2021-01-21T16:40:27.797978Z\", \"duration\": \"0:01:05\", \"iteration\": \"19\", \"goal\": \"accuracy_max\", \"run_name\": \"MaxAbsScaler, LightGBM\", \"run_properties\": \"copy=True\", \"primary_metric\": 0.77574713, \"best_metric\": 0.85965517}, {\"run_id\": \"AutoML_f2ba87a0-9fdf-4292-b8eb-4f82d234cff9_20\", \"run_number\": 25, \"metric\": null, \"status\": \"Completed\", \"run_type\": \"azureml.scriptrun\", \"training_percent\": \"100\", \"start_time\": \"2021-01-21T16:40:52.12657Z\", \"end_time\": \"2021-01-21T16:41:31.638756Z\", \"created_time\": \"2021-01-21T16:40:40.92358Z\", \"created_time_dt\": \"2021-01-21T16:40:40.92358Z\", \"duration\": \"0:00:50\", \"iteration\": \"20\", \"goal\": \"accuracy_max\", \"run_name\": \"StandardScalerWrapper, RandomForest\", \"run_properties\": \"<azureml.automl.runtime.shared.model_wrappers.StandardScalerWrapper object at 0x7f96a0ab1978\", \"primary_metric\": 0.82275862, \"best_metric\": 0.85965517}, {\"run_id\": \"AutoML_f2ba87a0-9fdf-4292-b8eb-4f82d234cff9_21\", \"run_number\": 26, \"metric\": null, \"status\": \"Completed\", \"run_type\": \"azureml.scriptrun\", \"training_percent\": \"100\", \"start_time\": \"2021-01-21T16:41:22.098798Z\", \"end_time\": \"2021-01-21T16:42:06.567298Z\", \"created_time\": \"2021-01-21T16:41:12.46378Z\", \"created_time_dt\": \"2021-01-21T16:41:12.46378Z\", \"duration\": \"0:00:54\", \"iteration\": \"21\", \"goal\": \"accuracy_max\", \"run_name\": \"RobustScaler, RandomForest\", \"run_properties\": \"copy=True, quantile_range=[10, 90], with_centering=False,\\n             with_scaling=True\", \"primary_metric\": 0.84275862, \"best_metric\": 0.85965517}, {\"run_id\": \"AutoML_f2ba87a0-9fdf-4292-b8eb-4f82d234cff9_22\", \"run_number\": 27, \"metric\": null, \"status\": \"Completed\", \"run_type\": \"azureml.scriptrun\", \"training_percent\": \"100\", \"start_time\": \"2021-01-21T16:41:30.628034Z\", \"end_time\": \"2021-01-21T16:42:16.354163Z\", \"created_time\": \"2021-01-21T16:41:18.881782Z\", \"created_time_dt\": \"2021-01-21T16:41:18.881782Z\", \"duration\": \"0:00:57\", \"iteration\": \"22\", \"goal\": \"accuracy_max\", \"run_name\": \"MinMaxScaler, RandomForest\", \"run_properties\": \"copy=True, feature_range=(0, 1\", \"primary_metric\": 0.83597701, \"best_metric\": 0.85965517}, {\"run_id\": \"AutoML_f2ba87a0-9fdf-4292-b8eb-4f82d234cff9_23\", \"run_number\": 28, \"metric\": null, \"status\": \"Completed\", \"run_type\": \"azureml.scriptrun\", \"training_percent\": \"100\", \"start_time\": \"2021-01-21T16:41:44.335993Z\", \"end_time\": \"2021-01-21T16:42:34.802217Z\", \"created_time\": \"2021-01-21T16:41:33.411302Z\", \"created_time_dt\": \"2021-01-21T16:41:33.411302Z\", \"duration\": \"0:01:01\", \"iteration\": \"23\", \"goal\": \"accuracy_max\", \"run_name\": \"MinMaxScaler, LightGBM\", \"run_properties\": \"copy=True, feature_range=(0, 1\", \"primary_metric\": 0.78264368, \"best_metric\": 0.85965517}, {\"run_id\": \"AutoML_f2ba87a0-9fdf-4292-b8eb-4f82d234cff9_24\", \"run_number\": 29, \"metric\": null, \"status\": \"Completed\", \"run_type\": \"azureml.scriptrun\", \"training_percent\": \"100\", \"start_time\": \"2021-01-21T16:41:49.194403Z\", \"end_time\": \"2021-01-21T16:42:27.611109Z\", \"created_time\": \"2021-01-21T16:41:37.139754Z\", \"created_time_dt\": \"2021-01-21T16:41:37.139754Z\", \"duration\": \"0:00:50\", \"iteration\": \"24\", \"goal\": \"accuracy_max\", \"run_name\": \"MaxAbsScaler, GradientBoosting\", \"run_properties\": \"copy=True\", \"primary_metric\": 0.83609195, \"best_metric\": 0.85965517}, {\"run_id\": \"AutoML_f2ba87a0-9fdf-4292-b8eb-4f82d234cff9_25\", \"run_number\": 30, \"metric\": null, \"status\": \"Completed\", \"run_type\": \"azureml.scriptrun\", \"training_percent\": \"100\", \"start_time\": \"2021-01-21T16:42:23.215286Z\", \"end_time\": \"2021-01-21T16:43:07.352Z\", \"created_time\": \"2021-01-21T16:42:09.784015Z\", \"created_time_dt\": \"2021-01-21T16:42:09.784015Z\", \"duration\": \"0:00:57\", \"iteration\": \"25\", \"goal\": \"accuracy_max\", \"run_name\": \"SparseNormalizer, ExtremeRandomTrees\", \"run_properties\": \"<azureml.automl.runtime.shared.model_wrappers.SparseNormalizer object at 0x7faef7b0c198\", \"primary_metric\": 0.58850575, \"best_metric\": 0.85965517}, {\"run_id\": \"AutoML_f2ba87a0-9fdf-4292-b8eb-4f82d234cff9_26\", \"run_number\": 31, \"metric\": null, \"status\": \"Completed\", \"run_type\": \"azureml.scriptrun\", \"training_percent\": \"100\", \"start_time\": \"2021-01-21T16:42:43.979473Z\", \"end_time\": \"2021-01-21T16:43:15.977365Z\", \"created_time\": \"2021-01-21T16:42:18.131176Z\", \"created_time_dt\": \"2021-01-21T16:42:18.131176Z\", \"duration\": \"0:00:57\", \"iteration\": \"26\", \"goal\": \"accuracy_max\", \"run_name\": \"SparseNormalizer, RandomForest\", \"run_properties\": \"<azureml.automl.runtime.shared.model_wrappers.SparseNormalizer object at 0x7f388050fcc0\", \"primary_metric\": 0.80908046, \"best_metric\": 0.85965517}, {\"run_id\": \"AutoML_f2ba87a0-9fdf-4292-b8eb-4f82d234cff9_27\", \"run_number\": 32, \"metric\": null, \"status\": \"Completed\", \"run_type\": \"azureml.scriptrun\", \"training_percent\": \"100\", \"start_time\": \"2021-01-21T16:43:28.136988Z\", \"end_time\": \"2021-01-21T16:43:59.766838Z\", \"created_time\": \"2021-01-21T16:42:29.300056Z\", \"created_time_dt\": \"2021-01-21T16:42:29.300056Z\", \"duration\": \"0:01:30\", \"iteration\": \"27\", \"goal\": \"accuracy_max\", \"run_name\": \"StandardScalerWrapper, XGBoostClassifier\", \"run_properties\": \"<azureml.automl.runtime.shared.model_wrappers.StandardScalerWrapper object at 0x7f5fc62beac8\", \"primary_metric\": 0.84931034, \"best_metric\": 0.85965517}, {\"run_id\": \"AutoML_f2ba87a0-9fdf-4292-b8eb-4f82d234cff9_28\", \"run_number\": 33, \"metric\": null, \"status\": \"Completed\", \"run_type\": \"azureml.scriptrun\", \"training_percent\": \"100\", \"start_time\": \"2021-01-21T16:42:48.399898Z\", \"end_time\": \"2021-01-21T16:43:49.199466Z\", \"created_time\": \"2021-01-21T16:42:36.48567Z\", \"created_time_dt\": \"2021-01-21T16:42:36.48567Z\", \"duration\": \"0:01:12\", \"iteration\": \"28\", \"goal\": \"accuracy_max\", \"run_name\": \"MinMaxScaler, LightGBM\", \"run_properties\": \"copy=True, feature_range=(0, 1\", \"primary_metric\": 0.85264368, \"best_metric\": 0.85965517}, {\"run_id\": \"AutoML_f2ba87a0-9fdf-4292-b8eb-4f82d234cff9_29\", \"run_number\": 34, \"metric\": null, \"status\": \"Completed\", \"run_type\": \"azureml.scriptrun\", \"training_percent\": \"100\", \"start_time\": \"2021-01-21T16:43:19.838463Z\", \"end_time\": \"2021-01-21T16:44:07.451221Z\", \"created_time\": \"2021-01-21T16:43:09.053321Z\", \"created_time_dt\": \"2021-01-21T16:43:09.053321Z\", \"duration\": \"0:00:58\", \"iteration\": \"29\", \"goal\": \"accuracy_max\", \"run_name\": \"StandardScalerWrapper, ExtremeRandomTrees\", \"run_properties\": \"<azureml.automl.runtime.shared.model_wrappers.StandardScalerWrapper object at 0x7f213871a6d8\", \"primary_metric\": 0.83942529, \"best_metric\": 0.85965517}, {\"run_id\": \"AutoML_f2ba87a0-9fdf-4292-b8eb-4f82d234cff9_30\", \"run_number\": 35, \"metric\": null, \"status\": \"Completed\", \"run_type\": \"azureml.scriptrun\", \"training_percent\": \"100\", \"start_time\": \"2021-01-21T16:43:30.866714Z\", \"end_time\": \"2021-01-21T16:44:25.611026Z\", \"created_time\": \"2021-01-21T16:43:18.824874Z\", \"created_time_dt\": \"2021-01-21T16:43:18.824874Z\", \"duration\": \"0:01:06\", \"iteration\": \"30\", \"goal\": \"accuracy_max\", \"run_name\": \"StandardScalerWrapper, ExtremeRandomTrees\", \"run_properties\": \"<azureml.automl.runtime.shared.model_wrappers.StandardScalerWrapper object at 0x7f0f8b0fee10\", \"primary_metric\": 0.6791954, \"best_metric\": 0.85965517}, {\"run_id\": \"AutoML_f2ba87a0-9fdf-4292-b8eb-4f82d234cff9_31\", \"run_number\": 36, \"metric\": null, \"status\": \"Completed\", \"run_type\": \"azureml.scriptrun\", \"training_percent\": \"100\", \"start_time\": \"2021-01-21T16:44:00.417441Z\", \"end_time\": \"2021-01-21T16:44:48.573149Z\", \"created_time\": \"2021-01-21T16:43:50.772027Z\", \"created_time_dt\": \"2021-01-21T16:43:50.772027Z\", \"duration\": \"0:00:57\", \"iteration\": \"31\", \"goal\": \"accuracy_max\", \"run_name\": \"StandardScalerWrapper, LightGBM\", \"run_properties\": \"<azureml.automl.runtime.shared.model_wrappers.StandardScalerWrapper object at 0x7f0ead6985c0\", \"primary_metric\": 0.83931034, \"best_metric\": 0.85965517}, {\"run_id\": \"AutoML_f2ba87a0-9fdf-4292-b8eb-4f82d234cff9_32\", \"run_number\": 37, \"metric\": null, \"status\": \"Completed\", \"run_type\": \"azureml.scriptrun\", \"training_percent\": \"100\", \"start_time\": \"2021-01-21T16:44:13.807211Z\", \"end_time\": \"2021-01-21T16:44:59.608608Z\", \"created_time\": \"2021-01-21T16:44:01.474221Z\", \"created_time_dt\": \"2021-01-21T16:44:01.474221Z\", \"duration\": \"0:00:58\", \"iteration\": \"32\", \"goal\": \"accuracy_max\", \"run_name\": \"MaxAbsScaler, LightGBM\", \"run_properties\": \"copy=True\", \"primary_metric\": 0.7891954, \"best_metric\": 0.85965517}, {\"run_id\": \"AutoML_f2ba87a0-9fdf-4292-b8eb-4f82d234cff9_33\", \"run_number\": 38, \"metric\": null, \"status\": \"Canceled\", \"run_type\": \"azureml.scriptrun\", \"training_percent\": \"100\", \"start_time\": \"2021-01-21T16:44:19.96862Z\", \"end_time\": \"2021-01-21T16:45:07.358127Z\", \"created_time\": \"2021-01-21T16:44:09.586172Z\", \"created_time_dt\": \"2021-01-21T16:44:09.586172Z\", \"duration\": \"0:00:57\", \"iteration\": \"33\", \"goal\": \"accuracy_max\", \"run_name\": \"StandardScalerWrapper, LightGBM\", \"run_properties\": \"<azureml.automl.runtime.shared.model_wrappers.StandardScalerWrapper object at 0x7f6a8c367ba8\", \"primary_metric\": 0.85287356, \"best_metric\": 0.85965517}, {\"run_id\": \"AutoML_f2ba87a0-9fdf-4292-b8eb-4f82d234cff9_34\", \"run_number\": 39, \"metric\": null, \"status\": \"Canceled\", \"run_type\": \"azureml.scriptrun\", \"training_percent\": \"100\", \"start_time\": \"2021-01-21T16:44:40.385612Z\", \"end_time\": \"2021-01-21T16:45:06.211379Z\", \"created_time\": \"2021-01-21T16:44:27.256891Z\", \"created_time_dt\": \"2021-01-21T16:44:27.256891Z\", \"duration\": \"0:00:38\", \"iteration\": \"34\", \"goal\": \"accuracy_max\", \"run_name\": \"StandardScalerWrapper, XGBoostClassifier\", \"run_properties\": \"<azureml.automl.runtime.shared.model_wrappers.StandardScalerWrapper object at 0x7f75f71b0a90\", \"primary_metric\": 0.83597701, \"best_metric\": 0.85965517}, {\"run_id\": \"AutoML_f2ba87a0-9fdf-4292-b8eb-4f82d234cff9_35\", \"run_number\": 40, \"metric\": null, \"status\": \"Canceled\", \"run_type\": \"azureml.scriptrun\", \"training_percent\": \"100\", \"start_time\": \"2021-01-21T16:44:51.319142Z\", \"end_time\": \"2021-01-21T16:45:08.068124Z\", \"created_time\": \"2021-01-21T16:44:51.319142Z\", \"created_time_dt\": \"2021-01-21T16:44:51.319142Z\", \"duration\": \"0:00:16\", \"iteration\": \"35\", \"goal\": null, \"run_name\": \"Canceled\", \"run_properties\": null}, {\"run_id\": \"AutoML_f2ba87a0-9fdf-4292-b8eb-4f82d234cff9_36\", \"run_number\": 41, \"metric\": null, \"status\": \"Completed\", \"run_type\": \"azureml.scriptrun\", \"training_percent\": \"100\", \"start_time\": \"2021-01-21T16:45:19.903455Z\", \"end_time\": \"2021-01-21T16:47:05.654754Z\", \"created_time\": \"2021-01-21T16:45:08.618417Z\", \"created_time_dt\": \"2021-01-21T16:45:08.618417Z\", \"duration\": \"0:01:57\", \"iteration\": \"36\", \"goal\": \"accuracy_max\", \"run_name\": \"VotingEnsemble\", \"run_properties\": \"classification_labels=None,\\n                              estimators=[('15',\\n                                           Pipeline(memory=None,\\n                                                    steps=[('robustscaler',\\n                                                            RobustScaler(copy=True,\\n                                                                         quantile_range=[25,\\n                                                                                         75],\\n                                                                         with_centering=True,\\n                                                                         with_scaling=False\", \"primary_metric\": 0.87287356, \"best_metric\": 0.87287356}, {\"run_id\": \"AutoML_f2ba87a0-9fdf-4292-b8eb-4f82d234cff9_37\", \"run_number\": 42, \"metric\": null, \"status\": \"Completed\", \"run_type\": \"azureml.scriptrun\", \"training_percent\": \"100\", \"start_time\": \"2021-01-21T16:45:21.993486Z\", \"end_time\": \"2021-01-21T16:47:05.859132Z\", \"created_time\": \"2021-01-21T16:45:08.630846Z\", \"created_time_dt\": \"2021-01-21T16:45:08.630846Z\", \"duration\": \"0:01:57\", \"iteration\": \"37\", \"goal\": \"accuracy_max\", \"run_name\": \"StackEnsemble\", \"run_properties\": \"base_learners=[('15',\\n                                        Pipeline(memory=None,\\n                                                 steps=[('robustscaler',\\n                                                         RobustScaler(copy=True,\\n                                                                      quantile_range=[25,\\n                                                                                      75],\\n                                                                      with_centering=True,\\n                                                                      with_scaling=False\", \"primary_metric\": 0.86287356, \"best_metric\": 0.87287356}], \"children_metrics\": {\"categories\": [0], \"series\": {\"precision_score_micro\": [{\"categories\": [\"0\", \"1\", \"2\", \"3\", \"4\", \"5\", \"6\", \"7\", \"8\", \"9\", \"10\", \"11\", \"12\", \"13\", \"14\", \"15\", \"16\", \"17\", \"18\", \"19\", \"20\", \"21\", \"22\", \"23\", \"24\", \"25\", \"26\", \"27\", \"28\", \"29\", \"30\", \"31\", \"32\", \"33\", \"34\", \"36\", \"37\"], \"mode\": \"markers\", \"name\": \"precision_score_micro\", \"stepped\": false, \"type\": \"scatter\", \"data\": [0.8359770114942527, 0.8126436781609195, 0.8393103448275863, 0.8324137931034482, 0.8291954022988506, 0.8562068965517241, 0.8057471264367816, 0.725977011494253, 0.8459770114942529, 0.8427586206896553, 0.7293103448275862, 0.8462068965517242, 0.8425287356321839, 0.8362068965517242, 0.8226436781609194, 0.8596551724137932, 0.8426436781609195, 0.8462068965517242, 0.8227586206896552, 0.7757471264367817, 0.8227586206896552, 0.8427586206896553, 0.835977011494253, 0.7826436781609194, 0.8360919540229885, 0.5885057471264367, 0.8090804597701149, 0.8493103448275863, 0.8526436781609196, 0.8394252873563218, 0.6791954022988507, 0.8393103448275863, 0.7891954022988507, 0.8528735632183908, 0.835977011494253, 0.8728735632183909, 0.8628735632183909]}, {\"categories\": [\"0\", \"1\", \"2\", \"3\", \"4\", \"5\", \"6\", \"7\", \"8\", \"9\", \"10\", \"11\", \"12\", \"13\", \"14\", \"15\", \"16\", \"17\", \"18\", \"19\", \"20\", \"21\", \"22\", \"23\", \"24\", \"25\", \"26\", \"27\", \"28\", \"29\", \"30\", \"31\", \"32\", \"33\", \"34\", \"36\", \"37\"], \"mode\": \"lines\", \"name\": \"precision_score_micro_max\", \"stepped\": true, \"type\": \"scatter\", \"data\": [0.8359770114942527, 0.8359770114942527, 0.8393103448275863, 0.8393103448275863, 0.8393103448275863, 0.8562068965517241, 0.8562068965517241, 0.8562068965517241, 0.8562068965517241, 0.8562068965517241, 0.8562068965517241, 0.8562068965517241, 0.8562068965517241, 0.8562068965517241, 0.8562068965517241, 0.8596551724137932, 0.8596551724137932, 0.8596551724137932, 0.8596551724137932, 0.8596551724137932, 0.8596551724137932, 0.8596551724137932, 0.8596551724137932, 0.8596551724137932, 0.8596551724137932, 0.8596551724137932, 0.8596551724137932, 0.8596551724137932, 0.8596551724137932, 0.8596551724137932, 0.8596551724137932, 0.8596551724137932, 0.8596551724137932, 0.8596551724137932, 0.8596551724137932, 0.8728735632183909, 0.8728735632183909]}], \"recall_score_micro\": [{\"categories\": [\"0\", \"1\", \"2\", \"3\", \"4\", \"5\", \"6\", \"7\", \"8\", \"9\", \"10\", \"11\", \"12\", \"13\", \"14\", \"15\", \"16\", \"17\", \"18\", \"19\", \"20\", \"21\", \"22\", \"23\", \"24\", \"25\", \"26\", \"27\", \"28\", \"29\", \"30\", \"31\", \"32\", \"33\", \"34\", \"36\", \"37\"], \"mode\": \"markers\", \"name\": \"recall_score_micro\", \"stepped\": false, \"type\": \"scatter\", \"data\": [0.8359770114942527, 0.8126436781609195, 0.8393103448275863, 0.8324137931034482, 0.8291954022988506, 0.8562068965517241, 0.8057471264367816, 0.725977011494253, 0.8459770114942529, 0.8427586206896553, 0.7293103448275862, 0.8462068965517242, 0.8425287356321839, 0.8362068965517242, 0.8226436781609194, 0.8596551724137932, 0.8426436781609195, 0.8462068965517242, 0.8227586206896552, 0.7757471264367817, 0.8227586206896552, 0.8427586206896553, 0.835977011494253, 0.7826436781609194, 0.8360919540229885, 0.5885057471264367, 0.8090804597701149, 0.8493103448275863, 0.8526436781609196, 0.8394252873563218, 0.6791954022988507, 0.8393103448275863, 0.7891954022988507, 0.8528735632183908, 0.835977011494253, 0.8728735632183909, 0.8628735632183909]}, {\"categories\": [\"0\", \"1\", \"2\", \"3\", \"4\", \"5\", \"6\", \"7\", \"8\", \"9\", \"10\", \"11\", \"12\", \"13\", \"14\", \"15\", \"16\", \"17\", \"18\", \"19\", \"20\", \"21\", \"22\", \"23\", \"24\", \"25\", \"26\", \"27\", \"28\", \"29\", \"30\", \"31\", \"32\", \"33\", \"34\", \"36\", \"37\"], \"mode\": \"lines\", \"name\": \"recall_score_micro_max\", \"stepped\": true, \"type\": \"scatter\", \"data\": [0.8359770114942527, 0.8359770114942527, 0.8393103448275863, 0.8393103448275863, 0.8393103448275863, 0.8562068965517241, 0.8562068965517241, 0.8562068965517241, 0.8562068965517241, 0.8562068965517241, 0.8562068965517241, 0.8562068965517241, 0.8562068965517241, 0.8562068965517241, 0.8562068965517241, 0.8596551724137932, 0.8596551724137932, 0.8596551724137932, 0.8596551724137932, 0.8596551724137932, 0.8596551724137932, 0.8596551724137932, 0.8596551724137932, 0.8596551724137932, 0.8596551724137932, 0.8596551724137932, 0.8596551724137932, 0.8596551724137932, 0.8596551724137932, 0.8596551724137932, 0.8596551724137932, 0.8596551724137932, 0.8596551724137932, 0.8596551724137932, 0.8596551724137932, 0.8728735632183909, 0.8728735632183909]}], \"average_precision_score_micro\": [{\"categories\": [\"0\", \"1\", \"2\", \"3\", \"4\", \"5\", \"6\", \"7\", \"8\", \"9\", \"10\", \"11\", \"12\", \"13\", \"14\", \"15\", \"16\", \"17\", \"18\", \"19\", \"20\", \"21\", \"22\", \"23\", \"24\", \"25\", \"26\", \"27\", \"28\", \"29\", \"30\", \"31\", \"32\", \"33\", \"34\", \"36\", \"37\"], \"mode\": \"markers\", \"name\": \"average_precision_score_micro\", \"stepped\": false, \"type\": \"scatter\", \"data\": [0.9040737509648717, 0.9087324507605287, 0.9234387721072455, 0.9058964098067399, 0.9116660856505876, 0.9098471987588237, 0.8583613192980263, 0.7812645305696482, 0.9220464813105759, 0.9164139988954135, 0.8583222587625319, 0.9185586286393935, 0.9050525940021863, 0.9002469818150904, 0.8974845578120805, 0.91133499040712, 0.9133162651570037, 0.9033457642239121, 0.8977546703646707, 0.8715786820343983, 0.9019995883396252, 0.9175742435161609, 0.898723882081892, 0.8772647310114271, 0.9165056107915597, 0.6039835768548097, 0.8949408680630098, 0.908431905609066, 0.9146605808119179, 0.8926630839935843, 0.8175311592189731, 0.907380079578538, 0.8838126837633847, 0.9187936132536677, 0.8980060054464841, 0.9238496463753805, 0.918012570147073]}, {\"categories\": [\"0\", \"1\", \"2\", \"3\", \"4\", \"5\", \"6\", \"7\", \"8\", \"9\", \"10\", \"11\", \"12\", \"13\", \"14\", \"15\", \"16\", \"17\", \"18\", \"19\", \"20\", \"21\", \"22\", \"23\", \"24\", \"25\", \"26\", \"27\", \"28\", \"29\", \"30\", \"31\", \"32\", \"33\", \"34\", \"36\", \"37\"], \"mode\": \"lines\", \"name\": \"average_precision_score_micro_max\", \"stepped\": true, \"type\": \"scatter\", \"data\": [0.9040737509648717, 0.9087324507605287, 0.9234387721072455, 0.9234387721072455, 0.9234387721072455, 0.9234387721072455, 0.9234387721072455, 0.9234387721072455, 0.9234387721072455, 0.9234387721072455, 0.9234387721072455, 0.9234387721072455, 0.9234387721072455, 0.9234387721072455, 0.9234387721072455, 0.9234387721072455, 0.9234387721072455, 0.9234387721072455, 0.9234387721072455, 0.9234387721072455, 0.9234387721072455, 0.9234387721072455, 0.9234387721072455, 0.9234387721072455, 0.9234387721072455, 0.9234387721072455, 0.9234387721072455, 0.9234387721072455, 0.9234387721072455, 0.9234387721072455, 0.9234387721072455, 0.9234387721072455, 0.9234387721072455, 0.9234387721072455, 0.9234387721072455, 0.9238496463753805, 0.9238496463753805]}], \"f1_score_weighted\": [{\"categories\": [\"0\", \"1\", \"2\", \"3\", \"4\", \"5\", \"6\", \"7\", \"8\", \"9\", \"10\", \"11\", \"12\", \"13\", \"14\", \"15\", \"16\", \"17\", \"18\", \"19\", \"20\", \"21\", \"22\", \"23\", \"24\", \"25\", \"26\", \"27\", \"28\", \"29\", \"30\", \"31\", \"32\", \"33\", \"34\", \"36\", \"37\"], \"mode\": \"markers\", \"name\": \"f1_score_weighted\", \"stepped\": false, \"type\": \"scatter\", \"data\": [0.8333388901455894, 0.811006196596899, 0.8339499226254533, 0.827530893415032, 0.8291811331431307, 0.8561166222201262, 0.8092265096507395, 0.695024221532727, 0.8429384327701221, 0.8380768109375089, 0.6773623066740011, 0.840121342081612, 0.839100962576169, 0.8307084815119958, 0.8099817042890736, 0.8518902743005731, 0.8394972358396651, 0.8357297699480739, 0.8153453334382869, 0.7550407397324856, 0.8062072182660198, 0.838619017319383, 0.8348930451716665, 0.7525698888970915, 0.83118372211643, 0.59875179940476, 0.8128476273305336, 0.8471498430965376, 0.8480136393037945, 0.8302535621114082, 0.5534120288954022, 0.832414726095011, 0.7590790585857754, 0.8473090855094908, 0.8297522222606195, 0.8673430085761922, 0.8569843382147859]}, {\"categories\": [\"0\", \"1\", \"2\", \"3\", \"4\", \"5\", \"6\", \"7\", \"8\", \"9\", \"10\", \"11\", \"12\", \"13\", \"14\", \"15\", \"16\", \"17\", \"18\", \"19\", \"20\", \"21\", \"22\", \"23\", \"24\", \"25\", \"26\", \"27\", \"28\", \"29\", \"30\", \"31\", \"32\", \"33\", \"34\", \"36\", \"37\"], \"mode\": \"lines\", \"name\": \"f1_score_weighted_max\", \"stepped\": true, \"type\": \"scatter\", \"data\": [0.8333388901455894, 0.8333388901455894, 0.8339499226254533, 0.8339499226254533, 0.8339499226254533, 0.8561166222201262, 0.8561166222201262, 0.8561166222201262, 0.8561166222201262, 0.8561166222201262, 0.8561166222201262, 0.8561166222201262, 0.8561166222201262, 0.8561166222201262, 0.8561166222201262, 0.8561166222201262, 0.8561166222201262, 0.8561166222201262, 0.8561166222201262, 0.8561166222201262, 0.8561166222201262, 0.8561166222201262, 0.8561166222201262, 0.8561166222201262, 0.8561166222201262, 0.8561166222201262, 0.8561166222201262, 0.8561166222201262, 0.8561166222201262, 0.8561166222201262, 0.8561166222201262, 0.8561166222201262, 0.8561166222201262, 0.8561166222201262, 0.8561166222201262, 0.8673430085761922, 0.8673430085761922]}], \"recall_score_weighted\": [{\"categories\": [\"0\", \"1\", \"2\", \"3\", \"4\", \"5\", \"6\", \"7\", \"8\", \"9\", \"10\", \"11\", \"12\", \"13\", \"14\", \"15\", \"16\", \"17\", \"18\", \"19\", \"20\", \"21\", \"22\", \"23\", \"24\", \"25\", \"26\", \"27\", \"28\", \"29\", \"30\", \"31\", \"32\", \"33\", \"34\", \"36\", \"37\"], \"mode\": \"markers\", \"name\": \"recall_score_weighted\", \"stepped\": false, \"type\": \"scatter\", \"data\": [0.8359770114942527, 0.8126436781609195, 0.8393103448275863, 0.8324137931034482, 0.8291954022988506, 0.8562068965517241, 0.8057471264367816, 0.725977011494253, 0.8459770114942529, 0.8427586206896553, 0.7293103448275862, 0.8462068965517242, 0.8425287356321839, 0.8362068965517242, 0.8226436781609194, 0.8596551724137932, 0.8426436781609195, 0.8462068965517242, 0.8227586206896552, 0.7757471264367817, 0.8227586206896552, 0.8427586206896553, 0.835977011494253, 0.7826436781609194, 0.8360919540229885, 0.5885057471264367, 0.8090804597701149, 0.8493103448275863, 0.8526436781609196, 0.8394252873563218, 0.6791954022988507, 0.8393103448275863, 0.7891954022988507, 0.8528735632183908, 0.835977011494253, 0.8728735632183909, 0.8628735632183909]}, {\"categories\": [\"0\", \"1\", \"2\", \"3\", \"4\", \"5\", \"6\", \"7\", \"8\", \"9\", \"10\", \"11\", \"12\", \"13\", \"14\", \"15\", \"16\", \"17\", \"18\", \"19\", \"20\", \"21\", \"22\", \"23\", \"24\", \"25\", \"26\", \"27\", \"28\", \"29\", \"30\", \"31\", \"32\", \"33\", \"34\", \"36\", \"37\"], \"mode\": \"lines\", \"name\": \"recall_score_weighted_max\", \"stepped\": true, \"type\": \"scatter\", \"data\": [0.8359770114942527, 0.8359770114942527, 0.8393103448275863, 0.8393103448275863, 0.8393103448275863, 0.8562068965517241, 0.8562068965517241, 0.8562068965517241, 0.8562068965517241, 0.8562068965517241, 0.8562068965517241, 0.8562068965517241, 0.8562068965517241, 0.8562068965517241, 0.8562068965517241, 0.8596551724137932, 0.8596551724137932, 0.8596551724137932, 0.8596551724137932, 0.8596551724137932, 0.8596551724137932, 0.8596551724137932, 0.8596551724137932, 0.8596551724137932, 0.8596551724137932, 0.8596551724137932, 0.8596551724137932, 0.8596551724137932, 0.8596551724137932, 0.8596551724137932, 0.8596551724137932, 0.8596551724137932, 0.8596551724137932, 0.8596551724137932, 0.8596551724137932, 0.8728735632183909, 0.8728735632183909]}], \"f1_score_macro\": [{\"categories\": [\"0\", \"1\", \"2\", \"3\", \"4\", \"5\", \"6\", \"7\", \"8\", \"9\", \"10\", \"11\", \"12\", \"13\", \"14\", \"15\", \"16\", \"17\", \"18\", \"19\", \"20\", \"21\", \"22\", \"23\", \"24\", \"25\", \"26\", \"27\", \"28\", \"29\", \"30\", \"31\", \"32\", \"33\", \"34\", \"36\", \"37\"], \"mode\": \"markers\", \"name\": \"f1_score_macro\", \"stepped\": false, \"type\": \"scatter\", \"data\": [0.8043314151248963, 0.7787612554397809, 0.8020875983438913, 0.7928867654986581, 0.7989735102035017, 0.8269980219243538, 0.7805079888024566, 0.6340585530302032, 0.8144491173999248, 0.8041532400216284, 0.5916996596096753, 0.8118578318851025, 0.8112229467361978, 0.8010539566477552, 0.7728404384842704, 0.8265917699770478, 0.8107166350775374, 0.8065827411153486, 0.7810221723356735, 0.6942620036771706, 0.766430370505461, 0.8096298584896037, 0.8053197054694536, 0.7008953213728252, 0.7989235056748917, 0.5493920632006304, 0.7845375171203102, 0.8195988822761662, 0.82351699258334, 0.7989687131451687, 0.4024893878511494, 0.8012883076904815, 0.6999018985513221, 0.8183604861761811, 0.7981907397899779, 0.84618819916759, 0.8344687296266431]}, {\"categories\": [\"0\", \"1\", \"2\", \"3\", \"4\", \"5\", \"6\", \"7\", \"8\", \"9\", \"10\", \"11\", \"12\", \"13\", \"14\", \"15\", \"16\", \"17\", \"18\", \"19\", \"20\", \"21\", \"22\", \"23\", \"24\", \"25\", \"26\", \"27\", \"28\", \"29\", \"30\", \"31\", \"32\", \"33\", \"34\", \"36\", \"37\"], \"mode\": \"lines\", \"name\": \"f1_score_macro_max\", \"stepped\": true, \"type\": \"scatter\", \"data\": [0.8043314151248963, 0.8043314151248963, 0.8043314151248963, 0.8043314151248963, 0.8043314151248963, 0.8269980219243538, 0.8269980219243538, 0.8269980219243538, 0.8269980219243538, 0.8269980219243538, 0.8269980219243538, 0.8269980219243538, 0.8269980219243538, 0.8269980219243538, 0.8269980219243538, 0.8269980219243538, 0.8269980219243538, 0.8269980219243538, 0.8269980219243538, 0.8269980219243538, 0.8269980219243538, 0.8269980219243538, 0.8269980219243538, 0.8269980219243538, 0.8269980219243538, 0.8269980219243538, 0.8269980219243538, 0.8269980219243538, 0.8269980219243538, 0.8269980219243538, 0.8269980219243538, 0.8269980219243538, 0.8269980219243538, 0.8269980219243538, 0.8269980219243538, 0.84618819916759, 0.84618819916759]}], \"f1_score_micro\": [{\"categories\": [\"0\", \"1\", \"2\", \"3\", \"4\", \"5\", \"6\", \"7\", \"8\", \"9\", \"10\", \"11\", \"12\", \"13\", \"14\", \"15\", \"16\", \"17\", \"18\", \"19\", \"20\", \"21\", \"22\", \"23\", \"24\", \"25\", \"26\", \"27\", \"28\", \"29\", \"30\", \"31\", \"32\", \"33\", \"34\", \"36\", \"37\"], \"mode\": \"markers\", \"name\": \"f1_score_micro\", \"stepped\": false, \"type\": \"scatter\", \"data\": [0.8359770114942527, 0.8126436781609195, 0.8393103448275863, 0.8324137931034482, 0.8291954022988508, 0.8562068965517241, 0.8057471264367816, 0.725977011494253, 0.8459770114942529, 0.8427586206896553, 0.7293103448275862, 0.8462068965517242, 0.8425287356321839, 0.8362068965517242, 0.8226436781609194, 0.8596551724137932, 0.8426436781609195, 0.8462068965517242, 0.8227586206896552, 0.7757471264367817, 0.8227586206896552, 0.8427586206896553, 0.835977011494253, 0.7826436781609194, 0.8360919540229885, 0.5885057471264367, 0.8090804597701149, 0.8493103448275863, 0.8526436781609196, 0.8394252873563218, 0.6791954022988507, 0.8393103448275863, 0.7891954022988507, 0.8528735632183908, 0.835977011494253, 0.8728735632183909, 0.8628735632183909]}, {\"categories\": [\"0\", \"1\", \"2\", \"3\", \"4\", \"5\", \"6\", \"7\", \"8\", \"9\", \"10\", \"11\", \"12\", \"13\", \"14\", \"15\", \"16\", \"17\", \"18\", \"19\", \"20\", \"21\", \"22\", \"23\", \"24\", \"25\", \"26\", \"27\", \"28\", \"29\", \"30\", \"31\", \"32\", \"33\", \"34\", \"36\", \"37\"], \"mode\": \"lines\", \"name\": \"f1_score_micro_max\", \"stepped\": true, \"type\": \"scatter\", \"data\": [0.8359770114942527, 0.8359770114942527, 0.8393103448275863, 0.8393103448275863, 0.8393103448275863, 0.8562068965517241, 0.8562068965517241, 0.8562068965517241, 0.8562068965517241, 0.8562068965517241, 0.8562068965517241, 0.8562068965517241, 0.8562068965517241, 0.8562068965517241, 0.8562068965517241, 0.8596551724137932, 0.8596551724137932, 0.8596551724137932, 0.8596551724137932, 0.8596551724137932, 0.8596551724137932, 0.8596551724137932, 0.8596551724137932, 0.8596551724137932, 0.8596551724137932, 0.8596551724137932, 0.8596551724137932, 0.8596551724137932, 0.8596551724137932, 0.8596551724137932, 0.8596551724137932, 0.8596551724137932, 0.8596551724137932, 0.8596551724137932, 0.8596551724137932, 0.8728735632183909, 0.8728735632183909]}], \"AUC_micro\": [{\"categories\": [\"0\", \"1\", \"2\", \"3\", \"4\", \"5\", \"6\", \"7\", \"8\", \"9\", \"10\", \"11\", \"12\", \"13\", \"14\", \"15\", \"16\", \"17\", \"18\", \"19\", \"20\", \"21\", \"22\", \"23\", \"24\", \"25\", \"26\", \"27\", \"28\", \"29\", \"30\", \"31\", \"32\", \"33\", \"34\", \"36\", \"37\"], \"mode\": \"markers\", \"name\": \"AUC_micro\", \"stepped\": false, \"type\": \"scatter\", \"data\": [0.9055422116527941, 0.9055090500726649, 0.9175869996036464, 0.9006085348130533, 0.908871713568503, 0.910169771436121, 0.856632051790197, 0.7890481569560048, 0.9180002642356981, 0.9127546571541816, 0.8463959571938169, 0.9181873431100543, 0.901881358171489, 0.897694147179284, 0.8919398863786497, 0.9092594794556744, 0.9145422116527943, 0.8989203329369797, 0.8956629673668912, 0.864544193420531, 0.8967390672479851, 0.9158189985467036, 0.8983307570352755, 0.8718775267538644, 0.911861804729819, 0.5947903289734443, 0.8927508257365571, 0.909994451050337, 0.9110178359096313, 0.8900080591887963, 0.8079848064473512, 0.9027644338750165, 0.874470075307174, 0.9187292905271504, 0.9078579733121945, 0.9212049147839874, 0.916664949134628]}, {\"categories\": [\"0\", \"1\", \"2\", \"3\", \"4\", \"5\", \"6\", \"7\", \"8\", \"9\", \"10\", \"11\", \"12\", \"13\", \"14\", \"15\", \"16\", \"17\", \"18\", \"19\", \"20\", \"21\", \"22\", \"23\", \"24\", \"25\", \"26\", \"27\", \"28\", \"29\", \"30\", \"31\", \"32\", \"33\", \"34\", \"36\", \"37\"], \"mode\": \"lines\", \"name\": \"AUC_micro_max\", \"stepped\": true, \"type\": \"scatter\", \"data\": [0.9055422116527941, 0.9055422116527941, 0.9175869996036464, 0.9175869996036464, 0.9175869996036464, 0.9175869996036464, 0.9175869996036464, 0.9175869996036464, 0.9180002642356981, 0.9180002642356981, 0.9180002642356981, 0.9181873431100543, 0.9181873431100543, 0.9181873431100543, 0.9181873431100543, 0.9181873431100543, 0.9181873431100543, 0.9181873431100543, 0.9181873431100543, 0.9181873431100543, 0.9181873431100543, 0.9181873431100543, 0.9181873431100543, 0.9181873431100543, 0.9181873431100543, 0.9181873431100543, 0.9181873431100543, 0.9181873431100543, 0.9181873431100543, 0.9181873431100543, 0.9181873431100543, 0.9181873431100543, 0.9181873431100543, 0.9187292905271504, 0.9187292905271504, 0.9212049147839874, 0.9212049147839874]}], \"log_loss\": [{\"categories\": [\"0\", \"1\", \"2\", \"3\", \"4\", \"5\", \"6\", \"7\", \"8\", \"9\", \"10\", \"11\", \"12\", \"13\", \"14\", \"15\", \"16\", \"17\", \"18\", \"19\", \"20\", \"21\", \"22\", \"23\", \"24\", \"25\", \"26\", \"27\", \"28\", \"29\", \"30\", \"31\", \"32\", \"33\", \"34\", \"36\", \"37\"], \"mode\": \"markers\", \"name\": \"log_loss\", \"stepped\": false, \"type\": \"scatter\", \"data\": [0.4816663093076265, 0.503507867439638, 0.3644738786909481, 0.400336469586324, 0.37658893771144003, 0.40774264359234474, 0.6442571387397731, 0.5754556857056924, 0.3598879057750947, 0.397276474856575, 0.4962761998885588, 0.36764669014270007, 0.422860129164684, 0.4137860218881915, 0.4585377979166386, 0.4037057189724731, 0.3638803156064899, 0.4233252259527993, 0.41703866158882585, 0.47473335308255393, 0.4334760379196353, 0.3640168499610379, 0.5079448340567204, 0.47923538738946936, 0.38920012354737776, 0.6922767579798321, 0.414678896550061, 0.37999226995376034, 0.39214452127100424, 0.43022609783841936, 0.6038535654154984, 0.41844194244004, 0.46407183298602533, 0.36248851323346143, 0.6885637997539007, 0.36509076825671194, 0.3697662548646772]}, {\"categories\": [\"0\", \"1\", \"2\", \"3\", \"4\", \"5\", \"6\", \"7\", \"8\", \"9\", \"10\", \"11\", \"12\", \"13\", \"14\", \"15\", \"16\", \"17\", \"18\", \"19\", \"20\", \"21\", \"22\", \"23\", \"24\", \"25\", \"26\", \"27\", \"28\", \"29\", \"30\", \"31\", \"32\", \"33\", \"34\", \"36\", \"37\"], \"mode\": \"lines\", \"name\": \"log_loss_min\", \"stepped\": true, \"type\": \"scatter\", \"data\": [0.4816663093076265, 0.4816663093076265, 0.3644738786909481, 0.3644738786909481, 0.3644738786909481, 0.3644738786909481, 0.3644738786909481, 0.3644738786909481, 0.3598879057750947, 0.3598879057750947, 0.3598879057750947, 0.3598879057750947, 0.3598879057750947, 0.3598879057750947, 0.3598879057750947, 0.3598879057750947, 0.3598879057750947, 0.3598879057750947, 0.3598879057750947, 0.3598879057750947, 0.3598879057750947, 0.3598879057750947, 0.3598879057750947, 0.3598879057750947, 0.3598879057750947, 0.3598879057750947, 0.3598879057750947, 0.3598879057750947, 0.3598879057750947, 0.3598879057750947, 0.3598879057750947, 0.3598879057750947, 0.3598879057750947, 0.3598879057750947, 0.3598879057750947, 0.3598879057750947, 0.3598879057750947]}], \"norm_macro_recall\": [{\"categories\": [\"0\", \"1\", \"2\", \"3\", \"4\", \"5\", \"6\", \"7\", \"8\", \"9\", \"10\", \"11\", \"12\", \"13\", \"14\", \"15\", \"16\", \"17\", \"18\", \"19\", \"20\", \"21\", \"22\", \"23\", \"24\", \"25\", \"26\", \"27\", \"28\", \"29\", \"30\", \"31\", \"32\", \"33\", \"34\", \"36\", \"37\"], \"mode\": \"markers\", \"name\": \"norm_macro_recall\", \"stepped\": false, \"type\": \"scatter\", \"data\": [0.6154165791620023, 0.5824737048484188, 0.5941992365630808, 0.5784484960754984, 0.6164520598267738, 0.6769000300487715, 0.6021611447921517, 0.3179399899617291, 0.6363174809553527, 0.6038738834900162, 0.22659254361199438, 0.6204805401184119, 0.6234567305946024, 0.5983334811006437, 0.5295872578349694, 0.6202432918594245, 0.628083245828669, 0.5813904780066108, 0.5486190682569402, 0.37979216403987565, 0.512495203753785, 0.6200844989615012, 0.6257195467258396, 0.39804793604564764, 0.5908583084853107, 0.14566961293219874, 0.6120884251141689, 0.642486312124184, 0.6471176252554971, 0.5662247227092764, 0.0, 0.5916896481982293, 0.3834734316027221, 0.6262164708543427, 0.5844289074134611, 0.6835000833770858, 0.6676615740603156]}, {\"categories\": [\"0\", \"1\", \"2\", \"3\", \"4\", \"5\", \"6\", \"7\", \"8\", \"9\", \"10\", \"11\", \"12\", \"13\", \"14\", \"15\", \"16\", \"17\", \"18\", \"19\", \"20\", \"21\", \"22\", \"23\", \"24\", \"25\", \"26\", \"27\", \"28\", \"29\", \"30\", \"31\", \"32\", \"33\", \"34\", \"36\", \"37\"], \"mode\": \"lines\", \"name\": \"norm_macro_recall_max\", \"stepped\": true, \"type\": \"scatter\", \"data\": [0.6154165791620023, 0.6154165791620023, 0.6154165791620023, 0.6154165791620023, 0.6164520598267738, 0.6769000300487715, 0.6769000300487715, 0.6769000300487715, 0.6769000300487715, 0.6769000300487715, 0.6769000300487715, 0.6769000300487715, 0.6769000300487715, 0.6769000300487715, 0.6769000300487715, 0.6769000300487715, 0.6769000300487715, 0.6769000300487715, 0.6769000300487715, 0.6769000300487715, 0.6769000300487715, 0.6769000300487715, 0.6769000300487715, 0.6769000300487715, 0.6769000300487715, 0.6769000300487715, 0.6769000300487715, 0.6769000300487715, 0.6769000300487715, 0.6769000300487715, 0.6769000300487715, 0.6769000300487715, 0.6769000300487715, 0.6769000300487715, 0.6769000300487715, 0.6835000833770858, 0.6835000833770858]}], \"precision_score_weighted\": [{\"categories\": [\"0\", \"1\", \"2\", \"3\", \"4\", \"5\", \"6\", \"7\", \"8\", \"9\", \"10\", \"11\", \"12\", \"13\", \"14\", \"15\", \"16\", \"17\", \"18\", \"19\", \"20\", \"21\", \"22\", \"23\", \"24\", \"25\", \"26\", \"27\", \"28\", \"29\", \"30\", \"31\", \"32\", \"33\", \"34\", \"36\", \"37\"], \"mode\": \"markers\", \"name\": \"precision_score_weighted\", \"stepped\": false, \"type\": \"scatter\", \"data\": [0.8443308716969533, 0.8310647949075513, 0.8506348423532595, 0.8495111580249274, 0.8442457490590926, 0.8705501232138364, 0.8336514451755457, 0.7421519530527776, 0.8613901668574083, 0.8514835506128611, 0.7527228784874962, 0.8617946961565165, 0.8568860985604259, 0.8536297312133143, 0.8349369327241142, 0.8748722586767327, 0.8551145828600852, 0.8630614654211355, 0.8360209505636792, 0.7915787865391313, 0.8472936254548198, 0.8525309731497887, 0.8477185939858354, 0.8103462032516505, 0.8433075174589417, 0.6453430878058158, 0.833550329450431, 0.8585545728218144, 0.866401288103312, 0.8524973372288216, 0.47055053507728895, 0.8512215457548056, 0.8200315388102745, 0.8659547408114123, 0.8464153179163437, 0.8870201000898152, 0.8806112287679003]}, {\"categories\": [\"0\", \"1\", \"2\", \"3\", \"4\", \"5\", \"6\", \"7\", \"8\", \"9\", \"10\", \"11\", \"12\", \"13\", \"14\", \"15\", \"16\", \"17\", \"18\", \"19\", \"20\", \"21\", \"22\", \"23\", \"24\", \"25\", \"26\", \"27\", \"28\", \"29\", \"30\", \"31\", \"32\", \"33\", \"34\", \"36\", \"37\"], \"mode\": \"lines\", \"name\": \"precision_score_weighted_max\", \"stepped\": true, \"type\": \"scatter\", \"data\": [0.8443308716969533, 0.8443308716969533, 0.8506348423532595, 0.8506348423532595, 0.8506348423532595, 0.8705501232138364, 0.8705501232138364, 0.8705501232138364, 0.8705501232138364, 0.8705501232138364, 0.8705501232138364, 0.8705501232138364, 0.8705501232138364, 0.8705501232138364, 0.8705501232138364, 0.8748722586767327, 0.8748722586767327, 0.8748722586767327, 0.8748722586767327, 0.8748722586767327, 0.8748722586767327, 0.8748722586767327, 0.8748722586767327, 0.8748722586767327, 0.8748722586767327, 0.8748722586767327, 0.8748722586767327, 0.8748722586767327, 0.8748722586767327, 0.8748722586767327, 0.8748722586767327, 0.8748722586767327, 0.8748722586767327, 0.8748722586767327, 0.8748722586767327, 0.8870201000898152, 0.8870201000898152]}], \"matthews_correlation\": [{\"categories\": [\"0\", \"1\", \"2\", \"3\", \"4\", \"5\", \"6\", \"7\", \"8\", \"9\", \"10\", \"11\", \"12\", \"13\", \"14\", \"15\", \"16\", \"17\", \"18\", \"19\", \"20\", \"21\", \"22\", \"23\", \"24\", \"25\", \"26\", \"27\", \"28\", \"29\", \"30\", \"31\", \"32\", \"33\", \"34\", \"36\", \"37\"], \"mode\": \"markers\", \"name\": \"matthews_correlation\", \"stepped\": false, \"type\": \"scatter\", \"data\": [0.6231314496952846, 0.5798728950037678, 0.626464934346435, 0.6130394426017279, 0.6137446680246619, 0.6697256949501875, 0.5841636571400156, 0.3389548374737052, 0.6512310484516146, 0.6278916859387198, 0.3063891504886612, 0.6524359746311891, 0.6440742825411371, 0.6332737623970253, 0.5839565871463948, 0.6859321328984522, 0.640197748895245, 0.6537507247094554, 0.5908184363890443, 0.4519046300757797, 0.5928308818399356, 0.63704716852206, 0.624824740331867, 0.4902770585333589, 0.6154745799444787, 0.13932453238261672, 0.588659240288811, 0.6529153536097929, 0.6703131363418222, 0.6313966716494995, 0.0, 0.6282666583697689, 0.4968537430288317, 0.6617144390382697, 0.6193058332729078, 0.7183251679637097, 0.6995312513322931]}, {\"categories\": [\"0\", \"1\", \"2\", \"3\", \"4\", \"5\", \"6\", \"7\", \"8\", \"9\", \"10\", \"11\", \"12\", \"13\", \"14\", \"15\", \"16\", \"17\", \"18\", \"19\", \"20\", \"21\", \"22\", \"23\", \"24\", \"25\", \"26\", \"27\", \"28\", \"29\", \"30\", \"31\", \"32\", \"33\", \"34\", \"36\", \"37\"], \"mode\": \"lines\", \"name\": \"matthews_correlation_max\", \"stepped\": true, \"type\": \"scatter\", \"data\": [0.6231314496952846, 0.6231314496952846, 0.626464934346435, 0.626464934346435, 0.626464934346435, 0.6697256949501875, 0.6697256949501875, 0.6697256949501875, 0.6697256949501875, 0.6697256949501875, 0.6697256949501875, 0.6697256949501875, 0.6697256949501875, 0.6697256949501875, 0.6697256949501875, 0.6859321328984522, 0.6859321328984522, 0.6859321328984522, 0.6859321328984522, 0.6859321328984522, 0.6859321328984522, 0.6859321328984522, 0.6859321328984522, 0.6859321328984522, 0.6859321328984522, 0.6859321328984522, 0.6859321328984522, 0.6859321328984522, 0.6859321328984522, 0.6859321328984522, 0.6859321328984522, 0.6859321328984522, 0.6859321328984522, 0.6859321328984522, 0.6859321328984522, 0.7183251679637097, 0.7183251679637097]}], \"recall_score_macro\": [{\"categories\": [\"0\", \"1\", \"2\", \"3\", \"4\", \"5\", \"6\", \"7\", \"8\", \"9\", \"10\", \"11\", \"12\", \"13\", \"14\", \"15\", \"16\", \"17\", \"18\", \"19\", \"20\", \"21\", \"22\", \"23\", \"24\", \"25\", \"26\", \"27\", \"28\", \"29\", \"30\", \"31\", \"32\", \"33\", \"34\", \"36\", \"37\"], \"mode\": \"markers\", \"name\": \"recall_score_macro\", \"stepped\": false, \"type\": \"scatter\", \"data\": [0.8077082895810014, 0.7912368524242094, 0.7970996182815404, 0.7892242480377492, 0.808226029913387, 0.8384500150243858, 0.8010805723960758, 0.6503575547894769, 0.8181587404776763, 0.8019369417450081, 0.6132962718059971, 0.8102402700592058, 0.8117283652973011, 0.7991667405503218, 0.7647936289174846, 0.8101216459297123, 0.8140416229143346, 0.7906952390033053, 0.77430953412847, 0.6898960820199378, 0.7562476018768926, 0.8100422494807507, 0.8128597733629197, 0.6990239680228238, 0.7954291542426553, 0.5728348064660993, 0.8060442125570842, 0.8212431560620921, 0.8235588126277487, 0.7831123613546382, 0.5, 0.7958448240991147, 0.6917367158013612, 0.8131082354271714, 0.7922144537067306, 0.8417500416885428, 0.8338307870301577]}, {\"categories\": [\"0\", \"1\", \"2\", \"3\", \"4\", \"5\", \"6\", \"7\", \"8\", \"9\", \"10\", \"11\", \"12\", \"13\", \"14\", \"15\", \"16\", \"17\", \"18\", \"19\", \"20\", \"21\", \"22\", \"23\", \"24\", \"25\", \"26\", \"27\", \"28\", \"29\", \"30\", \"31\", \"32\", \"33\", \"34\", \"36\", \"37\"], \"mode\": \"lines\", \"name\": \"recall_score_macro_max\", \"stepped\": true, \"type\": \"scatter\", \"data\": [0.8077082895810014, 0.8077082895810014, 0.8077082895810014, 0.8077082895810014, 0.808226029913387, 0.8384500150243858, 0.8384500150243858, 0.8384500150243858, 0.8384500150243858, 0.8384500150243858, 0.8384500150243858, 0.8384500150243858, 0.8384500150243858, 0.8384500150243858, 0.8384500150243858, 0.8384500150243858, 0.8384500150243858, 0.8384500150243858, 0.8384500150243858, 0.8384500150243858, 0.8384500150243858, 0.8384500150243858, 0.8384500150243858, 0.8384500150243858, 0.8384500150243858, 0.8384500150243858, 0.8384500150243858, 0.8384500150243858, 0.8384500150243858, 0.8384500150243858, 0.8384500150243858, 0.8384500150243858, 0.8384500150243858, 0.8384500150243858, 0.8384500150243858, 0.8417500416885428, 0.8417500416885428]}], \"average_precision_score_weighted\": [{\"categories\": [\"0\", \"1\", \"2\", \"3\", \"4\", \"5\", \"6\", \"7\", \"8\", \"9\", \"10\", \"11\", \"12\", \"13\", \"14\", \"15\", \"16\", \"17\", \"18\", \"19\", \"20\", \"21\", \"22\", \"23\", \"24\", \"25\", \"26\", \"27\", \"28\", \"29\", \"30\", \"31\", \"32\", \"33\", \"34\", \"36\", \"37\"], \"mode\": \"markers\", \"name\": \"average_precision_score_weighted\", \"stepped\": false, \"type\": \"scatter\", \"data\": [0.9079110344385022, 0.9176526709400085, 0.9269782316524378, 0.911216856250053, 0.9100621350461205, 0.9123508923593164, 0.8756588748605589, 0.7902984708289256, 0.9252399328824298, 0.9195571965124689, 0.873730176397394, 0.9239135589763633, 0.9125936088062916, 0.9025316758250457, 0.916358520578126, 0.9175022055483648, 0.9153123637967371, 0.9110112232984114, 0.9002861551881896, 0.8773409037627611, 0.9194379770380451, 0.9180076093696394, 0.9015316078446146, 0.9045658557584373, 0.9237752674543749, 0.6681952845791321, 0.9073754450721647, 0.9097729644556771, 0.9196055720637786, 0.9066455585765534, 0.8471388317637374, 0.9128433838735328, 0.9030892362753052, 0.9237872408898748, 0.8935672236397979, 0.9257188499464517, 0.9226382228700526]}, {\"categories\": [\"0\", \"1\", \"2\", \"3\", \"4\", \"5\", \"6\", \"7\", \"8\", \"9\", \"10\", \"11\", \"12\", \"13\", \"14\", \"15\", \"16\", \"17\", \"18\", \"19\", \"20\", \"21\", \"22\", \"23\", \"24\", \"25\", \"26\", \"27\", \"28\", \"29\", \"30\", \"31\", \"32\", \"33\", \"34\", \"36\", \"37\"], \"mode\": \"lines\", \"name\": \"average_precision_score_weighted_max\", \"stepped\": true, \"type\": \"scatter\", \"data\": [0.9079110344385022, 0.9176526709400085, 0.9269782316524378, 0.9269782316524378, 0.9269782316524378, 0.9269782316524378, 0.9269782316524378, 0.9269782316524378, 0.9269782316524378, 0.9269782316524378, 0.9269782316524378, 0.9269782316524378, 0.9269782316524378, 0.9269782316524378, 0.9269782316524378, 0.9269782316524378, 0.9269782316524378, 0.9269782316524378, 0.9269782316524378, 0.9269782316524378, 0.9269782316524378, 0.9269782316524378, 0.9269782316524378, 0.9269782316524378, 0.9269782316524378, 0.9269782316524378, 0.9269782316524378, 0.9269782316524378, 0.9269782316524378, 0.9269782316524378, 0.9269782316524378, 0.9269782316524378, 0.9269782316524378, 0.9269782316524378, 0.9269782316524378, 0.9269782316524378, 0.9269782316524378]}], \"precision_score_macro\": [{\"categories\": [\"0\", \"1\", \"2\", \"3\", \"4\", \"5\", \"6\", \"7\", \"8\", \"9\", \"10\", \"11\", \"12\", \"13\", \"14\", \"15\", \"16\", \"17\", \"18\", \"19\", \"20\", \"21\", \"22\", \"23\", \"24\", \"25\", \"26\", \"27\", \"28\", \"29\", \"30\", \"31\", \"32\", \"33\", \"34\", \"36\", \"37\"], \"mode\": \"markers\", \"name\": \"precision_score_macro\", \"stepped\": false, \"type\": \"scatter\", \"data\": [0.8167365852764965, 0.7906465934269138, 0.8315265287725243, 0.8267285701839476, 0.8068260242173286, 0.8326613606551687, 0.7841947367218265, 0.7040382295116178, 0.8356502525252525, 0.8285295815295814, 0.7175694249944625, 0.8458546976796404, 0.8344450611046721, 0.8398550166462065, 0.8236542443064183, 0.8811782485249304, 0.8277273387685288, 0.8706739528587354, 0.819717613368071, 0.7798344672568811, 0.847921469432339, 0.828273464458247, 0.8130487202855624, 0.8085946629859674, 0.8216643863382995, 0.5668751101839338, 0.7840564582476347, 0.8325854218880535, 0.8490709471687733, 0.853394210861602, 0.33959770114942534, 0.8347272430087076, 0.8284245846745847, 0.8518154369784805, 0.8292503343338582, 0.8797016329081547, 0.8694251883382318]}, {\"categories\": [\"0\", \"1\", \"2\", \"3\", \"4\", \"5\", \"6\", \"7\", \"8\", \"9\", \"10\", \"11\", \"12\", \"13\", \"14\", \"15\", \"16\", \"17\", \"18\", \"19\", \"20\", \"21\", \"22\", \"23\", \"24\", \"25\", \"26\", \"27\", \"28\", \"29\", \"30\", \"31\", \"32\", \"33\", \"34\", \"36\", \"37\"], \"mode\": \"lines\", \"name\": \"precision_score_macro_max\", \"stepped\": true, \"type\": \"scatter\", \"data\": [0.8167365852764965, 0.8167365852764965, 0.8315265287725243, 0.8315265287725243, 0.8315265287725243, 0.8326613606551687, 0.8326613606551687, 0.8326613606551687, 0.8356502525252525, 0.8356502525252525, 0.8356502525252525, 0.8458546976796404, 0.8458546976796404, 0.8458546976796404, 0.8458546976796404, 0.8811782485249304, 0.8811782485249304, 0.8811782485249304, 0.8811782485249304, 0.8811782485249304, 0.8811782485249304, 0.8811782485249304, 0.8811782485249304, 0.8811782485249304, 0.8811782485249304, 0.8811782485249304, 0.8811782485249304, 0.8811782485249304, 0.8811782485249304, 0.8811782485249304, 0.8811782485249304, 0.8811782485249304, 0.8811782485249304, 0.8811782485249304, 0.8811782485249304, 0.8811782485249304, 0.8811782485249304]}], \"AUC_macro\": [{\"categories\": [\"0\", \"1\", \"2\", \"3\", \"4\", \"5\", \"6\", \"7\", \"8\", \"9\", \"10\", \"11\", \"12\", \"13\", \"14\", \"15\", \"16\", \"17\", \"18\", \"19\", \"20\", \"21\", \"22\", \"23\", \"24\", \"25\", \"26\", \"27\", \"28\", \"29\", \"30\", \"31\", \"32\", \"33\", \"34\", \"36\", \"37\"], \"mode\": \"markers\", \"name\": \"AUC_macro\", \"stepped\": false, \"type\": \"scatter\", \"data\": [0.886378309960232, 0.8991812818442682, 0.9076708726691564, 0.890215504120424, 0.8937800831954721, 0.8936474797831206, 0.8471015961070881, 0.7472287308356531, 0.9081743008157197, 0.9015857319792675, 0.8550734303369314, 0.9078211555183524, 0.8970018481370312, 0.8858218259746863, 0.9041695342055182, 0.8977157518576855, 0.9033774595414755, 0.8906478137042211, 0.8848051703286544, 0.8523181402672249, 0.8999500322501467, 0.9039084686903911, 0.8866385481228873, 0.8825802685237468, 0.9063630941374076, 0.5827673811367461, 0.8867643130388554, 0.8979855865509183, 0.9029592536732697, 0.8834239249309045, 0.8086000770206148, 0.8951857931224636, 0.8717131416871119, 0.9064266369013222, 0.8933412426680448, 0.9116215034181854, 0.9085298680110464]}, {\"categories\": [\"0\", \"1\", \"2\", \"3\", \"4\", \"5\", \"6\", \"7\", \"8\", \"9\", \"10\", \"11\", \"12\", \"13\", \"14\", \"15\", \"16\", \"17\", \"18\", \"19\", \"20\", \"21\", \"22\", \"23\", \"24\", \"25\", \"26\", \"27\", \"28\", \"29\", \"30\", \"31\", \"32\", \"33\", \"34\", \"36\", \"37\"], \"mode\": \"lines\", \"name\": \"AUC_macro_max\", \"stepped\": true, \"type\": \"scatter\", \"data\": [0.886378309960232, 0.8991812818442682, 0.9076708726691564, 0.9076708726691564, 0.9076708726691564, 0.9076708726691564, 0.9076708726691564, 0.9076708726691564, 0.9081743008157197, 0.9081743008157197, 0.9081743008157197, 0.9081743008157197, 0.9081743008157197, 0.9081743008157197, 0.9081743008157197, 0.9081743008157197, 0.9081743008157197, 0.9081743008157197, 0.9081743008157197, 0.9081743008157197, 0.9081743008157197, 0.9081743008157197, 0.9081743008157197, 0.9081743008157197, 0.9081743008157197, 0.9081743008157197, 0.9081743008157197, 0.9081743008157197, 0.9081743008157197, 0.9081743008157197, 0.9081743008157197, 0.9081743008157197, 0.9081743008157197, 0.9081743008157197, 0.9081743008157197, 0.9116215034181854, 0.9116215034181854]}], \"balanced_accuracy\": [{\"categories\": [\"0\", \"1\", \"2\", \"3\", \"4\", \"5\", \"6\", \"7\", \"8\", \"9\", \"10\", \"11\", \"12\", \"13\", \"14\", \"15\", \"16\", \"17\", \"18\", \"19\", \"20\", \"21\", \"22\", \"23\", \"24\", \"25\", \"26\", \"27\", \"28\", \"29\", \"30\", \"31\", \"32\", \"33\", \"34\", \"36\", \"37\"], \"mode\": \"markers\", \"name\": \"balanced_accuracy\", \"stepped\": false, \"type\": \"scatter\", \"data\": [0.8077082895810014, 0.7912368524242094, 0.7970996182815404, 0.7892242480377492, 0.808226029913387, 0.8384500150243858, 0.8010805723960758, 0.6503575547894769, 0.8181587404776763, 0.8019369417450081, 0.6132962718059971, 0.8102402700592058, 0.8117283652973011, 0.7991667405503218, 0.7647936289174846, 0.8101216459297123, 0.8140416229143346, 0.7906952390033053, 0.77430953412847, 0.6898960820199378, 0.7562476018768926, 0.8100422494807507, 0.8128597733629197, 0.6990239680228238, 0.7954291542426553, 0.5728348064660993, 0.8060442125570842, 0.8212431560620921, 0.8235588126277487, 0.7831123613546382, 0.5, 0.7958448240991147, 0.6917367158013612, 0.8131082354271714, 0.7922144537067306, 0.8417500416885428, 0.8338307870301577]}, {\"categories\": [\"0\", \"1\", \"2\", \"3\", \"4\", \"5\", \"6\", \"7\", \"8\", \"9\", \"10\", \"11\", \"12\", \"13\", \"14\", \"15\", \"16\", \"17\", \"18\", \"19\", \"20\", \"21\", \"22\", \"23\", \"24\", \"25\", \"26\", \"27\", \"28\", \"29\", \"30\", \"31\", \"32\", \"33\", \"34\", \"36\", \"37\"], \"mode\": \"lines\", \"name\": \"balanced_accuracy_max\", \"stepped\": true, \"type\": \"scatter\", \"data\": [0.8077082895810014, 0.8077082895810014, 0.8077082895810014, 0.8077082895810014, 0.808226029913387, 0.8384500150243858, 0.8384500150243858, 0.8384500150243858, 0.8384500150243858, 0.8384500150243858, 0.8384500150243858, 0.8384500150243858, 0.8384500150243858, 0.8384500150243858, 0.8384500150243858, 0.8384500150243858, 0.8384500150243858, 0.8384500150243858, 0.8384500150243858, 0.8384500150243858, 0.8384500150243858, 0.8384500150243858, 0.8384500150243858, 0.8384500150243858, 0.8384500150243858, 0.8384500150243858, 0.8384500150243858, 0.8384500150243858, 0.8384500150243858, 0.8384500150243858, 0.8384500150243858, 0.8384500150243858, 0.8384500150243858, 0.8384500150243858, 0.8384500150243858, 0.8417500416885428, 0.8417500416885428]}], \"accuracy\": [{\"categories\": [\"0\", \"1\", \"2\", \"3\", \"4\", \"5\", \"6\", \"7\", \"8\", \"9\", \"10\", \"11\", \"12\", \"13\", \"14\", \"15\", \"16\", \"17\", \"18\", \"19\", \"20\", \"21\", \"22\", \"23\", \"24\", \"25\", \"26\", \"27\", \"28\", \"29\", \"30\", \"31\", \"32\", \"33\", \"34\", \"36\", \"37\"], \"mode\": \"markers\", \"name\": \"accuracy\", \"stepped\": false, \"type\": \"scatter\", \"data\": [0.8359770114942527, 0.8126436781609195, 0.8393103448275863, 0.8324137931034482, 0.8291954022988506, 0.8562068965517241, 0.8057471264367816, 0.725977011494253, 0.8459770114942529, 0.8427586206896553, 0.7293103448275862, 0.8462068965517242, 0.8425287356321839, 0.8362068965517242, 0.8226436781609194, 0.8596551724137932, 0.8426436781609195, 0.8462068965517242, 0.8227586206896552, 0.7757471264367817, 0.8227586206896552, 0.8427586206896553, 0.835977011494253, 0.7826436781609194, 0.8360919540229885, 0.5885057471264367, 0.8090804597701149, 0.8493103448275863, 0.8526436781609196, 0.8394252873563218, 0.6791954022988507, 0.8393103448275863, 0.7891954022988507, 0.8528735632183908, 0.835977011494253, 0.8728735632183909, 0.8628735632183909]}, {\"categories\": [\"0\", \"1\", \"2\", \"3\", \"4\", \"5\", \"6\", \"7\", \"8\", \"9\", \"10\", \"11\", \"12\", \"13\", \"14\", \"15\", \"16\", \"17\", \"18\", \"19\", \"20\", \"21\", \"22\", \"23\", \"24\", \"25\", \"26\", \"27\", \"28\", \"29\", \"30\", \"31\", \"32\", \"33\", \"34\", \"36\", \"37\"], \"mode\": \"lines\", \"name\": \"accuracy_max\", \"stepped\": true, \"type\": \"scatter\", \"data\": [0.8359770114942527, 0.8359770114942527, 0.8393103448275863, 0.8393103448275863, 0.8393103448275863, 0.8562068965517241, 0.8562068965517241, 0.8562068965517241, 0.8562068965517241, 0.8562068965517241, 0.8562068965517241, 0.8562068965517241, 0.8562068965517241, 0.8562068965517241, 0.8562068965517241, 0.8596551724137932, 0.8596551724137932, 0.8596551724137932, 0.8596551724137932, 0.8596551724137932, 0.8596551724137932, 0.8596551724137932, 0.8596551724137932, 0.8596551724137932, 0.8596551724137932, 0.8596551724137932, 0.8596551724137932, 0.8596551724137932, 0.8596551724137932, 0.8596551724137932, 0.8596551724137932, 0.8596551724137932, 0.8596551724137932, 0.8596551724137932, 0.8596551724137932, 0.8728735632183909, 0.8728735632183909]}], \"weighted_accuracy\": [{\"categories\": [\"0\", \"1\", \"2\", \"3\", \"4\", \"5\", \"6\", \"7\", \"8\", \"9\", \"10\", \"11\", \"12\", \"13\", \"14\", \"15\", \"16\", \"17\", \"18\", \"19\", \"20\", \"21\", \"22\", \"23\", \"24\", \"25\", \"26\", \"27\", \"28\", \"29\", \"30\", \"31\", \"32\", \"33\", \"34\", \"36\", \"37\"], \"mode\": \"markers\", \"name\": \"weighted_accuracy\", \"stepped\": false, \"type\": \"scatter\", \"data\": [0.8541321922200625, 0.8270247482143279, 0.8670213336175951, 0.8599775467221165, 0.8426224487912257, 0.8662728310068933, 0.8072306660888804, 0.7779528606409756, 0.8637353537452794, 0.8684520087812737, 0.8009911180657342, 0.8703827012357195, 0.862972228810164, 0.8600967794377234, 0.8613850227996014, 0.8916815726947945, 0.8616729251120585, 0.882424646496084, 0.8551584975518253, 0.8276578072504888, 0.8655564987616279, 0.8640911263487494, 0.8511562811325039, 0.8381754555080538, 0.8611535092554711, 0.5971872946169725, 0.8106961305279807, 0.8675483404491589, 0.8717134001513361, 0.8759926491632001, 0.7931711479234276, 0.8685521836685911, 0.850968049541291, 0.8788476748083516, 0.8639802022485531, 0.8925351022387774, 0.8814792795973835]}, {\"categories\": [\"0\", \"1\", \"2\", \"3\", \"4\", \"5\", \"6\", \"7\", \"8\", \"9\", \"10\", \"11\", \"12\", \"13\", \"14\", \"15\", \"16\", \"17\", \"18\", \"19\", \"20\", \"21\", \"22\", \"23\", \"24\", \"25\", \"26\", \"27\", \"28\", \"29\", \"30\", \"31\", \"32\", \"33\", \"34\", \"36\", \"37\"], \"mode\": \"lines\", \"name\": \"weighted_accuracy_max\", \"stepped\": true, \"type\": \"scatter\", \"data\": [0.8541321922200625, 0.8541321922200625, 0.8670213336175951, 0.8670213336175951, 0.8670213336175951, 0.8670213336175951, 0.8670213336175951, 0.8670213336175951, 0.8670213336175951, 0.8684520087812737, 0.8684520087812737, 0.8703827012357195, 0.8703827012357195, 0.8703827012357195, 0.8703827012357195, 0.8916815726947945, 0.8916815726947945, 0.8916815726947945, 0.8916815726947945, 0.8916815726947945, 0.8916815726947945, 0.8916815726947945, 0.8916815726947945, 0.8916815726947945, 0.8916815726947945, 0.8916815726947945, 0.8916815726947945, 0.8916815726947945, 0.8916815726947945, 0.8916815726947945, 0.8916815726947945, 0.8916815726947945, 0.8916815726947945, 0.8916815726947945, 0.8916815726947945, 0.8925351022387774, 0.8925351022387774]}], \"AUC_weighted\": [{\"categories\": [\"0\", \"1\", \"2\", \"3\", \"4\", \"5\", \"6\", \"7\", \"8\", \"9\", \"10\", \"11\", \"12\", \"13\", \"14\", \"15\", \"16\", \"17\", \"18\", \"19\", \"20\", \"21\", \"22\", \"23\", \"24\", \"25\", \"26\", \"27\", \"28\", \"29\", \"30\", \"31\", \"32\", \"33\", \"34\", \"36\", \"37\"], \"mode\": \"markers\", \"name\": \"AUC_weighted\", \"stepped\": false, \"type\": \"scatter\", \"data\": [0.886378309960232, 0.8991812818442682, 0.9076708726691566, 0.890215504120424, 0.8937800831954721, 0.8936474797831206, 0.8471015961070881, 0.747228730835653, 0.9081743008157195, 0.9015857319792675, 0.8550734303369314, 0.9078211555183524, 0.8970018481370312, 0.8858218259746863, 0.9041695342055182, 0.8977157518576855, 0.9033774595414755, 0.8906478137042209, 0.8848051703286541, 0.8523181402672249, 0.8999500322501467, 0.9039084686903911, 0.8866459885990778, 0.8825802685237468, 0.9063630941374077, 0.5827673811367461, 0.8867643130388554, 0.8979855865509185, 0.9029592536732697, 0.8834239249309045, 0.8086000770206148, 0.8951857931224636, 0.8717131416871119, 0.9064266369013222, 0.8933412426680448, 0.9116215034181854, 0.9085298680110464]}, {\"categories\": [\"0\", \"1\", \"2\", \"3\", \"4\", \"5\", \"6\", \"7\", \"8\", \"9\", \"10\", \"11\", \"12\", \"13\", \"14\", \"15\", \"16\", \"17\", \"18\", \"19\", \"20\", \"21\", \"22\", \"23\", \"24\", \"25\", \"26\", \"27\", \"28\", \"29\", \"30\", \"31\", \"32\", \"33\", \"34\", \"36\", \"37\"], \"mode\": \"lines\", \"name\": \"AUC_weighted_max\", \"stepped\": true, \"type\": \"scatter\", \"data\": [0.886378309960232, 0.8991812818442682, 0.9076708726691566, 0.9076708726691566, 0.9076708726691566, 0.9076708726691566, 0.9076708726691566, 0.9076708726691566, 0.9081743008157195, 0.9081743008157195, 0.9081743008157195, 0.9081743008157195, 0.9081743008157195, 0.9081743008157195, 0.9081743008157195, 0.9081743008157195, 0.9081743008157195, 0.9081743008157195, 0.9081743008157195, 0.9081743008157195, 0.9081743008157195, 0.9081743008157195, 0.9081743008157195, 0.9081743008157195, 0.9081743008157195, 0.9081743008157195, 0.9081743008157195, 0.9081743008157195, 0.9081743008157195, 0.9081743008157195, 0.9081743008157195, 0.9081743008157195, 0.9081743008157195, 0.9081743008157195, 0.9081743008157195, 0.9116215034181854, 0.9116215034181854]}], \"average_precision_score_macro\": [{\"categories\": [\"0\", \"1\", \"2\", \"3\", \"4\", \"5\", \"6\", \"7\", \"8\", \"9\", \"10\", \"11\", \"12\", \"13\", \"14\", \"15\", \"16\", \"17\", \"18\", \"19\", \"20\", \"21\", \"22\", \"23\", \"24\", \"25\", \"26\", \"27\", \"28\", \"29\", \"30\", \"31\", \"32\", \"33\", \"34\", \"36\", \"37\"], \"mode\": \"markers\", \"name\": \"average_precision_score_macro\", \"stepped\": false, \"type\": \"scatter\", \"data\": [0.8827452797476439, 0.8913167742808195, 0.9021424110698778, 0.879614905490139, 0.878454038087743, 0.8856108559353935, 0.8365054061266104, 0.745469896825244, 0.9021180356693869, 0.8959145949406334, 0.8314750901849539, 0.9019479273942993, 0.8892676719654146, 0.8778422243978495, 0.8893073017964932, 0.8948004953060463, 0.89049967018132, 0.8857285045160849, 0.8754920052727148, 0.834706521081684, 0.8966020287635444, 0.8928219893018005, 0.8653581033157007, 0.876556852560916, 0.9031807108035224, 0.5897494842097253, 0.8824383064249768, 0.8852658222293327, 0.8948252846309194, 0.8823497564020579, 0.810213568886808, 0.8833412239264323, 0.8722080160186925, 0.8994108646915511, 0.865604366509715, 0.9009455670743158, 0.8969569280503663]}, {\"categories\": [\"0\", \"1\", \"2\", \"3\", \"4\", \"5\", \"6\", \"7\", \"8\", \"9\", \"10\", \"11\", \"12\", \"13\", \"14\", \"15\", \"16\", \"17\", \"18\", \"19\", \"20\", \"21\", \"22\", \"23\", \"24\", \"25\", \"26\", \"27\", \"28\", \"29\", \"30\", \"31\", \"32\", \"33\", \"34\", \"36\", \"37\"], \"mode\": \"lines\", \"name\": \"average_precision_score_macro_max\", \"stepped\": true, \"type\": \"scatter\", \"data\": [0.8827452797476439, 0.8913167742808195, 0.9021424110698778, 0.9021424110698778, 0.9021424110698778, 0.9021424110698778, 0.9021424110698778, 0.9021424110698778, 0.9021424110698778, 0.9021424110698778, 0.9021424110698778, 0.9021424110698778, 0.9021424110698778, 0.9021424110698778, 0.9021424110698778, 0.9021424110698778, 0.9021424110698778, 0.9021424110698778, 0.9021424110698778, 0.9021424110698778, 0.9021424110698778, 0.9021424110698778, 0.9021424110698778, 0.9021424110698778, 0.9031807108035224, 0.9031807108035224, 0.9031807108035224, 0.9031807108035224, 0.9031807108035224, 0.9031807108035224, 0.9031807108035224, 0.9031807108035224, 0.9031807108035224, 0.9031807108035224, 0.9031807108035224, 0.9031807108035224, 0.9031807108035224]}]}, \"metricName\": null, \"primaryMetricName\": \"accuracy\", \"showLegend\": false}, \"run_metrics\": [{\"name\": \"experiment_status\", \"run_id\": \"AutoML_f2ba87a0-9fdf-4292-b8eb-4f82d234cff9\", \"categories\": [0, 1, 2, 3, 4, 5, 6, 7, 8, 9, 10, 11, 12, 13], \"series\": [{\"data\": [\"DatasetEvaluation\", \"FeaturesGeneration\", \"DatasetFeaturization\", \"DatasetFeaturizationCompleted\", \"DatasetCrossValidationSplit\", \"ModelSelection\", \"BestRunExplainModel\", \"ModelExplanationDataSetSetup\", \"PickSurrogateModel\", \"EngineeredFeatureExplanations\", \"EngineeredFeatureExplanations\", \"RawFeaturesExplanations\", \"RawFeaturesExplanations\", \"BestRunExplainModel\"]}]}, {\"name\": \"experiment_status_description\", \"run_id\": \"AutoML_f2ba87a0-9fdf-4292-b8eb-4f82d234cff9\", \"categories\": [0, 1, 2, 3, 4, 5, 6, 7, 8, 9, 10, 11, 12, 13], \"series\": [{\"data\": [\"Gathering dataset statistics.\", \"Generating features for the dataset.\", \"Beginning to fit featurizers and featurize the dataset.\", \"Completed fit featurizers and featurizing the dataset.\", \"Generating individually featurized CV splits.\", \"Beginning model selection.\", \"Best run model explanations started\", \"Model explanations data setup completed\", \"Choosing LightGBM as the surrogate model for explanations\", \"Computation of engineered features started\", \"Computation of engineered features completed\", \"Computation of raw features started\", \"Computation of raw features completed\", \"Best run model explanations completed\"]}]}, {\"name\": \"matthews_correlation\", \"run_id\": \"AutoML_f2ba87a0-9fdf-4292-b8eb-4f82d234cff9\", \"categories\": [0], \"series\": [{\"data\": [0.7183251679637097]}]}, {\"name\": \"precision_score_micro\", \"run_id\": \"AutoML_f2ba87a0-9fdf-4292-b8eb-4f82d234cff9\", \"categories\": [0], \"series\": [{\"data\": [0.8728735632183909]}]}, {\"name\": \"average_precision_score_micro\", \"run_id\": \"AutoML_f2ba87a0-9fdf-4292-b8eb-4f82d234cff9\", \"categories\": [0], \"series\": [{\"data\": [0.9238496463753805]}]}, {\"name\": \"average_precision_score_macro\", \"run_id\": \"AutoML_f2ba87a0-9fdf-4292-b8eb-4f82d234cff9\", \"categories\": [0], \"series\": [{\"data\": [0.9009455670743158]}]}, {\"name\": \"f1_score_macro\", \"run_id\": \"AutoML_f2ba87a0-9fdf-4292-b8eb-4f82d234cff9\", \"categories\": [0], \"series\": [{\"data\": [0.84618819916759]}]}, {\"name\": \"weighted_accuracy\", \"run_id\": \"AutoML_f2ba87a0-9fdf-4292-b8eb-4f82d234cff9\", \"categories\": [0], \"series\": [{\"data\": [0.8925351022387774]}]}, {\"name\": \"precision_score_macro\", \"run_id\": \"AutoML_f2ba87a0-9fdf-4292-b8eb-4f82d234cff9\", \"categories\": [0], \"series\": [{\"data\": [0.8797016329081547]}]}, {\"name\": \"recall_score_weighted\", \"run_id\": \"AutoML_f2ba87a0-9fdf-4292-b8eb-4f82d234cff9\", \"categories\": [0], \"series\": [{\"data\": [0.8728735632183909]}]}, {\"name\": \"precision_score_weighted\", \"run_id\": \"AutoML_f2ba87a0-9fdf-4292-b8eb-4f82d234cff9\", \"categories\": [0], \"series\": [{\"data\": [0.8870201000898152]}]}, {\"name\": \"recall_score_macro\", \"run_id\": \"AutoML_f2ba87a0-9fdf-4292-b8eb-4f82d234cff9\", \"categories\": [0], \"series\": [{\"data\": [0.8417500416885428]}]}, {\"name\": \"log_loss\", \"run_id\": \"AutoML_f2ba87a0-9fdf-4292-b8eb-4f82d234cff9\", \"categories\": [0], \"series\": [{\"data\": [0.36509076825671194]}]}, {\"name\": \"accuracy\", \"run_id\": \"AutoML_f2ba87a0-9fdf-4292-b8eb-4f82d234cff9\", \"categories\": [0], \"series\": [{\"data\": [0.8728735632183909]}]}, {\"name\": \"balanced_accuracy\", \"run_id\": \"AutoML_f2ba87a0-9fdf-4292-b8eb-4f82d234cff9\", \"categories\": [0], \"series\": [{\"data\": [0.8417500416885428]}]}, {\"name\": \"AUC_macro\", \"run_id\": \"AutoML_f2ba87a0-9fdf-4292-b8eb-4f82d234cff9\", \"categories\": [0], \"series\": [{\"data\": [0.9116215034181854]}]}, {\"name\": \"f1_score_micro\", \"run_id\": \"AutoML_f2ba87a0-9fdf-4292-b8eb-4f82d234cff9\", \"categories\": [0], \"series\": [{\"data\": [0.8728735632183909]}]}, {\"name\": \"norm_macro_recall\", \"run_id\": \"AutoML_f2ba87a0-9fdf-4292-b8eb-4f82d234cff9\", \"categories\": [0], \"series\": [{\"data\": [0.6835000833770858]}]}, {\"name\": \"recall_score_micro\", \"run_id\": \"AutoML_f2ba87a0-9fdf-4292-b8eb-4f82d234cff9\", \"categories\": [0], \"series\": [{\"data\": [0.8728735632183909]}]}, {\"name\": \"AUC_weighted\", \"run_id\": \"AutoML_f2ba87a0-9fdf-4292-b8eb-4f82d234cff9\", \"categories\": [0], \"series\": [{\"data\": [0.9116215034181854]}]}, {\"name\": \"AUC_micro\", \"run_id\": \"AutoML_f2ba87a0-9fdf-4292-b8eb-4f82d234cff9\", \"categories\": [0], \"series\": [{\"data\": [0.9212049147839874]}]}, {\"name\": \"average_precision_score_weighted\", \"run_id\": \"AutoML_f2ba87a0-9fdf-4292-b8eb-4f82d234cff9\", \"categories\": [0], \"series\": [{\"data\": [0.9257188499464517]}]}, {\"name\": \"f1_score_weighted\", \"run_id\": \"AutoML_f2ba87a0-9fdf-4292-b8eb-4f82d234cff9\", \"categories\": [0], \"series\": [{\"data\": [0.8673430085761922]}]}], \"run_logs\": \"\\nRun is completed.\", \"graph\": {}, \"widget_settings\": {\"childWidgetDisplay\": \"popup\", \"send_telemetry\": false, \"log_level\": \"INFO\", \"sdk_version\": \"1.19.0\"}, \"loading\": false}"
     },
     "metadata": {},
     "output_type": "display_data"
    }
   ],
   "source": [
    "from azureml.widgets import RunDetails\n",
    "RunDetails(remote_run).show()"
   ]
  },
  {
   "cell_type": "markdown",
   "metadata": {},
   "source": [
    "## Model Deployment\n",
    "\n",
    "Remember you have to deploy only one of the two models you trained.. Perform the steps in the rest of this notebook only if you wish to deploy this model.\n",
    "\n",
    "TODO: In the cell below, register the model, create an inference config and deploy the model as a web service."
   ]
  },
  {
   "cell_type": "code",
   "execution_count": 20,
   "metadata": {
    "gather": {
     "logged": 1598431435189
    },
    "jupyter": {
     "outputs_hidden": false,
     "source_hidden": false
    },
    "nteract": {
     "transient": {
      "deleting": false
     }
    }
   },
   "outputs": [
    {
     "name": "stdout",
     "output_type": "stream",
     "text": [
      "AutoMLf2ba87a0936\n"
     ]
    }
   ],
   "source": [
    "description = 'HearFailure AutoML Model'\n",
    "model = remote_run.register_model(description = description)\n",
    "\n",
    "print(remote_run.model_id)"
   ]
  },
  {
   "cell_type": "code",
   "execution_count": 21,
   "metadata": {},
   "outputs": [
    {
     "name": "stdout",
     "output_type": "stream",
     "text": [
      "AutoMLf2ba87a0936\tAutoMLf2ba87a0936:2\t2\n"
     ]
    }
   ],
   "source": [
    "print(model.name, model.id, model.version, sep ='\\t')"
   ]
  },
  {
   "cell_type": "code",
   "execution_count": 25,
   "metadata": {},
   "outputs": [],
   "source": [
    "from azureml.core.environment import Environment\n",
    "from azureml.core.model import InferenceConfig\n",
    "\n",
    "\n",
    "env = Environment.get(ws, \"AzureML-AutoML-GPU\")\n",
    "env.inferencing_stack_version='latest'\n",
    "\n",
    "for pip_package in [\"scikit-learn\"]:\n",
    "    env.python.conda_dependencies.add_pip_package(pip_package)\n",
    "\n",
    "inference_config = InferenceConfig(entry_script='score.py',\n",
    "                                    environment=env)"
   ]
  },
  {
   "cell_type": "code",
   "execution_count": 28,
   "metadata": {},
   "outputs": [
    {
     "name": "stdout",
     "output_type": "stream",
     "text": [
      "Tips: You can try get_logs(): https://aka.ms/debugimage#dockerlog or local deployment: https://aka.ms/debugimage#debug-locally to debug if deployment takes longer than 10 minutes.\n",
      "Running...................................................................................................\n",
      "Failed\n"
     ]
    },
    {
     "name": "stderr",
     "output_type": "stream",
     "text": [
      "ERROR:azureml.core.webservice.webservice:Service deployment polling reached non-successful terminal state, current service state: Failed\n",
      "Operation ID: 246ce654-1e4d-4cc0-9823-d82698f3bc2b\n",
      "More information can be found using '.get_logs()'\n",
      "Error:\n",
      "{\n",
      "  \"code\": \"AciDeploymentFailed\",\n",
      "  \"message\": \"Aci Deployment failed with exception: Error in entry script, NameError: name 'null' is not defined, please run print(service.get_logs()) to get details.\",\n",
      "  \"details\": [\n",
      "    {\n",
      "      \"code\": \"CrashLoopBackOff\",\n",
      "      \"message\": \"Error in entry script, NameError: name 'null' is not defined, please run print(service.get_logs()) to get details.\"\n",
      "    }\n",
      "  ]\n",
      "}\n",
      "\n"
     ]
    },
    {
     "ename": "WebserviceException",
     "evalue": "WebserviceException:\n\tMessage: Service deployment polling reached non-successful terminal state, current service state: Failed\nOperation ID: 246ce654-1e4d-4cc0-9823-d82698f3bc2b\nMore information can be found using '.get_logs()'\nError:\n{\n  \"code\": \"AciDeploymentFailed\",\n  \"message\": \"Aci Deployment failed with exception: Error in entry script, NameError: name 'null' is not defined, please run print(service.get_logs()) to get details.\",\n  \"details\": [\n    {\n      \"code\": \"CrashLoopBackOff\",\n      \"message\": \"Error in entry script, NameError: name 'null' is not defined, please run print(service.get_logs()) to get details.\"\n    }\n  ]\n}\n\tInnerException None\n\tErrorResponse \n{\n    \"error\": {\n        \"message\": \"Service deployment polling reached non-successful terminal state, current service state: Failed\\nOperation ID: 246ce654-1e4d-4cc0-9823-d82698f3bc2b\\nMore information can be found using '.get_logs()'\\nError:\\n{\\n  \\\"code\\\": \\\"AciDeploymentFailed\\\",\\n  \\\"message\\\": \\\"Aci Deployment failed with exception: Error in entry script, NameError: name 'null' is not defined, please run print(service.get_logs()) to get details.\\\",\\n  \\\"details\\\": [\\n    {\\n      \\\"code\\\": \\\"CrashLoopBackOff\\\",\\n      \\\"message\\\": \\\"Error in entry script, NameError: name 'null' is not defined, please run print(service.get_logs()) to get details.\\\"\\n    }\\n  ]\\n}\"\n    }\n}",
     "output_type": "error",
     "traceback": [
      "\u001b[0;31m---------------------------------------------------------------------------\u001b[0m",
      "\u001b[0;31mWebserviceException\u001b[0m                       Traceback (most recent call last)",
      "\u001b[0;32m<ipython-input-28-4ea7d659ea3f>\u001b[0m in \u001b[0;36m<module>\u001b[0;34m\u001b[0m\n\u001b[1;32m      6\u001b[0m \u001b[0mwebservice\u001b[0m \u001b[0;34m=\u001b[0m \u001b[0mModel\u001b[0m\u001b[0;34m.\u001b[0m\u001b[0mdeploy\u001b[0m\u001b[0;34m(\u001b[0m\u001b[0mws\u001b[0m\u001b[0;34m,\u001b[0m \u001b[0;34m\"capstone-automl\"\u001b[0m\u001b[0;34m,\u001b[0m \u001b[0;34m[\u001b[0m\u001b[0mmodel\u001b[0m\u001b[0;34m]\u001b[0m\u001b[0;34m,\u001b[0m \u001b[0minference_config\u001b[0m\u001b[0;34m,\u001b[0m \u001b[0mdep_cfg\u001b[0m\u001b[0;34m)\u001b[0m\u001b[0;34m\u001b[0m\u001b[0;34m\u001b[0m\u001b[0m\n\u001b[1;32m      7\u001b[0m \u001b[0;34m\u001b[0m\u001b[0m\n\u001b[0;32m----> 8\u001b[0;31m \u001b[0mwebservice\u001b[0m\u001b[0;34m.\u001b[0m\u001b[0mwait_for_deployment\u001b[0m\u001b[0;34m(\u001b[0m\u001b[0mshow_output\u001b[0m \u001b[0;34m=\u001b[0m \u001b[0;32mTrue\u001b[0m\u001b[0;34m)\u001b[0m\u001b[0;34m\u001b[0m\u001b[0;34m\u001b[0m\u001b[0m\n\u001b[0m\u001b[1;32m      9\u001b[0m \u001b[0mprint\u001b[0m\u001b[0;34m(\u001b[0m\u001b[0mwebservice\u001b[0m\u001b[0;34m.\u001b[0m\u001b[0mstate\u001b[0m\u001b[0;34m)\u001b[0m\u001b[0;34m\u001b[0m\u001b[0;34m\u001b[0m\u001b[0m\n\u001b[1;32m     10\u001b[0m \u001b[0mprint\u001b[0m\u001b[0;34m(\u001b[0m\u001b[0mwebservice\u001b[0m\u001b[0;34m.\u001b[0m\u001b[0mscoring_uri\u001b[0m\u001b[0;34m)\u001b[0m\u001b[0;34m\u001b[0m\u001b[0;34m\u001b[0m\u001b[0m\n",
      "\u001b[0;32m/anaconda/envs/azureml_py36/lib/python3.6/site-packages/azureml/core/webservice/webservice.py\u001b[0m in \u001b[0;36mwait_for_deployment\u001b[0;34m(self, show_output, timeout_sec)\u001b[0m\n\u001b[1;32m    913\u001b[0m                                           \u001b[0;34m'Error:\\n'\u001b[0m\u001b[0;34m\u001b[0m\u001b[0;34m\u001b[0m\u001b[0m\n\u001b[1;32m    914\u001b[0m                                           '{}'.format(self.state, self._operation_endpoint.split('/')[-1],\n\u001b[0;32m--> 915\u001b[0;31m                                                       logs_response, error_response), logger=module_logger)\n\u001b[0m\u001b[1;32m    916\u001b[0m             print('{} service creation operation finished, operation \"{}\"'.format(self._webservice_type,\n\u001b[1;32m    917\u001b[0m                                                                                   operation_state))\n",
      "\u001b[0;31mWebserviceException\u001b[0m: WebserviceException:\n\tMessage: Service deployment polling reached non-successful terminal state, current service state: Failed\nOperation ID: 246ce654-1e4d-4cc0-9823-d82698f3bc2b\nMore information can be found using '.get_logs()'\nError:\n{\n  \"code\": \"AciDeploymentFailed\",\n  \"message\": \"Aci Deployment failed with exception: Error in entry script, NameError: name 'null' is not defined, please run print(service.get_logs()) to get details.\",\n  \"details\": [\n    {\n      \"code\": \"CrashLoopBackOff\",\n      \"message\": \"Error in entry script, NameError: name 'null' is not defined, please run print(service.get_logs()) to get details.\"\n    }\n  ]\n}\n\tInnerException None\n\tErrorResponse \n{\n    \"error\": {\n        \"message\": \"Service deployment polling reached non-successful terminal state, current service state: Failed\\nOperation ID: 246ce654-1e4d-4cc0-9823-d82698f3bc2b\\nMore information can be found using '.get_logs()'\\nError:\\n{\\n  \\\"code\\\": \\\"AciDeploymentFailed\\\",\\n  \\\"message\\\": \\\"Aci Deployment failed with exception: Error in entry script, NameError: name 'null' is not defined, please run print(service.get_logs()) to get details.\\\",\\n  \\\"details\\\": [\\n    {\\n      \\\"code\\\": \\\"CrashLoopBackOff\\\",\\n      \\\"message\\\": \\\"Error in entry script, NameError: name 'null' is not defined, please run print(service.get_logs()) to get details.\\\"\\n    }\\n  ]\\n}\"\n    }\n}"
     ]
    }
   ],
   "source": [
    "from azureml.core.webservice import AciWebservice \n",
    "from azureml.core import Model\n",
    "\n",
    "dep_cfg = AciWebservice.deploy_configuration(cpu_cores = 1, memory_gb = 1) \n",
    "\n",
    "webservice = Model.deploy(ws, \"capstone-automl\", [model], inference_config, dep_cfg)\n",
    "\n",
    "webservice.wait_for_deployment(show_output = True) \n",
    "print(webservice.state)  \n",
    "print(webservice.scoring_uri) \n",
    "print(webservice.swagger_uri)"
   ]
  },
  {
   "cell_type": "markdown",
   "metadata": {
    "collapsed": true,
    "gather": {
     "logged": 1598431657736
    },
    "jupyter": {
     "outputs_hidden": false,
     "source_hidden": false
    },
    "nteract": {
     "transient": {
      "deleting": false
     }
    }
   },
   "source": [
    "TODO: In the cell below, send a request to the web service you deployed to test it."
   ]
  },
  {
   "cell_type": "code",
   "execution_count": null,
   "metadata": {
    "gather": {
     "logged": 1598432707604
    },
    "jupyter": {
     "outputs_hidden": false,
     "source_hidden": false
    },
    "nteract": {
     "transient": {
      "deleting": false
     }
    }
   },
   "outputs": [],
   "source": [
    "output = webservice.run('./data.json')\n",
    "print(output)"
   ]
  },
  {
   "cell_type": "markdown",
   "metadata": {
    "collapsed": true,
    "gather": {
     "logged": 1598432765711
    },
    "jupyter": {
     "outputs_hidden": false,
     "source_hidden": false
    },
    "nteract": {
     "transient": {
      "deleting": false
     }
    }
   },
   "source": [
    "TODO: In the cell below, print the logs of the web service and delete the service"
   ]
  },
  {
   "cell_type": "code",
   "execution_count": null,
   "metadata": {
    "jupyter": {
     "outputs_hidden": false,
     "source_hidden": false
    },
    "nteract": {
     "transient": {
      "deleting": false
     }
    }
   },
   "outputs": [],
   "source": [
    "webservice.delete()"
   ]
  }
 ],
 "metadata": {
  "kernel_info": {
   "name": "python3-azureml"
  },
  "kernelspec": {
   "display_name": "Python 3",
   "language": "python",
   "name": "python3"
  },
  "language_info": {
   "codemirror_mode": {
    "name": "ipython",
    "version": 3
   },
   "file_extension": ".py",
   "mimetype": "text/x-python",
   "name": "python",
   "nbconvert_exporter": "python",
   "pygments_lexer": "ipython3",
   "version": "3.6.9"
  },
  "nteract": {
   "version": "nteract-front-end@1.0.0"
  }
 },
 "nbformat": 4,
 "nbformat_minor": 2
}
