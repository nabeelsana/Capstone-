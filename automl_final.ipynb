{
 "cells": [
  {
   "cell_type": "markdown",
   "metadata": {},
   "source": [
    "# Automated ML\n",
    "\n",
    "TODO: Import Dependencies. In the cell below, import all the dependencies that you will need to complete the project."
   ]
  },
  {
   "cell_type": "code",
   "execution_count": 6,
   "metadata": {},
   "outputs": [
    {
     "name": "stdout",
     "output_type": "stream",
     "text": [
      "Requirement already up-to-date: azureml-sdk[automl,notebooks,widgets] in /anaconda/envs/azureml_py36/lib/python3.6/site-packages (1.20.0)\n",
      "\u001b[33m  WARNING: azureml-sdk 1.20.0 does not provide the extra 'widgets'\u001b[0m\n",
      "Requirement already up-to-date: azureml-train~=1.20.0 in /anaconda/envs/azureml_py36/lib/python3.6/site-packages (from azureml-sdk[automl,notebooks,widgets]) (1.20.0)\n",
      "Requirement already up-to-date: azureml-pipeline~=1.20.0 in /anaconda/envs/azureml_py36/lib/python3.6/site-packages (from azureml-sdk[automl,notebooks,widgets]) (1.20.0)\n",
      "Requirement already up-to-date: azureml-train-automl-client~=1.20.0 in /anaconda/envs/azureml_py36/lib/python3.6/site-packages (from azureml-sdk[automl,notebooks,widgets]) (1.20.0)\n",
      "Requirement already up-to-date: azureml-dataset-runtime[fuse]~=1.20.0 in /anaconda/envs/azureml_py36/lib/python3.6/site-packages (from azureml-sdk[automl,notebooks,widgets]) (1.20.0)\n",
      "Requirement already up-to-date: azureml-core~=1.20.0 in /anaconda/envs/azureml_py36/lib/python3.6/site-packages (from azureml-sdk[automl,notebooks,widgets]) (1.20.0)\n",
      "Requirement already up-to-date: azureml-train-automl~=1.20.0; extra == \"automl\" in /anaconda/envs/azureml_py36/lib/python3.6/site-packages (from azureml-sdk[automl,notebooks,widgets]) (1.20.0)\n",
      "Requirement already up-to-date: azureml-contrib-notebook~=1.20.0; extra == \"notebooks\" in /anaconda/envs/azureml_py36/lib/python3.6/site-packages (from azureml-sdk[automl,notebooks,widgets]) (1.20.0)\n",
      "Requirement already up-to-date: azureml-widgets~=1.20.0; extra == \"notebooks\" in /anaconda/envs/azureml_py36/lib/python3.6/site-packages (from azureml-sdk[automl,notebooks,widgets]) (1.20.0)\n",
      "Requirement already up-to-date: azureml-train-core~=1.20.0 in /anaconda/envs/azureml_py36/lib/python3.6/site-packages (from azureml-train~=1.20.0->azureml-sdk[automl,notebooks,widgets]) (1.20.0)\n",
      "Requirement already up-to-date: azureml-pipeline-steps~=1.20.0 in /anaconda/envs/azureml_py36/lib/python3.6/site-packages (from azureml-pipeline~=1.20.0->azureml-sdk[automl,notebooks,widgets]) (1.20.0)\n",
      "Requirement already up-to-date: azureml-pipeline-core~=1.20.0 in /anaconda/envs/azureml_py36/lib/python3.6/site-packages (from azureml-pipeline~=1.20.0->azureml-sdk[automl,notebooks,widgets]) (1.20.0)\n",
      "Requirement already up-to-date: azureml-telemetry~=1.20.0 in /anaconda/envs/azureml_py36/lib/python3.6/site-packages (from azureml-train-automl-client~=1.20.0->azureml-sdk[automl,notebooks,widgets]) (1.20.0)\n",
      "Requirement already up-to-date: azureml-automl-core~=1.20.0 in /anaconda/envs/azureml_py36/lib/python3.6/site-packages (from azureml-train-automl-client~=1.20.0->azureml-sdk[automl,notebooks,widgets]) (1.20.0)\n",
      "Requirement already up-to-date: azureml-dataprep<2.8.0a,>=2.7.0a in /anaconda/envs/azureml_py36/lib/python3.6/site-packages (from azureml-dataset-runtime[fuse]~=1.20.0->azureml-sdk[automl,notebooks,widgets]) (2.7.3)\n",
      "Requirement already up-to-date: numpy!=1.19.3; sys_platform == \"linux\" in /anaconda/envs/azureml_py36/lib/python3.6/site-packages (from azureml-dataset-runtime[fuse]~=1.20.0->azureml-sdk[automl,notebooks,widgets]) (1.19.5)\n",
      "Requirement already up-to-date: pyarrow<2.0.0,>=0.17.0 in /anaconda/envs/azureml_py36/lib/python3.6/site-packages (from azureml-dataset-runtime[fuse]~=1.20.0->azureml-sdk[automl,notebooks,widgets]) (1.0.1)\n",
      "Requirement already up-to-date: fusepy<4.0.0,>=3.0.1; extra == \"fuse\" in /anaconda/envs/azureml_py36/lib/python3.6/site-packages (from azureml-dataset-runtime[fuse]~=1.20.0->azureml-sdk[automl,notebooks,widgets]) (3.0.1)\n",
      "Requirement already up-to-date: jmespath in /anaconda/envs/azureml_py36/lib/python3.6/site-packages (from azureml-core~=1.20.0->azureml-sdk[automl,notebooks,widgets]) (0.10.0)\n",
      "Requirement already up-to-date: azure-mgmt-storage<16.0.0,>=1.5.0 in /anaconda/envs/azureml_py36/lib/python3.6/site-packages (from azureml-core~=1.20.0->azureml-sdk[automl,notebooks,widgets]) (11.2.0)\n",
      "Requirement already up-to-date: ndg-httpsclient in /anaconda/envs/azureml_py36/lib/python3.6/site-packages (from azureml-core~=1.20.0->azureml-sdk[automl,notebooks,widgets]) (0.5.1)\n",
      "Requirement already up-to-date: ruamel.yaml>=0.15.35 in /anaconda/envs/azureml_py36/lib/python3.6/site-packages (from azureml-core~=1.20.0->azureml-sdk[automl,notebooks,widgets]) (0.16.12)\n",
      "Requirement already up-to-date: jsonpickle in /anaconda/envs/azureml_py36/lib/python3.6/site-packages (from azureml-core~=1.20.0->azureml-sdk[automl,notebooks,widgets]) (1.5.0)\n",
      "Requirement already up-to-date: pathspec in /anaconda/envs/azureml_py36/lib/python3.6/site-packages (from azureml-core~=1.20.0->azureml-sdk[automl,notebooks,widgets]) (0.8.1)\n",
      "Requirement already up-to-date: azure-common>=1.1.12 in /anaconda/envs/azureml_py36/lib/python3.6/site-packages (from azureml-core~=1.20.0->azureml-sdk[automl,notebooks,widgets]) (1.1.26)\n",
      "Requirement already up-to-date: backports.tempfile in /anaconda/envs/azureml_py36/lib/python3.6/site-packages (from azureml-core~=1.20.0->azureml-sdk[automl,notebooks,widgets]) (1.0)\n",
      "Requirement already up-to-date: SecretStorage in /anaconda/envs/azureml_py36/lib/python3.6/site-packages (from azureml-core~=1.20.0->azureml-sdk[automl,notebooks,widgets]) (3.3.0)\n",
      "Requirement already up-to-date: contextlib2 in /anaconda/envs/azureml_py36/lib/python3.6/site-packages (from azureml-core~=1.20.0->azureml-sdk[automl,notebooks,widgets]) (0.6.0.post1)\n",
      "Requirement already up-to-date: PyJWT<2.0.0 in /anaconda/envs/azureml_py36/lib/python3.6/site-packages (from azureml-core~=1.20.0->azureml-sdk[automl,notebooks,widgets]) (1.7.1)\n",
      "Requirement already up-to-date: msrestazure>=0.4.33 in /anaconda/envs/azureml_py36/lib/python3.6/site-packages (from azureml-core~=1.20.0->azureml-sdk[automl,notebooks,widgets]) (0.6.4)\n",
      "Requirement already up-to-date: requests>=2.19.1 in /anaconda/envs/azureml_py36/lib/python3.6/site-packages (from azureml-core~=1.20.0->azureml-sdk[automl,notebooks,widgets]) (2.25.1)\n",
      "Requirement already up-to-date: azure-mgmt-containerregistry>=2.0.0 in /anaconda/envs/azureml_py36/lib/python3.6/site-packages (from azureml-core~=1.20.0->azureml-sdk[automl,notebooks,widgets]) (2.8.0)\n",
      "Requirement already up-to-date: urllib3>=1.23 in /anaconda/envs/azureml_py36/lib/python3.6/site-packages (from azureml-core~=1.20.0->azureml-sdk[automl,notebooks,widgets]) (1.26.2)\n",
      "Requirement already up-to-date: azure-mgmt-authorization<1.0.0,>=0.40.0 in /anaconda/envs/azureml_py36/lib/python3.6/site-packages (from azureml-core~=1.20.0->azureml-sdk[automl,notebooks,widgets]) (0.61.0)\n",
      "Requirement already up-to-date: cryptography!=1.9,!=2.0.*,!=2.1.*,!=2.2.* in /anaconda/envs/azureml_py36/lib/python3.6/site-packages (from azureml-core~=1.20.0->azureml-sdk[automl,notebooks,widgets]) (3.3.1)\n",
      "Requirement already up-to-date: msrest>=0.5.1 in /anaconda/envs/azureml_py36/lib/python3.6/site-packages (from azureml-core~=1.20.0->azureml-sdk[automl,notebooks,widgets]) (0.6.19)\n",
      "Requirement already up-to-date: azure-mgmt-keyvault<7.0.0,>=0.40.0 in /anaconda/envs/azureml_py36/lib/python3.6/site-packages (from azureml-core~=1.20.0->azureml-sdk[automl,notebooks,widgets]) (2.2.0)\n",
      "Requirement already up-to-date: adal>=1.2.0 in /anaconda/envs/azureml_py36/lib/python3.6/site-packages (from azureml-core~=1.20.0->azureml-sdk[automl,notebooks,widgets]) (1.2.6)\n",
      "Requirement already up-to-date: azure-graphrbac<1.0.0,>=0.40.0 in /anaconda/envs/azureml_py36/lib/python3.6/site-packages (from azureml-core~=1.20.0->azureml-sdk[automl,notebooks,widgets]) (0.61.1)\n",
      "Requirement already up-to-date: docker in /anaconda/envs/azureml_py36/lib/python3.6/site-packages (from azureml-core~=1.20.0->azureml-sdk[automl,notebooks,widgets]) (4.4.1)\n",
      "Requirement already up-to-date: azure-mgmt-resource<15.0.0,>=1.2.1 in /anaconda/envs/azureml_py36/lib/python3.6/site-packages (from azureml-core~=1.20.0->azureml-sdk[automl,notebooks,widgets]) (12.0.0)\n",
      "Requirement already up-to-date: pytz in /anaconda/envs/azureml_py36/lib/python3.6/site-packages (from azureml-core~=1.20.0->azureml-sdk[automl,notebooks,widgets]) (2020.5)\n",
      "Requirement already up-to-date: pyopenssl<20.0.0 in /anaconda/envs/azureml_py36/lib/python3.6/site-packages (from azureml-core~=1.20.0->azureml-sdk[automl,notebooks,widgets]) (19.1.0)\n"
     ]
    },
    {
     "name": "stdout",
     "output_type": "stream",
     "text": [
      "Requirement already up-to-date: python-dateutil>=2.7.3 in /anaconda/envs/azureml_py36/lib/python3.6/site-packages (from azureml-core~=1.20.0->azureml-sdk[automl,notebooks,widgets]) (2.8.1)\n",
      "Requirement already up-to-date: azureml-automl-runtime~=1.20.0 in /anaconda/envs/azureml_py36/lib/python3.6/site-packages (from azureml-train-automl~=1.20.0; extra == \"automl\"->azureml-sdk[automl,notebooks,widgets]) (1.20.0)\n",
      "Requirement already up-to-date: azureml-train-automl-runtime~=1.20.0 in /anaconda/envs/azureml_py36/lib/python3.6/site-packages (from azureml-train-automl~=1.20.0; extra == \"automl\"->azureml-sdk[automl,notebooks,widgets]) (1.20.0.post1)\n",
      "Requirement already up-to-date: nbconvert<6 in /anaconda/envs/azureml_py36/lib/python3.6/site-packages (from azureml-contrib-notebook~=1.20.0; extra == \"notebooks\"->azureml-sdk[automl,notebooks,widgets]) (5.6.1)\n",
      "Requirement already up-to-date: ipython in /anaconda/envs/azureml_py36/lib/python3.6/site-packages (from azureml-contrib-notebook~=1.20.0; extra == \"notebooks\"->azureml-sdk[automl,notebooks,widgets]) (7.16.1)\n",
      "Requirement already up-to-date: papermill<2 in /anaconda/envs/azureml_py36/lib/python3.6/site-packages (from azureml-contrib-notebook~=1.20.0; extra == \"notebooks\"->azureml-sdk[automl,notebooks,widgets]) (1.2.1)\n",
      "Requirement already up-to-date: ipykernel in /anaconda/envs/azureml_py36/lib/python3.6/site-packages (from azureml-contrib-notebook~=1.20.0; extra == \"notebooks\"->azureml-sdk[automl,notebooks,widgets]) (5.4.3)\n",
      "Requirement already up-to-date: ipywidgets>=7.0.0 in /anaconda/envs/azureml_py36/lib/python3.6/site-packages (from azureml-widgets~=1.20.0; extra == \"notebooks\"->azureml-sdk[automl,notebooks,widgets]) (7.6.3)\n",
      "Requirement already up-to-date: azureml-train-restclients-hyperdrive~=1.20.0 in /anaconda/envs/azureml_py36/lib/python3.6/site-packages (from azureml-train-core~=1.20.0->azureml-train~=1.20.0->azureml-sdk[automl,notebooks,widgets]) (1.20.0)\n",
      "Requirement already up-to-date: applicationinsights in /anaconda/envs/azureml_py36/lib/python3.6/site-packages (from azureml-telemetry~=1.20.0->azureml-train-automl-client~=1.20.0->azureml-sdk[automl,notebooks,widgets]) (0.11.9)\n",
      "Requirement already up-to-date: dotnetcore2<3.0.0,>=2.1.14 in /anaconda/envs/azureml_py36/lib/python3.6/site-packages (from azureml-dataprep<2.8.0a,>=2.7.0a->azureml-dataset-runtime[fuse]~=1.20.0->azureml-sdk[automl,notebooks,widgets]) (2.1.20)\n",
      "Requirement already up-to-date: azureml-dataprep-native<28.0.0,>=27.0.0 in /anaconda/envs/azureml_py36/lib/python3.6/site-packages (from azureml-dataprep<2.8.0a,>=2.7.0a->azureml-dataset-runtime[fuse]~=1.20.0->azureml-sdk[automl,notebooks,widgets]) (27.0.0)\n",
      "Requirement already up-to-date: azure-identity<1.5.0,>=1.2.0 in /anaconda/envs/azureml_py36/lib/python3.6/site-packages (from azureml-dataprep<2.8.0a,>=2.7.0a->azureml-dataset-runtime[fuse]~=1.20.0->azureml-sdk[automl,notebooks,widgets]) (1.4.1)\n",
      "Requirement already up-to-date: cloudpickle<2.0.0,>=1.1.0 in /anaconda/envs/azureml_py36/lib/python3.6/site-packages (from azureml-dataprep<2.8.0a,>=2.7.0a->azureml-dataset-runtime[fuse]~=1.20.0->azureml-sdk[automl,notebooks,widgets]) (1.6.0)\n",
      "Requirement already up-to-date: azureml-dataprep-rslex<1.6.0a,>=1.5.0dev0 in /anaconda/envs/azureml_py36/lib/python3.6/site-packages (from azureml-dataprep<2.8.0a,>=2.7.0a->azureml-dataset-runtime[fuse]~=1.20.0->azureml-sdk[automl,notebooks,widgets]) (1.5.0)\n",
      "Requirement already up-to-date: pyasn1>=0.1.1 in /anaconda/envs/azureml_py36/lib/python3.6/site-packages (from ndg-httpsclient->azureml-core~=1.20.0->azureml-sdk[automl,notebooks,widgets]) (0.4.8)\n",
      "Requirement already up-to-date: ruamel.yaml.clib>=0.1.2; platform_python_implementation == \"CPython\" and python_version < \"3.9\" in /anaconda/envs/azureml_py36/lib/python3.6/site-packages (from ruamel.yaml>=0.15.35->azureml-core~=1.20.0->azureml-sdk[automl,notebooks,widgets]) (0.2.2)\n",
      "Requirement already up-to-date: importlib-metadata; python_version < \"3.8\" in /anaconda/envs/azureml_py36/lib/python3.6/site-packages (from jsonpickle->azureml-core~=1.20.0->azureml-sdk[automl,notebooks,widgets]) (3.4.0)\n",
      "Requirement already up-to-date: backports.weakref in /anaconda/envs/azureml_py36/lib/python3.6/site-packages (from backports.tempfile->azureml-core~=1.20.0->azureml-sdk[automl,notebooks,widgets]) (1.0.post1)\n",
      "Requirement already up-to-date: jeepney>=0.6 in /anaconda/envs/azureml_py36/lib/python3.6/site-packages (from SecretStorage->azureml-core~=1.20.0->azureml-sdk[automl,notebooks,widgets]) (0.6.0)\n",
      "Requirement already up-to-date: six in /anaconda/envs/azureml_py36/lib/python3.6/site-packages (from msrestazure>=0.4.33->azureml-core~=1.20.0->azureml-sdk[automl,notebooks,widgets]) (1.15.0)\n",
      "Requirement already up-to-date: certifi>=2017.4.17 in /anaconda/envs/azureml_py36/lib/python3.6/site-packages (from requests>=2.19.1->azureml-core~=1.20.0->azureml-sdk[automl,notebooks,widgets]) (2020.12.5)\n",
      "Requirement already up-to-date: idna<3,>=2.5 in /anaconda/envs/azureml_py36/lib/python3.6/site-packages (from requests>=2.19.1->azureml-core~=1.20.0->azureml-sdk[automl,notebooks,widgets]) (2.10)\n",
      "Requirement already up-to-date: chardet<5,>=3.0.2 in /anaconda/envs/azureml_py36/lib/python3.6/site-packages (from requests>=2.19.1->azureml-core~=1.20.0->azureml-sdk[automl,notebooks,widgets]) (4.0.0)\n",
      "Requirement already up-to-date: cffi>=1.12 in /anaconda/envs/azureml_py36/lib/python3.6/site-packages (from cryptography!=1.9,!=2.0.*,!=2.1.*,!=2.2.*->azureml-core~=1.20.0->azureml-sdk[automl,notebooks,widgets]) (1.14.4)\n",
      "Requirement already up-to-date: requests-oauthlib>=0.5.0 in /anaconda/envs/azureml_py36/lib/python3.6/site-packages (from msrest>=0.5.1->azureml-core~=1.20.0->azureml-sdk[automl,notebooks,widgets]) (1.3.0)\n",
      "Requirement already up-to-date: isodate>=0.6.0 in /anaconda/envs/azureml_py36/lib/python3.6/site-packages (from msrest>=0.5.1->azureml-core~=1.20.0->azureml-sdk[automl,notebooks,widgets]) (0.6.0)\n",
      "Requirement already up-to-date: websocket-client>=0.32.0 in /anaconda/envs/azureml_py36/lib/python3.6/site-packages (from docker->azureml-core~=1.20.0->azureml-sdk[automl,notebooks,widgets]) (0.57.0)\n",
      "Requirement already up-to-date: gensim<3.9.0 in /anaconda/envs/azureml_py36/lib/python3.6/site-packages (from azureml-automl-runtime~=1.20.0->azureml-train-automl~=1.20.0; extra == \"automl\"->azureml-sdk[automl,notebooks,widgets]) (3.8.3)\n",
      "Requirement already up-to-date: onnx<=1.7.0,>=1.5.0 in /anaconda/envs/azureml_py36/lib/python3.6/site-packages (from azureml-automl-runtime~=1.20.0->azureml-train-automl~=1.20.0; extra == \"automl\"->azureml-sdk[automl,notebooks,widgets]) (1.7.0)\n",
      "Requirement already up-to-date: scipy<=1.5.2,>=1.0.0 in /anaconda/envs/azureml_py36/lib/python3.6/site-packages (from azureml-automl-runtime~=1.20.0->azureml-train-automl~=1.20.0; extra == \"automl\"->azureml-sdk[automl,notebooks,widgets]) (1.5.2)\n",
      "Requirement already up-to-date: onnxruntime==1.3.0 in /anaconda/envs/azureml_py36/lib/python3.6/site-packages (from azureml-automl-runtime~=1.20.0->azureml-train-automl~=1.20.0; extra == \"automl\"->azureml-sdk[automl,notebooks,widgets]) (1.3.0)\n",
      "Requirement already up-to-date: statsmodels<=0.10.2,>=0.9.0 in /anaconda/envs/azureml_py36/lib/python3.6/site-packages (from azureml-automl-runtime~=1.20.0->azureml-train-automl~=1.20.0; extra == \"automl\"->azureml-sdk[automl,notebooks,widgets]) (0.10.2)\n",
      "Requirement already up-to-date: pmdarima==1.1.1 in /anaconda/envs/azureml_py36/lib/python3.6/site-packages (from azureml-automl-runtime~=1.20.0->azureml-train-automl~=1.20.0; extra == \"automl\"->azureml-sdk[automl,notebooks,widgets]) (1.1.1)\n",
      "Requirement already up-to-date: scikit-learn<0.23.0,>=0.19.0 in /anaconda/envs/azureml_py36/lib/python3.6/site-packages (from azureml-automl-runtime~=1.20.0->azureml-train-automl~=1.20.0; extra == \"automl\"->azureml-sdk[automl,notebooks,widgets]) (0.22.2.post1)\n",
      "Requirement already up-to-date: pandas<1.0.0,>=0.21.0 in /anaconda/envs/azureml_py36/lib/python3.6/site-packages (from azureml-automl-runtime~=1.20.0->azureml-train-automl~=1.20.0; extra == \"automl\"->azureml-sdk[automl,notebooks,widgets]) (0.25.3)\n",
      "Requirement already up-to-date: psutil<6.0.0,>=5.2.2 in /anaconda/envs/azureml_py36/lib/python3.6/site-packages (from azureml-automl-runtime~=1.20.0->azureml-train-automl~=1.20.0; extra == \"automl\"->azureml-sdk[automl,notebooks,widgets]) (5.8.0)\n"
     ]
    },
    {
     "name": "stdout",
     "output_type": "stream",
     "text": [
      "Requirement already up-to-date: keras2onnx<=1.6.0,>=1.4.0 in /anaconda/envs/azureml_py36/lib/python3.6/site-packages (from azureml-automl-runtime~=1.20.0->azureml-train-automl~=1.20.0; extra == \"automl\"->azureml-sdk[automl,notebooks,widgets]) (1.6.0)\n",
      "Requirement already up-to-date: botocore<=1.18.18 in /anaconda/envs/azureml_py36/lib/python3.6/site-packages (from azureml-automl-runtime~=1.20.0->azureml-train-automl~=1.20.0; extra == \"automl\"->azureml-sdk[automl,notebooks,widgets]) (1.18.18)\n",
      "Requirement already up-to-date: py-cpuinfo==5.0.0 in /anaconda/envs/azureml_py36/lib/python3.6/site-packages (from azureml-automl-runtime~=1.20.0->azureml-train-automl~=1.20.0; extra == \"automl\"->azureml-sdk[automl,notebooks,widgets]) (5.0.0)\n",
      "Requirement already up-to-date: joblib==0.14.1 in /anaconda/envs/azureml_py36/lib/python3.6/site-packages (from azureml-automl-runtime~=1.20.0->azureml-train-automl~=1.20.0; extra == \"automl\"->azureml-sdk[automl,notebooks,widgets]) (0.14.1)\n",
      "Requirement already up-to-date: onnxmltools==1.4.1 in /anaconda/envs/azureml_py36/lib/python3.6/site-packages (from azureml-automl-runtime~=1.20.0->azureml-train-automl~=1.20.0; extra == \"automl\"->azureml-sdk[automl,notebooks,widgets]) (1.4.1)\n",
      "Requirement already up-to-date: onnxconverter-common<=1.6.0,>=1.4.2 in /anaconda/envs/azureml_py36/lib/python3.6/site-packages (from azureml-automl-runtime~=1.20.0->azureml-train-automl~=1.20.0; extra == \"automl\"->azureml-sdk[automl,notebooks,widgets]) (1.6.0)\n",
      "Requirement already up-to-date: smart-open<=1.9.0 in /anaconda/envs/azureml_py36/lib/python3.6/site-packages (from azureml-automl-runtime~=1.20.0->azureml-train-automl~=1.20.0; extra == \"automl\"->azureml-sdk[automl,notebooks,widgets]) (1.9.0)\n",
      "Requirement already up-to-date: dill<0.4.0,>=0.2.8 in /anaconda/envs/azureml_py36/lib/python3.6/site-packages (from azureml-automl-runtime~=1.20.0->azureml-train-automl~=1.20.0; extra == \"automl\"->azureml-sdk[automl,notebooks,widgets]) (0.3.3)\n",
      "Requirement already up-to-date: lightgbm<=2.3.0,>=2.0.11 in /anaconda/envs/azureml_py36/lib/python3.6/site-packages (from azureml-automl-runtime~=1.20.0->azureml-train-automl~=1.20.0; extra == \"automl\"->azureml-sdk[automl,notebooks,widgets]) (2.3.0)\n",
      "Requirement already up-to-date: skl2onnx==1.4.9 in /anaconda/envs/azureml_py36/lib/python3.6/site-packages (from azureml-automl-runtime~=1.20.0->azureml-train-automl~=1.20.0; extra == \"automl\"->azureml-sdk[automl,notebooks,widgets]) (1.4.9)\n",
      "Requirement already up-to-date: boto3<=1.15.18 in /anaconda/envs/azureml_py36/lib/python3.6/site-packages (from azureml-automl-runtime~=1.20.0->azureml-train-automl~=1.20.0; extra == \"automl\"->azureml-sdk[automl,notebooks,widgets]) (1.15.18)\n",
      "Requirement already up-to-date: sklearn-pandas<=1.7.0,>=1.4.0 in /anaconda/envs/azureml_py36/lib/python3.6/site-packages (from azureml-automl-runtime~=1.20.0->azureml-train-automl~=1.20.0; extra == \"automl\"->azureml-sdk[automl,notebooks,widgets]) (1.7.0)\n",
      "Requirement already up-to-date: nimbusml<=1.8.0,>=1.7.1 in /anaconda/envs/azureml_py36/lib/python3.6/site-packages (from azureml-automl-runtime~=1.20.0->azureml-train-automl~=1.20.0; extra == \"automl\"->azureml-sdk[automl,notebooks,widgets]) (1.8.0)\n",
      "Requirement already up-to-date: jinja2<=2.11.2 in /anaconda/envs/azureml_py36/lib/python3.6/site-packages (from azureml-train-automl-runtime~=1.20.0->azureml-train-automl~=1.20.0; extra == \"automl\"->azureml-sdk[automl,notebooks,widgets]) (2.11.2)\n",
      "Requirement already up-to-date: azure-storage-queue~=12.1 in /anaconda/envs/azureml_py36/lib/python3.6/site-packages (from azureml-train-automl-runtime~=1.20.0->azureml-train-automl~=1.20.0; extra == \"automl\"->azureml-sdk[automl,notebooks,widgets]) (12.1.5)\n",
      "Requirement already up-to-date: azureml-interpret~=1.20.0 in /anaconda/envs/azureml_py36/lib/python3.6/site-packages (from azureml-train-automl-runtime~=1.20.0->azureml-train-automl~=1.20.0; extra == \"automl\"->azureml-sdk[automl,notebooks,widgets]) (1.20.0)\n",
      "Requirement already up-to-date: azureml-defaults~=1.20.0 in /anaconda/envs/azureml_py36/lib/python3.6/site-packages (from azureml-train-automl-runtime~=1.20.0->azureml-train-automl~=1.20.0; extra == \"automl\"->azureml-sdk[automl,notebooks,widgets]) (1.20.0)\n",
      "Requirement already up-to-date: jupyter-core in /anaconda/envs/azureml_py36/lib/python3.6/site-packages (from nbconvert<6->azureml-contrib-notebook~=1.20.0; extra == \"notebooks\"->azureml-sdk[automl,notebooks,widgets]) (4.7.0)\n",
      "Requirement already up-to-date: bleach in /anaconda/envs/azureml_py36/lib/python3.6/site-packages (from nbconvert<6->azureml-contrib-notebook~=1.20.0; extra == \"notebooks\"->azureml-sdk[automl,notebooks,widgets]) (3.2.2)\n",
      "Requirement already up-to-date: mistune<2,>=0.8.1 in /anaconda/envs/azureml_py36/lib/python3.6/site-packages (from nbconvert<6->azureml-contrib-notebook~=1.20.0; extra == \"notebooks\"->azureml-sdk[automl,notebooks,widgets]) (0.8.4)\n",
      "Requirement already up-to-date: entrypoints>=0.2.2 in /anaconda/envs/azureml_py36/lib/python3.6/site-packages (from nbconvert<6->azureml-contrib-notebook~=1.20.0; extra == \"notebooks\"->azureml-sdk[automl,notebooks,widgets]) (0.3)\n",
      "Requirement already up-to-date: traitlets>=4.2 in /anaconda/envs/azureml_py36/lib/python3.6/site-packages (from nbconvert<6->azureml-contrib-notebook~=1.20.0; extra == \"notebooks\"->azureml-sdk[automl,notebooks,widgets]) (4.3.3)\n",
      "Requirement already up-to-date: pygments in /anaconda/envs/azureml_py36/lib/python3.6/site-packages (from nbconvert<6->azureml-contrib-notebook~=1.20.0; extra == \"notebooks\"->azureml-sdk[automl,notebooks,widgets]) (2.7.4)\n",
      "Requirement already up-to-date: defusedxml in /anaconda/envs/azureml_py36/lib/python3.6/site-packages (from nbconvert<6->azureml-contrib-notebook~=1.20.0; extra == \"notebooks\"->azureml-sdk[automl,notebooks,widgets]) (0.6.0)\n",
      "Requirement already up-to-date: nbformat>=4.4 in /anaconda/envs/azureml_py36/lib/python3.6/site-packages (from nbconvert<6->azureml-contrib-notebook~=1.20.0; extra == \"notebooks\"->azureml-sdk[automl,notebooks,widgets]) (5.1.2)\n",
      "Requirement already up-to-date: testpath in /anaconda/envs/azureml_py36/lib/python3.6/site-packages (from nbconvert<6->azureml-contrib-notebook~=1.20.0; extra == \"notebooks\"->azureml-sdk[automl,notebooks,widgets]) (0.4.4)\n",
      "Requirement already up-to-date: pandocfilters>=1.4.1 in /anaconda/envs/azureml_py36/lib/python3.6/site-packages (from nbconvert<6->azureml-contrib-notebook~=1.20.0; extra == \"notebooks\"->azureml-sdk[automl,notebooks,widgets]) (1.4.3)\n",
      "Requirement already up-to-date: prompt-toolkit!=3.0.0,!=3.0.1,<3.1.0,>=2.0.0 in /anaconda/envs/azureml_py36/lib/python3.6/site-packages (from ipython->azureml-contrib-notebook~=1.20.0; extra == \"notebooks\"->azureml-sdk[automl,notebooks,widgets]) (3.0.14)\n",
      "Requirement already up-to-date: setuptools>=18.5 in /anaconda/envs/azureml_py36/lib/python3.6/site-packages (from ipython->azureml-contrib-notebook~=1.20.0; extra == \"notebooks\"->azureml-sdk[automl,notebooks,widgets]) (52.0.0)\n",
      "Requirement already up-to-date: backcall in /anaconda/envs/azureml_py36/lib/python3.6/site-packages (from ipython->azureml-contrib-notebook~=1.20.0; extra == \"notebooks\"->azureml-sdk[automl,notebooks,widgets]) (0.2.0)\n",
      "Requirement already up-to-date: jedi>=0.10 in /anaconda/envs/azureml_py36/lib/python3.6/site-packages (from ipython->azureml-contrib-notebook~=1.20.0; extra == \"notebooks\"->azureml-sdk[automl,notebooks,widgets]) (0.18.0)\n",
      "Requirement already up-to-date: pickleshare in /anaconda/envs/azureml_py36/lib/python3.6/site-packages (from ipython->azureml-contrib-notebook~=1.20.0; extra == \"notebooks\"->azureml-sdk[automl,notebooks,widgets]) (0.7.5)\n",
      "Requirement already up-to-date: pexpect; sys_platform != \"win32\" in /anaconda/envs/azureml_py36/lib/python3.6/site-packages (from ipython->azureml-contrib-notebook~=1.20.0; extra == \"notebooks\"->azureml-sdk[automl,notebooks,widgets]) (4.8.0)\n",
      "Requirement already up-to-date: decorator in /anaconda/envs/azureml_py36/lib/python3.6/site-packages (from ipython->azureml-contrib-notebook~=1.20.0; extra == \"notebooks\"->azureml-sdk[automl,notebooks,widgets]) (4.4.2)\n",
      "Requirement already up-to-date: future in /anaconda/envs/azureml_py36/lib/python3.6/site-packages (from papermill<2->azureml-contrib-notebook~=1.20.0; extra == \"notebooks\"->azureml-sdk[automl,notebooks,widgets]) (0.18.2)\n"
     ]
    },
    {
     "name": "stdout",
     "output_type": "stream",
     "text": [
      "Requirement already up-to-date: tqdm>=4.32.2 in /anaconda/envs/azureml_py36/lib/python3.6/site-packages (from papermill<2->azureml-contrib-notebook~=1.20.0; extra == \"notebooks\"->azureml-sdk[automl,notebooks,widgets]) (4.56.0)\n",
      "Requirement already up-to-date: tenacity in /anaconda/envs/azureml_py36/lib/python3.6/site-packages (from papermill<2->azureml-contrib-notebook~=1.20.0; extra == \"notebooks\"->azureml-sdk[automl,notebooks,widgets]) (6.3.1)\n",
      "Requirement already up-to-date: jupyter-client in /anaconda/envs/azureml_py36/lib/python3.6/site-packages (from papermill<2->azureml-contrib-notebook~=1.20.0; extra == \"notebooks\"->azureml-sdk[automl,notebooks,widgets]) (6.1.11)\n",
      "Requirement already up-to-date: pyyaml in /anaconda/envs/azureml_py36/lib/python3.6/site-packages (from papermill<2->azureml-contrib-notebook~=1.20.0; extra == \"notebooks\"->azureml-sdk[automl,notebooks,widgets]) (5.4.1)\n",
      "Requirement already up-to-date: ansiwrap in /anaconda/envs/azureml_py36/lib/python3.6/site-packages (from papermill<2->azureml-contrib-notebook~=1.20.0; extra == \"notebooks\"->azureml-sdk[automl,notebooks,widgets]) (0.8.4)\n",
      "Requirement already up-to-date: click in /anaconda/envs/azureml_py36/lib/python3.6/site-packages (from papermill<2->azureml-contrib-notebook~=1.20.0; extra == \"notebooks\"->azureml-sdk[automl,notebooks,widgets]) (7.1.2)\n",
      "Requirement already up-to-date: tornado>=4.2 in /anaconda/envs/azureml_py36/lib/python3.6/site-packages (from ipykernel->azureml-contrib-notebook~=1.20.0; extra == \"notebooks\"->azureml-sdk[automl,notebooks,widgets]) (6.1)\n",
      "Requirement already up-to-date: widgetsnbextension~=3.5.0 in /anaconda/envs/azureml_py36/lib/python3.6/site-packages (from ipywidgets>=7.0.0->azureml-widgets~=1.20.0; extra == \"notebooks\"->azureml-sdk[automl,notebooks,widgets]) (3.5.1)\n",
      "Requirement already up-to-date: jupyterlab-widgets>=1.0.0; python_version >= \"3.6\" in /anaconda/envs/azureml_py36/lib/python3.6/site-packages (from ipywidgets>=7.0.0->azureml-widgets~=1.20.0; extra == \"notebooks\"->azureml-sdk[automl,notebooks,widgets]) (1.0.0)\n",
      "Requirement already up-to-date: distro>=1.2.0 in /anaconda/envs/azureml_py36/lib/python3.6/site-packages (from dotnetcore2<3.0.0,>=2.1.14->azureml-dataprep<2.8.0a,>=2.7.0a->azureml-dataset-runtime[fuse]~=1.20.0->azureml-sdk[automl,notebooks,widgets]) (1.5.0)\n",
      "Requirement already up-to-date: msal-extensions~=0.2.2 in /anaconda/envs/azureml_py36/lib/python3.6/site-packages (from azure-identity<1.5.0,>=1.2.0->azureml-dataprep<2.8.0a,>=2.7.0a->azureml-dataset-runtime[fuse]~=1.20.0->azureml-sdk[automl,notebooks,widgets]) (0.2.2)\n",
      "Requirement already up-to-date: azure-core<2.0.0,>=1.0.0 in /anaconda/envs/azureml_py36/lib/python3.6/site-packages (from azure-identity<1.5.0,>=1.2.0->azureml-dataprep<2.8.0a,>=2.7.0a->azureml-dataset-runtime[fuse]~=1.20.0->azureml-sdk[automl,notebooks,widgets]) (1.10.0)\n",
      "Requirement already up-to-date: msal<2.0.0,>=1.3.0 in /anaconda/envs/azureml_py36/lib/python3.6/site-packages (from azure-identity<1.5.0,>=1.2.0->azureml-dataprep<2.8.0a,>=2.7.0a->azureml-dataset-runtime[fuse]~=1.20.0->azureml-sdk[automl,notebooks,widgets]) (1.8.0)\n",
      "Requirement already up-to-date: zipp>=0.5 in /anaconda/envs/azureml_py36/lib/python3.6/site-packages (from importlib-metadata; python_version < \"3.8\"->jsonpickle->azureml-core~=1.20.0->azureml-sdk[automl,notebooks,widgets]) (3.4.0)\n",
      "Requirement already up-to-date: typing-extensions>=3.6.4; python_version < \"3.8\" in /anaconda/envs/azureml_py36/lib/python3.6/site-packages (from importlib-metadata; python_version < \"3.8\"->jsonpickle->azureml-core~=1.20.0->azureml-sdk[automl,notebooks,widgets]) (3.7.4.3)\n",
      "Requirement already up-to-date: pycparser in /anaconda/envs/azureml_py36/lib/python3.6/site-packages (from cffi>=1.12->cryptography!=1.9,!=2.0.*,!=2.1.*,!=2.2.*->azureml-core~=1.20.0->azureml-sdk[automl,notebooks,widgets]) (2.20)\n",
      "Requirement already up-to-date: oauthlib>=3.0.0 in /anaconda/envs/azureml_py36/lib/python3.6/site-packages (from requests-oauthlib>=0.5.0->msrest>=0.5.1->azureml-core~=1.20.0->azureml-sdk[automl,notebooks,widgets]) (3.1.0)\n",
      "Requirement already up-to-date: protobuf in /anaconda/envs/azureml_py36/lib/python3.6/site-packages (from onnx<=1.7.0,>=1.5.0->azureml-automl-runtime~=1.20.0->azureml-train-automl~=1.20.0; extra == \"automl\"->azureml-sdk[automl,notebooks,widgets]) (3.14.0)\n",
      "Requirement already up-to-date: patsy>=0.4.0 in /anaconda/envs/azureml_py36/lib/python3.6/site-packages (from statsmodels<=0.10.2,>=0.9.0->azureml-automl-runtime~=1.20.0->azureml-train-automl~=1.20.0; extra == \"automl\"->azureml-sdk[automl,notebooks,widgets]) (0.5.1)\n",
      "Requirement already up-to-date: Cython>=0.29 in /anaconda/envs/azureml_py36/lib/python3.6/site-packages (from pmdarima==1.1.1->azureml-automl-runtime~=1.20.0->azureml-train-automl~=1.20.0; extra == \"automl\"->azureml-sdk[automl,notebooks,widgets]) (0.29.21)\n",
      "Requirement already up-to-date: fire in /anaconda/envs/azureml_py36/lib/python3.6/site-packages (from keras2onnx<=1.6.0,>=1.4.0->azureml-automl-runtime~=1.20.0->azureml-train-automl~=1.20.0; extra == \"automl\"->azureml-sdk[automl,notebooks,widgets]) (0.4.0)\n",
      "Requirement already up-to-date: boto>=2.32 in /anaconda/envs/azureml_py36/lib/python3.6/site-packages (from smart-open<=1.9.0->azureml-automl-runtime~=1.20.0->azureml-train-automl~=1.20.0; extra == \"automl\"->azureml-sdk[automl,notebooks,widgets]) (2.49.0)\n",
      "Requirement already up-to-date: s3transfer<0.4.0,>=0.3.0 in /anaconda/envs/azureml_py36/lib/python3.6/site-packages (from boto3<=1.15.18->azureml-automl-runtime~=1.20.0->azureml-train-automl~=1.20.0; extra == \"automl\"->azureml-sdk[automl,notebooks,widgets]) (0.3.4)\n",
      "Requirement already up-to-date: MarkupSafe>=0.23 in /anaconda/envs/azureml_py36/lib/python3.6/site-packages (from jinja2<=2.11.2->azureml-train-automl-runtime~=1.20.0->azureml-train-automl~=1.20.0; extra == \"automl\"->azureml-sdk[automl,notebooks,widgets]) (1.1.1)\n",
      "Requirement already up-to-date: interpret-community==0.15.* in /anaconda/envs/azureml_py36/lib/python3.6/site-packages (from azureml-interpret~=1.20.0->azureml-train-automl-runtime~=1.20.0->azureml-train-automl~=1.20.0; extra == \"automl\"->azureml-sdk[automl,notebooks,widgets]) (0.15.4)\n",
      "Requirement already up-to-date: json-logging-py==0.2 in /anaconda/envs/azureml_py36/lib/python3.6/site-packages (from azureml-defaults~=1.20.0->azureml-train-automl-runtime~=1.20.0->azureml-train-automl~=1.20.0; extra == \"automl\"->azureml-sdk[automl,notebooks,widgets]) (0.2)\n",
      "Requirement already up-to-date: configparser==3.7.4 in /anaconda/envs/azureml_py36/lib/python3.6/site-packages (from azureml-defaults~=1.20.0->azureml-train-automl-runtime~=1.20.0->azureml-train-automl~=1.20.0; extra == \"automl\"->azureml-sdk[automl,notebooks,widgets]) (3.7.4)\n",
      "Requirement already up-to-date: flask==1.0.3 in /anaconda/envs/azureml_py36/lib/python3.6/site-packages (from azureml-defaults~=1.20.0->azureml-train-automl-runtime~=1.20.0->azureml-train-automl~=1.20.0; extra == \"automl\"->azureml-sdk[automl,notebooks,widgets]) (1.0.3)\n",
      "Requirement already up-to-date: azureml-model-management-sdk==1.0.1b6.post1 in /anaconda/envs/azureml_py36/lib/python3.6/site-packages (from azureml-defaults~=1.20.0->azureml-train-automl-runtime~=1.20.0->azureml-train-automl~=1.20.0; extra == \"automl\"->azureml-sdk[automl,notebooks,widgets]) (1.0.1b6.post1)\n",
      "Requirement already up-to-date: gunicorn==19.9.0 in /anaconda/envs/azureml_py36/lib/python3.6/site-packages (from azureml-defaults~=1.20.0->azureml-train-automl-runtime~=1.20.0->azureml-train-automl~=1.20.0; extra == \"automl\"->azureml-sdk[automl,notebooks,widgets]) (19.9.0)\n",
      "Requirement already up-to-date: werkzeug<=1.0.1,>=0.16.1 in /anaconda/envs/azureml_py36/lib/python3.6/site-packages (from azureml-defaults~=1.20.0->azureml-train-automl-runtime~=1.20.0->azureml-train-automl~=1.20.0; extra == \"automl\"->azureml-sdk[automl,notebooks,widgets]) (1.0.1)\n",
      "Requirement already up-to-date: webencodings in /anaconda/envs/azureml_py36/lib/python3.6/site-packages (from bleach->nbconvert<6->azureml-contrib-notebook~=1.20.0; extra == \"notebooks\"->azureml-sdk[automl,notebooks,widgets]) (0.5.1)\n",
      "Requirement already up-to-date: packaging in /anaconda/envs/azureml_py36/lib/python3.6/site-packages (from bleach->nbconvert<6->azureml-contrib-notebook~=1.20.0; extra == \"notebooks\"->azureml-sdk[automl,notebooks,widgets]) (20.8)\n"
     ]
    },
    {
     "name": "stdout",
     "output_type": "stream",
     "text": [
      "Requirement already up-to-date: ipython-genutils in /anaconda/envs/azureml_py36/lib/python3.6/site-packages (from traitlets>=4.2->nbconvert<6->azureml-contrib-notebook~=1.20.0; extra == \"notebooks\"->azureml-sdk[automl,notebooks,widgets]) (0.2.0)\n",
      "Requirement already up-to-date: jsonschema!=2.5.0,>=2.4 in /anaconda/envs/azureml_py36/lib/python3.6/site-packages (from nbformat>=4.4->nbconvert<6->azureml-contrib-notebook~=1.20.0; extra == \"notebooks\"->azureml-sdk[automl,notebooks,widgets]) (3.2.0)\n",
      "Requirement already up-to-date: wcwidth in /anaconda/envs/azureml_py36/lib/python3.6/site-packages (from prompt-toolkit!=3.0.0,!=3.0.1,<3.1.0,>=2.0.0->ipython->azureml-contrib-notebook~=1.20.0; extra == \"notebooks\"->azureml-sdk[automl,notebooks,widgets]) (0.2.5)\n",
      "Requirement already up-to-date: parso<0.9.0,>=0.8.0 in /anaconda/envs/azureml_py36/lib/python3.6/site-packages (from jedi>=0.10->ipython->azureml-contrib-notebook~=1.20.0; extra == \"notebooks\"->azureml-sdk[automl,notebooks,widgets]) (0.8.1)\n",
      "Requirement already up-to-date: ptyprocess>=0.5 in /anaconda/envs/azureml_py36/lib/python3.6/site-packages (from pexpect; sys_platform != \"win32\"->ipython->azureml-contrib-notebook~=1.20.0; extra == \"notebooks\"->azureml-sdk[automl,notebooks,widgets]) (0.7.0)\n",
      "Requirement already up-to-date: pyzmq>=13 in /anaconda/envs/azureml_py36/lib/python3.6/site-packages (from jupyter-client->papermill<2->azureml-contrib-notebook~=1.20.0; extra == \"notebooks\"->azureml-sdk[automl,notebooks,widgets]) (21.0.1)\n",
      "Requirement already up-to-date: textwrap3>=0.9.2 in /anaconda/envs/azureml_py36/lib/python3.6/site-packages (from ansiwrap->papermill<2->azureml-contrib-notebook~=1.20.0; extra == \"notebooks\"->azureml-sdk[automl,notebooks,widgets]) (0.9.2)\n",
      "Requirement already up-to-date: notebook>=4.4.1 in /anaconda/envs/azureml_py36/lib/python3.6/site-packages (from widgetsnbextension~=3.5.0->ipywidgets>=7.0.0->azureml-widgets~=1.20.0; extra == \"notebooks\"->azureml-sdk[automl,notebooks,widgets]) (6.2.0)\n",
      "Requirement already up-to-date: portalocker~=1.0; platform_system != \"Windows\" in /anaconda/envs/azureml_py36/lib/python3.6/site-packages (from msal-extensions~=0.2.2->azure-identity<1.5.0,>=1.2.0->azureml-dataprep<2.8.0a,>=2.7.0a->azureml-dataset-runtime[fuse]~=1.20.0->azureml-sdk[automl,notebooks,widgets]) (1.7.1)\n",
      "Requirement already up-to-date: termcolor in /anaconda/envs/azureml_py36/lib/python3.6/site-packages (from fire->keras2onnx<=1.6.0,>=1.4.0->azureml-automl-runtime~=1.20.0->azureml-train-automl~=1.20.0; extra == \"automl\"->azureml-sdk[automl,notebooks,widgets]) (1.1.0)\n",
      "Requirement already up-to-date: shap<=0.34.0,>=0.20.0 in /anaconda/envs/azureml_py36/lib/python3.6/site-packages (from interpret-community==0.15.*->azureml-interpret~=1.20.0->azureml-train-automl-runtime~=1.20.0->azureml-train-automl~=1.20.0; extra == \"automl\"->azureml-sdk[automl,notebooks,widgets]) (0.34.0)\n",
      "Requirement already up-to-date: interpret-core[required]<=0.2.1,>=0.1.20 in /anaconda/envs/azureml_py36/lib/python3.6/site-packages (from interpret-community==0.15.*->azureml-interpret~=1.20.0->azureml-train-automl-runtime~=1.20.0->azureml-train-automl~=1.20.0; extra == \"automl\"->azureml-sdk[automl,notebooks,widgets]) (0.2.1)\n",
      "Requirement already up-to-date: itsdangerous>=0.24 in /anaconda/envs/azureml_py36/lib/python3.6/site-packages (from flask==1.0.3->azureml-defaults~=1.20.0->azureml-train-automl-runtime~=1.20.0->azureml-train-automl~=1.20.0; extra == \"automl\"->azureml-sdk[automl,notebooks,widgets]) (1.1.0)\n",
      "Requirement already up-to-date: liac-arff>=2.1.1 in /anaconda/envs/azureml_py36/lib/python3.6/site-packages (from azureml-model-management-sdk==1.0.1b6.post1->azureml-defaults~=1.20.0->azureml-train-automl-runtime~=1.20.0->azureml-train-automl~=1.20.0; extra == \"automl\"->azureml-sdk[automl,notebooks,widgets]) (2.5.0)\n",
      "Requirement already up-to-date: pyparsing>=2.0.2 in /anaconda/envs/azureml_py36/lib/python3.6/site-packages (from packaging->bleach->nbconvert<6->azureml-contrib-notebook~=1.20.0; extra == \"notebooks\"->azureml-sdk[automl,notebooks,widgets]) (2.4.7)\n",
      "Requirement already up-to-date: attrs>=17.4.0 in /anaconda/envs/azureml_py36/lib/python3.6/site-packages (from jsonschema!=2.5.0,>=2.4->nbformat>=4.4->nbconvert<6->azureml-contrib-notebook~=1.20.0; extra == \"notebooks\"->azureml-sdk[automl,notebooks,widgets]) (20.3.0)\n",
      "Requirement already up-to-date: pyrsistent>=0.14.0 in /anaconda/envs/azureml_py36/lib/python3.6/site-packages (from jsonschema!=2.5.0,>=2.4->nbformat>=4.4->nbconvert<6->azureml-contrib-notebook~=1.20.0; extra == \"notebooks\"->azureml-sdk[automl,notebooks,widgets]) (0.17.3)\n",
      "Requirement already up-to-date: Send2Trash>=1.5.0 in /anaconda/envs/azureml_py36/lib/python3.6/site-packages (from notebook>=4.4.1->widgetsnbextension~=3.5.0->ipywidgets>=7.0.0->azureml-widgets~=1.20.0; extra == \"notebooks\"->azureml-sdk[automl,notebooks,widgets]) (1.5.0)\n",
      "Requirement already up-to-date: terminado>=0.8.3 in /anaconda/envs/azureml_py36/lib/python3.6/site-packages (from notebook>=4.4.1->widgetsnbextension~=3.5.0->ipywidgets>=7.0.0->azureml-widgets~=1.20.0; extra == \"notebooks\"->azureml-sdk[automl,notebooks,widgets]) (0.9.2)\n",
      "Requirement already up-to-date: argon2-cffi in /anaconda/envs/azureml_py36/lib/python3.6/site-packages (from notebook>=4.4.1->widgetsnbextension~=3.5.0->ipywidgets>=7.0.0->azureml-widgets~=1.20.0; extra == \"notebooks\"->azureml-sdk[automl,notebooks,widgets]) (20.1.0)\n",
      "Requirement already up-to-date: prometheus-client in /anaconda/envs/azureml_py36/lib/python3.6/site-packages (from notebook>=4.4.1->widgetsnbextension~=3.5.0->ipywidgets>=7.0.0->azureml-widgets~=1.20.0; extra == \"notebooks\"->azureml-sdk[automl,notebooks,widgets]) (0.9.0)\n"
     ]
    }
   ],
   "source": [
    "#upgrade the sdk version by running below command in jupyter notebook terminal window \n",
    "#and restart the kernal before running this command.\n",
    "\n",
    "#pip install --upgrade azureml-core\n",
    "#pip install --upgrade azureml-automl-core\n",
    "!pip install --upgrade --upgrade-strategy eager azureml-sdk[automl,widgets,notebooks]"
   ]
  },
  {
   "cell_type": "code",
   "execution_count": 1,
   "metadata": {
    "gather": {
     "logged": 1598423888013
    },
    "jupyter": {
     "outputs_hidden": false,
     "source_hidden": false
    },
    "nteract": {
     "transient": {
      "deleting": false
     }
    }
   },
   "outputs": [
    {
     "name": "stdout",
     "output_type": "stream",
     "text": [
      "SDK version: 1.19.0\n"
     ]
    }
   ],
   "source": [
    "import logging\n",
    "import os\n",
    "import csv\n",
    "\n",
    "from matplotlib import pyplot as plt\n",
    "import numpy as np\n",
    "import pandas as pd\n",
    "from sklearn import datasets\n",
    "import pkg_resources\n",
    "\n",
    "import azureml.core\n",
    "from azureml.core.experiment import Experiment\n",
    "from azureml.core.workspace import Workspace\n",
    "from azureml.train.automl import AutoMLConfig\n",
    "from azureml.core.dataset import Dataset\n",
    "from azureml.core.environment import Environment\n",
    "from azureml.core.model import InferenceConfig\n",
    "from azureml.core.webservice import AciWebservice\n",
    "from azureml.core.model import Model\n",
    "import azureml.train.automl\n",
    "from azureml.pipeline.steps import AutoMLStep\n",
    "\n",
    "\n",
    "\n",
    "# Check core SDK version number\n",
    "print(\"SDK version:\", azureml.core.VERSION)"
   ]
  },
  {
   "cell_type": "code",
   "execution_count": 4,
   "metadata": {
    "gather": {
     "logged": 1598423890461
    },
    "jupyter": {
     "outputs_hidden": false,
     "source_hidden": false
    },
    "nteract": {
     "transient": {
      "deleting": false
     }
    }
   },
   "outputs": [
    {
     "name": "stdout",
     "output_type": "stream",
     "text": [
      "quick-starts-ws-135886\n",
      "aml-quickstarts-135886\n",
      "southcentralus\n",
      "9e65f93e-bdd8-437b-b1e8-0647cd6098f7\n"
     ]
    }
   ],
   "source": [
    "ws = Workspace.from_config()\n",
    "print(ws.name, ws.resource_group, ws.location, ws.subscription_id, sep = '\\n')\n",
    "\n"
   ]
  },
  {
   "cell_type": "code",
   "execution_count": 5,
   "metadata": {},
   "outputs": [],
   "source": [
    "# choose a name for experiment\n",
    "experiment_name = 'capstone-Automl'\n",
    "#project_folder = './pipeline-project'\n",
    "\n",
    "experiment=Experiment(ws, experiment_name)\n",
    "#experiment\n"
   ]
  },
  {
   "cell_type": "code",
   "execution_count": 6,
   "metadata": {},
   "outputs": [],
   "source": [
    "run = experiment.start_logging()"
   ]
  },
  {
   "cell_type": "markdown",
   "metadata": {},
   "source": [
    "# Creat Compute Cluster"
   ]
  },
  {
   "cell_type": "code",
   "execution_count": 7,
   "metadata": {},
   "outputs": [
    {
     "name": "stdout",
     "output_type": "stream",
     "text": [
      "Creating\n",
      "Succeeded............................................................................................................\n",
      "AmlCompute wait for completion finished\n",
      "\n",
      "Wait timeout has been reached\n",
      "Current provisioning state of AmlCompute is \"Succeeded\" and current node count is \"0\"\n"
     ]
    },
    {
     "data": {
      "text/plain": [
       "<azureml.core.compute.amlcompute.AmlComputeStatus at 0x7fd87484ee10>"
      ]
     },
     "execution_count": 7,
     "metadata": {},
     "output_type": "execute_result"
    }
   ],
   "source": [
    "from azureml.core.compute import AmlCompute\n",
    "from azureml.core.compute import ComputeTarget\n",
    "from azureml.core.compute_target import ComputeTargetException\n",
    "\n",
    "\n",
    "# Choose a name for your GPU cluster\n",
    "amlcompute_cluster_name = \"auto-ml\"\n",
    "\n",
    "# Verify that cluster does not exist already\n",
    "try:\n",
    "    compute_target = ComputeTarget(workspace=ws, name=amlcompute_cluster_name)\n",
    "    print('Found existing cluster, use it.')\n",
    "except ComputeTargetException:\n",
    "    compute_config = AmlCompute.provisioning_configuration(vm_size='STANDARD_D2_V2',# for GPU, use \"STANDARD_NC6\"\n",
    "                                                           #vm_priority = 'lowpriority', # optional\n",
    "                                                           max_nodes=4)\n",
    "    compute_target = ComputeTarget.create(ws, amlcompute_cluster_name, compute_config)\n",
    "\n",
    "compute_target.wait_for_completion(show_output=True, min_node_count = 1, timeout_in_minutes = 10)\n",
    "# For a more detailed view of current AmlCompute status, use get_status().\n",
    "compute_target.get_status()"
   ]
  },
  {
   "cell_type": "markdown",
   "metadata": {},
   "source": [
    "## Dataset\n",
    "\n",
    "### Overview\n",
    "TODO: In this markdown cell, give an overview of the dataset you are using. Also mention the task you will be performing."
   ]
  },
  {
   "cell_type": "markdown",
   "metadata": {},
   "source": [
    "\n",
    "TODO: Get data. In the cell below, write code to access the data you will be using in this project. Remember that the dataset needs to be external."
   ]
  },
  {
   "cell_type": "code",
   "execution_count": 8,
   "metadata": {},
   "outputs": [],
   "source": [
    "from azureml.data.dataset_factory import TabularDatasetFactory\n"
   ]
  },
  {
   "cell_type": "code",
   "execution_count": 9,
   "metadata": {},
   "outputs": [],
   "source": [
    "datastore= ws.get_default_datastore()"
   ]
  },
  {
   "cell_type": "code",
   "execution_count": 10,
   "metadata": {},
   "outputs": [
    {
     "name": "stdout",
     "output_type": "stream",
     "text": [
      "Uploading an estimated of 7 files\n",
      "Target already exists. Skipping upload for automl.ipynb\n",
      "Target already exists. Skipping upload for data.json\n",
      "Target already exists. Skipping upload for heart_failure_clinical_records_dataset.csv\n",
      "Target already exists. Skipping upload for score.py\n",
      "Target already exists. Skipping upload for .ipynb_checkpoints/automl-checkpoint.ipynb\n",
      "Uploading ./automl_errors.log\n",
      "Uploaded ./automl_errors.log, 1 files out of an estimated total of 6\n",
      "Uploading ./azureml_automl.log\n",
      "Uploaded ./azureml_automl.log, 2 files out of an estimated total of 6\n",
      "Uploaded 2 files\n"
     ]
    },
    {
     "data": {
      "text/plain": [
       "$AZUREML_DATAREFERENCE_workspaceblobstore"
      ]
     },
     "execution_count": 10,
     "metadata": {},
     "output_type": "execute_result"
    }
   ],
   "source": [
    "datastore.upload(src_dir= './', target_path= './')"
   ]
  },
  {
   "cell_type": "code",
   "execution_count": 11,
   "metadata": {},
   "outputs": [],
   "source": [
    "tds= Dataset.Tabular.from_delimited_files(datastore.path('./heart_failure_clinical_records_dataset.csv'))"
   ]
  },
  {
   "cell_type": "code",
   "execution_count": 12,
   "metadata": {},
   "outputs": [
    {
     "data": {
      "text/html": [
       "<div>\n",
       "<style scoped>\n",
       "    .dataframe tbody tr th:only-of-type {\n",
       "        vertical-align: middle;\n",
       "    }\n",
       "\n",
       "    .dataframe tbody tr th {\n",
       "        vertical-align: top;\n",
       "    }\n",
       "\n",
       "    .dataframe thead th {\n",
       "        text-align: right;\n",
       "    }\n",
       "</style>\n",
       "<table border=\"1\" class=\"dataframe\">\n",
       "  <thead>\n",
       "    <tr style=\"text-align: right;\">\n",
       "      <th></th>\n",
       "      <th>age</th>\n",
       "      <th>anaemia</th>\n",
       "      <th>creatinine_phosphokinase</th>\n",
       "      <th>diabetes</th>\n",
       "      <th>ejection_fraction</th>\n",
       "      <th>high_blood_pressure</th>\n",
       "      <th>platelets</th>\n",
       "      <th>serum_creatinine</th>\n",
       "      <th>serum_sodium</th>\n",
       "      <th>sex</th>\n",
       "      <th>smoking</th>\n",
       "      <th>time</th>\n",
       "      <th>DEATH_EVENT</th>\n",
       "    </tr>\n",
       "  </thead>\n",
       "  <tbody>\n",
       "    <tr>\n",
       "      <th>0</th>\n",
       "      <td>75.0</td>\n",
       "      <td>0</td>\n",
       "      <td>582</td>\n",
       "      <td>0</td>\n",
       "      <td>20</td>\n",
       "      <td>1</td>\n",
       "      <td>265000.00</td>\n",
       "      <td>1.9</td>\n",
       "      <td>130</td>\n",
       "      <td>1</td>\n",
       "      <td>0</td>\n",
       "      <td>4</td>\n",
       "      <td>1</td>\n",
       "    </tr>\n",
       "    <tr>\n",
       "      <th>1</th>\n",
       "      <td>55.0</td>\n",
       "      <td>0</td>\n",
       "      <td>7861</td>\n",
       "      <td>0</td>\n",
       "      <td>38</td>\n",
       "      <td>0</td>\n",
       "      <td>263358.03</td>\n",
       "      <td>1.1</td>\n",
       "      <td>136</td>\n",
       "      <td>1</td>\n",
       "      <td>0</td>\n",
       "      <td>6</td>\n",
       "      <td>1</td>\n",
       "    </tr>\n",
       "    <tr>\n",
       "      <th>2</th>\n",
       "      <td>65.0</td>\n",
       "      <td>0</td>\n",
       "      <td>146</td>\n",
       "      <td>0</td>\n",
       "      <td>20</td>\n",
       "      <td>0</td>\n",
       "      <td>162000.00</td>\n",
       "      <td>1.3</td>\n",
       "      <td>129</td>\n",
       "      <td>1</td>\n",
       "      <td>1</td>\n",
       "      <td>7</td>\n",
       "      <td>1</td>\n",
       "    </tr>\n",
       "    <tr>\n",
       "      <th>3</th>\n",
       "      <td>50.0</td>\n",
       "      <td>1</td>\n",
       "      <td>111</td>\n",
       "      <td>0</td>\n",
       "      <td>20</td>\n",
       "      <td>0</td>\n",
       "      <td>210000.00</td>\n",
       "      <td>1.9</td>\n",
       "      <td>137</td>\n",
       "      <td>1</td>\n",
       "      <td>0</td>\n",
       "      <td>7</td>\n",
       "      <td>1</td>\n",
       "    </tr>\n",
       "    <tr>\n",
       "      <th>4</th>\n",
       "      <td>65.0</td>\n",
       "      <td>1</td>\n",
       "      <td>160</td>\n",
       "      <td>1</td>\n",
       "      <td>20</td>\n",
       "      <td>0</td>\n",
       "      <td>327000.00</td>\n",
       "      <td>2.7</td>\n",
       "      <td>116</td>\n",
       "      <td>0</td>\n",
       "      <td>0</td>\n",
       "      <td>8</td>\n",
       "      <td>1</td>\n",
       "    </tr>\n",
       "  </tbody>\n",
       "</table>\n",
       "</div>"
      ],
      "text/plain": [
       "    age  anaemia  creatinine_phosphokinase  diabetes  ejection_fraction  \\\n",
       "0  75.0        0                       582         0                 20   \n",
       "1  55.0        0                      7861         0                 38   \n",
       "2  65.0        0                       146         0                 20   \n",
       "3  50.0        1                       111         0                 20   \n",
       "4  65.0        1                       160         1                 20   \n",
       "\n",
       "   high_blood_pressure  platelets  serum_creatinine  serum_sodium  sex  \\\n",
       "0                    1  265000.00               1.9           130    1   \n",
       "1                    0  263358.03               1.1           136    1   \n",
       "2                    0  162000.00               1.3           129    1   \n",
       "3                    0  210000.00               1.9           137    1   \n",
       "4                    0  327000.00               2.7           116    0   \n",
       "\n",
       "   smoking  time  DEATH_EVENT  \n",
       "0        0     4            1  \n",
       "1        0     6            1  \n",
       "2        1     7            1  \n",
       "3        0     7            1  \n",
       "4        0     8            1  "
      ]
     },
     "execution_count": 12,
     "metadata": {},
     "output_type": "execute_result"
    }
   ],
   "source": [
    "tds.to_pandas_dataframe().head()"
   ]
  },
  {
   "cell_type": "code",
   "execution_count": 13,
   "metadata": {},
   "outputs": [],
   "source": [
    "df= tds.to_pandas_dataframe()"
   ]
  },
  {
   "cell_type": "code",
   "execution_count": 14,
   "metadata": {},
   "outputs": [
    {
     "data": {
      "text/html": [
       "<div>\n",
       "<style scoped>\n",
       "    .dataframe tbody tr th:only-of-type {\n",
       "        vertical-align: middle;\n",
       "    }\n",
       "\n",
       "    .dataframe tbody tr th {\n",
       "        vertical-align: top;\n",
       "    }\n",
       "\n",
       "    .dataframe thead th {\n",
       "        text-align: right;\n",
       "    }\n",
       "</style>\n",
       "<table border=\"1\" class=\"dataframe\">\n",
       "  <thead>\n",
       "    <tr style=\"text-align: right;\">\n",
       "      <th></th>\n",
       "      <th>age</th>\n",
       "      <th>anaemia</th>\n",
       "      <th>creatinine_phosphokinase</th>\n",
       "      <th>diabetes</th>\n",
       "      <th>ejection_fraction</th>\n",
       "      <th>high_blood_pressure</th>\n",
       "      <th>platelets</th>\n",
       "      <th>serum_creatinine</th>\n",
       "      <th>serum_sodium</th>\n",
       "      <th>sex</th>\n",
       "      <th>smoking</th>\n",
       "      <th>time</th>\n",
       "    </tr>\n",
       "  </thead>\n",
       "  <tbody>\n",
       "    <tr>\n",
       "      <th>0</th>\n",
       "      <td>75.0</td>\n",
       "      <td>0</td>\n",
       "      <td>582</td>\n",
       "      <td>0</td>\n",
       "      <td>20</td>\n",
       "      <td>1</td>\n",
       "      <td>265000.00</td>\n",
       "      <td>1.9</td>\n",
       "      <td>130</td>\n",
       "      <td>1</td>\n",
       "      <td>0</td>\n",
       "      <td>4</td>\n",
       "    </tr>\n",
       "    <tr>\n",
       "      <th>1</th>\n",
       "      <td>55.0</td>\n",
       "      <td>0</td>\n",
       "      <td>7861</td>\n",
       "      <td>0</td>\n",
       "      <td>38</td>\n",
       "      <td>0</td>\n",
       "      <td>263358.03</td>\n",
       "      <td>1.1</td>\n",
       "      <td>136</td>\n",
       "      <td>1</td>\n",
       "      <td>0</td>\n",
       "      <td>6</td>\n",
       "    </tr>\n",
       "    <tr>\n",
       "      <th>2</th>\n",
       "      <td>65.0</td>\n",
       "      <td>0</td>\n",
       "      <td>146</td>\n",
       "      <td>0</td>\n",
       "      <td>20</td>\n",
       "      <td>0</td>\n",
       "      <td>162000.00</td>\n",
       "      <td>1.3</td>\n",
       "      <td>129</td>\n",
       "      <td>1</td>\n",
       "      <td>1</td>\n",
       "      <td>7</td>\n",
       "    </tr>\n",
       "    <tr>\n",
       "      <th>3</th>\n",
       "      <td>50.0</td>\n",
       "      <td>1</td>\n",
       "      <td>111</td>\n",
       "      <td>0</td>\n",
       "      <td>20</td>\n",
       "      <td>0</td>\n",
       "      <td>210000.00</td>\n",
       "      <td>1.9</td>\n",
       "      <td>137</td>\n",
       "      <td>1</td>\n",
       "      <td>0</td>\n",
       "      <td>7</td>\n",
       "    </tr>\n",
       "    <tr>\n",
       "      <th>4</th>\n",
       "      <td>65.0</td>\n",
       "      <td>1</td>\n",
       "      <td>160</td>\n",
       "      <td>1</td>\n",
       "      <td>20</td>\n",
       "      <td>0</td>\n",
       "      <td>327000.00</td>\n",
       "      <td>2.7</td>\n",
       "      <td>116</td>\n",
       "      <td>0</td>\n",
       "      <td>0</td>\n",
       "      <td>8</td>\n",
       "    </tr>\n",
       "  </tbody>\n",
       "</table>\n",
       "</div>"
      ],
      "text/plain": [
       "    age  anaemia  creatinine_phosphokinase  diabetes  ejection_fraction  \\\n",
       "0  75.0        0                       582         0                 20   \n",
       "1  55.0        0                      7861         0                 38   \n",
       "2  65.0        0                       146         0                 20   \n",
       "3  50.0        1                       111         0                 20   \n",
       "4  65.0        1                       160         1                 20   \n",
       "\n",
       "   high_blood_pressure  platelets  serum_creatinine  serum_sodium  sex  \\\n",
       "0                    1  265000.00               1.9           130    1   \n",
       "1                    0  263358.03               1.1           136    1   \n",
       "2                    0  162000.00               1.3           129    1   \n",
       "3                    0  210000.00               1.9           137    1   \n",
       "4                    0  327000.00               2.7           116    0   \n",
       "\n",
       "   smoking  time  \n",
       "0        0     4  \n",
       "1        0     6  \n",
       "2        1     7  \n",
       "3        0     7  \n",
       "4        0     8  "
      ]
     },
     "execution_count": 14,
     "metadata": {},
     "output_type": "execute_result"
    }
   ],
   "source": [
    "dataset_x = tds.to_pandas_dataframe().drop('DEATH_EVENT', axis= 1)\n",
    "dataset_x.head()"
   ]
  },
  {
   "cell_type": "markdown",
   "metadata": {},
   "source": [
    "## AutoML Configuration\n",
    "\n",
    "TODO: Explain why you chose the automl settings and cofiguration you used below."
   ]
  },
  {
   "cell_type": "code",
   "execution_count": 15,
   "metadata": {
    "gather": {
     "logged": 1598429217746
    },
    "jupyter": {
     "outputs_hidden": false,
     "source_hidden": false
    },
    "nteract": {
     "transient": {
      "deleting": false
     }
    }
   },
   "outputs": [],
   "source": [
    "# TODO: Put your automl settings here\n",
    "automl_settings = {\n",
    "    \"experiment_timeout_minutes\": 20,\n",
    "    \"max_concurrent_iterations\": 4,\n",
    "    \"primary_metric\" : 'accuracy'\n",
    "}\n",
    "\n",
    "# TODO: Put your automl config here\n",
    "automl_config = AutoMLConfig(compute_target=compute_target,\n",
    "                             task = \"classification\",\n",
    "                             training_data=tds,\n",
    "                             label_column_name=\"DEATH_EVENT\",   \n",
    "                             enable_early_stopping= True,\n",
    "                             featurization= 'auto',\n",
    "                             debug_log = \"automl_errors.log\",\n",
    "                             **automl_settings\n",
    "                            )"
   ]
  },
  {
   "cell_type": "code",
   "execution_count": 16,
   "metadata": {
    "gather": {
     "logged": 1598431107951
    },
    "jupyter": {
     "outputs_hidden": false,
     "source_hidden": false
    },
    "nteract": {
     "transient": {
      "deleting": false
     }
    }
   },
   "outputs": [
    {
     "name": "stdout",
     "output_type": "stream",
     "text": [
      "Running on remote.\n"
     ]
    }
   ],
   "source": [
    "# TODO: Submit your experiment\n",
    "remote_run = experiment.submit(automl_config)"
   ]
  },
  {
   "cell_type": "markdown",
   "metadata": {},
   "source": [
    "## Run Details\n",
    "\n",
    "OPTIONAL: Write about the different models trained and their performance. Why do you think some models did better than others?\n",
    "\n",
    "TODO: In the cell below, use the `RunDetails` widget to show the different experiments."
   ]
  },
  {
   "cell_type": "code",
   "execution_count": 17,
   "metadata": {
    "gather": {
     "logged": 1598431121770
    },
    "jupyter": {
     "outputs_hidden": false,
     "source_hidden": false
    },
    "nteract": {
     "transient": {
      "deleting": false
     }
    }
   },
   "outputs": [
    {
     "name": "stdout",
     "output_type": "stream",
     "text": [
      "\n",
      "Current status: FeaturesGeneration. Generating features for the dataset.\n",
      "Current status: ModelSelection. Beginning model selection.\n",
      "\n",
      "****************************************************************************************************\n",
      "DATA GUARDRAILS: \n",
      "\n",
      "TYPE:         Cross validation\n",
      "STATUS:       DONE\n",
      "DESCRIPTION:  Each iteration of the trained model was validated through cross-validation.\n",
      "              \n",
      "DETAILS:      \n",
      "+---------------------------------+\n",
      "|Number of folds                  |\n",
      "+=================================+\n",
      "|10                               |\n",
      "+---------------------------------+\n",
      "\n",
      "****************************************************************************************************\n",
      "\n",
      "TYPE:         Class balancing detection\n",
      "STATUS:       PASSED\n",
      "DESCRIPTION:  Your inputs were analyzed, and all classes are balanced in your training data.\n",
      "              Learn more about imbalanced data: https://aka.ms/AutomatedMLImbalancedData\n",
      "\n",
      "****************************************************************************************************\n",
      "\n",
      "TYPE:         Missing feature values imputation\n",
      "STATUS:       PASSED\n",
      "DESCRIPTION:  No feature missing values were detected in the training data.\n",
      "              Learn more about missing value imputation: https://aka.ms/AutomatedMLFeaturization\n",
      "\n",
      "****************************************************************************************************\n",
      "\n",
      "TYPE:         High cardinality feature detection\n",
      "STATUS:       PASSED\n",
      "DESCRIPTION:  Your inputs were analyzed, and no high cardinality features were detected.\n",
      "              Learn more about high cardinality feature handling: https://aka.ms/AutomatedMLFeaturization\n",
      "\n",
      "****************************************************************************************************\n",
      "\n",
      "****************************************************************************************************\n",
      "ITERATION: The iteration being evaluated.\n",
      "PIPELINE: A summary description of the pipeline being evaluated.\n",
      "DURATION: Time taken for the current iteration.\n",
      "METRIC: The result of computing score on the fitted pipeline.\n",
      "BEST: The best observed score thus far.\n",
      "****************************************************************************************************\n",
      "\n",
      " ITERATION   PIPELINE                                       DURATION      METRIC      BEST\n",
      "         2   MinMaxScaler RandomForest                      0:00:48       0.8393    0.8393\n",
      "         0   MaxAbsScaler LightGBM                          0:00:51       0.8360    0.8393\n",
      "         3   MinMaxScaler RandomForest                      0:00:51       0.8562    0.8562\n",
      "         6   MinMaxScaler SVM                               0:00:51       0.7225    0.8562\n",
      "         7   MaxAbsScaler GradientBoosting                  0:00:51       0.8460    0.8562\n",
      "         5   StandardScalerWrapper XGBoostClassifier        0:03:21       0.8459    0.8562\n",
      "         1   MaxAbsScaler XGBoostClassifier                 0:03:29       0.8359    0.8562\n",
      "         4   MinMaxScaler RandomForest                      0:03:26       0.8491    0.8562\n",
      "         8   SparseNormalizer LightGBM                      0:00:44       0.7560    0.8562\n",
      "        10   MinMaxScaler LightGBM                          0:00:44       0.8261    0.8562\n",
      "         9   RobustScaler RandomForest                      0:00:48       0.8361    0.8562\n",
      "        11   StandardScalerWrapper RandomForest             0:00:53       0.8497    0.8562\n",
      "        12   RobustScaler ExtremeRandomTrees                0:00:59       0.8528    0.8562\n",
      "        13   StandardScalerWrapper RandomForest             0:00:51       0.8494    0.8562\n",
      "        14   SparseNormalizer XGBoostClassifier             0:00:45       0.8093    0.8562\n",
      "        15   StandardScalerWrapper LightGBM                 0:00:49       0.8226    0.8562\n",
      "        16   RobustScaler LightGBM                          0:00:45       0.7994    0.8562\n",
      "        17   SparseNormalizer XGBoostClassifier             0:00:46       0.8461    0.8562\n",
      "        18   StandardScalerWrapper RandomForest             0:00:46       0.8494    0.8562\n",
      "        19   SparseNormalizer XGBoostClassifier             0:00:44       0.8362    0.8562\n",
      "        20   MinMaxScaler LightGBM                          0:00:43       0.8093    0.8562\n",
      "        21   StandardScalerWrapper XGBoostClassifier        0:00:49       0.8460    0.8562\n",
      "        22   StandardScalerWrapper LightGBM                 0:00:50       0.8259    0.8562\n",
      "        23   StandardScalerWrapper RandomForest             0:00:48       0.8461    0.8562\n",
      "        24   SparseNormalizer XGBoostClassifier             0:00:53       0.8597    0.8597\n",
      "        25   MaxAbsScaler RandomForest                      0:00:47       0.8022    0.8597\n",
      "        26   MaxAbsScaler ExtremeRandomTrees                0:00:52       0.7891    0.8597\n",
      "        28   MaxAbsScaler ExtremeRandomTrees                0:00:43       0.8359    0.8597\n",
      "        27   StandardScalerWrapper RandomForest             0:00:52       0.8425    0.8597\n",
      "        29   StandardScalerWrapper LightGBM                 0:01:14       0.8393    0.8597\n",
      "        32   MinMaxScaler RandomForest                      0:00:43       0.8429    0.8597\n",
      "        30   TruncatedSVDWrapper XGBoostClassifier          0:01:17       0.6792    0.8597\n",
      "        31   MaxAbsScaler LightGBM                          0:01:16       0.8460    0.8597\n",
      "        34   SparseNormalizer LightGBM                      0:00:48       0.8226    0.8597\n",
      "        33   MaxAbsScaler LightGBM                          0:01:15       0.8393    0.8597\n",
      "        36   StandardScalerWrapper RandomForest             0:00:50       0.8191    0.8597\n",
      "        35   SparseNormalizer XGBoostClassifier             0:01:14       0.8697    0.8697\n",
      "        37   MaxAbsScaler LightGBM                          0:00:44       0.8425    0.8697\n",
      "        38   RobustScaler LightGBM                          0:00:44       0.8328    0.8697\n",
      "        39   MinMaxScaler LightGBM                          0:00:52       0.8426    0.8697\n",
      "        40   SparseNormalizer XGBoostClassifier             0:00:48       0.8229    0.8697\n",
      "        41   StandardScalerWrapper XGBoostClassifier        0:00:52       0.8359    0.8697\n",
      "        42   SparseNormalizer XGBoostClassifier             0:00:42       0.8595    0.8697\n",
      "        43   SparseNormalizer XGBoostClassifier             0:00:45       0.8297    0.8697\n",
      "        44   SparseNormalizer XGBoostClassifier             0:00:45       0.8362    0.8697\n",
      "        45   StandardScalerWrapper XGBoostClassifier        0:00:48       0.6792    0.8697\n",
      "        46   MaxAbsScaler LightGBM                          0:00:46       0.8426    0.8697\n",
      "        47   MaxAbsScaler LightGBM                          0:00:43       0.8426    0.8697\n",
      "        48   SparseNormalizer GradientBoosting              0:00:45       0.8030    0.8697\n",
      "        49   StandardScalerWrapper XGBoostClassifier        0:00:45       0.8257    0.8697\n",
      "        50                                                  0:00:46          nan    0.8697\n",
      "        51   RobustScaler GradientBoosting                  0:00:34       0.8428    0.8697\n",
      "        52                                                  0:00:23          nan    0.8697\n",
      "        54    StackEnsemble                                 0:02:12       0.8730    0.8730\n",
      "        53    VotingEnsemble                                0:03:17       0.8830    0.8830\n"
     ]
    },
    {
     "data": {
      "text/plain": [
       "{'runId': 'AutoML_b4871787-e087-4afa-a6bf-a1f687d98bf1',\n",
       " 'target': 'auto-ml',\n",
       " 'status': 'Completed',\n",
       " 'startTimeUtc': '2021-01-24T10:31:54.282787Z',\n",
       " 'endTimeUtc': '2021-01-24T11:01:57.410289Z',\n",
       " 'properties': {'num_iterations': '1000',\n",
       "  'training_type': 'TrainFull',\n",
       "  'acquisition_function': 'EI',\n",
       "  'primary_metric': 'accuracy',\n",
       "  'train_split': '0',\n",
       "  'acquisition_parameter': '0',\n",
       "  'num_cross_validation': None,\n",
       "  'target': 'auto-ml',\n",
       "  'AMLSettingsJsonString': '{\"path\":null,\"name\":\"capstone-Automl\",\"subscription_id\":\"9e65f93e-bdd8-437b-b1e8-0647cd6098f7\",\"resource_group\":\"aml-quickstarts-135886\",\"workspace_name\":\"quick-starts-ws-135886\",\"region\":\"southcentralus\",\"compute_target\":\"auto-ml\",\"spark_service\":null,\"azure_service\":\"remote\",\"many_models\":false,\"pipeline_fetch_max_batch_size\":1,\"iterations\":1000,\"primary_metric\":\"accuracy\",\"task_type\":\"classification\",\"data_script\":null,\"validation_size\":0.0,\"n_cross_validations\":null,\"y_min\":null,\"y_max\":null,\"num_classes\":null,\"featurization\":\"auto\",\"_ignore_package_version_incompatibilities\":false,\"is_timeseries\":false,\"max_cores_per_iteration\":1,\"max_concurrent_iterations\":4,\"iteration_timeout_minutes\":null,\"mem_in_mb\":null,\"enforce_time_on_windows\":false,\"experiment_timeout_minutes\":20,\"experiment_exit_score\":null,\"whitelist_models\":null,\"blacklist_algos\":[\"TensorFlowLinearClassifier\",\"TensorFlowDNN\"],\"supported_models\":[\"SVM\",\"MultinomialNaiveBayes\",\"DecisionTree\",\"BernoulliNaiveBayes\",\"AveragedPerceptronClassifier\",\"GradientBoosting\",\"RandomForest\",\"TensorFlowLinearClassifier\",\"LinearSVM\",\"SGD\",\"XGBoostClassifier\",\"KNN\",\"LightGBM\",\"TensorFlowDNN\",\"ExtremeRandomTrees\",\"LogisticRegression\"],\"auto_blacklist\":true,\"blacklist_samples_reached\":false,\"exclude_nan_labels\":true,\"verbosity\":20,\"_debug_log\":\"azureml_automl.log\",\"show_warnings\":false,\"model_explainability\":true,\"service_url\":null,\"sdk_url\":null,\"sdk_packages\":null,\"enable_onnx_compatible_models\":false,\"enable_split_onnx_featurizer_estimator_models\":false,\"vm_type\":\"STANDARD_D2_V2\",\"telemetry_verbosity\":20,\"send_telemetry\":true,\"enable_dnn\":false,\"scenario\":\"SDK-1.13.0\",\"environment_label\":null,\"force_text_dnn\":false,\"enable_feature_sweeping\":true,\"enable_early_stopping\":true,\"early_stopping_n_iters\":10,\"metrics\":null,\"enable_ensembling\":true,\"enable_stack_ensembling\":true,\"ensemble_iterations\":15,\"enable_tf\":false,\"enable_subsampling\":null,\"subsample_seed\":null,\"enable_nimbusml\":false,\"enable_streaming\":false,\"force_streaming\":false,\"track_child_runs\":true,\"allowed_private_models\":[],\"label_column_name\":\"DEATH_EVENT\",\"weight_column_name\":null,\"cv_split_column_names\":null,\"enable_local_managed\":false,\"_local_managed_run_id\":null,\"cost_mode\":1,\"lag_length\":0,\"metric_operation\":\"maximize\",\"preprocess\":true}',\n",
       "  'DataPrepJsonString': '{\\\\\"training_data\\\\\": \\\\\"{\\\\\\\\\\\\\"blocks\\\\\\\\\\\\\": [{\\\\\\\\\\\\\"id\\\\\\\\\\\\\": \\\\\\\\\\\\\"6ed22b16-9a21-4f8e-9d8a-96e4da67f825\\\\\\\\\\\\\", \\\\\\\\\\\\\"type\\\\\\\\\\\\\": \\\\\\\\\\\\\"Microsoft.DPrep.GetDatastoreFilesBlock\\\\\\\\\\\\\", \\\\\\\\\\\\\"arguments\\\\\\\\\\\\\": {\\\\\\\\\\\\\"datastores\\\\\\\\\\\\\": [{\\\\\\\\\\\\\"datastoreName\\\\\\\\\\\\\": \\\\\\\\\\\\\"workspaceblobstore\\\\\\\\\\\\\", \\\\\\\\\\\\\"path\\\\\\\\\\\\\": \\\\\\\\\\\\\"./heart_failure_clinical_records_dataset.csv\\\\\\\\\\\\\", \\\\\\\\\\\\\"resourceGroup\\\\\\\\\\\\\": \\\\\\\\\\\\\"aml-quickstarts-135886\\\\\\\\\\\\\", \\\\\\\\\\\\\"subscription\\\\\\\\\\\\\": \\\\\\\\\\\\\"9e65f93e-bdd8-437b-b1e8-0647cd6098f7\\\\\\\\\\\\\", \\\\\\\\\\\\\"workspaceName\\\\\\\\\\\\\": \\\\\\\\\\\\\"quick-starts-ws-135886\\\\\\\\\\\\\"}]}, \\\\\\\\\\\\\"localData\\\\\\\\\\\\\": {}, \\\\\\\\\\\\\"isEnabled\\\\\\\\\\\\\": true, \\\\\\\\\\\\\"name\\\\\\\\\\\\\": null, \\\\\\\\\\\\\"annotation\\\\\\\\\\\\\": null}, {\\\\\\\\\\\\\"id\\\\\\\\\\\\\": \\\\\\\\\\\\\"d5cfacc6-8bcf-43bb-9ffd-be1f09705a3a\\\\\\\\\\\\\", \\\\\\\\\\\\\"type\\\\\\\\\\\\\": \\\\\\\\\\\\\"Microsoft.DPrep.ParseDelimitedBlock\\\\\\\\\\\\\", \\\\\\\\\\\\\"arguments\\\\\\\\\\\\\": {\\\\\\\\\\\\\"columnHeadersMode\\\\\\\\\\\\\": 3, \\\\\\\\\\\\\"fileEncoding\\\\\\\\\\\\\": 0, \\\\\\\\\\\\\"handleQuotedLineBreaks\\\\\\\\\\\\\": false, \\\\\\\\\\\\\"preview\\\\\\\\\\\\\": false, \\\\\\\\\\\\\"separator\\\\\\\\\\\\\": \\\\\\\\\\\\\",\\\\\\\\\\\\\", \\\\\\\\\\\\\"skipRows\\\\\\\\\\\\\": 0, \\\\\\\\\\\\\"skipRowsMode\\\\\\\\\\\\\": 0}, \\\\\\\\\\\\\"localData\\\\\\\\\\\\\": {}, \\\\\\\\\\\\\"isEnabled\\\\\\\\\\\\\": true, \\\\\\\\\\\\\"name\\\\\\\\\\\\\": null, \\\\\\\\\\\\\"annotation\\\\\\\\\\\\\": null}, {\\\\\\\\\\\\\"id\\\\\\\\\\\\\": \\\\\\\\\\\\\"eee2bd6b-c82b-4e8f-bb36-4c120576458d\\\\\\\\\\\\\", \\\\\\\\\\\\\"type\\\\\\\\\\\\\": \\\\\\\\\\\\\"Microsoft.DPrep.DropColumnsBlock\\\\\\\\\\\\\", \\\\\\\\\\\\\"arguments\\\\\\\\\\\\\": {\\\\\\\\\\\\\"columns\\\\\\\\\\\\\": {\\\\\\\\\\\\\"type\\\\\\\\\\\\\": 0, \\\\\\\\\\\\\"details\\\\\\\\\\\\\": {\\\\\\\\\\\\\"selectedColumns\\\\\\\\\\\\\": [\\\\\\\\\\\\\"Path\\\\\\\\\\\\\"]}}}, \\\\\\\\\\\\\"localData\\\\\\\\\\\\\": {}, \\\\\\\\\\\\\"isEnabled\\\\\\\\\\\\\": true, \\\\\\\\\\\\\"name\\\\\\\\\\\\\": null, \\\\\\\\\\\\\"annotation\\\\\\\\\\\\\": null}, {\\\\\\\\\\\\\"id\\\\\\\\\\\\\": \\\\\\\\\\\\\"e42f7ec6-756f-4678-b39a-84cf5728d79e\\\\\\\\\\\\\", \\\\\\\\\\\\\"type\\\\\\\\\\\\\": \\\\\\\\\\\\\"Microsoft.DPrep.SetColumnTypesBlock\\\\\\\\\\\\\", \\\\\\\\\\\\\"arguments\\\\\\\\\\\\\": {\\\\\\\\\\\\\"columnConversion\\\\\\\\\\\\\": [{\\\\\\\\\\\\\"column\\\\\\\\\\\\\": {\\\\\\\\\\\\\"type\\\\\\\\\\\\\": 2, \\\\\\\\\\\\\"details\\\\\\\\\\\\\": {\\\\\\\\\\\\\"selectedColumn\\\\\\\\\\\\\": \\\\\\\\\\\\\"age\\\\\\\\\\\\\"}}, \\\\\\\\\\\\\"typeProperty\\\\\\\\\\\\\": 3}, {\\\\\\\\\\\\\"column\\\\\\\\\\\\\": {\\\\\\\\\\\\\"type\\\\\\\\\\\\\": 2, \\\\\\\\\\\\\"details\\\\\\\\\\\\\": {\\\\\\\\\\\\\"selectedColumn\\\\\\\\\\\\\": \\\\\\\\\\\\\"anaemia\\\\\\\\\\\\\"}}, \\\\\\\\\\\\\"typeProperty\\\\\\\\\\\\\": 2}, {\\\\\\\\\\\\\"column\\\\\\\\\\\\\": {\\\\\\\\\\\\\"type\\\\\\\\\\\\\": 2, \\\\\\\\\\\\\"details\\\\\\\\\\\\\": {\\\\\\\\\\\\\"selectedColumn\\\\\\\\\\\\\": \\\\\\\\\\\\\"creatinine_phosphokinase\\\\\\\\\\\\\"}}, \\\\\\\\\\\\\"typeProperty\\\\\\\\\\\\\": 2}, {\\\\\\\\\\\\\"column\\\\\\\\\\\\\": {\\\\\\\\\\\\\"type\\\\\\\\\\\\\": 2, \\\\\\\\\\\\\"details\\\\\\\\\\\\\": {\\\\\\\\\\\\\"selectedColumn\\\\\\\\\\\\\": \\\\\\\\\\\\\"diabetes\\\\\\\\\\\\\"}}, \\\\\\\\\\\\\"typeProperty\\\\\\\\\\\\\": 2}, {\\\\\\\\\\\\\"column\\\\\\\\\\\\\": {\\\\\\\\\\\\\"type\\\\\\\\\\\\\": 2, \\\\\\\\\\\\\"details\\\\\\\\\\\\\": {\\\\\\\\\\\\\"selectedColumn\\\\\\\\\\\\\": \\\\\\\\\\\\\"ejection_fraction\\\\\\\\\\\\\"}}, \\\\\\\\\\\\\"typeProperty\\\\\\\\\\\\\": 2}, {\\\\\\\\\\\\\"column\\\\\\\\\\\\\": {\\\\\\\\\\\\\"type\\\\\\\\\\\\\": 2, \\\\\\\\\\\\\"details\\\\\\\\\\\\\": {\\\\\\\\\\\\\"selectedColumn\\\\\\\\\\\\\": \\\\\\\\\\\\\"high_blood_pressure\\\\\\\\\\\\\"}}, \\\\\\\\\\\\\"typeProperty\\\\\\\\\\\\\": 2}, {\\\\\\\\\\\\\"column\\\\\\\\\\\\\": {\\\\\\\\\\\\\"type\\\\\\\\\\\\\": 2, \\\\\\\\\\\\\"details\\\\\\\\\\\\\": {\\\\\\\\\\\\\"selectedColumn\\\\\\\\\\\\\": \\\\\\\\\\\\\"platelets\\\\\\\\\\\\\"}}, \\\\\\\\\\\\\"typeProperty\\\\\\\\\\\\\": 3}, {\\\\\\\\\\\\\"column\\\\\\\\\\\\\": {\\\\\\\\\\\\\"type\\\\\\\\\\\\\": 2, \\\\\\\\\\\\\"details\\\\\\\\\\\\\": {\\\\\\\\\\\\\"selectedColumn\\\\\\\\\\\\\": \\\\\\\\\\\\\"serum_creatinine\\\\\\\\\\\\\"}}, \\\\\\\\\\\\\"typeProperty\\\\\\\\\\\\\": 3}, {\\\\\\\\\\\\\"column\\\\\\\\\\\\\": {\\\\\\\\\\\\\"type\\\\\\\\\\\\\": 2, \\\\\\\\\\\\\"details\\\\\\\\\\\\\": {\\\\\\\\\\\\\"selectedColumn\\\\\\\\\\\\\": \\\\\\\\\\\\\"serum_sodium\\\\\\\\\\\\\"}}, \\\\\\\\\\\\\"typeProperty\\\\\\\\\\\\\": 2}, {\\\\\\\\\\\\\"column\\\\\\\\\\\\\": {\\\\\\\\\\\\\"type\\\\\\\\\\\\\": 2, \\\\\\\\\\\\\"details\\\\\\\\\\\\\": {\\\\\\\\\\\\\"selectedColumn\\\\\\\\\\\\\": \\\\\\\\\\\\\"sex\\\\\\\\\\\\\"}}, \\\\\\\\\\\\\"typeProperty\\\\\\\\\\\\\": 2}, {\\\\\\\\\\\\\"column\\\\\\\\\\\\\": {\\\\\\\\\\\\\"type\\\\\\\\\\\\\": 2, \\\\\\\\\\\\\"details\\\\\\\\\\\\\": {\\\\\\\\\\\\\"selectedColumn\\\\\\\\\\\\\": \\\\\\\\\\\\\"smoking\\\\\\\\\\\\\"}}, \\\\\\\\\\\\\"typeProperty\\\\\\\\\\\\\": 2}, {\\\\\\\\\\\\\"column\\\\\\\\\\\\\": {\\\\\\\\\\\\\"type\\\\\\\\\\\\\": 2, \\\\\\\\\\\\\"details\\\\\\\\\\\\\": {\\\\\\\\\\\\\"selectedColumn\\\\\\\\\\\\\": \\\\\\\\\\\\\"time\\\\\\\\\\\\\"}}, \\\\\\\\\\\\\"typeProperty\\\\\\\\\\\\\": 2}, {\\\\\\\\\\\\\"column\\\\\\\\\\\\\": {\\\\\\\\\\\\\"type\\\\\\\\\\\\\": 2, \\\\\\\\\\\\\"details\\\\\\\\\\\\\": {\\\\\\\\\\\\\"selectedColumn\\\\\\\\\\\\\": \\\\\\\\\\\\\"DEATH_EVENT\\\\\\\\\\\\\"}}, \\\\\\\\\\\\\"typeProperty\\\\\\\\\\\\\": 2}]}, \\\\\\\\\\\\\"localData\\\\\\\\\\\\\": {}, \\\\\\\\\\\\\"isEnabled\\\\\\\\\\\\\": true, \\\\\\\\\\\\\"name\\\\\\\\\\\\\": null, \\\\\\\\\\\\\"annotation\\\\\\\\\\\\\": null}], \\\\\\\\\\\\\"inspectors\\\\\\\\\\\\\": [], \\\\\\\\\\\\\"meta\\\\\\\\\\\\\": {\\\\\\\\\\\\\"savedDatasetId\\\\\\\\\\\\\": \\\\\\\\\\\\\"33831fb3-e515-4e2c-8626-808e6285526a\\\\\\\\\\\\\", \\\\\\\\\\\\\"datasetType\\\\\\\\\\\\\": \\\\\\\\\\\\\"tabular\\\\\\\\\\\\\", \\\\\\\\\\\\\"subscriptionId\\\\\\\\\\\\\": \\\\\\\\\\\\\"9e65f93e-bdd8-437b-b1e8-0647cd6098f7\\\\\\\\\\\\\", \\\\\\\\\\\\\"workspaceId\\\\\\\\\\\\\": \\\\\\\\\\\\\"305b4b53-96ae-4f8d-bfd0-15bbccc40003\\\\\\\\\\\\\", \\\\\\\\\\\\\"workspaceLocation\\\\\\\\\\\\\": \\\\\\\\\\\\\"southcentralus\\\\\\\\\\\\\"}}\\\\\", \\\\\"activities\\\\\": 0}',\n",
       "  'EnableSubsampling': None,\n",
       "  'runTemplate': 'AutoML',\n",
       "  'azureml.runsource': 'automl',\n",
       "  'display_task_type': 'classification',\n",
       "  'dependencies_versions': '{\"azureml-widgets\": \"1.19.0\", \"azureml-train\": \"1.19.0\", \"azureml-train-restclients-hyperdrive\": \"1.19.0\", \"azureml-train-core\": \"1.19.0\", \"azureml-train-automl\": \"1.19.0\", \"azureml-train-automl-runtime\": \"1.19.0\", \"azureml-train-automl-client\": \"1.19.0\", \"azureml-tensorboard\": \"1.19.0\", \"azureml-telemetry\": \"1.19.0\", \"azureml-sdk\": \"1.19.0\", \"azureml-samples\": \"0+unknown\", \"azureml-pipeline\": \"1.19.0\", \"azureml-pipeline-steps\": \"1.19.0\", \"azureml-pipeline-core\": \"1.19.0\", \"azureml-opendatasets\": \"1.19.0\", \"azureml-model-management-sdk\": \"1.0.1b6.post1\", \"azureml-mlflow\": \"1.19.0\", \"azureml-interpret\": \"1.19.0\", \"azureml-explain-model\": \"1.19.0\", \"azureml-defaults\": \"1.19.0\", \"azureml-dataset-runtime\": \"1.19.0.post1\", \"azureml-dataprep\": \"2.6.1\", \"azureml-dataprep-rslex\": \"1.4.0\", \"azureml-dataprep-native\": \"26.0.0\", \"azureml-datadrift\": \"1.19.0\", \"azureml-core\": \"1.19.0\", \"azureml-contrib-services\": \"1.19.0\", \"azureml-contrib-server\": \"1.19.0\", \"azureml-contrib-reinforcementlearning\": \"1.19.0\", \"azureml-contrib-pipeline-steps\": \"1.19.0\", \"azureml-contrib-notebook\": \"1.19.0\", \"azureml-contrib-interpret\": \"1.19.0\", \"azureml-contrib-gbdt\": \"1.19.0\", \"azureml-contrib-fairness\": \"1.19.0\", \"azureml-contrib-dataset\": \"1.19.0\", \"azureml-cli-common\": \"1.19.0\", \"azureml-automl-runtime\": \"1.19.0\", \"azureml-automl-core\": \"1.19.0\", \"azureml-accel-models\": \"1.19.0\"}',\n",
       "  '_aml_system_scenario_identification': 'Remote.Parent',\n",
       "  'ClientType': 'SDK',\n",
       "  'environment_cpu_name': 'AzureML-AutoML',\n",
       "  'environment_cpu_label': 'prod',\n",
       "  'environment_gpu_name': 'AzureML-AutoML-GPU',\n",
       "  'environment_gpu_label': 'prod',\n",
       "  'root_attribution': 'automl',\n",
       "  'attribution': 'AutoML',\n",
       "  'Orchestrator': 'AutoML',\n",
       "  'CancelUri': 'https://southcentralus.experiments.azureml.net/jasmine/v1.0/subscriptions/9e65f93e-bdd8-437b-b1e8-0647cd6098f7/resourceGroups/aml-quickstarts-135886/providers/Microsoft.MachineLearningServices/workspaces/quick-starts-ws-135886/experimentids/f6b99e50-54a9-4c7f-86eb-0ac66fcba68b/cancel/AutoML_b4871787-e087-4afa-a6bf-a1f687d98bf1',\n",
       "  'ClientSdkVersion': '1.20.0',\n",
       "  'snapshotId': '00000000-0000-0000-0000-000000000000',\n",
       "  'SetupRunId': 'AutoML_b4871787-e087-4afa-a6bf-a1f687d98bf1_setup',\n",
       "  'SetupRunContainerId': 'dcid.AutoML_b4871787-e087-4afa-a6bf-a1f687d98bf1_setup',\n",
       "  'FeaturizationRunJsonPath': 'featurizer_container.json',\n",
       "  'FeaturizationRunId': 'AutoML_b4871787-e087-4afa-a6bf-a1f687d98bf1_featurize',\n",
       "  'ProblemInfoJsonString': '{\"dataset_num_categorical\": 0, \"is_sparse\": false, \"subsampling\": false, \"dataset_classes\": 2, \"dataset_features\": 12, \"dataset_samples\": 299, \"single_frequency_class_detected\": false}',\n",
       "  'ModelExplainRunId': 'AutoML_b4871787-e087-4afa-a6bf-a1f687d98bf1_ModelExplain'},\n",
       " 'inputDatasets': [{'dataset': {'id': '33831fb3-e515-4e2c-8626-808e6285526a'}, 'consumptionDetails': {'type': 'RunInput', 'inputName': 'training_data', 'mechanism': 'Direct'}}],\n",
       " 'outputDatasets': [],\n",
       " 'logFiles': {}}"
      ]
     },
     "execution_count": 17,
     "metadata": {},
     "output_type": "execute_result"
    }
   ],
   "source": [
    "# Retrieve and save your best automl model.\n",
    "remote_run.wait_for_completion(show_output=True)\n",
    "\n"
   ]
  },
  {
   "cell_type": "code",
   "execution_count": 18,
   "metadata": {},
   "outputs": [
    {
     "data": {
      "application/vnd.jupyter.widget-view+json": {
       "model_id": "035f929df889467d9c71b96ef646b22f",
       "version_major": 2,
       "version_minor": 0
      },
      "text/plain": [
       "_AutoMLWidget(widget_settings={'childWidgetDisplay': 'popup', 'send_telemetry': False, 'log_level': 'INFO', 's…"
      ]
     },
     "metadata": {},
     "output_type": "display_data"
    },
    {
     "data": {
      "application/aml.mini.widget.v1": "{\"status\": \"Completed\", \"workbench_run_details_uri\": \"https://ml.azure.com/experiments/capstone-Automl/runs/AutoML_b4871787-e087-4afa-a6bf-a1f687d98bf1?wsid=/subscriptions/9e65f93e-bdd8-437b-b1e8-0647cd6098f7/resourcegroups/aml-quickstarts-135886/workspaces/quick-starts-ws-135886\", \"run_id\": \"AutoML_b4871787-e087-4afa-a6bf-a1f687d98bf1\", \"run_properties\": {\"run_id\": \"AutoML_b4871787-e087-4afa-a6bf-a1f687d98bf1\", \"created_utc\": \"2021-01-24T10:31:33.03335Z\", \"properties\": {\"num_iterations\": \"1000\", \"training_type\": \"TrainFull\", \"acquisition_function\": \"EI\", \"primary_metric\": \"accuracy\", \"train_split\": \"0\", \"acquisition_parameter\": \"0\", \"num_cross_validation\": null, \"target\": \"auto-ml\", \"AMLSettingsJsonString\": \"{\\\"path\\\":null,\\\"name\\\":\\\"capstone-Automl\\\",\\\"subscription_id\\\":\\\"9e65f93e-bdd8-437b-b1e8-0647cd6098f7\\\",\\\"resource_group\\\":\\\"aml-quickstarts-135886\\\",\\\"workspace_name\\\":\\\"quick-starts-ws-135886\\\",\\\"region\\\":\\\"southcentralus\\\",\\\"compute_target\\\":\\\"auto-ml\\\",\\\"spark_service\\\":null,\\\"azure_service\\\":\\\"remote\\\",\\\"many_models\\\":false,\\\"pipeline_fetch_max_batch_size\\\":1,\\\"iterations\\\":1000,\\\"primary_metric\\\":\\\"accuracy\\\",\\\"task_type\\\":\\\"classification\\\",\\\"data_script\\\":null,\\\"validation_size\\\":0.0,\\\"n_cross_validations\\\":null,\\\"y_min\\\":null,\\\"y_max\\\":null,\\\"num_classes\\\":null,\\\"featurization\\\":\\\"auto\\\",\\\"_ignore_package_version_incompatibilities\\\":false,\\\"is_timeseries\\\":false,\\\"max_cores_per_iteration\\\":1,\\\"max_concurrent_iterations\\\":4,\\\"iteration_timeout_minutes\\\":null,\\\"mem_in_mb\\\":null,\\\"enforce_time_on_windows\\\":false,\\\"experiment_timeout_minutes\\\":20,\\\"experiment_exit_score\\\":null,\\\"whitelist_models\\\":null,\\\"blacklist_algos\\\":[\\\"TensorFlowLinearClassifier\\\",\\\"TensorFlowDNN\\\"],\\\"supported_models\\\":[\\\"SVM\\\",\\\"MultinomialNaiveBayes\\\",\\\"DecisionTree\\\",\\\"BernoulliNaiveBayes\\\",\\\"AveragedPerceptronClassifier\\\",\\\"GradientBoosting\\\",\\\"RandomForest\\\",\\\"TensorFlowLinearClassifier\\\",\\\"LinearSVM\\\",\\\"SGD\\\",\\\"XGBoostClassifier\\\",\\\"KNN\\\",\\\"LightGBM\\\",\\\"TensorFlowDNN\\\",\\\"ExtremeRandomTrees\\\",\\\"LogisticRegression\\\"],\\\"auto_blacklist\\\":true,\\\"blacklist_samples_reached\\\":false,\\\"exclude_nan_labels\\\":true,\\\"verbosity\\\":20,\\\"_debug_log\\\":\\\"azureml_automl.log\\\",\\\"show_warnings\\\":false,\\\"model_explainability\\\":true,\\\"service_url\\\":null,\\\"sdk_url\\\":null,\\\"sdk_packages\\\":null,\\\"enable_onnx_compatible_models\\\":false,\\\"enable_split_onnx_featurizer_estimator_models\\\":false,\\\"vm_type\\\":\\\"STANDARD_D2_V2\\\",\\\"telemetry_verbosity\\\":20,\\\"send_telemetry\\\":true,\\\"enable_dnn\\\":false,\\\"scenario\\\":\\\"SDK-1.13.0\\\",\\\"environment_label\\\":null,\\\"force_text_dnn\\\":false,\\\"enable_feature_sweeping\\\":true,\\\"enable_early_stopping\\\":true,\\\"early_stopping_n_iters\\\":10,\\\"metrics\\\":null,\\\"enable_ensembling\\\":true,\\\"enable_stack_ensembling\\\":true,\\\"ensemble_iterations\\\":15,\\\"enable_tf\\\":false,\\\"enable_subsampling\\\":null,\\\"subsample_seed\\\":null,\\\"enable_nimbusml\\\":false,\\\"enable_streaming\\\":false,\\\"force_streaming\\\":false,\\\"track_child_runs\\\":true,\\\"allowed_private_models\\\":[],\\\"label_column_name\\\":\\\"DEATH_EVENT\\\",\\\"weight_column_name\\\":null,\\\"cv_split_column_names\\\":null,\\\"enable_local_managed\\\":false,\\\"_local_managed_run_id\\\":null,\\\"cost_mode\\\":1,\\\"lag_length\\\":0,\\\"metric_operation\\\":\\\"maximize\\\",\\\"preprocess\\\":true}\", \"DataPrepJsonString\": \"{\\\\\\\"training_data\\\\\\\": \\\\\\\"{\\\\\\\\\\\\\\\"blocks\\\\\\\\\\\\\\\": [{\\\\\\\\\\\\\\\"id\\\\\\\\\\\\\\\": \\\\\\\\\\\\\\\"6ed22b16-9a21-4f8e-9d8a-96e4da67f825\\\\\\\\\\\\\\\", \\\\\\\\\\\\\\\"type\\\\\\\\\\\\\\\": \\\\\\\\\\\\\\\"Microsoft.DPrep.GetDatastoreFilesBlock\\\\\\\\\\\\\\\", \\\\\\\\\\\\\\\"arguments\\\\\\\\\\\\\\\": {\\\\\\\\\\\\\\\"datastores\\\\\\\\\\\\\\\": [{\\\\\\\\\\\\\\\"datastoreName\\\\\\\\\\\\\\\": \\\\\\\\\\\\\\\"workspaceblobstore\\\\\\\\\\\\\\\", \\\\\\\\\\\\\\\"path\\\\\\\\\\\\\\\": \\\\\\\\\\\\\\\"./heart_failure_clinical_records_dataset.csv\\\\\\\\\\\\\\\", \\\\\\\\\\\\\\\"resourceGroup\\\\\\\\\\\\\\\": \\\\\\\\\\\\\\\"aml-quickstarts-135886\\\\\\\\\\\\\\\", \\\\\\\\\\\\\\\"subscription\\\\\\\\\\\\\\\": \\\\\\\\\\\\\\\"9e65f93e-bdd8-437b-b1e8-0647cd6098f7\\\\\\\\\\\\\\\", \\\\\\\\\\\\\\\"workspaceName\\\\\\\\\\\\\\\": \\\\\\\\\\\\\\\"quick-starts-ws-135886\\\\\\\\\\\\\\\"}]}, \\\\\\\\\\\\\\\"localData\\\\\\\\\\\\\\\": {}, \\\\\\\\\\\\\\\"isEnabled\\\\\\\\\\\\\\\": true, \\\\\\\\\\\\\\\"name\\\\\\\\\\\\\\\": null, \\\\\\\\\\\\\\\"annotation\\\\\\\\\\\\\\\": null}, {\\\\\\\\\\\\\\\"id\\\\\\\\\\\\\\\": \\\\\\\\\\\\\\\"d5cfacc6-8bcf-43bb-9ffd-be1f09705a3a\\\\\\\\\\\\\\\", \\\\\\\\\\\\\\\"type\\\\\\\\\\\\\\\": \\\\\\\\\\\\\\\"Microsoft.DPrep.ParseDelimitedBlock\\\\\\\\\\\\\\\", \\\\\\\\\\\\\\\"arguments\\\\\\\\\\\\\\\": {\\\\\\\\\\\\\\\"columnHeadersMode\\\\\\\\\\\\\\\": 3, \\\\\\\\\\\\\\\"fileEncoding\\\\\\\\\\\\\\\": 0, \\\\\\\\\\\\\\\"handleQuotedLineBreaks\\\\\\\\\\\\\\\": false, \\\\\\\\\\\\\\\"preview\\\\\\\\\\\\\\\": false, \\\\\\\\\\\\\\\"separator\\\\\\\\\\\\\\\": \\\\\\\\\\\\\\\",\\\\\\\\\\\\\\\", \\\\\\\\\\\\\\\"skipRows\\\\\\\\\\\\\\\": 0, \\\\\\\\\\\\\\\"skipRowsMode\\\\\\\\\\\\\\\": 0}, \\\\\\\\\\\\\\\"localData\\\\\\\\\\\\\\\": {}, \\\\\\\\\\\\\\\"isEnabled\\\\\\\\\\\\\\\": true, \\\\\\\\\\\\\\\"name\\\\\\\\\\\\\\\": null, \\\\\\\\\\\\\\\"annotation\\\\\\\\\\\\\\\": null}, {\\\\\\\\\\\\\\\"id\\\\\\\\\\\\\\\": \\\\\\\\\\\\\\\"eee2bd6b-c82b-4e8f-bb36-4c120576458d\\\\\\\\\\\\\\\", \\\\\\\\\\\\\\\"type\\\\\\\\\\\\\\\": \\\\\\\\\\\\\\\"Microsoft.DPrep.DropColumnsBlock\\\\\\\\\\\\\\\", \\\\\\\\\\\\\\\"arguments\\\\\\\\\\\\\\\": {\\\\\\\\\\\\\\\"columns\\\\\\\\\\\\\\\": {\\\\\\\\\\\\\\\"type\\\\\\\\\\\\\\\": 0, \\\\\\\\\\\\\\\"details\\\\\\\\\\\\\\\": {\\\\\\\\\\\\\\\"selectedColumns\\\\\\\\\\\\\\\": [\\\\\\\\\\\\\\\"Path\\\\\\\\\\\\\\\"]}}}, \\\\\\\\\\\\\\\"localData\\\\\\\\\\\\\\\": {}, \\\\\\\\\\\\\\\"isEnabled\\\\\\\\\\\\\\\": true, \\\\\\\\\\\\\\\"name\\\\\\\\\\\\\\\": null, \\\\\\\\\\\\\\\"annotation\\\\\\\\\\\\\\\": null}, {\\\\\\\\\\\\\\\"id\\\\\\\\\\\\\\\": \\\\\\\\\\\\\\\"e42f7ec6-756f-4678-b39a-84cf5728d79e\\\\\\\\\\\\\\\", \\\\\\\\\\\\\\\"type\\\\\\\\\\\\\\\": \\\\\\\\\\\\\\\"Microsoft.DPrep.SetColumnTypesBlock\\\\\\\\\\\\\\\", \\\\\\\\\\\\\\\"arguments\\\\\\\\\\\\\\\": {\\\\\\\\\\\\\\\"columnConversion\\\\\\\\\\\\\\\": [{\\\\\\\\\\\\\\\"column\\\\\\\\\\\\\\\": {\\\\\\\\\\\\\\\"type\\\\\\\\\\\\\\\": 2, \\\\\\\\\\\\\\\"details\\\\\\\\\\\\\\\": {\\\\\\\\\\\\\\\"selectedColumn\\\\\\\\\\\\\\\": \\\\\\\\\\\\\\\"age\\\\\\\\\\\\\\\"}}, \\\\\\\\\\\\\\\"typeProperty\\\\\\\\\\\\\\\": 3}, {\\\\\\\\\\\\\\\"column\\\\\\\\\\\\\\\": {\\\\\\\\\\\\\\\"type\\\\\\\\\\\\\\\": 2, \\\\\\\\\\\\\\\"details\\\\\\\\\\\\\\\": {\\\\\\\\\\\\\\\"selectedColumn\\\\\\\\\\\\\\\": \\\\\\\\\\\\\\\"anaemia\\\\\\\\\\\\\\\"}}, \\\\\\\\\\\\\\\"typeProperty\\\\\\\\\\\\\\\": 2}, {\\\\\\\\\\\\\\\"column\\\\\\\\\\\\\\\": {\\\\\\\\\\\\\\\"type\\\\\\\\\\\\\\\": 2, \\\\\\\\\\\\\\\"details\\\\\\\\\\\\\\\": {\\\\\\\\\\\\\\\"selectedColumn\\\\\\\\\\\\\\\": \\\\\\\\\\\\\\\"creatinine_phosphokinase\\\\\\\\\\\\\\\"}}, \\\\\\\\\\\\\\\"typeProperty\\\\\\\\\\\\\\\": 2}, {\\\\\\\\\\\\\\\"column\\\\\\\\\\\\\\\": {\\\\\\\\\\\\\\\"type\\\\\\\\\\\\\\\": 2, \\\\\\\\\\\\\\\"details\\\\\\\\\\\\\\\": {\\\\\\\\\\\\\\\"selectedColumn\\\\\\\\\\\\\\\": \\\\\\\\\\\\\\\"diabetes\\\\\\\\\\\\\\\"}}, \\\\\\\\\\\\\\\"typeProperty\\\\\\\\\\\\\\\": 2}, {\\\\\\\\\\\\\\\"column\\\\\\\\\\\\\\\": {\\\\\\\\\\\\\\\"type\\\\\\\\\\\\\\\": 2, \\\\\\\\\\\\\\\"details\\\\\\\\\\\\\\\": {\\\\\\\\\\\\\\\"selectedColumn\\\\\\\\\\\\\\\": \\\\\\\\\\\\\\\"ejection_fraction\\\\\\\\\\\\\\\"}}, \\\\\\\\\\\\\\\"typeProperty\\\\\\\\\\\\\\\": 2}, {\\\\\\\\\\\\\\\"column\\\\\\\\\\\\\\\": {\\\\\\\\\\\\\\\"type\\\\\\\\\\\\\\\": 2, \\\\\\\\\\\\\\\"details\\\\\\\\\\\\\\\": {\\\\\\\\\\\\\\\"selectedColumn\\\\\\\\\\\\\\\": \\\\\\\\\\\\\\\"high_blood_pressure\\\\\\\\\\\\\\\"}}, \\\\\\\\\\\\\\\"typeProperty\\\\\\\\\\\\\\\": 2}, {\\\\\\\\\\\\\\\"column\\\\\\\\\\\\\\\": {\\\\\\\\\\\\\\\"type\\\\\\\\\\\\\\\": 2, \\\\\\\\\\\\\\\"details\\\\\\\\\\\\\\\": {\\\\\\\\\\\\\\\"selectedColumn\\\\\\\\\\\\\\\": \\\\\\\\\\\\\\\"platelets\\\\\\\\\\\\\\\"}}, \\\\\\\\\\\\\\\"typeProperty\\\\\\\\\\\\\\\": 3}, {\\\\\\\\\\\\\\\"column\\\\\\\\\\\\\\\": {\\\\\\\\\\\\\\\"type\\\\\\\\\\\\\\\": 2, \\\\\\\\\\\\\\\"details\\\\\\\\\\\\\\\": {\\\\\\\\\\\\\\\"selectedColumn\\\\\\\\\\\\\\\": \\\\\\\\\\\\\\\"serum_creatinine\\\\\\\\\\\\\\\"}}, \\\\\\\\\\\\\\\"typeProperty\\\\\\\\\\\\\\\": 3}, {\\\\\\\\\\\\\\\"column\\\\\\\\\\\\\\\": {\\\\\\\\\\\\\\\"type\\\\\\\\\\\\\\\": 2, \\\\\\\\\\\\\\\"details\\\\\\\\\\\\\\\": {\\\\\\\\\\\\\\\"selectedColumn\\\\\\\\\\\\\\\": \\\\\\\\\\\\\\\"serum_sodium\\\\\\\\\\\\\\\"}}, \\\\\\\\\\\\\\\"typeProperty\\\\\\\\\\\\\\\": 2}, {\\\\\\\\\\\\\\\"column\\\\\\\\\\\\\\\": {\\\\\\\\\\\\\\\"type\\\\\\\\\\\\\\\": 2, \\\\\\\\\\\\\\\"details\\\\\\\\\\\\\\\": {\\\\\\\\\\\\\\\"selectedColumn\\\\\\\\\\\\\\\": \\\\\\\\\\\\\\\"sex\\\\\\\\\\\\\\\"}}, \\\\\\\\\\\\\\\"typeProperty\\\\\\\\\\\\\\\": 2}, {\\\\\\\\\\\\\\\"column\\\\\\\\\\\\\\\": {\\\\\\\\\\\\\\\"type\\\\\\\\\\\\\\\": 2, \\\\\\\\\\\\\\\"details\\\\\\\\\\\\\\\": {\\\\\\\\\\\\\\\"selectedColumn\\\\\\\\\\\\\\\": \\\\\\\\\\\\\\\"smoking\\\\\\\\\\\\\\\"}}, \\\\\\\\\\\\\\\"typeProperty\\\\\\\\\\\\\\\": 2}, {\\\\\\\\\\\\\\\"column\\\\\\\\\\\\\\\": {\\\\\\\\\\\\\\\"type\\\\\\\\\\\\\\\": 2, \\\\\\\\\\\\\\\"details\\\\\\\\\\\\\\\": {\\\\\\\\\\\\\\\"selectedColumn\\\\\\\\\\\\\\\": \\\\\\\\\\\\\\\"time\\\\\\\\\\\\\\\"}}, \\\\\\\\\\\\\\\"typeProperty\\\\\\\\\\\\\\\": 2}, {\\\\\\\\\\\\\\\"column\\\\\\\\\\\\\\\": {\\\\\\\\\\\\\\\"type\\\\\\\\\\\\\\\": 2, \\\\\\\\\\\\\\\"details\\\\\\\\\\\\\\\": {\\\\\\\\\\\\\\\"selectedColumn\\\\\\\\\\\\\\\": \\\\\\\\\\\\\\\"DEATH_EVENT\\\\\\\\\\\\\\\"}}, \\\\\\\\\\\\\\\"typeProperty\\\\\\\\\\\\\\\": 2}]}, \\\\\\\\\\\\\\\"localData\\\\\\\\\\\\\\\": {}, \\\\\\\\\\\\\\\"isEnabled\\\\\\\\\\\\\\\": true, \\\\\\\\\\\\\\\"name\\\\\\\\\\\\\\\": null, \\\\\\\\\\\\\\\"annotation\\\\\\\\\\\\\\\": null}], \\\\\\\\\\\\\\\"inspectors\\\\\\\\\\\\\\\": [], \\\\\\\\\\\\\\\"meta\\\\\\\\\\\\\\\": {\\\\\\\\\\\\\\\"savedDatasetId\\\\\\\\\\\\\\\": \\\\\\\\\\\\\\\"33831fb3-e515-4e2c-8626-808e6285526a\\\\\\\\\\\\\\\", \\\\\\\\\\\\\\\"datasetType\\\\\\\\\\\\\\\": \\\\\\\\\\\\\\\"tabular\\\\\\\\\\\\\\\", \\\\\\\\\\\\\\\"subscriptionId\\\\\\\\\\\\\\\": \\\\\\\\\\\\\\\"9e65f93e-bdd8-437b-b1e8-0647cd6098f7\\\\\\\\\\\\\\\", \\\\\\\\\\\\\\\"workspaceId\\\\\\\\\\\\\\\": \\\\\\\\\\\\\\\"305b4b53-96ae-4f8d-bfd0-15bbccc40003\\\\\\\\\\\\\\\", \\\\\\\\\\\\\\\"workspaceLocation\\\\\\\\\\\\\\\": \\\\\\\\\\\\\\\"southcentralus\\\\\\\\\\\\\\\"}}\\\\\\\", \\\\\\\"activities\\\\\\\": 0}\", \"EnableSubsampling\": null, \"runTemplate\": \"AutoML\", \"azureml.runsource\": \"automl\", \"display_task_type\": \"classification\", \"dependencies_versions\": \"{\\\"azureml-widgets\\\": \\\"1.19.0\\\", \\\"azureml-train\\\": \\\"1.19.0\\\", \\\"azureml-train-restclients-hyperdrive\\\": \\\"1.19.0\\\", \\\"azureml-train-core\\\": \\\"1.19.0\\\", \\\"azureml-train-automl\\\": \\\"1.19.0\\\", \\\"azureml-train-automl-runtime\\\": \\\"1.19.0\\\", \\\"azureml-train-automl-client\\\": \\\"1.19.0\\\", \\\"azureml-tensorboard\\\": \\\"1.19.0\\\", \\\"azureml-telemetry\\\": \\\"1.19.0\\\", \\\"azureml-sdk\\\": \\\"1.19.0\\\", \\\"azureml-samples\\\": \\\"0+unknown\\\", \\\"azureml-pipeline\\\": \\\"1.19.0\\\", \\\"azureml-pipeline-steps\\\": \\\"1.19.0\\\", \\\"azureml-pipeline-core\\\": \\\"1.19.0\\\", \\\"azureml-opendatasets\\\": \\\"1.19.0\\\", \\\"azureml-model-management-sdk\\\": \\\"1.0.1b6.post1\\\", \\\"azureml-mlflow\\\": \\\"1.19.0\\\", \\\"azureml-interpret\\\": \\\"1.19.0\\\", \\\"azureml-explain-model\\\": \\\"1.19.0\\\", \\\"azureml-defaults\\\": \\\"1.19.0\\\", \\\"azureml-dataset-runtime\\\": \\\"1.19.0.post1\\\", \\\"azureml-dataprep\\\": \\\"2.6.1\\\", \\\"azureml-dataprep-rslex\\\": \\\"1.4.0\\\", \\\"azureml-dataprep-native\\\": \\\"26.0.0\\\", \\\"azureml-datadrift\\\": \\\"1.19.0\\\", \\\"azureml-core\\\": \\\"1.19.0\\\", \\\"azureml-contrib-services\\\": \\\"1.19.0\\\", \\\"azureml-contrib-server\\\": \\\"1.19.0\\\", \\\"azureml-contrib-reinforcementlearning\\\": \\\"1.19.0\\\", \\\"azureml-contrib-pipeline-steps\\\": \\\"1.19.0\\\", \\\"azureml-contrib-notebook\\\": \\\"1.19.0\\\", \\\"azureml-contrib-interpret\\\": \\\"1.19.0\\\", \\\"azureml-contrib-gbdt\\\": \\\"1.19.0\\\", \\\"azureml-contrib-fairness\\\": \\\"1.19.0\\\", \\\"azureml-contrib-dataset\\\": \\\"1.19.0\\\", \\\"azureml-cli-common\\\": \\\"1.19.0\\\", \\\"azureml-automl-runtime\\\": \\\"1.19.0\\\", \\\"azureml-automl-core\\\": \\\"1.19.0\\\", \\\"azureml-accel-models\\\": \\\"1.19.0\\\"}\", \"_aml_system_scenario_identification\": \"Remote.Parent\", \"ClientType\": \"SDK\", \"environment_cpu_name\": \"AzureML-AutoML\", \"environment_cpu_label\": \"prod\", \"environment_gpu_name\": \"AzureML-AutoML-GPU\", \"environment_gpu_label\": \"prod\", \"root_attribution\": \"automl\", \"attribution\": \"AutoML\", \"Orchestrator\": \"AutoML\", \"CancelUri\": \"https://southcentralus.experiments.azureml.net/jasmine/v1.0/subscriptions/9e65f93e-bdd8-437b-b1e8-0647cd6098f7/resourceGroups/aml-quickstarts-135886/providers/Microsoft.MachineLearningServices/workspaces/quick-starts-ws-135886/experimentids/f6b99e50-54a9-4c7f-86eb-0ac66fcba68b/cancel/AutoML_b4871787-e087-4afa-a6bf-a1f687d98bf1\", \"ClientSdkVersion\": \"1.20.0\", \"snapshotId\": \"00000000-0000-0000-0000-000000000000\", \"SetupRunId\": \"AutoML_b4871787-e087-4afa-a6bf-a1f687d98bf1_setup\", \"SetupRunContainerId\": \"dcid.AutoML_b4871787-e087-4afa-a6bf-a1f687d98bf1_setup\", \"FeaturizationRunJsonPath\": \"featurizer_container.json\", \"FeaturizationRunId\": \"AutoML_b4871787-e087-4afa-a6bf-a1f687d98bf1_featurize\", \"ProblemInfoJsonString\": \"{\\\"dataset_num_categorical\\\": 0, \\\"is_sparse\\\": false, \\\"subsampling\\\": false, \\\"dataset_classes\\\": 2, \\\"dataset_features\\\": 12, \\\"dataset_samples\\\": 299, \\\"single_frequency_class_detected\\\": false}\", \"ModelExplainRunId\": \"AutoML_b4871787-e087-4afa-a6bf-a1f687d98bf1_ModelExplain\"}, \"tags\": {\"model_explain_run\": \"best_run\", \"_aml_system_azureml.automlComponent\": \"AutoML\", \"pipeline_id\": \"\", \"score\": \"\", \"predicted_cost\": \"\", \"fit_time\": \"\", \"training_percent\": \"\", \"iteration\": \"\", \"run_preprocessor\": \"\", \"run_algorithm\": \"\", \"dynamic_whitelisting_iterations\": \"<25>;<30>;<35>;<40>;<45>;<50>;\", \"automl_best_child_run_id\": \"AutoML_b4871787-e087-4afa-a6bf-a1f687d98bf1_53\", \"model_explain_best_run_child_id\": \"AutoML_b4871787-e087-4afa-a6bf-a1f687d98bf1_53\"}, \"end_time_utc\": \"2021-01-24T11:01:57.410289Z\", \"status\": \"Completed\", \"log_files\": {}, \"log_groups\": [], \"run_duration\": \"0:30:24\"}, \"child_runs\": [{\"run_id\": \"AutoML_b4871787-e087-4afa-a6bf-a1f687d98bf1_0\", \"run_number\": 11, \"metric\": null, \"status\": \"Completed\", \"run_type\": \"azureml.scriptrun\", \"training_percent\": \"100\", \"start_time\": \"2021-01-24T10:41:06.006103Z\", \"end_time\": \"2021-01-24T10:41:56.792742Z\", \"created_time\": \"2021-01-24T10:40:03.567727Z\", \"created_time_dt\": \"2021-01-24T10:40:03.567727Z\", \"duration\": \"0:01:53\", \"iteration\": \"0\", \"goal\": \"accuracy_max\", \"run_name\": \"MaxAbsScaler, LightGBM\", \"run_properties\": \"copy=True\", \"primary_metric\": 0.83597701, \"best_metric\": 0.83597701}, {\"run_id\": \"AutoML_b4871787-e087-4afa-a6bf-a1f687d98bf1_3\", \"run_number\": 12, \"metric\": null, \"status\": \"Completed\", \"run_type\": \"azureml.scriptrun\", \"training_percent\": \"100\", \"start_time\": \"2021-01-24T10:42:04.020741Z\", \"end_time\": \"2021-01-24T10:42:55.300575Z\", \"created_time\": \"2021-01-24T10:40:03.618757Z\", \"created_time_dt\": \"2021-01-24T10:40:03.618757Z\", \"duration\": \"0:02:51\", \"iteration\": \"3\", \"goal\": \"accuracy_max\", \"run_name\": \"MinMaxScaler, RandomForest\", \"run_properties\": \"copy=True, feature_range=(0, 1\", \"primary_metric\": 0.8562069, \"best_metric\": 0.8562069}, {\"run_id\": \"AutoML_b4871787-e087-4afa-a6bf-a1f687d98bf1_1\", \"run_number\": 13, \"metric\": null, \"status\": \"Completed\", \"run_type\": \"azureml.scriptrun\", \"training_percent\": \"100\", \"start_time\": \"2021-01-24T10:42:43.455923Z\", \"end_time\": \"2021-01-24T10:46:12.832578Z\", \"created_time\": \"2021-01-24T10:40:03.63536Z\", \"created_time_dt\": \"2021-01-24T10:40:03.63536Z\", \"duration\": \"0:06:09\", \"iteration\": \"1\", \"goal\": \"accuracy_max\", \"run_name\": \"MaxAbsScaler, XGBoostClassifier\", \"run_properties\": \"copy=True\", \"primary_metric\": 0.83586207, \"best_metric\": 0.83597701}, {\"run_id\": \"AutoML_b4871787-e087-4afa-a6bf-a1f687d98bf1_2\", \"run_number\": 14, \"metric\": null, \"status\": \"Completed\", \"run_type\": \"azureml.scriptrun\", \"training_percent\": \"100\", \"start_time\": \"2021-01-24T10:40:14.832311Z\", \"end_time\": \"2021-01-24T10:41:03.323506Z\", \"created_time\": \"2021-01-24T10:40:03.654087Z\", \"created_time_dt\": \"2021-01-24T10:40:03.654087Z\", \"duration\": \"0:00:59\", \"iteration\": \"2\", \"goal\": \"accuracy_max\", \"run_name\": \"MinMaxScaler, RandomForest\", \"run_properties\": \"copy=True, feature_range=(0, 1\", \"primary_metric\": 0.83931034, \"best_metric\": 0.83931034}, {\"run_id\": \"AutoML_b4871787-e087-4afa-a6bf-a1f687d98bf1_4\", \"run_number\": 15, \"metric\": null, \"status\": \"Completed\", \"run_type\": \"azureml.scriptrun\", \"training_percent\": \"100\", \"start_time\": \"2021-01-24T10:42:40.864606Z\", \"end_time\": \"2021-01-24T10:46:06.550511Z\", \"created_time\": \"2021-01-24T10:41:06.351117Z\", \"created_time_dt\": \"2021-01-24T10:41:06.351117Z\", \"duration\": \"0:05:00\", \"iteration\": \"4\", \"goal\": \"accuracy_max\", \"run_name\": \"MinMaxScaler, RandomForest\", \"run_properties\": \"copy=True, feature_range=(0, 1\", \"primary_metric\": 0.84908046, \"best_metric\": 0.8562069}, {\"run_id\": \"AutoML_b4871787-e087-4afa-a6bf-a1f687d98bf1_5\", \"run_number\": 16, \"metric\": null, \"status\": \"Completed\", \"run_type\": \"azureml.scriptrun\", \"training_percent\": \"100\", \"start_time\": \"2021-01-24T10:42:43.946416Z\", \"end_time\": \"2021-01-24T10:46:04.703212Z\", \"created_time\": \"2021-01-24T10:41:59.453368Z\", \"created_time_dt\": \"2021-01-24T10:41:59.453368Z\", \"duration\": \"0:04:05\", \"iteration\": \"5\", \"goal\": \"accuracy_max\", \"run_name\": \"StandardScalerWrapper, XGBoostClassifier\", \"run_properties\": \"<azureml.automl.runtime.shared.model_wrappers.StandardScalerWrapper object at 0x7fdb7ca0f5c0\", \"primary_metric\": 0.84586207, \"best_metric\": 0.8562069}, {\"run_id\": \"AutoML_b4871787-e087-4afa-a6bf-a1f687d98bf1_6\", \"run_number\": 17, \"metric\": null, \"status\": \"Completed\", \"run_type\": \"azureml.scriptrun\", \"training_percent\": \"100\", \"start_time\": \"2021-01-24T10:43:09.453711Z\", \"end_time\": \"2021-01-24T10:44:00.471955Z\", \"created_time\": \"2021-01-24T10:42:57.357406Z\", \"created_time_dt\": \"2021-01-24T10:42:57.357406Z\", \"duration\": \"0:01:03\", \"iteration\": \"6\", \"goal\": \"accuracy_max\", \"run_name\": \"MinMaxScaler, SVM\", \"run_properties\": \"copy=True, feature_range=(0, 1\", \"primary_metric\": 0.72252874, \"best_metric\": 0.8562069}, {\"run_id\": \"AutoML_b4871787-e087-4afa-a6bf-a1f687d98bf1_7\", \"run_number\": 18, \"metric\": null, \"status\": \"Completed\", \"run_type\": \"azureml.scriptrun\", \"training_percent\": \"100\", \"start_time\": \"2021-01-24T10:44:14.783575Z\", \"end_time\": \"2021-01-24T10:45:05.309386Z\", \"created_time\": \"2021-01-24T10:44:03.405925Z\", \"created_time_dt\": \"2021-01-24T10:44:03.405925Z\", \"duration\": \"0:01:01\", \"iteration\": \"7\", \"goal\": \"accuracy_max\", \"run_name\": \"MaxAbsScaler, GradientBoosting\", \"run_properties\": \"copy=True\", \"primary_metric\": 0.84597701, \"best_metric\": 0.8562069}, {\"run_id\": \"AutoML_b4871787-e087-4afa-a6bf-a1f687d98bf1_8\", \"run_number\": 19, \"metric\": null, \"status\": \"Completed\", \"run_type\": \"azureml.scriptrun\", \"training_percent\": \"100\", \"start_time\": \"2021-01-24T10:45:21.155669Z\", \"end_time\": \"2021-01-24T10:46:05.362048Z\", \"created_time\": \"2021-01-24T10:45:07.780911Z\", \"created_time_dt\": \"2021-01-24T10:45:07.780911Z\", \"duration\": \"0:00:57\", \"iteration\": \"8\", \"goal\": \"accuracy_max\", \"run_name\": \"SparseNormalizer, LightGBM\", \"run_properties\": \"<azureml.automl.runtime.shared.model_wrappers.SparseNormalizer object at 0x7f8268090940\", \"primary_metric\": 0.75597701, \"best_metric\": 0.8562069}, {\"run_id\": \"AutoML_b4871787-e087-4afa-a6bf-a1f687d98bf1_9\", \"run_number\": 20, \"metric\": null, \"status\": \"Completed\", \"run_type\": \"azureml.scriptrun\", \"training_percent\": \"100\", \"start_time\": \"2021-01-24T10:46:17.764681Z\", \"end_time\": \"2021-01-24T10:47:05.45047Z\", \"created_time\": \"2021-01-24T10:46:07.223258Z\", \"created_time_dt\": \"2021-01-24T10:46:07.223258Z\", \"duration\": \"0:00:58\", \"iteration\": \"9\", \"goal\": \"accuracy_max\", \"run_name\": \"RobustScaler, RandomForest\", \"run_properties\": \"copy=True, quantile_range=[10, 90], with_centering=True,\\n             with_scaling=True\", \"primary_metric\": 0.83609195, \"best_metric\": 0.8562069}, {\"run_id\": \"AutoML_b4871787-e087-4afa-a6bf-a1f687d98bf1_10\", \"run_number\": 21, \"metric\": null, \"status\": \"Completed\", \"run_type\": \"azureml.scriptrun\", \"training_percent\": \"100\", \"start_time\": \"2021-01-24T10:46:24.805799Z\", \"end_time\": \"2021-01-24T10:47:09.017075Z\", \"created_time\": \"2021-01-24T10:46:11.540024Z\", \"created_time_dt\": \"2021-01-24T10:46:11.540024Z\", \"duration\": \"0:00:57\", \"iteration\": \"10\", \"goal\": \"accuracy_max\", \"run_name\": \"MinMaxScaler, LightGBM\", \"run_properties\": \"copy=True, feature_range=(0, 1\", \"primary_metric\": 0.82609195, \"best_metric\": 0.8562069}, {\"run_id\": \"AutoML_b4871787-e087-4afa-a6bf-a1f687d98bf1_11\", \"run_number\": 22, \"metric\": null, \"status\": \"Completed\", \"run_type\": \"azureml.scriptrun\", \"training_percent\": \"100\", \"start_time\": \"2021-01-24T10:46:22.661973Z\", \"end_time\": \"2021-01-24T10:47:16.086418Z\", \"created_time\": \"2021-01-24T10:46:11.784099Z\", \"created_time_dt\": \"2021-01-24T10:46:11.784099Z\", \"duration\": \"0:01:04\", \"iteration\": \"11\", \"goal\": \"accuracy_max\", \"run_name\": \"StandardScalerWrapper, RandomForest\", \"run_properties\": \"<azureml.automl.runtime.shared.model_wrappers.StandardScalerWrapper object at 0x7f0d3749c8d0\", \"primary_metric\": 0.84965517, \"best_metric\": 0.8562069}, {\"run_id\": \"AutoML_b4871787-e087-4afa-a6bf-a1f687d98bf1_12\", \"run_number\": 23, \"metric\": null, \"status\": \"Completed\", \"run_type\": \"azureml.scriptrun\", \"training_percent\": \"100\", \"start_time\": \"2021-01-24T10:46:30.869065Z\", \"end_time\": \"2021-01-24T10:47:30.26583Z\", \"created_time\": \"2021-01-24T10:46:18.425506Z\", \"created_time_dt\": \"2021-01-24T10:46:18.425506Z\", \"duration\": \"0:01:11\", \"iteration\": \"12\", \"goal\": \"accuracy_max\", \"run_name\": \"RobustScaler, ExtremeRandomTrees\", \"run_properties\": \"copy=True, quantile_range=[25, 75], with_centering=True,\\n             with_scaling=False\", \"primary_metric\": 0.85275862, \"best_metric\": 0.8562069}, {\"run_id\": \"AutoML_b4871787-e087-4afa-a6bf-a1f687d98bf1_13\", \"run_number\": 24, \"metric\": null, \"status\": \"Completed\", \"run_type\": \"azureml.scriptrun\", \"training_percent\": \"100\", \"start_time\": \"2021-01-24T10:47:20.44484Z\", \"end_time\": \"2021-01-24T10:48:11.712745Z\", \"created_time\": \"2021-01-24T10:47:08.774785Z\", \"created_time_dt\": \"2021-01-24T10:47:08.774785Z\", \"duration\": \"0:01:02\", \"iteration\": \"13\", \"goal\": \"accuracy_max\", \"run_name\": \"StandardScalerWrapper, RandomForest\", \"run_properties\": \"<azureml.automl.runtime.shared.model_wrappers.StandardScalerWrapper object at 0x7fe475459128\", \"primary_metric\": 0.84942529, \"best_metric\": 0.8562069}, {\"run_id\": \"AutoML_b4871787-e087-4afa-a6bf-a1f687d98bf1_14\", \"run_number\": 25, \"metric\": null, \"status\": \"Completed\", \"run_type\": \"azureml.scriptrun\", \"training_percent\": \"100\", \"start_time\": \"2021-01-24T10:47:24.664872Z\", \"end_time\": \"2021-01-24T10:48:09.358526Z\", \"created_time\": \"2021-01-24T10:47:14.756899Z\", \"created_time_dt\": \"2021-01-24T10:47:14.756899Z\", \"duration\": \"0:00:54\", \"iteration\": \"14\", \"goal\": \"accuracy_max\", \"run_name\": \"SparseNormalizer, XGBoostClassifier\", \"run_properties\": \"<azureml.automl.runtime.shared.model_wrappers.SparseNormalizer object at 0x7ff45d29b748\", \"primary_metric\": 0.80931034, \"best_metric\": 0.8562069}, {\"run_id\": \"AutoML_b4871787-e087-4afa-a6bf-a1f687d98bf1_15\", \"run_number\": 26, \"metric\": null, \"status\": \"Completed\", \"run_type\": \"azureml.scriptrun\", \"training_percent\": \"100\", \"start_time\": \"2021-01-24T10:47:29.987784Z\", \"end_time\": \"2021-01-24T10:48:18.843639Z\", \"created_time\": \"2021-01-24T10:47:19.574789Z\", \"created_time_dt\": \"2021-01-24T10:47:19.574789Z\", \"duration\": \"0:00:59\", \"iteration\": \"15\", \"goal\": \"accuracy_max\", \"run_name\": \"StandardScalerWrapper, LightGBM\", \"run_properties\": \"<azureml.automl.runtime.shared.model_wrappers.StandardScalerWrapper object at 0x7f5bf809bfd0\", \"primary_metric\": 0.82264368, \"best_metric\": 0.8562069}, {\"run_id\": \"AutoML_b4871787-e087-4afa-a6bf-a1f687d98bf1_16\", \"run_number\": 27, \"metric\": null, \"status\": \"Completed\", \"run_type\": \"azureml.scriptrun\", \"training_percent\": \"100\", \"start_time\": \"2021-01-24T10:47:44.098596Z\", \"end_time\": \"2021-01-24T10:48:29.025637Z\", \"created_time\": \"2021-01-24T10:47:33.474698Z\", \"created_time_dt\": \"2021-01-24T10:47:33.474698Z\", \"duration\": \"0:00:55\", \"iteration\": \"16\", \"goal\": \"accuracy_max\", \"run_name\": \"RobustScaler, LightGBM\", \"run_properties\": \"copy=True, quantile_range=[10, 90], with_centering=False,\\n             with_scaling=False\", \"primary_metric\": 0.79942529, \"best_metric\": 0.8562069}, {\"run_id\": \"AutoML_b4871787-e087-4afa-a6bf-a1f687d98bf1_17\", \"run_number\": 28, \"metric\": null, \"status\": \"Completed\", \"run_type\": \"azureml.scriptrun\", \"training_percent\": \"100\", \"start_time\": \"2021-01-24T10:48:24.323356Z\", \"end_time\": \"2021-01-24T10:49:10.790487Z\", \"created_time\": \"2021-01-24T10:48:12.958487Z\", \"created_time_dt\": \"2021-01-24T10:48:12.958487Z\", \"duration\": \"0:00:57\", \"iteration\": \"17\", \"goal\": \"accuracy_max\", \"run_name\": \"SparseNormalizer, XGBoostClassifier\", \"run_properties\": \"<azureml.automl.runtime.shared.model_wrappers.SparseNormalizer object at 0x7f45f83c3a20\", \"primary_metric\": 0.84609195, \"best_metric\": 0.8562069}, {\"run_id\": \"AutoML_b4871787-e087-4afa-a6bf-a1f687d98bf1_18\", \"run_number\": 29, \"metric\": null, \"status\": \"Completed\", \"run_type\": \"azureml.scriptrun\", \"training_percent\": \"100\", \"start_time\": \"2021-01-24T10:48:31.198466Z\", \"end_time\": \"2021-01-24T10:49:17.46226Z\", \"created_time\": \"2021-01-24T10:48:17.930608Z\", \"created_time_dt\": \"2021-01-24T10:48:17.930608Z\", \"duration\": \"0:00:59\", \"iteration\": \"18\", \"goal\": \"accuracy_max\", \"run_name\": \"StandardScalerWrapper, RandomForest\", \"run_properties\": \"<azureml.automl.runtime.shared.model_wrappers.StandardScalerWrapper object at 0x7f80d25e2278\", \"primary_metric\": 0.84942529, \"best_metric\": 0.8562069}, {\"run_id\": \"AutoML_b4871787-e087-4afa-a6bf-a1f687d98bf1_19\", \"run_number\": 30, \"metric\": null, \"status\": \"Completed\", \"run_type\": \"azureml.scriptrun\", \"training_percent\": \"100\", \"start_time\": \"2021-01-24T10:48:34.820692Z\", \"end_time\": \"2021-01-24T10:49:18.921408Z\", \"created_time\": \"2021-01-24T10:48:23.318391Z\", \"created_time_dt\": \"2021-01-24T10:48:23.318391Z\", \"duration\": \"0:00:55\", \"iteration\": \"19\", \"goal\": \"accuracy_max\", \"run_name\": \"SparseNormalizer, XGBoostClassifier\", \"run_properties\": \"<azureml.automl.runtime.shared.model_wrappers.SparseNormalizer object at 0x7f43380a6390\", \"primary_metric\": 0.8362069, \"best_metric\": 0.8562069}, {\"run_id\": \"AutoML_b4871787-e087-4afa-a6bf-a1f687d98bf1_20\", \"run_number\": 31, \"metric\": null, \"status\": \"Completed\", \"run_type\": \"azureml.scriptrun\", \"training_percent\": \"100\", \"start_time\": \"2021-01-24T10:48:42.61084Z\", \"end_time\": \"2021-01-24T10:49:25.948584Z\", \"created_time\": \"2021-01-24T10:48:31.973784Z\", \"created_time_dt\": \"2021-01-24T10:48:31.973784Z\", \"duration\": \"0:00:53\", \"iteration\": \"20\", \"goal\": \"accuracy_max\", \"run_name\": \"MinMaxScaler, LightGBM\", \"run_properties\": \"copy=True, feature_range=(0, 1\", \"primary_metric\": 0.80931034, \"best_metric\": 0.8562069}, {\"run_id\": \"AutoML_b4871787-e087-4afa-a6bf-a1f687d98bf1_21\", \"run_number\": 32, \"metric\": null, \"status\": \"Completed\", \"run_type\": \"azureml.scriptrun\", \"training_percent\": \"100\", \"start_time\": \"2021-01-24T10:49:25.50894Z\", \"end_time\": \"2021-01-24T10:50:14.681851Z\", \"created_time\": \"2021-01-24T10:49:13.6364Z\", \"created_time_dt\": \"2021-01-24T10:49:13.6364Z\", \"duration\": \"0:01:01\", \"iteration\": \"21\", \"goal\": \"accuracy_max\", \"run_name\": \"StandardScalerWrapper, XGBoostClassifier\", \"run_properties\": \"<azureml.automl.runtime.shared.model_wrappers.StandardScalerWrapper object at 0x7f2830523b70\", \"primary_metric\": 0.84597701, \"best_metric\": 0.8562069}, {\"run_id\": \"AutoML_b4871787-e087-4afa-a6bf-a1f687d98bf1_22\", \"run_number\": 33, \"metric\": null, \"status\": \"Completed\", \"run_type\": \"azureml.scriptrun\", \"training_percent\": \"100\", \"start_time\": \"2021-01-24T10:49:33.193974Z\", \"end_time\": \"2021-01-24T10:50:23.090125Z\", \"created_time\": \"2021-01-24T10:49:20.420299Z\", \"created_time_dt\": \"2021-01-24T10:49:20.420299Z\", \"duration\": \"0:01:02\", \"iteration\": \"22\", \"goal\": \"accuracy_max\", \"run_name\": \"StandardScalerWrapper, LightGBM\", \"run_properties\": \"<azureml.automl.runtime.shared.model_wrappers.StandardScalerWrapper object at 0x7f40298608d0\", \"primary_metric\": 0.82586207, \"best_metric\": 0.8562069}, {\"run_id\": \"AutoML_b4871787-e087-4afa-a6bf-a1f687d98bf1_23\", \"run_number\": 34, \"metric\": null, \"status\": \"Completed\", \"run_type\": \"azureml.scriptrun\", \"training_percent\": \"100\", \"start_time\": \"2021-01-24T10:49:38.552101Z\", \"end_time\": \"2021-01-24T10:50:26.209742Z\", \"created_time\": \"2021-01-24T10:49:25.419983Z\", \"created_time_dt\": \"2021-01-24T10:49:25.419983Z\", \"duration\": \"0:01:00\", \"iteration\": \"23\", \"goal\": \"accuracy_max\", \"run_name\": \"StandardScalerWrapper, RandomForest\", \"run_properties\": \"<azureml.automl.runtime.shared.model_wrappers.StandardScalerWrapper object at 0x7fc8ffffeb70\", \"primary_metric\": 0.84609195, \"best_metric\": 0.8562069}, {\"run_id\": \"AutoML_b4871787-e087-4afa-a6bf-a1f687d98bf1_24\", \"run_number\": 35, \"metric\": null, \"status\": \"Completed\", \"run_type\": \"azureml.scriptrun\", \"training_percent\": \"100\", \"start_time\": \"2021-01-24T10:49:42.656231Z\", \"end_time\": \"2021-01-24T10:50:35.393589Z\", \"created_time\": \"2021-01-24T10:49:30.111507Z\", \"created_time_dt\": \"2021-01-24T10:49:30.111507Z\", \"duration\": \"0:01:05\", \"iteration\": \"24\", \"goal\": \"accuracy_max\", \"run_name\": \"SparseNormalizer, XGBoostClassifier\", \"run_properties\": \"<azureml.automl.runtime.shared.model_wrappers.SparseNormalizer object at 0x7fc8fff100f0\", \"primary_metric\": 0.85965517, \"best_metric\": 0.85965517}, {\"run_id\": \"AutoML_b4871787-e087-4afa-a6bf-a1f687d98bf1_25\", \"run_number\": 36, \"metric\": null, \"status\": \"Completed\", \"run_type\": \"azureml.scriptrun\", \"training_percent\": \"100\", \"start_time\": \"2021-01-24T10:50:30.380035Z\", \"end_time\": \"2021-01-24T10:51:17.837565Z\", \"created_time\": \"2021-01-24T10:50:17.738526Z\", \"created_time_dt\": \"2021-01-24T10:50:17.738526Z\", \"duration\": \"0:01:00\", \"iteration\": \"25\", \"goal\": \"accuracy_max\", \"run_name\": \"MaxAbsScaler, RandomForest\", \"run_properties\": \"copy=True\", \"primary_metric\": 0.80218391, \"best_metric\": 0.85965517}, {\"run_id\": \"AutoML_b4871787-e087-4afa-a6bf-a1f687d98bf1_26\", \"run_number\": 37, \"metric\": null, \"status\": \"Completed\", \"run_type\": \"azureml.scriptrun\", \"training_percent\": \"100\", \"start_time\": \"2021-01-24T10:50:39.699341Z\", \"end_time\": \"2021-01-24T10:51:32.17216Z\", \"created_time\": \"2021-01-24T10:50:25.431499Z\", \"created_time_dt\": \"2021-01-24T10:50:25.431499Z\", \"duration\": \"0:01:06\", \"iteration\": \"26\", \"goal\": \"accuracy_max\", \"run_name\": \"MaxAbsScaler, ExtremeRandomTrees\", \"run_properties\": \"copy=True\", \"primary_metric\": 0.78908046, \"best_metric\": 0.85965517}, {\"run_id\": \"AutoML_b4871787-e087-4afa-a6bf-a1f687d98bf1_27\", \"run_number\": 38, \"metric\": null, \"status\": \"Completed\", \"run_type\": \"azureml.scriptrun\", \"training_percent\": \"100\", \"start_time\": \"2021-01-24T10:50:42.616145Z\", \"end_time\": \"2021-01-24T10:51:35.10387Z\", \"created_time\": \"2021-01-24T10:50:29.855249Z\", \"created_time_dt\": \"2021-01-24T10:50:29.855249Z\", \"duration\": \"0:01:05\", \"iteration\": \"27\", \"goal\": \"accuracy_max\", \"run_name\": \"StandardScalerWrapper, RandomForest\", \"run_properties\": \"<azureml.automl.runtime.shared.model_wrappers.StandardScalerWrapper object at 0x7f2f552e7d30\", \"primary_metric\": 0.84252874, \"best_metric\": 0.85965517}, {\"run_id\": \"AutoML_b4871787-e087-4afa-a6bf-a1f687d98bf1_28\", \"run_number\": 39, \"metric\": null, \"status\": \"Completed\", \"run_type\": \"azureml.scriptrun\", \"training_percent\": \"100\", \"start_time\": \"2021-01-24T10:50:49.429635Z\", \"end_time\": \"2021-01-24T10:51:32.607193Z\", \"created_time\": \"2021-01-24T10:50:37.530362Z\", \"created_time_dt\": \"2021-01-24T10:50:37.530362Z\", \"duration\": \"0:00:55\", \"iteration\": \"28\", \"goal\": \"accuracy_max\", \"run_name\": \"MaxAbsScaler, ExtremeRandomTrees\", \"run_properties\": \"copy=True\", \"primary_metric\": 0.83586207, \"best_metric\": 0.85965517}, {\"run_id\": \"AutoML_b4871787-e087-4afa-a6bf-a1f687d98bf1_29\", \"run_number\": 40, \"metric\": null, \"status\": \"Completed\", \"run_type\": \"azureml.scriptrun\", \"training_percent\": \"100\", \"start_time\": \"2021-01-24T10:51:32.316313Z\", \"end_time\": \"2021-01-24T10:52:46.111719Z\", \"created_time\": \"2021-01-24T10:51:19.967855Z\", \"created_time_dt\": \"2021-01-24T10:51:19.967855Z\", \"duration\": \"0:01:26\", \"iteration\": \"29\", \"goal\": \"accuracy_max\", \"run_name\": \"StandardScalerWrapper, LightGBM\", \"run_properties\": \"<azureml.automl.runtime.shared.model_wrappers.StandardScalerWrapper object at 0x7f59f9f3ac18\", \"primary_metric\": 0.83931034, \"best_metric\": 0.85965517}, {\"run_id\": \"AutoML_b4871787-e087-4afa-a6bf-a1f687d98bf1_30\", \"run_number\": 41, \"metric\": null, \"status\": \"Completed\", \"run_type\": \"azureml.scriptrun\", \"training_percent\": \"100\", \"start_time\": \"2021-01-24T10:51:46.601604Z\", \"end_time\": \"2021-01-24T10:53:03.16082Z\", \"created_time\": \"2021-01-24T10:51:35.699568Z\", \"created_time_dt\": \"2021-01-24T10:51:35.699568Z\", \"duration\": \"0:01:27\", \"iteration\": \"30\", \"goal\": \"accuracy_max\", \"run_name\": \"TruncatedSVDWrapper, XGBoostClassifier\", \"run_properties\": \"n_components=0.01, random_state=None\", \"primary_metric\": 0.6791954, \"best_metric\": 0.85965517}, {\"run_id\": \"AutoML_b4871787-e087-4afa-a6bf-a1f687d98bf1_31\", \"run_number\": 42, \"metric\": null, \"status\": \"Completed\", \"run_type\": \"azureml.scriptrun\", \"training_percent\": \"100\", \"start_time\": \"2021-01-24T10:51:51.831837Z\", \"end_time\": \"2021-01-24T10:53:07.42193Z\", \"created_time\": \"2021-01-24T10:51:35.869938Z\", \"created_time_dt\": \"2021-01-24T10:51:35.869938Z\", \"duration\": \"0:01:31\", \"iteration\": \"31\", \"goal\": \"accuracy_max\", \"run_name\": \"MaxAbsScaler, LightGBM\", \"run_properties\": \"copy=True\", \"primary_metric\": 0.84597701, \"best_metric\": 0.85965517}, {\"run_id\": \"AutoML_b4871787-e087-4afa-a6bf-a1f687d98bf1_32\", \"run_number\": 43, \"metric\": null, \"status\": \"Completed\", \"run_type\": \"azureml.scriptrun\", \"training_percent\": \"100\", \"start_time\": \"2021-01-24T10:51:56.47152Z\", \"end_time\": \"2021-01-24T10:52:39.788553Z\", \"created_time\": \"2021-01-24T10:51:43.559259Z\", \"created_time_dt\": \"2021-01-24T10:51:43.559259Z\", \"duration\": \"0:00:56\", \"iteration\": \"32\", \"goal\": \"accuracy_max\", \"run_name\": \"MinMaxScaler, RandomForest\", \"run_properties\": \"copy=True, feature_range=(0, 1\", \"primary_metric\": 0.84287356, \"best_metric\": 0.85965517}, {\"run_id\": \"AutoML_b4871787-e087-4afa-a6bf-a1f687d98bf1_33\", \"run_number\": 44, \"metric\": null, \"status\": \"Completed\", \"run_type\": \"azureml.scriptrun\", \"training_percent\": \"100\", \"start_time\": \"2021-01-24T10:52:57.536674Z\", \"end_time\": \"2021-01-24T10:54:12.822378Z\", \"created_time\": \"2021-01-24T10:52:42.848577Z\", \"created_time_dt\": \"2021-01-24T10:52:42.848577Z\", \"duration\": \"0:01:29\", \"iteration\": \"33\", \"goal\": \"accuracy_max\", \"run_name\": \"MaxAbsScaler, LightGBM\", \"run_properties\": \"copy=True\", \"primary_metric\": 0.83931034, \"best_metric\": 0.85965517}, {\"run_id\": \"AutoML_b4871787-e087-4afa-a6bf-a1f687d98bf1_34\", \"run_number\": 45, \"metric\": null, \"status\": \"Completed\", \"run_type\": \"azureml.scriptrun\", \"training_percent\": \"100\", \"start_time\": \"2021-01-24T10:53:00.05576Z\", \"end_time\": \"2021-01-24T10:53:48.01433Z\", \"created_time\": \"2021-01-24T10:52:49.156682Z\", \"created_time_dt\": \"2021-01-24T10:52:49.156682Z\", \"duration\": \"0:00:58\", \"iteration\": \"34\", \"goal\": \"accuracy_max\", \"run_name\": \"SparseNormalizer, LightGBM\", \"run_properties\": \"<azureml.automl.runtime.shared.model_wrappers.SparseNormalizer object at 0x7f21fc22f390\", \"primary_metric\": 0.82264368, \"best_metric\": 0.85965517}, {\"run_id\": \"AutoML_b4871787-e087-4afa-a6bf-a1f687d98bf1_35\", \"run_number\": 46, \"metric\": null, \"status\": \"Completed\", \"run_type\": \"azureml.scriptrun\", \"training_percent\": \"100\", \"start_time\": \"2021-01-24T10:53:19.060551Z\", \"end_time\": \"2021-01-24T10:54:33.4919Z\", \"created_time\": \"2021-01-24T10:53:06.230983Z\", \"created_time_dt\": \"2021-01-24T10:53:06.230983Z\", \"duration\": \"0:01:27\", \"iteration\": \"35\", \"goal\": \"accuracy_max\", \"run_name\": \"SparseNormalizer, XGBoostClassifier\", \"run_properties\": \"<azureml.automl.runtime.shared.model_wrappers.SparseNormalizer object at 0x7f7ec933b0f0\", \"primary_metric\": 0.86965517, \"best_metric\": 0.86965517}, {\"run_id\": \"AutoML_b4871787-e087-4afa-a6bf-a1f687d98bf1_36\", \"run_number\": 47, \"metric\": null, \"status\": \"Completed\", \"run_type\": \"azureml.scriptrun\", \"training_percent\": \"100\", \"start_time\": \"2021-01-24T10:53:23.687535Z\", \"end_time\": \"2021-01-24T10:54:13.572882Z\", \"created_time\": \"2021-01-24T10:53:11.053208Z\", \"created_time_dt\": \"2021-01-24T10:53:11.053208Z\", \"duration\": \"0:01:02\", \"iteration\": \"36\", \"goal\": \"accuracy_max\", \"run_name\": \"StandardScalerWrapper, RandomForest\", \"run_properties\": \"<azureml.automl.runtime.shared.model_wrappers.StandardScalerWrapper object at 0x7f605c8a0a90\", \"primary_metric\": 0.81908046, \"best_metric\": 0.86965517}, {\"run_id\": \"AutoML_b4871787-e087-4afa-a6bf-a1f687d98bf1_37\", \"run_number\": 48, \"metric\": null, \"status\": \"Completed\", \"run_type\": \"azureml.scriptrun\", \"training_percent\": \"100\", \"start_time\": \"2021-01-24T10:54:03.655337Z\", \"end_time\": \"2021-01-24T10:54:48.147385Z\", \"created_time\": \"2021-01-24T10:53:50.342093Z\", \"created_time_dt\": \"2021-01-24T10:53:50.342093Z\", \"duration\": \"0:00:57\", \"iteration\": \"37\", \"goal\": \"accuracy_max\", \"run_name\": \"MaxAbsScaler, LightGBM\", \"run_properties\": \"copy=True\", \"primary_metric\": 0.84252874, \"best_metric\": 0.86965517}, {\"run_id\": \"AutoML_b4871787-e087-4afa-a6bf-a1f687d98bf1_38\", \"run_number\": 49, \"metric\": null, \"status\": \"Completed\", \"run_type\": \"azureml.scriptrun\", \"training_percent\": \"100\", \"start_time\": \"2021-01-24T10:54:28.54237Z\", \"end_time\": \"2021-01-24T10:55:12.356196Z\", \"created_time\": \"2021-01-24T10:54:15.399496Z\", \"created_time_dt\": \"2021-01-24T10:54:15.399496Z\", \"duration\": \"0:00:56\", \"iteration\": \"38\", \"goal\": \"accuracy_max\", \"run_name\": \"RobustScaler, LightGBM\", \"run_properties\": \"copy=True, quantile_range=[25, 75], with_centering=False,\\n             with_scaling=False\", \"primary_metric\": 0.83275862, \"best_metric\": 0.86965517}, {\"run_id\": \"AutoML_b4871787-e087-4afa-a6bf-a1f687d98bf1_39\", \"run_number\": 50, \"metric\": null, \"status\": \"Completed\", \"run_type\": \"azureml.scriptrun\", \"training_percent\": \"100\", \"start_time\": \"2021-01-24T10:54:32.794995Z\", \"end_time\": \"2021-01-24T10:55:25.09014Z\", \"created_time\": \"2021-01-24T10:54:20.142137Z\", \"created_time_dt\": \"2021-01-24T10:54:20.142137Z\", \"duration\": \"0:01:04\", \"iteration\": \"39\", \"goal\": \"accuracy_max\", \"run_name\": \"MinMaxScaler, LightGBM\", \"run_properties\": \"copy=True, feature_range=(0, 1\", \"primary_metric\": 0.84264368, \"best_metric\": 0.86965517}, {\"run_id\": \"AutoML_b4871787-e087-4afa-a6bf-a1f687d98bf1_40\", \"run_number\": 51, \"metric\": null, \"status\": \"Completed\", \"run_type\": \"azureml.scriptrun\", \"training_percent\": \"100\", \"start_time\": \"2021-01-24T10:54:48.652521Z\", \"end_time\": \"2021-01-24T10:55:36.855666Z\", \"created_time\": \"2021-01-24T10:54:37.112306Z\", \"created_time_dt\": \"2021-01-24T10:54:37.112306Z\", \"duration\": \"0:00:59\", \"iteration\": \"40\", \"goal\": \"accuracy_max\", \"run_name\": \"SparseNormalizer, XGBoostClassifier\", \"run_properties\": \"<azureml.automl.runtime.shared.model_wrappers.SparseNormalizer object at 0x7fe12a24f7f0\", \"primary_metric\": 0.82287356, \"best_metric\": 0.86965517}, {\"run_id\": \"AutoML_b4871787-e087-4afa-a6bf-a1f687d98bf1_41\", \"run_number\": 52, \"metric\": null, \"status\": \"Completed\", \"run_type\": \"azureml.scriptrun\", \"training_percent\": \"100\", \"start_time\": \"2021-01-24T10:55:04.908971Z\", \"end_time\": \"2021-01-24T10:55:57.337946Z\", \"created_time\": \"2021-01-24T10:54:50.366991Z\", \"created_time_dt\": \"2021-01-24T10:54:50.366991Z\", \"duration\": \"0:01:06\", \"iteration\": \"41\", \"goal\": \"accuracy_max\", \"run_name\": \"StandardScalerWrapper, XGBoostClassifier\", \"run_properties\": \"<azureml.automl.runtime.shared.model_wrappers.StandardScalerWrapper object at 0x7f0c3452b5f8\", \"primary_metric\": 0.83586207, \"best_metric\": 0.86965517}, {\"run_id\": \"AutoML_b4871787-e087-4afa-a6bf-a1f687d98bf1_42\", \"run_number\": 53, \"metric\": null, \"status\": \"Completed\", \"run_type\": \"azureml.scriptrun\", \"training_percent\": \"100\", \"start_time\": \"2021-01-24T10:55:26.769248Z\", \"end_time\": \"2021-01-24T10:56:08.690637Z\", \"created_time\": \"2021-01-24T10:55:14.608423Z\", \"created_time_dt\": \"2021-01-24T10:55:14.608423Z\", \"duration\": \"0:00:54\", \"iteration\": \"42\", \"goal\": \"accuracy_max\", \"run_name\": \"SparseNormalizer, XGBoostClassifier\", \"run_properties\": \"<azureml.automl.runtime.shared.model_wrappers.SparseNormalizer object at 0x7f8cdc219978\", \"primary_metric\": 0.85954023, \"best_metric\": 0.86965517}, {\"run_id\": \"AutoML_b4871787-e087-4afa-a6bf-a1f687d98bf1_43\", \"run_number\": 54, \"metric\": null, \"status\": \"Completed\", \"run_type\": \"azureml.scriptrun\", \"training_percent\": \"100\", \"start_time\": \"2021-01-24T10:55:38.914392Z\", \"end_time\": \"2021-01-24T10:56:24.177449Z\", \"created_time\": \"2021-01-24T10:55:27.223602Z\", \"created_time_dt\": \"2021-01-24T10:55:27.223602Z\", \"duration\": \"0:00:56\", \"iteration\": \"43\", \"goal\": \"accuracy_max\", \"run_name\": \"SparseNormalizer, XGBoostClassifier\", \"run_properties\": \"<azureml.automl.runtime.shared.model_wrappers.SparseNormalizer object at 0x7f1a4e23d3c8\", \"primary_metric\": 0.82965517, \"best_metric\": 0.86965517}, {\"run_id\": \"AutoML_b4871787-e087-4afa-a6bf-a1f687d98bf1_44\", \"run_number\": 55, \"metric\": null, \"status\": \"Completed\", \"run_type\": \"azureml.scriptrun\", \"training_percent\": \"100\", \"start_time\": \"2021-01-24T10:55:50.458884Z\", \"end_time\": \"2021-01-24T10:56:35.340576Z\", \"created_time\": \"2021-01-24T10:55:39.02107Z\", \"created_time_dt\": \"2021-01-24T10:55:39.02107Z\", \"duration\": \"0:00:56\", \"iteration\": \"44\", \"goal\": \"accuracy_max\", \"run_name\": \"SparseNormalizer, XGBoostClassifier\", \"run_properties\": \"<azureml.automl.runtime.shared.model_wrappers.SparseNormalizer object at 0x7f2ab5be0da0\", \"primary_metric\": 0.8362069, \"best_metric\": 0.86965517}, {\"run_id\": \"AutoML_b4871787-e087-4afa-a6bf-a1f687d98bf1_45\", \"run_number\": 56, \"metric\": null, \"status\": \"Completed\", \"run_type\": \"azureml.scriptrun\", \"training_percent\": \"100\", \"start_time\": \"2021-01-24T10:56:14.804739Z\", \"end_time\": \"2021-01-24T10:57:02.528186Z\", \"created_time\": \"2021-01-24T10:56:01.148379Z\", \"created_time_dt\": \"2021-01-24T10:56:01.148379Z\", \"duration\": \"0:01:01\", \"iteration\": \"45\", \"goal\": \"accuracy_max\", \"run_name\": \"StandardScalerWrapper, XGBoostClassifier\", \"run_properties\": \"<azureml.automl.runtime.shared.model_wrappers.StandardScalerWrapper object at 0x7f74d44ea0b8\", \"primary_metric\": 0.6791954, \"best_metric\": 0.86965517}, {\"run_id\": \"AutoML_b4871787-e087-4afa-a6bf-a1f687d98bf1_46\", \"run_number\": 57, \"metric\": null, \"status\": \"Completed\", \"run_type\": \"azureml.scriptrun\", \"training_percent\": \"100\", \"start_time\": \"2021-01-24T10:56:23.428156Z\", \"end_time\": \"2021-01-24T10:57:09.273435Z\", \"created_time\": \"2021-01-24T10:56:10.811223Z\", \"created_time_dt\": \"2021-01-24T10:56:10.811223Z\", \"duration\": \"0:00:58\", \"iteration\": \"46\", \"goal\": \"accuracy_max\", \"run_name\": \"MaxAbsScaler, LightGBM\", \"run_properties\": \"copy=True\", \"primary_metric\": 0.84264368, \"best_metric\": 0.86965517}, {\"run_id\": \"AutoML_b4871787-e087-4afa-a6bf-a1f687d98bf1_47\", \"run_number\": 58, \"metric\": null, \"status\": \"Completed\", \"run_type\": \"azureml.scriptrun\", \"training_percent\": \"100\", \"start_time\": \"2021-01-24T10:56:37.944626Z\", \"end_time\": \"2021-01-24T10:57:20.769308Z\", \"created_time\": \"2021-01-24T10:56:26.59535Z\", \"created_time_dt\": \"2021-01-24T10:56:26.59535Z\", \"duration\": \"0:00:54\", \"iteration\": \"47\", \"goal\": \"accuracy_max\", \"run_name\": \"MaxAbsScaler, LightGBM\", \"run_properties\": \"copy=True\", \"primary_metric\": 0.84264368, \"best_metric\": 0.86965517}, {\"run_id\": \"AutoML_b4871787-e087-4afa-a6bf-a1f687d98bf1_48\", \"run_number\": 59, \"metric\": null, \"status\": \"Completed\", \"run_type\": \"azureml.scriptrun\", \"training_percent\": \"100\", \"start_time\": \"2021-01-24T10:56:49.181756Z\", \"end_time\": \"2021-01-24T10:57:34.337744Z\", \"created_time\": \"2021-01-24T10:56:37.501159Z\", \"created_time_dt\": \"2021-01-24T10:56:37.501159Z\", \"duration\": \"0:00:56\", \"iteration\": \"48\", \"goal\": \"accuracy_max\", \"run_name\": \"SparseNormalizer, GradientBoosting\", \"run_properties\": \"<azureml.automl.runtime.shared.model_wrappers.SparseNormalizer object at 0x7f25b45d09e8\", \"primary_metric\": 0.80298851, \"best_metric\": 0.86965517}, {\"run_id\": \"AutoML_b4871787-e087-4afa-a6bf-a1f687d98bf1_49\", \"run_number\": 60, \"metric\": null, \"status\": \"Completed\", \"run_type\": \"azureml.scriptrun\", \"training_percent\": \"100\", \"start_time\": \"2021-01-24T10:57:17.860317Z\", \"end_time\": \"2021-01-24T10:58:02.689606Z\", \"created_time\": \"2021-01-24T10:57:05.13106Z\", \"created_time_dt\": \"2021-01-24T10:57:05.13106Z\", \"duration\": \"0:00:57\", \"iteration\": \"49\", \"goal\": \"accuracy_max\", \"run_name\": \"StandardScalerWrapper, XGBoostClassifier\", \"run_properties\": \"<azureml.automl.runtime.shared.model_wrappers.StandardScalerWrapper object at 0x7f3c4ce47400\", \"primary_metric\": 0.82574713, \"best_metric\": 0.86965517}, {\"run_id\": \"AutoML_b4871787-e087-4afa-a6bf-a1f687d98bf1_50\", \"run_number\": 61, \"metric\": null, \"status\": \"Canceled\", \"run_type\": \"azureml.scriptrun\", \"training_percent\": \"100\", \"start_time\": \"2021-01-24T10:57:25.264596Z\", \"end_time\": \"2021-01-24T10:58:11.019273Z\", \"created_time\": \"2021-01-24T10:57:12.4713Z\", \"created_time_dt\": \"2021-01-24T10:57:12.4713Z\", \"duration\": \"0:00:58\", \"iteration\": \"50\", \"goal\": null, \"run_name\": \"Canceled\", \"run_properties\": null}, {\"run_id\": \"AutoML_b4871787-e087-4afa-a6bf-a1f687d98bf1_51\", \"run_number\": 62, \"metric\": null, \"status\": \"Canceled\", \"run_type\": \"azureml.scriptrun\", \"training_percent\": \"100\", \"start_time\": \"2021-01-24T10:57:36.980548Z\", \"end_time\": \"2021-01-24T10:58:10.968468Z\", \"created_time\": \"2021-01-24T10:57:22.943716Z\", \"created_time_dt\": \"2021-01-24T10:57:22.943716Z\", \"duration\": \"0:00:48\", \"iteration\": \"51\", \"goal\": \"accuracy_max\", \"run_name\": \"RobustScaler, GradientBoosting\", \"run_properties\": \"copy=True, quantile_range=[25, 75], with_centering=False,\\n             with_scaling=False\", \"primary_metric\": 0.84275862, \"best_metric\": 0.86965517}, {\"run_id\": \"AutoML_b4871787-e087-4afa-a6bf-a1f687d98bf1_52\", \"run_number\": 63, \"metric\": null, \"status\": \"Canceled\", \"run_type\": \"azureml.scriptrun\", \"training_percent\": \"100\", \"start_time\": \"2021-01-24T10:57:49.316338Z\", \"end_time\": \"2021-01-24T10:58:12.046312Z\", \"created_time\": \"2021-01-24T10:57:36.68106Z\", \"created_time_dt\": \"2021-01-24T10:57:36.68106Z\", \"duration\": \"0:00:35\", \"iteration\": \"52\", \"goal\": null, \"run_name\": \"Canceled\", \"run_properties\": null}, {\"run_id\": \"AutoML_b4871787-e087-4afa-a6bf-a1f687d98bf1_54\", \"run_number\": 64, \"metric\": null, \"status\": \"Completed\", \"run_type\": \"azureml.scriptrun\", \"training_percent\": \"100\", \"start_time\": \"2021-01-24T10:58:24.983867Z\", \"end_time\": \"2021-01-24T11:00:37.186222Z\", \"created_time\": \"2021-01-24T10:58:14.565832Z\", \"created_time_dt\": \"2021-01-24T10:58:14.565832Z\", \"duration\": \"0:02:22\", \"iteration\": \"54\", \"goal\": \"accuracy_max\", \"run_name\": \"StackEnsemble\", \"run_properties\": \"base_learners=[('35',\\n                                        Pipeline(memory=None,\\n                                                 steps=[('sparsenormalizer',\\n                                                         <azureml.automl.runtime.shared.model_wrappers.SparseNormalizer object at 0x7feeccd39828>\", \"primary_metric\": 0.87298851, \"best_metric\": 0.88298851}, {\"run_id\": \"AutoML_b4871787-e087-4afa-a6bf-a1f687d98bf1_53\", \"run_number\": 65, \"metric\": null, \"status\": \"Completed\", \"run_type\": \"azureml.scriptrun\", \"training_percent\": \"100\", \"start_time\": \"2021-01-24T10:58:28.790056Z\", \"end_time\": \"2021-01-24T11:01:45.977804Z\", \"created_time\": \"2021-01-24T10:58:14.650161Z\", \"created_time_dt\": \"2021-01-24T10:58:14.650161Z\", \"duration\": \"0:03:31\", \"iteration\": \"53\", \"goal\": \"accuracy_max\", \"run_name\": \"VotingEnsemble\", \"run_properties\": \"classification_labels=None,\\n                              estimators=[('35',\\n                                           Pipeline(memory=None,\\n                                                    steps=[('sparsenormalizer',\\n                                                            <azureml.automl.runtime.shared.model_wrappers.SparseNormalizer object at 0x7fd53dfe7470>\", \"primary_metric\": 0.88298851, \"best_metric\": 0.88298851}], \"children_metrics\": {\"categories\": [0], \"series\": {\"recall_score_micro\": [{\"categories\": [\"0\", \"1\", \"2\", \"3\", \"4\", \"5\", \"6\", \"7\", \"8\", \"9\", \"10\", \"11\", \"12\", \"13\", \"14\", \"15\", \"16\", \"17\", \"18\", \"19\", \"20\", \"21\", \"22\", \"23\", \"24\", \"25\", \"26\", \"27\", \"28\", \"29\", \"30\", \"31\", \"32\", \"33\", \"34\", \"35\", \"36\", \"37\", \"38\", \"39\", \"40\", \"41\", \"42\", \"43\", \"44\", \"45\", \"46\", \"47\", \"48\", \"49\", \"51\", \"53\", \"54\"], \"mode\": \"markers\", \"name\": \"recall_score_micro\", \"stepped\": false, \"type\": \"scatter\", \"data\": [0.8359770114942527, 0.8358620689655172, 0.8393103448275863, 0.8562068965517243, 0.8490804597701149, 0.8458620689655174, 0.7225287356321839, 0.8459770114942529, 0.7559770114942529, 0.8360919540229885, 0.8260919540229885, 0.8496551724137932, 0.8527586206896552, 0.849425287356322, 0.8093103448275862, 0.8226436781609194, 0.7994252873563219, 0.8460919540229884, 0.849425287356322, 0.8362068965517242, 0.8093103448275862, 0.8459770114942529, 0.8258620689655173, 0.8460919540229884, 0.8596551724137932, 0.8021839080459771, 0.789080459770115, 0.8425287356321839, 0.8358620689655172, 0.8393103448275863, 0.6791954022988507, 0.8459770114942529, 0.8428735632183908, 0.8393103448275863, 0.8226436781609194, 0.8696551724137931, 0.8190804597701149, 0.842528735632184, 0.8327586206896551, 0.8426436781609195, 0.8228735632183909, 0.8358620689655174, 0.8595402298850576, 0.829655172413793, 0.8362068965517242, 0.6791954022988507, 0.8426436781609195, 0.8426436781609196, 0.8029885057471265, 0.8257471264367815, 0.8427586206896553, 0.8829885057471264, 0.8729885057471265]}, {\"categories\": [\"0\", \"1\", \"2\", \"3\", \"4\", \"5\", \"6\", \"7\", \"8\", \"9\", \"10\", \"11\", \"12\", \"13\", \"14\", \"15\", \"16\", \"17\", \"18\", \"19\", \"20\", \"21\", \"22\", \"23\", \"24\", \"25\", \"26\", \"27\", \"28\", \"29\", \"30\", \"31\", \"32\", \"33\", \"34\", \"35\", \"36\", \"37\", \"38\", \"39\", \"40\", \"41\", \"42\", \"43\", \"44\", \"45\", \"46\", \"47\", \"48\", \"49\", \"51\", \"53\", \"54\"], \"mode\": \"lines\", \"name\": \"recall_score_micro_max\", \"stepped\": true, \"type\": \"scatter\", \"data\": [0.8359770114942527, 0.8359770114942527, 0.8393103448275863, 0.8562068965517243, 0.8562068965517243, 0.8562068965517243, 0.8562068965517243, 0.8562068965517243, 0.8562068965517243, 0.8562068965517243, 0.8562068965517243, 0.8562068965517243, 0.8562068965517243, 0.8562068965517243, 0.8562068965517243, 0.8562068965517243, 0.8562068965517243, 0.8562068965517243, 0.8562068965517243, 0.8562068965517243, 0.8562068965517243, 0.8562068965517243, 0.8562068965517243, 0.8562068965517243, 0.8596551724137932, 0.8596551724137932, 0.8596551724137932, 0.8596551724137932, 0.8596551724137932, 0.8596551724137932, 0.8596551724137932, 0.8596551724137932, 0.8596551724137932, 0.8596551724137932, 0.8596551724137932, 0.8696551724137931, 0.8696551724137931, 0.8696551724137931, 0.8696551724137931, 0.8696551724137931, 0.8696551724137931, 0.8696551724137931, 0.8696551724137931, 0.8696551724137931, 0.8696551724137931, 0.8696551724137931, 0.8696551724137931, 0.8696551724137931, 0.8696551724137931, 0.8696551724137931, 0.8696551724137931, 0.8829885057471264, 0.8829885057471264]}], \"average_precision_score_weighted\": [{\"categories\": [\"0\", \"1\", \"2\", \"3\", \"4\", \"5\", \"6\", \"7\", \"8\", \"9\", \"10\", \"11\", \"12\", \"13\", \"14\", \"15\", \"16\", \"17\", \"18\", \"19\", \"20\", \"21\", \"22\", \"23\", \"24\", \"25\", \"26\", \"27\", \"28\", \"29\", \"30\", \"31\", \"32\", \"33\", \"34\", \"35\", \"36\", \"37\", \"38\", \"39\", \"40\", \"41\", \"42\", \"43\", \"44\", \"45\", \"46\", \"47\", \"48\", \"49\", \"51\", \"53\", \"54\"], \"mode\": \"markers\", \"name\": \"average_precision_score_weighted\", \"stepped\": false, \"type\": \"scatter\", \"data\": [0.9061112830231934, 0.907154018724502, 0.9216313712703084, 0.9275581610672987, 0.9205633624030266, 0.9191203488298848, 0.7893681357319238, 0.9182133306281285, 0.8829812883464841, 0.9171520339795954, 0.9177586180946771, 0.9219554909392297, 0.9196210968556832, 0.9081796487730239, 0.8764764478120824, 0.916358520578126, 0.9077395435533042, 0.9091743418388722, 0.9154099171167175, 0.9051350361494794, 0.9051677305045654, 0.9141465458207684, 0.9135350273104205, 0.9150911424664041, 0.915124140751739, 0.9107227972913655, 0.8666325008994751, 0.9279538509812104, 0.9028023935988333, 0.9128433838735328, 0.6208003767657503, 0.9142682664536175, 0.9273299016762767, 0.8969991744237259, 0.9037618357274564, 0.9195309869854782, 0.9246122203683296, 0.9142071355380399, 0.9128201843764666, 0.9250095480051399, 0.8538396787736001, 0.9163488179481138, 0.9121530516289542, 0.8908858567383657, 0.898857574409942, 0.5827102655568768, 0.9128585781760818, 0.9227474117220996, 0.9061099962976643, 0.9132536016238892, 0.9282077859024357, 0.9294699280701316, 0.933604892275983]}, {\"categories\": [\"0\", \"1\", \"2\", \"3\", \"4\", \"5\", \"6\", \"7\", \"8\", \"9\", \"10\", \"11\", \"12\", \"13\", \"14\", \"15\", \"16\", \"17\", \"18\", \"19\", \"20\", \"21\", \"22\", \"23\", \"24\", \"25\", \"26\", \"27\", \"28\", \"29\", \"30\", \"31\", \"32\", \"33\", \"34\", \"35\", \"36\", \"37\", \"38\", \"39\", \"40\", \"41\", \"42\", \"43\", \"44\", \"45\", \"46\", \"47\", \"48\", \"49\", \"51\", \"53\", \"54\"], \"mode\": \"lines\", \"name\": \"average_precision_score_weighted_max\", \"stepped\": true, \"type\": \"scatter\", \"data\": [0.9061112830231934, 0.907154018724502, 0.9216313712703084, 0.9275581610672987, 0.9275581610672987, 0.9275581610672987, 0.9275581610672987, 0.9275581610672987, 0.9275581610672987, 0.9275581610672987, 0.9275581610672987, 0.9275581610672987, 0.9275581610672987, 0.9275581610672987, 0.9275581610672987, 0.9275581610672987, 0.9275581610672987, 0.9275581610672987, 0.9275581610672987, 0.9275581610672987, 0.9275581610672987, 0.9275581610672987, 0.9275581610672987, 0.9275581610672987, 0.9275581610672987, 0.9275581610672987, 0.9275581610672987, 0.9279538509812104, 0.9279538509812104, 0.9279538509812104, 0.9279538509812104, 0.9279538509812104, 0.9279538509812104, 0.9279538509812104, 0.9279538509812104, 0.9279538509812104, 0.9279538509812104, 0.9279538509812104, 0.9279538509812104, 0.9279538509812104, 0.9279538509812104, 0.9279538509812104, 0.9279538509812104, 0.9279538509812104, 0.9279538509812104, 0.9279538509812104, 0.9279538509812104, 0.9279538509812104, 0.9279538509812104, 0.9279538509812104, 0.9282077859024357, 0.9294699280701316, 0.933604892275983]}], \"average_precision_score_macro\": [{\"categories\": [\"0\", \"1\", \"2\", \"3\", \"4\", \"5\", \"6\", \"7\", \"8\", \"9\", \"10\", \"11\", \"12\", \"13\", \"14\", \"15\", \"16\", \"17\", \"18\", \"19\", \"20\", \"21\", \"22\", \"23\", \"24\", \"25\", \"26\", \"27\", \"28\", \"29\", \"30\", \"31\", \"32\", \"33\", \"34\", \"35\", \"36\", \"37\", \"38\", \"39\", \"40\", \"41\", \"42\", \"43\", \"44\", \"45\", \"46\", \"47\", \"48\", \"49\", \"51\", \"53\", \"54\"], \"mode\": \"markers\", \"name\": \"average_precision_score_macro\", \"stepped\": false, \"type\": \"scatter\", \"data\": [0.8807888197525153, 0.8807340475847678, 0.8998737318388128, 0.9047858345924065, 0.8963549479194624, 0.891353812104047, 0.7438412592591064, 0.8929850833922688, 0.8534413132635805, 0.8901275157308136, 0.8914413855454489, 0.8984196366733151, 0.895055838657435, 0.8762367151383612, 0.8401142754782065, 0.8893073017964932, 0.8826263312927226, 0.886833353757825, 0.8893119809573939, 0.8819949781809319, 0.8751340116644893, 0.8914655367482102, 0.8822849766998608, 0.8871267297827778, 0.8940651260149188, 0.8813613813944521, 0.8273748920899514, 0.9051880951145265, 0.8764244993608112, 0.8833412239264323, 0.545872681099792, 0.8887624296621462, 0.9045383626860353, 0.8665909329839323, 0.8805916440855981, 0.8978270893535477, 0.9025438097306664, 0.8885321496748961, 0.8875802792958506, 0.9009506738929163, 0.8198686068631531, 0.8867788668129621, 0.8902386455684909, 0.8691001478859091, 0.8745008216808513, 0.5, 0.8840187962511242, 0.8986133184165791, 0.8814632576369343, 0.882236484713251, 0.9065013777520449, 0.9085683034416473, 0.9131345501160965]}, {\"categories\": [\"0\", \"1\", \"2\", \"3\", \"4\", \"5\", \"6\", \"7\", \"8\", \"9\", \"10\", \"11\", \"12\", \"13\", \"14\", \"15\", \"16\", \"17\", \"18\", \"19\", \"20\", \"21\", \"22\", \"23\", \"24\", \"25\", \"26\", \"27\", \"28\", \"29\", \"30\", \"31\", \"32\", \"33\", \"34\", \"35\", \"36\", \"37\", \"38\", \"39\", \"40\", \"41\", \"42\", \"43\", \"44\", \"45\", \"46\", \"47\", \"48\", \"49\", \"51\", \"53\", \"54\"], \"mode\": \"lines\", \"name\": \"average_precision_score_macro_max\", \"stepped\": true, \"type\": \"scatter\", \"data\": [0.8807888197525153, 0.8807888197525153, 0.8998737318388128, 0.9047858345924065, 0.9047858345924065, 0.9047858345924065, 0.9047858345924065, 0.9047858345924065, 0.9047858345924065, 0.9047858345924065, 0.9047858345924065, 0.9047858345924065, 0.9047858345924065, 0.9047858345924065, 0.9047858345924065, 0.9047858345924065, 0.9047858345924065, 0.9047858345924065, 0.9047858345924065, 0.9047858345924065, 0.9047858345924065, 0.9047858345924065, 0.9047858345924065, 0.9047858345924065, 0.9047858345924065, 0.9047858345924065, 0.9047858345924065, 0.9051880951145265, 0.9051880951145265, 0.9051880951145265, 0.9051880951145265, 0.9051880951145265, 0.9051880951145265, 0.9051880951145265, 0.9051880951145265, 0.9051880951145265, 0.9051880951145265, 0.9051880951145265, 0.9051880951145265, 0.9051880951145265, 0.9051880951145265, 0.9051880951145265, 0.9051880951145265, 0.9051880951145265, 0.9051880951145265, 0.9051880951145265, 0.9051880951145265, 0.9051880951145265, 0.9051880951145265, 0.9051880951145265, 0.9065013777520449, 0.9085683034416473, 0.9131345501160965]}], \"AUC_micro\": [{\"categories\": [\"0\", \"1\", \"2\", \"3\", \"4\", \"5\", \"6\", \"7\", \"8\", \"9\", \"10\", \"11\", \"12\", \"13\", \"14\", \"15\", \"16\", \"17\", \"18\", \"19\", \"20\", \"21\", \"22\", \"23\", \"24\", \"25\", \"26\", \"27\", \"28\", \"29\", \"30\", \"31\", \"32\", \"33\", \"34\", \"35\", \"36\", \"37\", \"38\", \"39\", \"40\", \"41\", \"42\", \"43\", \"44\", \"45\", \"46\", \"47\", \"48\", \"49\", \"51\", \"53\", \"54\"], \"mode\": \"markers\", \"name\": \"AUC_micro\", \"stepped\": false, \"type\": \"scatter\", \"data\": [0.9035422116527941, 0.9042166732725592, 0.9117820055489497, 0.9261074118113356, 0.9165909631391201, 0.9109476813317479, 0.7899136609855992, 0.9172712379442463, 0.8477292905271503, 0.9139145197516185, 0.8975012551195668, 0.9122438895494783, 0.9133413925221296, 0.9126143479984146, 0.8808599550799313, 0.8919398863786497, 0.8729632712379443, 0.9040704188135816, 0.9149612894702075, 0.8939495309816357, 0.8896981107147577, 0.911238076364117, 0.9043745541022592, 0.9125675782798256, 0.9076220108336637, 0.8860083234244946, 0.8452734839476813, 0.9126962610648699, 0.8930159862597439, 0.9027644338750165, 0.6813902761263047, 0.9097624521072799, 0.913300435988902, 0.8918697318007662, 0.8920606420927466, 0.913273087594134, 0.9147020742502313, 0.9082946228035407, 0.9052946228035408, 0.9169690844233056, 0.8620040956533227, 0.9099788611441404, 0.9013452239397542, 0.883861804729819, 0.8925362663495839, 0.6791954022988507, 0.8985110318404018, 0.9166493592284318, 0.8874465583300305, 0.9039262782401902, 0.9226415642753336, 0.9248130532434933, 0.9253530188928524]}, {\"categories\": [\"0\", \"1\", \"2\", \"3\", \"4\", \"5\", \"6\", \"7\", \"8\", \"9\", \"10\", \"11\", \"12\", \"13\", \"14\", \"15\", \"16\", \"17\", \"18\", \"19\", \"20\", \"21\", \"22\", \"23\", \"24\", \"25\", \"26\", \"27\", \"28\", \"29\", \"30\", \"31\", \"32\", \"33\", \"34\", \"35\", \"36\", \"37\", \"38\", \"39\", \"40\", \"41\", \"42\", \"43\", \"44\", \"45\", \"46\", \"47\", \"48\", \"49\", \"51\", \"53\", \"54\"], \"mode\": \"lines\", \"name\": \"AUC_micro_max\", \"stepped\": true, \"type\": \"scatter\", \"data\": [0.9035422116527941, 0.9042166732725592, 0.9117820055489497, 0.9261074118113356, 0.9261074118113356, 0.9261074118113356, 0.9261074118113356, 0.9261074118113356, 0.9261074118113356, 0.9261074118113356, 0.9261074118113356, 0.9261074118113356, 0.9261074118113356, 0.9261074118113356, 0.9261074118113356, 0.9261074118113356, 0.9261074118113356, 0.9261074118113356, 0.9261074118113356, 0.9261074118113356, 0.9261074118113356, 0.9261074118113356, 0.9261074118113356, 0.9261074118113356, 0.9261074118113356, 0.9261074118113356, 0.9261074118113356, 0.9261074118113356, 0.9261074118113356, 0.9261074118113356, 0.9261074118113356, 0.9261074118113356, 0.9261074118113356, 0.9261074118113356, 0.9261074118113356, 0.9261074118113356, 0.9261074118113356, 0.9261074118113356, 0.9261074118113356, 0.9261074118113356, 0.9261074118113356, 0.9261074118113356, 0.9261074118113356, 0.9261074118113356, 0.9261074118113356, 0.9261074118113356, 0.9261074118113356, 0.9261074118113356, 0.9261074118113356, 0.9261074118113356, 0.9261074118113356, 0.9261074118113356, 0.9261074118113356]}], \"f1_score_macro\": [{\"categories\": [\"0\", \"1\", \"2\", \"3\", \"4\", \"5\", \"6\", \"7\", \"8\", \"9\", \"10\", \"11\", \"12\", \"13\", \"14\", \"15\", \"16\", \"17\", \"18\", \"19\", \"20\", \"21\", \"22\", \"23\", \"24\", \"25\", \"26\", \"27\", \"28\", \"29\", \"30\", \"31\", \"32\", \"33\", \"34\", \"35\", \"36\", \"37\", \"38\", \"39\", \"40\", \"41\", \"42\", \"43\", \"44\", \"45\", \"46\", \"47\", \"48\", \"49\", \"51\", \"53\", \"54\"], \"mode\": \"markers\", \"name\": \"f1_score_macro\", \"stepped\": false, \"type\": \"scatter\", \"data\": [0.8043314151248963, 0.8078501228997539, 0.8080743423897658, 0.8164887869354887, 0.8206449621197967, 0.817145706315505, 0.6208772862000334, 0.8144491173999248, 0.632950422884477, 0.8030444193537395, 0.7754192497122441, 0.8158299616451584, 0.81418291943489, 0.8193552089053757, 0.7603669925285953, 0.7728404384842704, 0.7101744217921057, 0.8128131041987542, 0.8177419541166063, 0.8062936525373925, 0.7562516549161791, 0.8080219173843133, 0.7819539914520132, 0.8146213692322715, 0.829711196098643, 0.7786826897181917, 0.7649238315991704, 0.8188719742946065, 0.8078162994208613, 0.8012883076904815, 0.4024893878511494, 0.8157868270721528, 0.8075905031989367, 0.7980241222188162, 0.7754443643806277, 0.8446976779454873, 0.7862467249147408, 0.8115173689267563, 0.7984459083582363, 0.8099093597097031, 0.7647014596876435, 0.8063625291984506, 0.8311364199718684, 0.7779196476051837, 0.7948956694270393, 0.4024893878511494, 0.8037759609597854, 0.8146967302215709, 0.7518251193251193, 0.79348164886887, 0.8090301734720292, 0.8603763495566362, 0.849787158046392]}, {\"categories\": [\"0\", \"1\", \"2\", \"3\", \"4\", \"5\", \"6\", \"7\", \"8\", \"9\", \"10\", \"11\", \"12\", \"13\", \"14\", \"15\", \"16\", \"17\", \"18\", \"19\", \"20\", \"21\", \"22\", \"23\", \"24\", \"25\", \"26\", \"27\", \"28\", \"29\", \"30\", \"31\", \"32\", \"33\", \"34\", \"35\", \"36\", \"37\", \"38\", \"39\", \"40\", \"41\", \"42\", \"43\", \"44\", \"45\", \"46\", \"47\", \"48\", \"49\", \"51\", \"53\", \"54\"], \"mode\": \"lines\", \"name\": \"f1_score_macro_max\", \"stepped\": true, \"type\": \"scatter\", \"data\": [0.8043314151248963, 0.8078501228997539, 0.8080743423897658, 0.8164887869354887, 0.8206449621197967, 0.8206449621197967, 0.8206449621197967, 0.8206449621197967, 0.8206449621197967, 0.8206449621197967, 0.8206449621197967, 0.8206449621197967, 0.8206449621197967, 0.8206449621197967, 0.8206449621197967, 0.8206449621197967, 0.8206449621197967, 0.8206449621197967, 0.8206449621197967, 0.8206449621197967, 0.8206449621197967, 0.8206449621197967, 0.8206449621197967, 0.8206449621197967, 0.829711196098643, 0.829711196098643, 0.829711196098643, 0.829711196098643, 0.829711196098643, 0.829711196098643, 0.829711196098643, 0.829711196098643, 0.829711196098643, 0.829711196098643, 0.829711196098643, 0.8446976779454873, 0.8446976779454873, 0.8446976779454873, 0.8446976779454873, 0.8446976779454873, 0.8446976779454873, 0.8446976779454873, 0.8446976779454873, 0.8446976779454873, 0.8446976779454873, 0.8446976779454873, 0.8446976779454873, 0.8446976779454873, 0.8446976779454873, 0.8446976779454873, 0.8446976779454873, 0.8603763495566362, 0.8603763495566362]}], \"precision_score_weighted\": [{\"categories\": [\"0\", \"1\", \"2\", \"3\", \"4\", \"5\", \"6\", \"7\", \"8\", \"9\", \"10\", \"11\", \"12\", \"13\", \"14\", \"15\", \"16\", \"17\", \"18\", \"19\", \"20\", \"21\", \"22\", \"23\", \"24\", \"25\", \"26\", \"27\", \"28\", \"29\", \"30\", \"31\", \"32\", \"33\", \"34\", \"35\", \"36\", \"37\", \"38\", \"39\", \"40\", \"41\", \"42\", \"43\", \"44\", \"45\", \"46\", \"47\", \"48\", \"49\", \"51\", \"53\", \"54\"], \"mode\": \"markers\", \"name\": \"precision_score_weighted\", \"stepped\": false, \"type\": \"scatter\", \"data\": [0.8443308716969533, 0.8506678986628277, 0.8485240493414657, 0.8663442727770313, 0.8649342488928695, 0.8609016062737732, 0.7407425735850024, 0.8613901668574083, 0.7841864758910736, 0.849716009742148, 0.8458189288953408, 0.8607432546328614, 0.8660451841187736, 0.8585747232804953, 0.8214794960088856, 0.8349369327241142, 0.8310542924295798, 0.8581170334176725, 0.8577669385200253, 0.8464264202888815, 0.8239838223079602, 0.8559991688480206, 0.8445519029566506, 0.8592656647866542, 0.872301740503081, 0.8399833478681028, 0.8232836229393025, 0.860791886944177, 0.8571275397512377, 0.8512215457548056, 0.47055053507728895, 0.8557954338126752, 0.85822821310023, 0.8502132820295252, 0.832384292851909, 0.8858671483357522, 0.8358902855766555, 0.8580665941560245, 0.8466609217036505, 0.8556666218838632, 0.8397294143803888, 0.8524845056728492, 0.8766202480108423, 0.8482669869250079, 0.8531360607486439, 0.47055053507728895, 0.853522805839049, 0.8567548792407909, 0.8190524431489242, 0.849195786483819, 0.855549032158129, 0.8966041347319459, 0.8895180068785546]}, {\"categories\": [\"0\", \"1\", \"2\", \"3\", \"4\", \"5\", \"6\", \"7\", \"8\", \"9\", \"10\", \"11\", \"12\", \"13\", \"14\", \"15\", \"16\", \"17\", \"18\", \"19\", \"20\", \"21\", \"22\", \"23\", \"24\", \"25\", \"26\", \"27\", \"28\", \"29\", \"30\", \"31\", \"32\", \"33\", \"34\", \"35\", \"36\", \"37\", \"38\", \"39\", \"40\", \"41\", \"42\", \"43\", \"44\", \"45\", \"46\", \"47\", \"48\", \"49\", \"51\", \"53\", \"54\"], \"mode\": \"lines\", \"name\": \"precision_score_weighted_max\", \"stepped\": true, \"type\": \"scatter\", \"data\": [0.8443308716969533, 0.8506678986628277, 0.8506678986628277, 0.8663442727770313, 0.8663442727770313, 0.8663442727770313, 0.8663442727770313, 0.8663442727770313, 0.8663442727770313, 0.8663442727770313, 0.8663442727770313, 0.8663442727770313, 0.8663442727770313, 0.8663442727770313, 0.8663442727770313, 0.8663442727770313, 0.8663442727770313, 0.8663442727770313, 0.8663442727770313, 0.8663442727770313, 0.8663442727770313, 0.8663442727770313, 0.8663442727770313, 0.8663442727770313, 0.872301740503081, 0.872301740503081, 0.872301740503081, 0.872301740503081, 0.872301740503081, 0.872301740503081, 0.872301740503081, 0.872301740503081, 0.872301740503081, 0.872301740503081, 0.872301740503081, 0.8858671483357522, 0.8858671483357522, 0.8858671483357522, 0.8858671483357522, 0.8858671483357522, 0.8858671483357522, 0.8858671483357522, 0.8858671483357522, 0.8858671483357522, 0.8858671483357522, 0.8858671483357522, 0.8858671483357522, 0.8858671483357522, 0.8858671483357522, 0.8858671483357522, 0.8858671483357522, 0.8966041347319459, 0.8966041347319459]}], \"precision_score_macro\": [{\"categories\": [\"0\", \"1\", \"2\", \"3\", \"4\", \"5\", \"6\", \"7\", \"8\", \"9\", \"10\", \"11\", \"12\", \"13\", \"14\", \"15\", \"16\", \"17\", \"18\", \"19\", \"20\", \"21\", \"22\", \"23\", \"24\", \"25\", \"26\", \"27\", \"28\", \"29\", \"30\", \"31\", \"32\", \"33\", \"34\", \"35\", \"36\", \"37\", \"38\", \"39\", \"40\", \"41\", \"42\", \"43\", \"44\", \"45\", \"46\", \"47\", \"48\", \"49\", \"51\", \"53\", \"54\"], \"mode\": \"markers\", \"name\": \"precision_score_macro\", \"stepped\": false, \"type\": \"scatter\", \"data\": [0.8167365852764965, 0.8232986049897815, 0.8262650715148359, 0.8465186830713147, 0.839178391053391, 0.8263824685899495, 0.7070814620162447, 0.8356502525252525, 0.7534096704700154, 0.8206772902282056, 0.8466691396365309, 0.8450524272544733, 0.8670544979429419, 0.8295619235836627, 0.7853385886633968, 0.8236542443064183, 0.8457649757649758, 0.8282449693073263, 0.8344623185850807, 0.8208112856094415, 0.801629315129315, 0.843103395841382, 0.8306639479682959, 0.8312390206411946, 0.8517404537065663, 0.7814978734715577, 0.7695114199525964, 0.8151464610810587, 0.8184692194088647, 0.8347272430087076, 0.33959770114942534, 0.8246843434343434, 0.83570939468318, 0.8332607457378625, 0.8173452948018165, 0.8658578735132443, 0.7962378567387653, 0.8348028297027152, 0.819417924752593, 0.8336255411255411, 0.8510603273538055, 0.8146732464395509, 0.8668733211868224, 0.8504629525064308, 0.8473752436647173, 0.33959770114942534, 0.8357499232270399, 0.8313879325420247, 0.7979589393272258, 0.8144586948998714, 0.8440856706446962, 0.8871370445598133, 0.8786431155516834]}, {\"categories\": [\"0\", \"1\", \"2\", \"3\", \"4\", \"5\", \"6\", \"7\", \"8\", \"9\", \"10\", \"11\", \"12\", \"13\", \"14\", \"15\", \"16\", \"17\", \"18\", \"19\", \"20\", \"21\", \"22\", \"23\", \"24\", \"25\", \"26\", \"27\", \"28\", \"29\", \"30\", \"31\", \"32\", \"33\", \"34\", \"35\", \"36\", \"37\", \"38\", \"39\", \"40\", \"41\", \"42\", \"43\", \"44\", \"45\", \"46\", \"47\", \"48\", \"49\", \"51\", \"53\", \"54\"], \"mode\": \"lines\", \"name\": \"precision_score_macro_max\", \"stepped\": true, \"type\": \"scatter\", \"data\": [0.8167365852764965, 0.8232986049897815, 0.8262650715148359, 0.8465186830713147, 0.8465186830713147, 0.8465186830713147, 0.8465186830713147, 0.8465186830713147, 0.8465186830713147, 0.8465186830713147, 0.8466691396365309, 0.8466691396365309, 0.8670544979429419, 0.8670544979429419, 0.8670544979429419, 0.8670544979429419, 0.8670544979429419, 0.8670544979429419, 0.8670544979429419, 0.8670544979429419, 0.8670544979429419, 0.8670544979429419, 0.8670544979429419, 0.8670544979429419, 0.8670544979429419, 0.8670544979429419, 0.8670544979429419, 0.8670544979429419, 0.8670544979429419, 0.8670544979429419, 0.8670544979429419, 0.8670544979429419, 0.8670544979429419, 0.8670544979429419, 0.8670544979429419, 0.8670544979429419, 0.8670544979429419, 0.8670544979429419, 0.8670544979429419, 0.8670544979429419, 0.8670544979429419, 0.8670544979429419, 0.8670544979429419, 0.8670544979429419, 0.8670544979429419, 0.8670544979429419, 0.8670544979429419, 0.8670544979429419, 0.8670544979429419, 0.8670544979429419, 0.8670544979429419, 0.8871370445598133, 0.8871370445598133]}], \"precision_score_micro\": [{\"categories\": [\"0\", \"1\", \"2\", \"3\", \"4\", \"5\", \"6\", \"7\", \"8\", \"9\", \"10\", \"11\", \"12\", \"13\", \"14\", \"15\", \"16\", \"17\", \"18\", \"19\", \"20\", \"21\", \"22\", \"23\", \"24\", \"25\", \"26\", \"27\", \"28\", \"29\", \"30\", \"31\", \"32\", \"33\", \"34\", \"35\", \"36\", \"37\", \"38\", \"39\", \"40\", \"41\", \"42\", \"43\", \"44\", \"45\", \"46\", \"47\", \"48\", \"49\", \"51\", \"53\", \"54\"], \"mode\": \"markers\", \"name\": \"precision_score_micro\", \"stepped\": false, \"type\": \"scatter\", \"data\": [0.8359770114942527, 0.8358620689655172, 0.8393103448275863, 0.8562068965517243, 0.8490804597701149, 0.8458620689655174, 0.7225287356321839, 0.8459770114942529, 0.7559770114942529, 0.8360919540229885, 0.8260919540229885, 0.8496551724137932, 0.8527586206896552, 0.849425287356322, 0.8093103448275862, 0.8226436781609194, 0.7994252873563219, 0.8460919540229884, 0.849425287356322, 0.8362068965517242, 0.8093103448275862, 0.8459770114942529, 0.8258620689655173, 0.8460919540229884, 0.8596551724137932, 0.8021839080459771, 0.789080459770115, 0.8425287356321839, 0.8358620689655172, 0.8393103448275863, 0.6791954022988507, 0.8459770114942529, 0.8428735632183908, 0.8393103448275863, 0.8226436781609194, 0.8696551724137931, 0.8190804597701149, 0.842528735632184, 0.8327586206896551, 0.8426436781609195, 0.8228735632183909, 0.8358620689655174, 0.8595402298850576, 0.829655172413793, 0.8362068965517242, 0.6791954022988507, 0.8426436781609195, 0.8426436781609196, 0.8029885057471265, 0.8257471264367815, 0.8427586206896553, 0.8829885057471264, 0.8729885057471265]}, {\"categories\": [\"0\", \"1\", \"2\", \"3\", \"4\", \"5\", \"6\", \"7\", \"8\", \"9\", \"10\", \"11\", \"12\", \"13\", \"14\", \"15\", \"16\", \"17\", \"18\", \"19\", \"20\", \"21\", \"22\", \"23\", \"24\", \"25\", \"26\", \"27\", \"28\", \"29\", \"30\", \"31\", \"32\", \"33\", \"34\", \"35\", \"36\", \"37\", \"38\", \"39\", \"40\", \"41\", \"42\", \"43\", \"44\", \"45\", \"46\", \"47\", \"48\", \"49\", \"51\", \"53\", \"54\"], \"mode\": \"lines\", \"name\": \"precision_score_micro_max\", \"stepped\": true, \"type\": \"scatter\", \"data\": [0.8359770114942527, 0.8359770114942527, 0.8393103448275863, 0.8562068965517243, 0.8562068965517243, 0.8562068965517243, 0.8562068965517243, 0.8562068965517243, 0.8562068965517243, 0.8562068965517243, 0.8562068965517243, 0.8562068965517243, 0.8562068965517243, 0.8562068965517243, 0.8562068965517243, 0.8562068965517243, 0.8562068965517243, 0.8562068965517243, 0.8562068965517243, 0.8562068965517243, 0.8562068965517243, 0.8562068965517243, 0.8562068965517243, 0.8562068965517243, 0.8596551724137932, 0.8596551724137932, 0.8596551724137932, 0.8596551724137932, 0.8596551724137932, 0.8596551724137932, 0.8596551724137932, 0.8596551724137932, 0.8596551724137932, 0.8596551724137932, 0.8596551724137932, 0.8696551724137931, 0.8696551724137931, 0.8696551724137931, 0.8696551724137931, 0.8696551724137931, 0.8696551724137931, 0.8696551724137931, 0.8696551724137931, 0.8696551724137931, 0.8696551724137931, 0.8696551724137931, 0.8696551724137931, 0.8696551724137931, 0.8696551724137931, 0.8696551724137931, 0.8696551724137931, 0.8829885057471264, 0.8829885057471264]}], \"accuracy\": [{\"categories\": [\"0\", \"1\", \"2\", \"3\", \"4\", \"5\", \"6\", \"7\", \"8\", \"9\", \"10\", \"11\", \"12\", \"13\", \"14\", \"15\", \"16\", \"17\", \"18\", \"19\", \"20\", \"21\", \"22\", \"23\", \"24\", \"25\", \"26\", \"27\", \"28\", \"29\", \"30\", \"31\", \"32\", \"33\", \"34\", \"35\", \"36\", \"37\", \"38\", \"39\", \"40\", \"41\", \"42\", \"43\", \"44\", \"45\", \"46\", \"47\", \"48\", \"49\", \"51\", \"53\", \"54\"], \"mode\": \"markers\", \"name\": \"accuracy\", \"stepped\": false, \"type\": \"scatter\", \"data\": [0.8359770114942527, 0.8358620689655172, 0.8393103448275863, 0.8562068965517243, 0.8490804597701149, 0.8458620689655174, 0.7225287356321839, 0.8459770114942529, 0.7559770114942529, 0.8360919540229885, 0.8260919540229885, 0.8496551724137932, 0.8527586206896552, 0.849425287356322, 0.8093103448275862, 0.8226436781609194, 0.7994252873563219, 0.8460919540229884, 0.849425287356322, 0.8362068965517242, 0.8093103448275862, 0.8459770114942529, 0.8258620689655173, 0.8460919540229884, 0.8596551724137932, 0.8021839080459771, 0.789080459770115, 0.8425287356321839, 0.8358620689655172, 0.8393103448275863, 0.6791954022988507, 0.8459770114942529, 0.8428735632183908, 0.8393103448275863, 0.8226436781609194, 0.8696551724137931, 0.8190804597701149, 0.842528735632184, 0.8327586206896551, 0.8426436781609195, 0.8228735632183909, 0.8358620689655174, 0.8595402298850576, 0.829655172413793, 0.8362068965517242, 0.6791954022988507, 0.8426436781609195, 0.8426436781609196, 0.8029885057471265, 0.8257471264367815, 0.8427586206896553, 0.8829885057471264, 0.8729885057471265]}, {\"categories\": [\"0\", \"1\", \"2\", \"3\", \"4\", \"5\", \"6\", \"7\", \"8\", \"9\", \"10\", \"11\", \"12\", \"13\", \"14\", \"15\", \"16\", \"17\", \"18\", \"19\", \"20\", \"21\", \"22\", \"23\", \"24\", \"25\", \"26\", \"27\", \"28\", \"29\", \"30\", \"31\", \"32\", \"33\", \"34\", \"35\", \"36\", \"37\", \"38\", \"39\", \"40\", \"41\", \"42\", \"43\", \"44\", \"45\", \"46\", \"47\", \"48\", \"49\", \"51\", \"53\", \"54\"], \"mode\": \"lines\", \"name\": \"accuracy_max\", \"stepped\": true, \"type\": \"scatter\", \"data\": [0.8359770114942527, 0.8359770114942527, 0.8393103448275863, 0.8562068965517243, 0.8562068965517243, 0.8562068965517243, 0.8562068965517243, 0.8562068965517243, 0.8562068965517243, 0.8562068965517243, 0.8562068965517243, 0.8562068965517243, 0.8562068965517243, 0.8562068965517243, 0.8562068965517243, 0.8562068965517243, 0.8562068965517243, 0.8562068965517243, 0.8562068965517243, 0.8562068965517243, 0.8562068965517243, 0.8562068965517243, 0.8562068965517243, 0.8562068965517243, 0.8596551724137932, 0.8596551724137932, 0.8596551724137932, 0.8596551724137932, 0.8596551724137932, 0.8596551724137932, 0.8596551724137932, 0.8596551724137932, 0.8596551724137932, 0.8596551724137932, 0.8596551724137932, 0.8696551724137931, 0.8696551724137931, 0.8696551724137931, 0.8696551724137931, 0.8696551724137931, 0.8696551724137931, 0.8696551724137931, 0.8696551724137931, 0.8696551724137931, 0.8696551724137931, 0.8696551724137931, 0.8696551724137931, 0.8696551724137931, 0.8696551724137931, 0.8696551724137931, 0.8696551724137931, 0.8829885057471264, 0.8829885057471264]}], \"f1_score_weighted\": [{\"categories\": [\"0\", \"1\", \"2\", \"3\", \"4\", \"5\", \"6\", \"7\", \"8\", \"9\", \"10\", \"11\", \"12\", \"13\", \"14\", \"15\", \"16\", \"17\", \"18\", \"19\", \"20\", \"21\", \"22\", \"23\", \"24\", \"25\", \"26\", \"27\", \"28\", \"29\", \"30\", \"31\", \"32\", \"33\", \"34\", \"35\", \"36\", \"37\", \"38\", \"39\", \"40\", \"41\", \"42\", \"43\", \"44\", \"45\", \"46\", \"47\", \"48\", \"49\", \"51\", \"53\", \"54\"], \"mode\": \"markers\", \"name\": \"f1_score_weighted\", \"stepped\": false, \"type\": \"scatter\", \"data\": [0.8333388901455894, 0.8342588560383983, 0.836483639341347, 0.8515409944496376, 0.8476874691451327, 0.8450882379754894, 0.690740779468657, 0.8429384327701221, 0.712005275382643, 0.8328776158256448, 0.8132634517824846, 0.8455667146915358, 0.8440894930182772, 0.8474045965396965, 0.8048217845216165, 0.8099817042890736, 0.7681953846521304, 0.8436496660592201, 0.8463717369115349, 0.8330919162782356, 0.796996195600014, 0.8389655089739063, 0.8169177397878812, 0.8436505444387088, 0.8559682494626715, 0.8075236655011395, 0.7929389200534979, 0.8455874544977373, 0.8370568053394571, 0.832414726095011, 0.5534120288954022, 0.8449323906339069, 0.8371861015077737, 0.8322110432877636, 0.814352563297915, 0.867123772251077, 0.8178095546876436, 0.8393848248332411, 0.8283378855441758, 0.8389130933376574, 0.8096380929082745, 0.8353632159779346, 0.8547160641785341, 0.8189889275323393, 0.8289050616466568, 0.5534120288954022, 0.8357966460907578, 0.8408837478963305, 0.7946054666916735, 0.8239159510869687, 0.8374009316355551, 0.8790199630680103, 0.8686511944097679]}, {\"categories\": [\"0\", \"1\", \"2\", \"3\", \"4\", \"5\", \"6\", \"7\", \"8\", \"9\", \"10\", \"11\", \"12\", \"13\", \"14\", \"15\", \"16\", \"17\", \"18\", \"19\", \"20\", \"21\", \"22\", \"23\", \"24\", \"25\", \"26\", \"27\", \"28\", \"29\", \"30\", \"31\", \"32\", \"33\", \"34\", \"35\", \"36\", \"37\", \"38\", \"39\", \"40\", \"41\", \"42\", \"43\", \"44\", \"45\", \"46\", \"47\", \"48\", \"49\", \"51\", \"53\", \"54\"], \"mode\": \"lines\", \"name\": \"f1_score_weighted_max\", \"stepped\": true, \"type\": \"scatter\", \"data\": [0.8333388901455894, 0.8342588560383983, 0.836483639341347, 0.8515409944496376, 0.8515409944496376, 0.8515409944496376, 0.8515409944496376, 0.8515409944496376, 0.8515409944496376, 0.8515409944496376, 0.8515409944496376, 0.8515409944496376, 0.8515409944496376, 0.8515409944496376, 0.8515409944496376, 0.8515409944496376, 0.8515409944496376, 0.8515409944496376, 0.8515409944496376, 0.8515409944496376, 0.8515409944496376, 0.8515409944496376, 0.8515409944496376, 0.8515409944496376, 0.8559682494626715, 0.8559682494626715, 0.8559682494626715, 0.8559682494626715, 0.8559682494626715, 0.8559682494626715, 0.8559682494626715, 0.8559682494626715, 0.8559682494626715, 0.8559682494626715, 0.8559682494626715, 0.867123772251077, 0.867123772251077, 0.867123772251077, 0.867123772251077, 0.867123772251077, 0.867123772251077, 0.867123772251077, 0.867123772251077, 0.867123772251077, 0.867123772251077, 0.867123772251077, 0.867123772251077, 0.867123772251077, 0.867123772251077, 0.867123772251077, 0.867123772251077, 0.8790199630680103, 0.8790199630680103]}], \"balanced_accuracy\": [{\"categories\": [\"0\", \"1\", \"2\", \"3\", \"4\", \"5\", \"6\", \"7\", \"8\", \"9\", \"10\", \"11\", \"12\", \"13\", \"14\", \"15\", \"16\", \"17\", \"18\", \"19\", \"20\", \"21\", \"22\", \"23\", \"24\", \"25\", \"26\", \"27\", \"28\", \"29\", \"30\", \"31\", \"32\", \"33\", \"34\", \"35\", \"36\", \"37\", \"38\", \"39\", \"40\", \"41\", \"42\", \"43\", \"44\", \"45\", \"46\", \"47\", \"48\", \"49\", \"51\", \"53\", \"54\"], \"mode\": \"markers\", \"name\": \"balanced_accuracy\", \"stepped\": false, \"type\": \"scatter\", \"data\": [0.8077082895810014, 0.8130249020938379, 0.805825659752147, 0.812543661112597, 0.8243839750066867, 0.8265231932763395, 0.6328088534907756, 0.8181587404776763, 0.6492251090506239, 0.8077010432041897, 0.7600986119779026, 0.810847475655542, 0.7990015160595825, 0.8233745319325984, 0.758680183247975, 0.7647936289174846, 0.7010534859876965, 0.8158249514596768, 0.8168870954560313, 0.8095071398852862, 0.7548789150082056, 0.7996079374160037, 0.7772883666676573, 0.8178223816293038, 0.8298056608088074, 0.8110512055005762, 0.7904219058020546, 0.8375035323816789, 0.8204155509821984, 0.7958448240991147, 0.5, 0.8201830056861521, 0.8085064497541614, 0.7913579374160038, 0.7646165640550652, 0.8467527159466519, 0.797509845512992, 0.8136783159314624, 0.8022356752388216, 0.8099516697706056, 0.742601804659871, 0.8180816348347811, 0.8256177003774257, 0.7605780178377433, 0.7819905453686918, 0.5, 0.7993124828705492, 0.8186270580106394, 0.743895880594107, 0.8029977603759069, 0.8013099262484275, 0.8584775488622742, 0.8496429623961088]}, {\"categories\": [\"0\", \"1\", \"2\", \"3\", \"4\", \"5\", \"6\", \"7\", \"8\", \"9\", \"10\", \"11\", \"12\", \"13\", \"14\", \"15\", \"16\", \"17\", \"18\", \"19\", \"20\", \"21\", \"22\", \"23\", \"24\", \"25\", \"26\", \"27\", \"28\", \"29\", \"30\", \"31\", \"32\", \"33\", \"34\", \"35\", \"36\", \"37\", \"38\", \"39\", \"40\", \"41\", \"42\", \"43\", \"44\", \"45\", \"46\", \"47\", \"48\", \"49\", \"51\", \"53\", \"54\"], \"mode\": \"lines\", \"name\": \"balanced_accuracy_max\", \"stepped\": true, \"type\": \"scatter\", \"data\": [0.8077082895810014, 0.8130249020938379, 0.8130249020938379, 0.8130249020938379, 0.8243839750066867, 0.8265231932763395, 0.8265231932763395, 0.8265231932763395, 0.8265231932763395, 0.8265231932763395, 0.8265231932763395, 0.8265231932763395, 0.8265231932763395, 0.8265231932763395, 0.8265231932763395, 0.8265231932763395, 0.8265231932763395, 0.8265231932763395, 0.8265231932763395, 0.8265231932763395, 0.8265231932763395, 0.8265231932763395, 0.8265231932763395, 0.8265231932763395, 0.8298056608088074, 0.8298056608088074, 0.8298056608088074, 0.8375035323816789, 0.8375035323816789, 0.8375035323816789, 0.8375035323816789, 0.8375035323816789, 0.8375035323816789, 0.8375035323816789, 0.8375035323816789, 0.8467527159466519, 0.8467527159466519, 0.8467527159466519, 0.8467527159466519, 0.8467527159466519, 0.8467527159466519, 0.8467527159466519, 0.8467527159466519, 0.8467527159466519, 0.8467527159466519, 0.8467527159466519, 0.8467527159466519, 0.8467527159466519, 0.8467527159466519, 0.8467527159466519, 0.8467527159466519, 0.8584775488622742, 0.8584775488622742]}], \"f1_score_micro\": [{\"categories\": [\"0\", \"1\", \"2\", \"3\", \"4\", \"5\", \"6\", \"7\", \"8\", \"9\", \"10\", \"11\", \"12\", \"13\", \"14\", \"15\", \"16\", \"17\", \"18\", \"19\", \"20\", \"21\", \"22\", \"23\", \"24\", \"25\", \"26\", \"27\", \"28\", \"29\", \"30\", \"31\", \"32\", \"33\", \"34\", \"35\", \"36\", \"37\", \"38\", \"39\", \"40\", \"41\", \"42\", \"43\", \"44\", \"45\", \"46\", \"47\", \"48\", \"49\", \"51\", \"53\", \"54\"], \"mode\": \"markers\", \"name\": \"f1_score_micro\", \"stepped\": false, \"type\": \"scatter\", \"data\": [0.8359770114942527, 0.8358620689655172, 0.8393103448275863, 0.8562068965517243, 0.8490804597701149, 0.8458620689655174, 0.7225287356321839, 0.8459770114942529, 0.7559770114942529, 0.8360919540229885, 0.8260919540229885, 0.8496551724137932, 0.8527586206896552, 0.849425287356322, 0.8093103448275862, 0.8226436781609194, 0.7994252873563219, 0.8460919540229884, 0.849425287356322, 0.8362068965517242, 0.8093103448275862, 0.8459770114942529, 0.8258620689655173, 0.8460919540229886, 0.8596551724137932, 0.8021839080459771, 0.789080459770115, 0.8425287356321839, 0.8358620689655174, 0.8393103448275863, 0.6791954022988507, 0.8459770114942529, 0.8428735632183908, 0.8393103448275863, 0.8226436781609194, 0.8696551724137931, 0.8190804597701149, 0.842528735632184, 0.8327586206896551, 0.8426436781609198, 0.8228735632183909, 0.8358620689655174, 0.8595402298850576, 0.829655172413793, 0.8362068965517242, 0.6791954022988507, 0.8426436781609195, 0.8426436781609196, 0.8029885057471265, 0.8257471264367815, 0.8427586206896553, 0.8829885057471264, 0.8729885057471265]}, {\"categories\": [\"0\", \"1\", \"2\", \"3\", \"4\", \"5\", \"6\", \"7\", \"8\", \"9\", \"10\", \"11\", \"12\", \"13\", \"14\", \"15\", \"16\", \"17\", \"18\", \"19\", \"20\", \"21\", \"22\", \"23\", \"24\", \"25\", \"26\", \"27\", \"28\", \"29\", \"30\", \"31\", \"32\", \"33\", \"34\", \"35\", \"36\", \"37\", \"38\", \"39\", \"40\", \"41\", \"42\", \"43\", \"44\", \"45\", \"46\", \"47\", \"48\", \"49\", \"51\", \"53\", \"54\"], \"mode\": \"lines\", \"name\": \"f1_score_micro_max\", \"stepped\": true, \"type\": \"scatter\", \"data\": [0.8359770114942527, 0.8359770114942527, 0.8393103448275863, 0.8562068965517243, 0.8562068965517243, 0.8562068965517243, 0.8562068965517243, 0.8562068965517243, 0.8562068965517243, 0.8562068965517243, 0.8562068965517243, 0.8562068965517243, 0.8562068965517243, 0.8562068965517243, 0.8562068965517243, 0.8562068965517243, 0.8562068965517243, 0.8562068965517243, 0.8562068965517243, 0.8562068965517243, 0.8562068965517243, 0.8562068965517243, 0.8562068965517243, 0.8562068965517243, 0.8596551724137932, 0.8596551724137932, 0.8596551724137932, 0.8596551724137932, 0.8596551724137932, 0.8596551724137932, 0.8596551724137932, 0.8596551724137932, 0.8596551724137932, 0.8596551724137932, 0.8596551724137932, 0.8696551724137931, 0.8696551724137931, 0.8696551724137931, 0.8696551724137931, 0.8696551724137931, 0.8696551724137931, 0.8696551724137931, 0.8696551724137931, 0.8696551724137931, 0.8696551724137931, 0.8696551724137931, 0.8696551724137931, 0.8696551724137931, 0.8696551724137931, 0.8696551724137931, 0.8696551724137931, 0.8829885057471264, 0.8829885057471264]}], \"AUC_weighted\": [{\"categories\": [\"0\", \"1\", \"2\", \"3\", \"4\", \"5\", \"6\", \"7\", \"8\", \"9\", \"10\", \"11\", \"12\", \"13\", \"14\", \"15\", \"16\", \"17\", \"18\", \"19\", \"20\", \"21\", \"22\", \"23\", \"24\", \"25\", \"26\", \"27\", \"28\", \"29\", \"30\", \"31\", \"32\", \"33\", \"34\", \"35\", \"36\", \"37\", \"38\", \"39\", \"40\", \"41\", \"42\", \"43\", \"44\", \"45\", \"46\", \"47\", \"48\", \"49\", \"51\", \"53\", \"54\"], \"mode\": \"markers\", \"name\": \"AUC_weighted\", \"stepped\": false, \"type\": \"scatter\", \"data\": [0.8840955354735103, 0.8847369443591411, 0.9044874808067599, 0.9160648267572753, 0.9054757541911433, 0.9031340088528304, 0.7469446399265621, 0.9009739090534857, 0.863031275157591, 0.9014453270583133, 0.8947674802399058, 0.9056029875688342, 0.9007083303339597, 0.9004222136506176, 0.8608370342027666, 0.9041695342055182, 0.8853848877793957, 0.8918429953066681, 0.9010249075697588, 0.8879981568848561, 0.8830690976452991, 0.9021371592683949, 0.8922771932851454, 0.9027988341792117, 0.8994368033885769, 0.8951964789554034, 0.8398437809224424, 0.9109998320075551, 0.8818592398046059, 0.8951857931224636, 0.510547400478579, 0.8983095777707334, 0.9117835571031223, 0.8907298162512121, 0.8839353928436594, 0.9073201381803212, 0.9090015741758878, 0.8985184116555113, 0.8966112619053124, 0.9075940232938517, 0.8431070171448605, 0.8993892261946037, 0.8959711753582462, 0.868822720310878, 0.8804324963979999, 0.5, 0.8990051504199673, 0.9042725574366305, 0.8849454594572729, 0.8945365311334991, 0.9105358023682395, 0.9207915362627034, 0.9226603180656957]}, {\"categories\": [\"0\", \"1\", \"2\", \"3\", \"4\", \"5\", \"6\", \"7\", \"8\", \"9\", \"10\", \"11\", \"12\", \"13\", \"14\", \"15\", \"16\", \"17\", \"18\", \"19\", \"20\", \"21\", \"22\", \"23\", \"24\", \"25\", \"26\", \"27\", \"28\", \"29\", \"30\", \"31\", \"32\", \"33\", \"34\", \"35\", \"36\", \"37\", \"38\", \"39\", \"40\", \"41\", \"42\", \"43\", \"44\", \"45\", \"46\", \"47\", \"48\", \"49\", \"51\", \"53\", \"54\"], \"mode\": \"lines\", \"name\": \"AUC_weighted_max\", \"stepped\": true, \"type\": \"scatter\", \"data\": [0.8840955354735103, 0.8847369443591411, 0.9044874808067599, 0.9160648267572753, 0.9160648267572753, 0.9160648267572753, 0.9160648267572753, 0.9160648267572753, 0.9160648267572753, 0.9160648267572753, 0.9160648267572753, 0.9160648267572753, 0.9160648267572753, 0.9160648267572753, 0.9160648267572753, 0.9160648267572753, 0.9160648267572753, 0.9160648267572753, 0.9160648267572753, 0.9160648267572753, 0.9160648267572753, 0.9160648267572753, 0.9160648267572753, 0.9160648267572753, 0.9160648267572753, 0.9160648267572753, 0.9160648267572753, 0.9160648267572753, 0.9160648267572753, 0.9160648267572753, 0.9160648267572753, 0.9160648267572753, 0.9160648267572753, 0.9160648267572753, 0.9160648267572753, 0.9160648267572753, 0.9160648267572753, 0.9160648267572753, 0.9160648267572753, 0.9160648267572753, 0.9160648267572753, 0.9160648267572753, 0.9160648267572753, 0.9160648267572753, 0.9160648267572753, 0.9160648267572753, 0.9160648267572753, 0.9160648267572753, 0.9160648267572753, 0.9160648267572753, 0.9160648267572753, 0.9207915362627034, 0.9226603180656957]}], \"recall_score_macro\": [{\"categories\": [\"0\", \"1\", \"2\", \"3\", \"4\", \"5\", \"6\", \"7\", \"8\", \"9\", \"10\", \"11\", \"12\", \"13\", \"14\", \"15\", \"16\", \"17\", \"18\", \"19\", \"20\", \"21\", \"22\", \"23\", \"24\", \"25\", \"26\", \"27\", \"28\", \"29\", \"30\", \"31\", \"32\", \"33\", \"34\", \"35\", \"36\", \"37\", \"38\", \"39\", \"40\", \"41\", \"42\", \"43\", \"44\", \"45\", \"46\", \"47\", \"48\", \"49\", \"51\", \"53\", \"54\"], \"mode\": \"markers\", \"name\": \"recall_score_macro\", \"stepped\": false, \"type\": \"scatter\", \"data\": [0.8077082895810014, 0.8130249020938379, 0.805825659752147, 0.812543661112597, 0.8243839750066867, 0.8265231932763395, 0.6328088534907756, 0.8181587404776763, 0.6492251090506239, 0.8077010432041897, 0.7600986119779026, 0.810847475655542, 0.7990015160595825, 0.8233745319325984, 0.758680183247975, 0.7647936289174846, 0.7010534859876965, 0.8158249514596768, 0.8168870954560313, 0.8095071398852862, 0.7548789150082056, 0.7996079374160037, 0.7772883666676573, 0.8178223816293038, 0.8298056608088074, 0.8110512055005762, 0.7904219058020546, 0.8375035323816789, 0.8204155509821984, 0.7958448240991147, 0.5, 0.8201830056861521, 0.8085064497541614, 0.7913579374160038, 0.7646165640550652, 0.8467527159466519, 0.797509845512992, 0.8136783159314624, 0.8022356752388216, 0.8099516697706056, 0.742601804659871, 0.8180816348347811, 0.8256177003774257, 0.7605780178377433, 0.7819905453686918, 0.5, 0.7993124828705492, 0.8186270580106394, 0.743895880594107, 0.8029977603759069, 0.8013099262484275, 0.8584775488622742, 0.8496429623961088]}, {\"categories\": [\"0\", \"1\", \"2\", \"3\", \"4\", \"5\", \"6\", \"7\", \"8\", \"9\", \"10\", \"11\", \"12\", \"13\", \"14\", \"15\", \"16\", \"17\", \"18\", \"19\", \"20\", \"21\", \"22\", \"23\", \"24\", \"25\", \"26\", \"27\", \"28\", \"29\", \"30\", \"31\", \"32\", \"33\", \"34\", \"35\", \"36\", \"37\", \"38\", \"39\", \"40\", \"41\", \"42\", \"43\", \"44\", \"45\", \"46\", \"47\", \"48\", \"49\", \"51\", \"53\", \"54\"], \"mode\": \"lines\", \"name\": \"recall_score_macro_max\", \"stepped\": true, \"type\": \"scatter\", \"data\": [0.8077082895810014, 0.8130249020938379, 0.8130249020938379, 0.8130249020938379, 0.8243839750066867, 0.8265231932763395, 0.8265231932763395, 0.8265231932763395, 0.8265231932763395, 0.8265231932763395, 0.8265231932763395, 0.8265231932763395, 0.8265231932763395, 0.8265231932763395, 0.8265231932763395, 0.8265231932763395, 0.8265231932763395, 0.8265231932763395, 0.8265231932763395, 0.8265231932763395, 0.8265231932763395, 0.8265231932763395, 0.8265231932763395, 0.8265231932763395, 0.8298056608088074, 0.8298056608088074, 0.8298056608088074, 0.8375035323816789, 0.8375035323816789, 0.8375035323816789, 0.8375035323816789, 0.8375035323816789, 0.8375035323816789, 0.8375035323816789, 0.8375035323816789, 0.8467527159466519, 0.8467527159466519, 0.8467527159466519, 0.8467527159466519, 0.8467527159466519, 0.8467527159466519, 0.8467527159466519, 0.8467527159466519, 0.8467527159466519, 0.8467527159466519, 0.8467527159466519, 0.8467527159466519, 0.8467527159466519, 0.8467527159466519, 0.8467527159466519, 0.8467527159466519, 0.8584775488622742, 0.8584775488622742]}], \"log_loss\": [{\"categories\": [\"0\", \"1\", \"2\", \"3\", \"4\", \"5\", \"6\", \"7\", \"8\", \"9\", \"10\", \"11\", \"12\", \"13\", \"14\", \"15\", \"16\", \"17\", \"18\", \"19\", \"20\", \"21\", \"22\", \"23\", \"24\", \"25\", \"26\", \"27\", \"28\", \"29\", \"30\", \"31\", \"32\", \"33\", \"34\", \"35\", \"36\", \"37\", \"38\", \"39\", \"40\", \"41\", \"42\", \"43\", \"44\", \"45\", \"46\", \"47\", \"48\", \"49\", \"51\", \"53\", \"54\"], \"mode\": \"markers\", \"name\": \"log_loss\", \"stepped\": false, \"type\": \"scatter\", \"data\": [0.4772179826627182, 0.41764279466886123, 0.38035872903202106, 0.37804298217616755, 0.3747280412972736, 0.37613314423590566, 0.580103537932431, 0.36197207436919077, 0.49702308732573447, 0.36601820910819566, 0.4227894568759668, 0.3963283315766752, 0.39704063302070214, 0.37103188758296957, 0.488972342400222, 0.45853779779480364, 0.4736909179352205, 0.38901313182218933, 0.360102703084972, 0.4182362547689416, 0.4262173543874477, 0.41398803984158156, 0.4006499095980418, 0.36803571276055735, 0.3838097234073153, 0.5158678851505106, 0.6576833763697498, 0.4302768722232261, 0.4768294967696445, 0.41860634754545883, 0.6450514207865974, 0.3718084603929324, 0.37696346890065946, 0.4361607801147239, 0.42972476151226424, 0.3731590931268166, 0.36666079636486115, 0.38086860426374985, 0.4027324461916451, 0.36930712626488404, 0.5296259133572003, 0.3856922979053907, 0.4050097711815668, 0.4474877644517541, 0.4157375162766166, 0.6392532307683044, 0.4344605650348279, 0.36314138434512233, 0.4348194749976195, 0.38588640869101654, 0.37028719874343535, 0.36547216527032517, 0.35607244015359196]}, {\"categories\": [\"0\", \"1\", \"2\", \"3\", \"4\", \"5\", \"6\", \"7\", \"8\", \"9\", \"10\", \"11\", \"12\", \"13\", \"14\", \"15\", \"16\", \"17\", \"18\", \"19\", \"20\", \"21\", \"22\", \"23\", \"24\", \"25\", \"26\", \"27\", \"28\", \"29\", \"30\", \"31\", \"32\", \"33\", \"34\", \"35\", \"36\", \"37\", \"38\", \"39\", \"40\", \"41\", \"42\", \"43\", \"44\", \"45\", \"46\", \"47\", \"48\", \"49\", \"51\", \"53\", \"54\"], \"mode\": \"lines\", \"name\": \"log_loss_min\", \"stepped\": true, \"type\": \"scatter\", \"data\": [0.4772179826627182, 0.41764279466886123, 0.38035872903202106, 0.37804298217616755, 0.3747280412972736, 0.3747280412972736, 0.3747280412972736, 0.36197207436919077, 0.36197207436919077, 0.36197207436919077, 0.36197207436919077, 0.36197207436919077, 0.36197207436919077, 0.36197207436919077, 0.36197207436919077, 0.36197207436919077, 0.36197207436919077, 0.36197207436919077, 0.360102703084972, 0.360102703084972, 0.360102703084972, 0.360102703084972, 0.360102703084972, 0.360102703084972, 0.360102703084972, 0.360102703084972, 0.360102703084972, 0.360102703084972, 0.360102703084972, 0.360102703084972, 0.360102703084972, 0.360102703084972, 0.360102703084972, 0.360102703084972, 0.360102703084972, 0.360102703084972, 0.360102703084972, 0.360102703084972, 0.360102703084972, 0.360102703084972, 0.360102703084972, 0.360102703084972, 0.360102703084972, 0.360102703084972, 0.360102703084972, 0.360102703084972, 0.360102703084972, 0.360102703084972, 0.360102703084972, 0.360102703084972, 0.360102703084972, 0.360102703084972, 0.35607244015359196]}], \"matthews_correlation\": [{\"categories\": [\"0\", \"1\", \"2\", \"3\", \"4\", \"5\", \"6\", \"7\", \"8\", \"9\", \"10\", \"11\", \"12\", \"13\", \"14\", \"15\", \"16\", \"17\", \"18\", \"19\", \"20\", \"21\", \"22\", \"23\", \"24\", \"25\", \"26\", \"27\", \"28\", \"29\", \"30\", \"31\", \"32\", \"33\", \"34\", \"35\", \"36\", \"37\", \"38\", \"39\", \"40\", \"41\", \"42\", \"43\", \"44\", \"45\", \"46\", \"47\", \"48\", \"49\", \"51\", \"53\", \"54\"], \"mode\": \"markers\", \"name\": \"matthews_correlation\", \"stepped\": false, \"type\": \"scatter\", \"data\": [0.6231314496952846, 0.6345538749068885, 0.6309544766969796, 0.6551863828804093, 0.6611183974777158, 0.6515081188617795, 0.321779161044016, 0.6512310484516146, 0.3833422588348133, 0.6265293928882546, 0.5985307000342799, 0.6527009538907459, 0.660997117142229, 0.6520233438885207, 0.5420631828594559, 0.5839565871463948, 0.5209801376438984, 0.6427489229520891, 0.6502696757204379, 0.6291702367253744, 0.5519575228386341, 0.6403248657867768, 0.6017028936543165, 0.647612343143904, 0.6797808371013031, 0.5899000334600679, 0.5586961651199787, 0.6514248972177672, 0.6367774594480385, 0.6282666583697689, 0.0, 0.6439384870047926, 0.6412196430082477, 0.6218145550736728, 0.5784670022042542, 0.7107038797583013, 0.5921547261814791, 0.6456530221925523, 0.6196587210753334, 0.6410564451644493, 0.5802339953802491, 0.6312115429165371, 0.6892729505236609, 0.6006714257969907, 0.6234623090877112, 0.0, 0.6325413481576471, 0.648203718674948, 0.5375329595464282, 0.6144060420379842, 0.6422658970349155, 0.7430967396195624, 0.7254086015649522]}, {\"categories\": [\"0\", \"1\", \"2\", \"3\", \"4\", \"5\", \"6\", \"7\", \"8\", \"9\", \"10\", \"11\", \"12\", \"13\", \"14\", \"15\", \"16\", \"17\", \"18\", \"19\", \"20\", \"21\", \"22\", \"23\", \"24\", \"25\", \"26\", \"27\", \"28\", \"29\", \"30\", \"31\", \"32\", \"33\", \"34\", \"35\", \"36\", \"37\", \"38\", \"39\", \"40\", \"41\", \"42\", \"43\", \"44\", \"45\", \"46\", \"47\", \"48\", \"49\", \"51\", \"53\", \"54\"], \"mode\": \"lines\", \"name\": \"matthews_correlation_max\", \"stepped\": true, \"type\": \"scatter\", \"data\": [0.6231314496952846, 0.6345538749068885, 0.6345538749068885, 0.6551863828804093, 0.6611183974777158, 0.6611183974777158, 0.6611183974777158, 0.6611183974777158, 0.6611183974777158, 0.6611183974777158, 0.6611183974777158, 0.6611183974777158, 0.6611183974777158, 0.6611183974777158, 0.6611183974777158, 0.6611183974777158, 0.6611183974777158, 0.6611183974777158, 0.6611183974777158, 0.6611183974777158, 0.6611183974777158, 0.6611183974777158, 0.6611183974777158, 0.6611183974777158, 0.6797808371013031, 0.6797808371013031, 0.6797808371013031, 0.6797808371013031, 0.6797808371013031, 0.6797808371013031, 0.6797808371013031, 0.6797808371013031, 0.6797808371013031, 0.6797808371013031, 0.6797808371013031, 0.7107038797583013, 0.7107038797583013, 0.7107038797583013, 0.7107038797583013, 0.7107038797583013, 0.7107038797583013, 0.7107038797583013, 0.7107038797583013, 0.7107038797583013, 0.7107038797583013, 0.7107038797583013, 0.7107038797583013, 0.7107038797583013, 0.7107038797583013, 0.7107038797583013, 0.7107038797583013, 0.7430967396195624, 0.7430967396195624]}], \"weighted_accuracy\": [{\"categories\": [\"0\", \"1\", \"2\", \"3\", \"4\", \"5\", \"6\", \"7\", \"8\", \"9\", \"10\", \"11\", \"12\", \"13\", \"14\", \"15\", \"16\", \"17\", \"18\", \"19\", \"20\", \"21\", \"22\", \"23\", \"24\", \"25\", \"26\", \"27\", \"28\", \"29\", \"30\", \"31\", \"32\", \"33\", \"34\", \"35\", \"36\", \"37\", \"38\", \"39\", \"40\", \"41\", \"42\", \"43\", \"44\", \"45\", \"46\", \"47\", \"48\", \"49\", \"51\", \"53\", \"54\"], \"mode\": \"markers\", \"name\": \"weighted_accuracy\", \"stepped\": false, \"type\": \"scatter\", \"data\": [0.8541321922200625, 0.8502962163535492, 0.8596213429414737, 0.8811294780730247, 0.8649128994207238, 0.858092658560872, 0.781511665668486, 0.8637353537452794, 0.8219603315724845, 0.8552425649908206, 0.8683139582924287, 0.8740613540381178, 0.8870629757936926, 0.8660098259736998, 0.8385082313085942, 0.8613850227996014, 0.8615882766304159, 0.8648088953524857, 0.8704980110596502, 0.8535480316158818, 0.8449273745419154, 0.8759680879737404, 0.8565084003744683, 0.8640458040663972, 0.8768043776781689, 0.7977305122630625, 0.7860848681822967, 0.8448198991660725, 0.845962031118274, 0.8685521836685911, 0.7931711479234276, 0.8628576230220555, 0.8644953227428868, 0.870662080112988, 0.8593302261823972, 0.8841296967969383, 0.8335317974852675, 0.8618810422840963, 0.8535957158341206, 0.8644676882147795, 0.8717053688199687, 0.8472090240631223, 0.8821444567480136, 0.8717029472992627, 0.8696284451768752, 0.7931711479234276, 0.8712996304658367, 0.8576304682009074, 0.8383190405602464, 0.8409894987717035, 0.8690967825366887, 0.898632576087439, 0.8876514135273096]}, {\"categories\": [\"0\", \"1\", \"2\", \"3\", \"4\", \"5\", \"6\", \"7\", \"8\", \"9\", \"10\", \"11\", \"12\", \"13\", \"14\", \"15\", \"16\", \"17\", \"18\", \"19\", \"20\", \"21\", \"22\", \"23\", \"24\", \"25\", \"26\", \"27\", \"28\", \"29\", \"30\", \"31\", \"32\", \"33\", \"34\", \"35\", \"36\", \"37\", \"38\", \"39\", \"40\", \"41\", \"42\", \"43\", \"44\", \"45\", \"46\", \"47\", \"48\", \"49\", \"51\", \"53\", \"54\"], \"mode\": \"lines\", \"name\": \"weighted_accuracy_max\", \"stepped\": true, \"type\": \"scatter\", \"data\": [0.8541321922200625, 0.8541321922200625, 0.8596213429414737, 0.8811294780730247, 0.8811294780730247, 0.8811294780730247, 0.8811294780730247, 0.8811294780730247, 0.8811294780730247, 0.8811294780730247, 0.8811294780730247, 0.8811294780730247, 0.8870629757936926, 0.8870629757936926, 0.8870629757936926, 0.8870629757936926, 0.8870629757936926, 0.8870629757936926, 0.8870629757936926, 0.8870629757936926, 0.8870629757936926, 0.8870629757936926, 0.8870629757936926, 0.8870629757936926, 0.8870629757936926, 0.8870629757936926, 0.8870629757936926, 0.8870629757936926, 0.8870629757936926, 0.8870629757936926, 0.8870629757936926, 0.8870629757936926, 0.8870629757936926, 0.8870629757936926, 0.8870629757936926, 0.8870629757936926, 0.8870629757936926, 0.8870629757936926, 0.8870629757936926, 0.8870629757936926, 0.8870629757936926, 0.8870629757936926, 0.8870629757936926, 0.8870629757936926, 0.8870629757936926, 0.8870629757936926, 0.8870629757936926, 0.8870629757936926, 0.8870629757936926, 0.8870629757936926, 0.8870629757936926, 0.898632576087439, 0.898632576087439]}], \"recall_score_weighted\": [{\"categories\": [\"0\", \"1\", \"2\", \"3\", \"4\", \"5\", \"6\", \"7\", \"8\", \"9\", \"10\", \"11\", \"12\", \"13\", \"14\", \"15\", \"16\", \"17\", \"18\", \"19\", \"20\", \"21\", \"22\", \"23\", \"24\", \"25\", \"26\", \"27\", \"28\", \"29\", \"30\", \"31\", \"32\", \"33\", \"34\", \"35\", \"36\", \"37\", \"38\", \"39\", \"40\", \"41\", \"42\", \"43\", \"44\", \"45\", \"46\", \"47\", \"48\", \"49\", \"51\", \"53\", \"54\"], \"mode\": \"markers\", \"name\": \"recall_score_weighted\", \"stepped\": false, \"type\": \"scatter\", \"data\": [0.8359770114942527, 0.8358620689655172, 0.8393103448275863, 0.8562068965517243, 0.8490804597701149, 0.8458620689655174, 0.7225287356321839, 0.8459770114942529, 0.7559770114942529, 0.8360919540229885, 0.8260919540229885, 0.8496551724137932, 0.8527586206896552, 0.849425287356322, 0.8093103448275862, 0.8226436781609194, 0.7994252873563219, 0.8460919540229884, 0.849425287356322, 0.8362068965517242, 0.8093103448275862, 0.8459770114942529, 0.8258620689655173, 0.8460919540229884, 0.8596551724137932, 0.8021839080459771, 0.789080459770115, 0.8425287356321839, 0.8358620689655172, 0.8393103448275863, 0.6791954022988507, 0.8459770114942529, 0.8428735632183908, 0.8393103448275863, 0.8226436781609194, 0.8696551724137931, 0.8190804597701149, 0.842528735632184, 0.8327586206896551, 0.8426436781609195, 0.8228735632183909, 0.8358620689655174, 0.8595402298850576, 0.829655172413793, 0.8362068965517242, 0.6791954022988507, 0.8426436781609195, 0.8426436781609196, 0.8029885057471265, 0.8257471264367815, 0.8427586206896553, 0.8829885057471264, 0.8729885057471265]}, {\"categories\": [\"0\", \"1\", \"2\", \"3\", \"4\", \"5\", \"6\", \"7\", \"8\", \"9\", \"10\", \"11\", \"12\", \"13\", \"14\", \"15\", \"16\", \"17\", \"18\", \"19\", \"20\", \"21\", \"22\", \"23\", \"24\", \"25\", \"26\", \"27\", \"28\", \"29\", \"30\", \"31\", \"32\", \"33\", \"34\", \"35\", \"36\", \"37\", \"38\", \"39\", \"40\", \"41\", \"42\", \"43\", \"44\", \"45\", \"46\", \"47\", \"48\", \"49\", \"51\", \"53\", \"54\"], \"mode\": \"lines\", \"name\": \"recall_score_weighted_max\", \"stepped\": true, \"type\": \"scatter\", \"data\": [0.8359770114942527, 0.8359770114942527, 0.8393103448275863, 0.8562068965517243, 0.8562068965517243, 0.8562068965517243, 0.8562068965517243, 0.8562068965517243, 0.8562068965517243, 0.8562068965517243, 0.8562068965517243, 0.8562068965517243, 0.8562068965517243, 0.8562068965517243, 0.8562068965517243, 0.8562068965517243, 0.8562068965517243, 0.8562068965517243, 0.8562068965517243, 0.8562068965517243, 0.8562068965517243, 0.8562068965517243, 0.8562068965517243, 0.8562068965517243, 0.8596551724137932, 0.8596551724137932, 0.8596551724137932, 0.8596551724137932, 0.8596551724137932, 0.8596551724137932, 0.8596551724137932, 0.8596551724137932, 0.8596551724137932, 0.8596551724137932, 0.8596551724137932, 0.8696551724137931, 0.8696551724137931, 0.8696551724137931, 0.8696551724137931, 0.8696551724137931, 0.8696551724137931, 0.8696551724137931, 0.8696551724137931, 0.8696551724137931, 0.8696551724137931, 0.8696551724137931, 0.8696551724137931, 0.8696551724137931, 0.8696551724137931, 0.8696551724137931, 0.8696551724137931, 0.8829885057471264, 0.8829885057471264]}], \"norm_macro_recall\": [{\"categories\": [\"0\", \"1\", \"2\", \"3\", \"4\", \"5\", \"6\", \"7\", \"8\", \"9\", \"10\", \"11\", \"12\", \"13\", \"14\", \"15\", \"16\", \"17\", \"18\", \"19\", \"20\", \"21\", \"22\", \"23\", \"24\", \"25\", \"26\", \"27\", \"28\", \"29\", \"30\", \"31\", \"32\", \"33\", \"34\", \"35\", \"36\", \"37\", \"38\", \"39\", \"40\", \"41\", \"42\", \"43\", \"44\", \"45\", \"46\", \"47\", \"48\", \"49\", \"51\", \"53\", \"54\"], \"mode\": \"markers\", \"name\": \"norm_macro_recall\", \"stepped\": false, \"type\": \"scatter\", \"data\": [0.6154165791620023, 0.626049804187676, 0.6116513195042943, 0.625087322225194, 0.6487679500133734, 0.6530463865526794, 0.2828425873643265, 0.6363174809553527, 0.29845021810124783, 0.6154020864083793, 0.5201972239558051, 0.6216949513110841, 0.5980030321191647, 0.6467490638651966, 0.5173603664959501, 0.5295872578349694, 0.402106971975393, 0.6316499029193537, 0.6337741909120627, 0.6190142797705727, 0.5097578300164113, 0.5992158748320074, 0.5545767333353145, 0.6356447632586076, 0.6596113216176146, 0.6221024110011525, 0.580843811604109, 0.6750070647633576, 0.6408311019643971, 0.5916896481982293, 0.0, 0.6403660113723042, 0.6170128995083228, 0.5827158748320075, 0.5292331281101303, 0.6935054318933037, 0.595019691025984, 0.6273566318629248, 0.6044713504776433, 0.6199033395412114, 0.48520360931974205, 0.6361632696695626, 0.6512354007548515, 0.5211560356754864, 0.5639810907373837, 0.0, 0.5986249657410984, 0.6372541160212786, 0.48779176118821416, 0.6059955207518136, 0.6026198524968548, 0.7169550977245484, 0.6992859247922176]}, {\"categories\": [\"0\", \"1\", \"2\", \"3\", \"4\", \"5\", \"6\", \"7\", \"8\", \"9\", \"10\", \"11\", \"12\", \"13\", \"14\", \"15\", \"16\", \"17\", \"18\", \"19\", \"20\", \"21\", \"22\", \"23\", \"24\", \"25\", \"26\", \"27\", \"28\", \"29\", \"30\", \"31\", \"32\", \"33\", \"34\", \"35\", \"36\", \"37\", \"38\", \"39\", \"40\", \"41\", \"42\", \"43\", \"44\", \"45\", \"46\", \"47\", \"48\", \"49\", \"51\", \"53\", \"54\"], \"mode\": \"lines\", \"name\": \"norm_macro_recall_max\", \"stepped\": true, \"type\": \"scatter\", \"data\": [0.6154165791620023, 0.626049804187676, 0.626049804187676, 0.626049804187676, 0.6487679500133734, 0.6530463865526794, 0.6530463865526794, 0.6530463865526794, 0.6530463865526794, 0.6530463865526794, 0.6530463865526794, 0.6530463865526794, 0.6530463865526794, 0.6530463865526794, 0.6530463865526794, 0.6530463865526794, 0.6530463865526794, 0.6530463865526794, 0.6530463865526794, 0.6530463865526794, 0.6530463865526794, 0.6530463865526794, 0.6530463865526794, 0.6530463865526794, 0.6596113216176146, 0.6596113216176146, 0.6596113216176146, 0.6750070647633576, 0.6750070647633576, 0.6750070647633576, 0.6750070647633576, 0.6750070647633576, 0.6750070647633576, 0.6750070647633576, 0.6750070647633576, 0.6935054318933037, 0.6935054318933037, 0.6935054318933037, 0.6935054318933037, 0.6935054318933037, 0.6935054318933037, 0.6935054318933037, 0.6935054318933037, 0.6935054318933037, 0.6935054318933037, 0.6935054318933037, 0.6935054318933037, 0.6935054318933037, 0.6935054318933037, 0.6935054318933037, 0.6935054318933037, 0.7169550977245484, 0.7169550977245484]}], \"average_precision_score_micro\": [{\"categories\": [\"0\", \"1\", \"2\", \"3\", \"4\", \"5\", \"6\", \"7\", \"8\", \"9\", \"10\", \"11\", \"12\", \"13\", \"14\", \"15\", \"16\", \"17\", \"18\", \"19\", \"20\", \"21\", \"22\", \"23\", \"24\", \"25\", \"26\", \"27\", \"28\", \"29\", \"30\", \"31\", \"32\", \"33\", \"34\", \"35\", \"36\", \"37\", \"38\", \"39\", \"40\", \"41\", \"42\", \"43\", \"44\", \"45\", \"46\", \"47\", \"48\", \"49\", \"51\", \"53\", \"54\"], \"mode\": \"markers\", \"name\": \"average_precision_score_micro\", \"stepped\": false, \"type\": \"scatter\", \"data\": [0.9020054536251629, 0.9033793522124445, 0.9157841251474389, 0.9273238953475446, 0.9167373129997388, 0.9146429283466663, 0.783934153316592, 0.9191175533639478, 0.857012473749144, 0.914550461293917, 0.9045880262347422, 0.9161120967369148, 0.9167029993567208, 0.9153223336699406, 0.876380860099481, 0.8974845578120805, 0.8798799003731752, 0.9035264191388229, 0.915585003398071, 0.8969673089031585, 0.8951357408791871, 0.9099230667929221, 0.9115238323257916, 0.9148913454495039, 0.9098981986195873, 0.8881574020743239, 0.8442528371152734, 0.9131901176032999, 0.8912419341851546, 0.907380079578538, 0.66804613512254, 0.9109806825203876, 0.918683187726173, 0.8895749833168735, 0.8947637597317307, 0.9147607120663389, 0.9146846708900889, 0.9103596103126405, 0.9080165029975868, 0.9199062254949626, 0.8496278394451101, 0.91345274434182, 0.9041126226574487, 0.8822706773663711, 0.8940965713087866, 0.6309528339278636, 0.9035880870479078, 0.9200231921236561, 0.8922974159374968, 0.9096383876424703, 0.9270059285043619, 0.9269934405972033, 0.9277966719410738]}, {\"categories\": [\"0\", \"1\", \"2\", \"3\", \"4\", \"5\", \"6\", \"7\", \"8\", \"9\", \"10\", \"11\", \"12\", \"13\", \"14\", \"15\", \"16\", \"17\", \"18\", \"19\", \"20\", \"21\", \"22\", \"23\", \"24\", \"25\", \"26\", \"27\", \"28\", \"29\", \"30\", \"31\", \"32\", \"33\", \"34\", \"35\", \"36\", \"37\", \"38\", \"39\", \"40\", \"41\", \"42\", \"43\", \"44\", \"45\", \"46\", \"47\", \"48\", \"49\", \"51\", \"53\", \"54\"], \"mode\": \"lines\", \"name\": \"average_precision_score_micro_max\", \"stepped\": true, \"type\": \"scatter\", \"data\": [0.9020054536251629, 0.9033793522124445, 0.9157841251474389, 0.9273238953475446, 0.9273238953475446, 0.9273238953475446, 0.9273238953475446, 0.9273238953475446, 0.9273238953475446, 0.9273238953475446, 0.9273238953475446, 0.9273238953475446, 0.9273238953475446, 0.9273238953475446, 0.9273238953475446, 0.9273238953475446, 0.9273238953475446, 0.9273238953475446, 0.9273238953475446, 0.9273238953475446, 0.9273238953475446, 0.9273238953475446, 0.9273238953475446, 0.9273238953475446, 0.9273238953475446, 0.9273238953475446, 0.9273238953475446, 0.9273238953475446, 0.9273238953475446, 0.9273238953475446, 0.9273238953475446, 0.9273238953475446, 0.9273238953475446, 0.9273238953475446, 0.9273238953475446, 0.9273238953475446, 0.9273238953475446, 0.9273238953475446, 0.9273238953475446, 0.9273238953475446, 0.9273238953475446, 0.9273238953475446, 0.9273238953475446, 0.9273238953475446, 0.9273238953475446, 0.9273238953475446, 0.9273238953475446, 0.9273238953475446, 0.9273238953475446, 0.9273238953475446, 0.9273238953475446, 0.9273238953475446, 0.9277966719410738]}], \"AUC_macro\": [{\"categories\": [\"0\", \"1\", \"2\", \"3\", \"4\", \"5\", \"6\", \"7\", \"8\", \"9\", \"10\", \"11\", \"12\", \"13\", \"14\", \"15\", \"16\", \"17\", \"18\", \"19\", \"20\", \"21\", \"22\", \"23\", \"24\", \"25\", \"26\", \"27\", \"28\", \"29\", \"30\", \"31\", \"32\", \"33\", \"34\", \"35\", \"36\", \"37\", \"38\", \"39\", \"40\", \"41\", \"42\", \"43\", \"44\", \"45\", \"46\", \"47\", \"48\", \"49\", \"51\", \"53\", \"54\"], \"mode\": \"markers\", \"name\": \"AUC_macro\", \"stepped\": false, \"type\": \"scatter\", \"data\": [0.8840955354735103, 0.8847369443591411, 0.9044874808067599, 0.9160648267572753, 0.9054757541911433, 0.9031340088528304, 0.7469446399265621, 0.9009739090534857, 0.8630312751575909, 0.9014453270583133, 0.8947674802399058, 0.9056029875688342, 0.9007083303339597, 0.9004222136506176, 0.8608370342027666, 0.9041695342055182, 0.8853848877793957, 0.8918429953066681, 0.9010249075697588, 0.8879981568848561, 0.8830690976452991, 0.9021371592683949, 0.8922771932851454, 0.9027988341792117, 0.8994368033885767, 0.8951964789554034, 0.8398437809224424, 0.9109998320075551, 0.8818592398046059, 0.8951857931224636, 0.510547400478579, 0.8983095777707334, 0.9117835571031223, 0.8907298162512121, 0.8839353928436594, 0.9073201381803212, 0.9090015741758876, 0.8985184116555113, 0.8966112619053123, 0.9075940232938517, 0.8431070171448605, 0.8993892261946037, 0.8959711753582461, 0.868822720310878, 0.8804324963979999, 0.5, 0.8990051504199673, 0.9042725574366305, 0.8849454594572729, 0.8945365311334991, 0.9105358023682394, 0.9207915362627033, 0.9226603180656957]}, {\"categories\": [\"0\", \"1\", \"2\", \"3\", \"4\", \"5\", \"6\", \"7\", \"8\", \"9\", \"10\", \"11\", \"12\", \"13\", \"14\", \"15\", \"16\", \"17\", \"18\", \"19\", \"20\", \"21\", \"22\", \"23\", \"24\", \"25\", \"26\", \"27\", \"28\", \"29\", \"30\", \"31\", \"32\", \"33\", \"34\", \"35\", \"36\", \"37\", \"38\", \"39\", \"40\", \"41\", \"42\", \"43\", \"44\", \"45\", \"46\", \"47\", \"48\", \"49\", \"51\", \"53\", \"54\"], \"mode\": \"lines\", \"name\": \"AUC_macro_max\", \"stepped\": true, \"type\": \"scatter\", \"data\": [0.8840955354735103, 0.8847369443591411, 0.9044874808067599, 0.9160648267572753, 0.9160648267572753, 0.9160648267572753, 0.9160648267572753, 0.9160648267572753, 0.9160648267572753, 0.9160648267572753, 0.9160648267572753, 0.9160648267572753, 0.9160648267572753, 0.9160648267572753, 0.9160648267572753, 0.9160648267572753, 0.9160648267572753, 0.9160648267572753, 0.9160648267572753, 0.9160648267572753, 0.9160648267572753, 0.9160648267572753, 0.9160648267572753, 0.9160648267572753, 0.9160648267572753, 0.9160648267572753, 0.9160648267572753, 0.9160648267572753, 0.9160648267572753, 0.9160648267572753, 0.9160648267572753, 0.9160648267572753, 0.9160648267572753, 0.9160648267572753, 0.9160648267572753, 0.9160648267572753, 0.9160648267572753, 0.9160648267572753, 0.9160648267572753, 0.9160648267572753, 0.9160648267572753, 0.9160648267572753, 0.9160648267572753, 0.9160648267572753, 0.9160648267572753, 0.9160648267572753, 0.9160648267572753, 0.9160648267572753, 0.9160648267572753, 0.9160648267572753, 0.9160648267572753, 0.9207915362627033, 0.9226603180656957]}]}, \"metricName\": null, \"primaryMetricName\": \"accuracy\", \"showLegend\": false}, \"run_metrics\": [{\"name\": \"experiment_status\", \"run_id\": \"AutoML_b4871787-e087-4afa-a6bf-a1f687d98bf1\", \"categories\": [0, 1, 2, 3, 4, 5, 6, 7, 8, 9, 10, 11, 12, 13], \"series\": [{\"data\": [\"DatasetEvaluation\", \"FeaturesGeneration\", \"DatasetFeaturization\", \"DatasetFeaturizationCompleted\", \"DatasetCrossValidationSplit\", \"ModelSelection\", \"BestRunExplainModel\", \"ModelExplanationDataSetSetup\", \"PickSurrogateModel\", \"EngineeredFeatureExplanations\", \"EngineeredFeatureExplanations\", \"RawFeaturesExplanations\", \"RawFeaturesExplanations\", \"BestRunExplainModel\"]}]}, {\"name\": \"experiment_status_description\", \"run_id\": \"AutoML_b4871787-e087-4afa-a6bf-a1f687d98bf1\", \"categories\": [0, 1, 2, 3, 4, 5, 6, 7, 8, 9, 10, 11, 12, 13], \"series\": [{\"data\": [\"Gathering dataset statistics.\", \"Generating features for the dataset.\", \"Beginning to fit featurizers and featurize the dataset.\", \"Completed fit featurizers and featurizing the dataset.\", \"Generating individually featurized CV splits.\", \"Beginning model selection.\", \"Best run model explanations started\", \"Model explanations data setup completed\", \"Choosing LightGBM as the surrogate model for explanations\", \"Computation of engineered features started\", \"Computation of engineered features completed\", \"Computation of raw features started\", \"Computation of raw features completed\", \"Best run model explanations completed\"]}]}, {\"name\": \"average_precision_score_micro\", \"run_id\": \"AutoML_b4871787-e087-4afa-a6bf-a1f687d98bf1\", \"categories\": [0], \"series\": [{\"data\": [0.9269934405972033]}]}, {\"name\": \"accuracy\", \"run_id\": \"AutoML_b4871787-e087-4afa-a6bf-a1f687d98bf1\", \"categories\": [0], \"series\": [{\"data\": [0.8829885057471264]}]}, {\"name\": \"average_precision_score_macro\", \"run_id\": \"AutoML_b4871787-e087-4afa-a6bf-a1f687d98bf1\", \"categories\": [0], \"series\": [{\"data\": [0.9085683034416473]}]}, {\"name\": \"recall_score_micro\", \"run_id\": \"AutoML_b4871787-e087-4afa-a6bf-a1f687d98bf1\", \"categories\": [0], \"series\": [{\"data\": [0.8829885057471264]}]}, {\"name\": \"precision_score_macro\", \"run_id\": \"AutoML_b4871787-e087-4afa-a6bf-a1f687d98bf1\", \"categories\": [0], \"series\": [{\"data\": [0.8871370445598133]}]}, {\"name\": \"average_precision_score_weighted\", \"run_id\": \"AutoML_b4871787-e087-4afa-a6bf-a1f687d98bf1\", \"categories\": [0], \"series\": [{\"data\": [0.9294699280701316]}]}, {\"name\": \"AUC_macro\", \"run_id\": \"AutoML_b4871787-e087-4afa-a6bf-a1f687d98bf1\", \"categories\": [0], \"series\": [{\"data\": [0.9207915362627033]}]}, {\"name\": \"log_loss\", \"run_id\": \"AutoML_b4871787-e087-4afa-a6bf-a1f687d98bf1\", \"categories\": [0], \"series\": [{\"data\": [0.36547216527032517]}]}, {\"name\": \"matthews_correlation\", \"run_id\": \"AutoML_b4871787-e087-4afa-a6bf-a1f687d98bf1\", \"categories\": [0], \"series\": [{\"data\": [0.7430967396195624]}]}, {\"name\": \"f1_score_micro\", \"run_id\": \"AutoML_b4871787-e087-4afa-a6bf-a1f687d98bf1\", \"categories\": [0], \"series\": [{\"data\": [0.8829885057471264]}]}, {\"name\": \"precision_score_micro\", \"run_id\": \"AutoML_b4871787-e087-4afa-a6bf-a1f687d98bf1\", \"categories\": [0], \"series\": [{\"data\": [0.8829885057471264]}]}, {\"name\": \"weighted_accuracy\", \"run_id\": \"AutoML_b4871787-e087-4afa-a6bf-a1f687d98bf1\", \"categories\": [0], \"series\": [{\"data\": [0.898632576087439]}]}, {\"name\": \"recall_score_macro\", \"run_id\": \"AutoML_b4871787-e087-4afa-a6bf-a1f687d98bf1\", \"categories\": [0], \"series\": [{\"data\": [0.8584775488622742]}]}, {\"name\": \"f1_score_weighted\", \"run_id\": \"AutoML_b4871787-e087-4afa-a6bf-a1f687d98bf1\", \"categories\": [0], \"series\": [{\"data\": [0.8790199630680103]}]}, {\"name\": \"f1_score_macro\", \"run_id\": \"AutoML_b4871787-e087-4afa-a6bf-a1f687d98bf1\", \"categories\": [0], \"series\": [{\"data\": [0.8603763495566362]}]}, {\"name\": \"AUC_micro\", \"run_id\": \"AutoML_b4871787-e087-4afa-a6bf-a1f687d98bf1\", \"categories\": [0], \"series\": [{\"data\": [0.9248130532434933]}]}, {\"name\": \"recall_score_weighted\", \"run_id\": \"AutoML_b4871787-e087-4afa-a6bf-a1f687d98bf1\", \"categories\": [0], \"series\": [{\"data\": [0.8829885057471264]}]}, {\"name\": \"AUC_weighted\", \"run_id\": \"AutoML_b4871787-e087-4afa-a6bf-a1f687d98bf1\", \"categories\": [0], \"series\": [{\"data\": [0.9207915362627034]}]}, {\"name\": \"balanced_accuracy\", \"run_id\": \"AutoML_b4871787-e087-4afa-a6bf-a1f687d98bf1\", \"categories\": [0], \"series\": [{\"data\": [0.8584775488622742]}]}, {\"name\": \"precision_score_weighted\", \"run_id\": \"AutoML_b4871787-e087-4afa-a6bf-a1f687d98bf1\", \"categories\": [0], \"series\": [{\"data\": [0.8966041347319459]}]}, {\"name\": \"norm_macro_recall\", \"run_id\": \"AutoML_b4871787-e087-4afa-a6bf-a1f687d98bf1\", \"categories\": [0], \"series\": [{\"data\": [0.7169550977245484]}]}], \"run_logs\": \"\\nRun is completed.\", \"graph\": {}, \"widget_settings\": {\"childWidgetDisplay\": \"popup\", \"send_telemetry\": false, \"log_level\": \"INFO\", \"sdk_version\": \"1.19.0\"}, \"loading\": false}"
     },
     "metadata": {},
     "output_type": "display_data"
    }
   ],
   "source": [
    "from azureml.widgets import RunDetails\n",
    "RunDetails(remote_run).show()"
   ]
  },
  {
   "cell_type": "markdown",
   "metadata": {},
   "source": [
    "## Best Model\n",
    "\n",
    "TODO: In the cell below, get the best model from the automl experiments and display all the properties of the model.\n",
    "\n"
   ]
  },
  {
   "cell_type": "code",
   "execution_count": 19,
   "metadata": {
    "gather": {
     "logged": 1598431425670
    },
    "jupyter": {
     "outputs_hidden": false,
     "source_hidden": false
    },
    "nteract": {
     "transient": {
      "deleting": false
     }
    }
   },
   "outputs": [
    {
     "name": "stderr",
     "output_type": "stream",
     "text": [
      "WARNING:root:The version of the SDK does not match the version the model was trained on.\n",
      "WARNING:root:The consistency in the result may not be guaranteed.\n",
      "WARNING:root:Package:azureml-automl-core, training version:1.20.0, current version:1.19.0\n",
      "Package:azureml-automl-runtime, training version:1.20.0, current version:1.19.0\n",
      "Package:azureml-core, training version:1.20.0, current version:1.19.0\n",
      "Package:azureml-dataprep, training version:2.7.2, current version:2.6.1\n",
      "Package:azureml-dataprep-native, training version:27.0.0, current version:26.0.0\n",
      "Package:azureml-dataprep-rslex, training version:1.5.0, current version:1.4.0\n",
      "Package:azureml-dataset-runtime, training version:1.20.0, current version:1.19.0.post1\n",
      "Package:azureml-defaults, training version:1.20.0, current version:1.19.0\n",
      "Package:azureml-interpret, training version:1.20.0, current version:1.19.0\n",
      "Package:azureml-pipeline-core, training version:1.20.0, current version:1.19.0\n",
      "Package:azureml-telemetry, training version:1.20.0, current version:1.19.0\n",
      "Package:azureml-train-automl-client, training version:1.20.0, current version:1.19.0\n",
      "Package:azureml-train-automl-runtime, training version:1.20.0, current version:1.19.0\n",
      "WARNING:root:Please ensure the version of your local conda dependencies match the version on which your model was trained in order to properly retrieve your model.\n"
     ]
    },
    {
     "ename": "NameError",
     "evalue": "name 'fitted_mode' is not defined",
     "output_type": "error",
     "traceback": [
      "\u001b[0;31m---------------------------------------------------------------------------\u001b[0m",
      "\u001b[0;31mNameError\u001b[0m                                 Traceback (most recent call last)",
      "\u001b[0;32m<ipython-input-19-6aa10c04ce10>\u001b[0m in \u001b[0;36m<module>\u001b[0;34m\u001b[0m\n\u001b[1;32m      4\u001b[0m \u001b[0mbest_run_metrics\u001b[0m \u001b[0;34m=\u001b[0m \u001b[0mbest_run\u001b[0m\u001b[0;34m.\u001b[0m\u001b[0mget_metrics\u001b[0m\u001b[0;34m(\u001b[0m\u001b[0;34m)\u001b[0m\u001b[0;34m\u001b[0m\u001b[0;34m\u001b[0m\u001b[0m\n\u001b[1;32m      5\u001b[0m \u001b[0;34m\u001b[0m\u001b[0m\n\u001b[0;32m----> 6\u001b[0;31m \u001b[0mprint\u001b[0m\u001b[0;34m(\u001b[0m\u001b[0mfitted_mode\u001b[0m\u001b[0;34m,\u001b[0m \u001b[0mbest_run\u001b[0m\u001b[0;34m.\u001b[0m\u001b[0mid\u001b[0m\u001b[0;34m,\u001b[0m \u001b[0mbest_run_metrics\u001b[0m\u001b[0;34m[\u001b[0m\u001b[0;34m'accuracy'\u001b[0m\u001b[0;34m]\u001b[0m\u001b[0;34m)\u001b[0m\u001b[0;34m\u001b[0m\u001b[0;34m\u001b[0m\u001b[0m\n\u001b[0m",
      "\u001b[0;31mNameError\u001b[0m: name 'fitted_mode' is not defined"
     ]
    }
   ],
   "source": [
    "#TODO: Save the best model\n",
    "best_run, fitted_model = remote_run.get_output()\n"
   ]
  },
  {
   "cell_type": "code",
   "execution_count": 20,
   "metadata": {},
   "outputs": [
    {
     "name": "stdout",
     "output_type": "stream",
     "text": [
      "Pipeline(memory=None,\n",
      "         steps=[('datatransformer',\n",
      "                 DataTransformer(enable_dnn=None, enable_feature_sweeping=None,\n",
      "                                 feature_sweeping_config=None,\n",
      "                                 feature_sweeping_timeout=None,\n",
      "                                 featurization_config=None, force_text_dnn=None,\n",
      "                                 is_cross_validation=None,\n",
      "                                 is_onnx_compatible=None, logger=None,\n",
      "                                 observer=None, task=None, working_dir=None)),\n",
      "                ('prefittedsoftvotingclassifier',...\n",
      "                                                                                                    min_samples_split=0.19736842105263158,\n",
      "                                                                                                    min_weight_fraction_leaf=0.0,\n",
      "                                                                                                    n_estimators=50,\n",
      "                                                                                                    n_jobs=1,\n",
      "                                                                                                    oob_score=True,\n",
      "                                                                                                    random_state=None,\n",
      "                                                                                                    verbose=0,\n",
      "                                                                                                    warm_start=False))],\n",
      "                                                                     verbose=False))],\n",
      "                                               flatten_transform=None,\n",
      "                                               weights=[0.35714285714285715,\n",
      "                                                        0.07142857142857142,\n",
      "                                                        0.07142857142857142,\n",
      "                                                        0.2857142857142857,\n",
      "                                                        0.07142857142857142,\n",
      "                                                        0.07142857142857142,\n",
      "                                                        0.07142857142857142]))],\n",
      "         verbose=False)\n"
     ]
    }
   ],
   "source": [
    "print(fitted_model)"
   ]
  },
  {
   "cell_type": "code",
   "execution_count": 21,
   "metadata": {},
   "outputs": [
    {
     "name": "stdout",
     "output_type": "stream",
     "text": [
      "Run(Experiment: capstone-Automl,\n",
      "Id: AutoML_b4871787-e087-4afa-a6bf-a1f687d98bf1_53,\n",
      "Type: azureml.scriptrun,\n",
      "Status: Completed)\n"
     ]
    }
   ],
   "source": [
    "print(best_run)"
   ]
  },
  {
   "cell_type": "code",
   "execution_count": 22,
   "metadata": {},
   "outputs": [
    {
     "name": "stdout",
     "output_type": "stream",
     "text": [
      "{'norm_macro_recall': 0.7169550977245484, 'f1_score_weighted': 0.8790199630680103, 'weighted_accuracy': 0.898632576087439, 'recall_score_weighted': 0.8829885057471264, 'f1_score_micro': 0.8829885057471264, 'average_precision_score_micro': 0.9269934405972033, 'AUC_macro': 0.9207915362627033, 'matthews_correlation': 0.7430967396195624, 'average_precision_score_weighted': 0.9294699280701316, 'AUC_weighted': 0.9207915362627034, 'log_loss': 0.36547216527032517, 'recall_score_macro': 0.8584775488622742, 'average_precision_score_macro': 0.9085683034416473, 'precision_score_weighted': 0.8966041347319459, 'f1_score_macro': 0.8603763495566362, 'precision_score_macro': 0.8871370445598133, 'precision_score_micro': 0.8829885057471264, 'recall_score_micro': 0.8829885057471264, 'balanced_accuracy': 0.8584775488622742, 'AUC_micro': 0.9248130532434933, 'accuracy': 0.8829885057471264, 'accuracy_table': 'aml://artifactId/ExperimentRun/dcid.AutoML_b4871787-e087-4afa-a6bf-a1f687d98bf1_53/accuracy_table', 'confusion_matrix': 'aml://artifactId/ExperimentRun/dcid.AutoML_b4871787-e087-4afa-a6bf-a1f687d98bf1_53/confusion_matrix'}\n"
     ]
    }
   ],
   "source": [
    "best_run_metrics = best_run.get_metrics()\n",
    "print(best_run_metrics)"
   ]
  },
  {
   "cell_type": "markdown",
   "metadata": {},
   "source": [
    "## Model Deployment\n",
    "\n",
    "Remember you have to deploy only one of the two models you trained.. Perform the steps in the rest of this notebook only if you wish to deploy this model.\n",
    "\n",
    "TODO: In the cell below, register the model, create an inference config and deploy the model as a web service."
   ]
  },
  {
   "cell_type": "code",
   "execution_count": 25,
   "metadata": {
    "gather": {
     "logged": 1598431435189
    },
    "jupyter": {
     "outputs_hidden": false,
     "source_hidden": false
    },
    "nteract": {
     "transient": {
      "deleting": false
     }
    }
   },
   "outputs": [],
   "source": [
    "description = 'HearFailure_AutoML_Model'\n",
    "model = remote_run.register_model(description = description)\n"
   ]
  },
  {
   "cell_type": "code",
   "execution_count": 26,
   "metadata": {},
   "outputs": [
    {
     "name": "stdout",
     "output_type": "stream",
     "text": [
      "AutoMLb4871787e53\tAutoMLb4871787e53:1\t1\tHearFailure_AutoML_Model\n"
     ]
    }
   ],
   "source": [
    "print(model.name, model.id, model.version, model.description, sep ='\\t')"
   ]
  },
  {
   "cell_type": "code",
   "execution_count": 27,
   "metadata": {},
   "outputs": [
    {
     "name": "stdout",
     "output_type": "stream",
     "text": [
      "Model(workspace=Workspace.create(name='quick-starts-ws-135768', subscription_id='a24a24d5-8d87-4c8a-99b6-91ed2d2df51f', resource_group='aml-quickstarts-135768'), name=AutoMLe6cb8a55f53, id=AutoMLe6cb8a55f53:1, version=1, tags={}, properties={})\n"
     ]
    }
   ],
   "source": [
    "print(model)"
   ]
  },
  {
   "cell_type": "code",
   "execution_count": 34,
   "metadata": {},
   "outputs": [
    {
     "name": "stdout",
     "output_type": "stream",
     "text": [
      "Overwriting env.yml\n"
     ]
    }
   ],
   "source": [
    "%%writefile env.yml\n",
    "from azureml.core.environment import Environment\n",
    "from azureml.core.conda_dependencies import CondaDependencies\n",
    "\n",
    "\n",
    "env = Environment.get(ws, \"AzureML-AutoML\")\n",
    "env.inferencing_stack_version='latest'\n",
    "\n",
    "#for pip_package in [\"scikit-learn\"]:\n",
    "#    env.python.conda_dependencies.add_pip_package(pip_package)\n",
    "\n"
   ]
  },
  {
   "cell_type": "code",
   "execution_count": 37,
   "metadata": {},
   "outputs": [],
   "source": [
    "from azureml.core.environment import Environment\n",
    "from azureml.core.conda_dependencies import CondaDependencies\n",
    "\n",
    "\n",
    "env = Environment.get(ws, \"AzureML-AutoML\")\n",
    "env.inferencing_stack_version='latest'"
   ]
  },
  {
   "cell_type": "code",
   "execution_count": 50,
   "metadata": {},
   "outputs": [],
   "source": [
    "from azureml.core.model import InferenceConfig\n",
    "inference_config = InferenceConfig(entry_script='score.py',\n",
    "                                    environment=env)"
   ]
  },
  {
   "cell_type": "code",
   "execution_count": 51,
   "metadata": {},
   "outputs": [
    {
     "name": "stdout",
     "output_type": "stream",
     "text": [
      "Tips: You can try get_logs(): https://aka.ms/debugimage#dockerlog or local deployment: https://aka.ms/debugimage#debug-locally to debug if deployment takes longer than 10 minutes.\n",
      "Running......................................\n",
      "Succeeded\n",
      "ACI service creation operation finished, operation \"Succeeded\"\n",
      "Healthy\n"
     ]
    }
   ],
   "source": [
    "from azureml.core.webservice import AciWebservice \n",
    "from azureml.core import Model\n",
    "\n",
    "dep_cfg = AciWebservice.deploy_configuration(cpu_cores = 1, memory_gb = 1, enable_app_insights= True, auth_enabled= True) \n",
    "\n",
    "webservice = Model.deploy(ws, \"capstone-automl1\", [model], inference_config, dep_cfg)\n",
    "\n",
    "webservice.wait_for_deployment(show_output = True) \n",
    "print(webservice.state) \n"
   ]
  },
  {
   "cell_type": "code",
   "execution_count": 52,
   "metadata": {},
   "outputs": [
    {
     "name": "stdout",
     "output_type": "stream",
     "text": [
      "2021-01-24T12:02:50,315466500+00:00 - rsyslog/run \n",
      "2021-01-24T12:02:50,320586200+00:00 - gunicorn/run \n",
      "2021-01-24T12:02:50,331559600+00:00 - nginx/run \n",
      "2021-01-24T12:02:50,330546000+00:00 - iot-server/run \n",
      "/usr/sbin/nginx: /azureml-envs/azureml_265db83b0c6014ce472c5de2f0b97e04/lib/libcrypto.so.1.0.0: no version information available (required by /usr/sbin/nginx)\n",
      "/usr/sbin/nginx: /azureml-envs/azureml_265db83b0c6014ce472c5de2f0b97e04/lib/libcrypto.so.1.0.0: no version information available (required by /usr/sbin/nginx)\n",
      "/usr/sbin/nginx: /azureml-envs/azureml_265db83b0c6014ce472c5de2f0b97e04/lib/libssl.so.1.0.0: no version information available (required by /usr/sbin/nginx)\n",
      "/usr/sbin/nginx: /azureml-envs/azureml_265db83b0c6014ce472c5de2f0b97e04/lib/libssl.so.1.0.0: no version information available (required by /usr/sbin/nginx)\n",
      "/usr/sbin/nginx: /azureml-envs/azureml_265db83b0c6014ce472c5de2f0b97e04/lib/libssl.so.1.0.0: no version information available (required by /usr/sbin/nginx)\n",
      "rsyslogd: /azureml-envs/azureml_265db83b0c6014ce472c5de2f0b97e04/lib/libuuid.so.1: no version information available (required by rsyslogd)\n",
      "EdgeHubConnectionString and IOTEDGE_IOTHUBHOSTNAME are not set. Exiting...\n",
      "2021-01-24T12:02:51,974371700+00:00 - iot-server/finish 1 0\n",
      "2021-01-24T12:02:51,990130000+00:00 - Exit code 1 is normal. Not restarting iot-server.\n",
      "Starting gunicorn 19.9.0\n",
      "Listening at: http://127.0.0.1:31311 (62)\n",
      "Using worker: sync\n",
      "worker timeout is set to 300\n",
      "Booting worker with pid: 97\n",
      "SPARK_HOME not set. Skipping PySpark Initialization.\n",
      "Generating new fontManager, this may take some time...\n",
      "Initializing logger\n",
      "2021-01-24 12:03:03,711 | root | INFO | Starting up app insights client\n",
      "2021-01-24 12:03:03,712 | root | INFO | Starting up request id generator\n",
      "2021-01-24 12:03:03,712 | root | INFO | Starting up app insight hooks\n",
      "2021-01-24 12:03:03,712 | root | INFO | Invoking user's init function\n",
      "2021-01-24 12:03:08,714 | root | INFO | Users's init has completed successfully\n",
      "2021-01-24 12:03:08,721 | root | INFO | Skipping middleware: dbg_model_info as it's not enabled.\n",
      "2021-01-24 12:03:08,721 | root | INFO | Skipping middleware: dbg_resource_usage as it's not enabled.\n",
      "2021-01-24 12:03:08,725 | root | INFO | Scoring timeout is found from os.environ: 60000 ms\n",
      "2021-01-24 12:03:08,742 | root | INFO | Swagger file not present\n",
      "2021-01-24 12:03:08,743 | root | INFO | 404\n",
      "127.0.0.1 - - [24/Jan/2021:12:03:08 +0000] \"GET /swagger.json HTTP/1.0\" 404 19 \"-\" \"Go-http-client/1.1\"\n",
      "2021-01-24 12:03:10,450 | root | INFO | Swagger file not present\n",
      "2021-01-24 12:03:10,451 | root | INFO | 404\n",
      "127.0.0.1 - - [24/Jan/2021:12:03:10 +0000] \"GET /swagger.json HTTP/1.0\" 404 19 \"-\" \"Go-http-client/1.1\"\n",
      "\n",
      "http://4f151129-ee25-46a4-a45a-2b3f5d9efffe.southcentralus.azurecontainer.io/score\n",
      "http://4f151129-ee25-46a4-a45a-2b3f5d9efffe.southcentralus.azurecontainer.io/swagger.json\n"
     ]
    }
   ],
   "source": [
    "print(webservice.get_logs())\n",
    "print(webservice.scoring_uri) \n",
    "print(webservice.swagger_uri)"
   ]
  },
  {
   "cell_type": "markdown",
   "metadata": {
    "collapsed": true,
    "gather": {
     "logged": 1598431657736
    },
    "jupyter": {
     "outputs_hidden": false,
     "source_hidden": false
    },
    "nteract": {
     "transient": {
      "deleting": false
     }
    }
   },
   "source": [
    "TODO: In the cell below, send a request to the web service you deployed to test it."
   ]
  },
  {
   "cell_type": "code",
   "execution_count": 53,
   "metadata": {
    "gather": {
     "logged": 1598432707604
    },
    "jupyter": {
     "outputs_hidden": false,
     "source_hidden": false
    },
    "nteract": {
     "transient": {
      "deleting": false
     }
    }
   },
   "outputs": [],
   "source": [
    "import json\n",
    "\n",
    "\n",
    "input_payload = json.dumps({\n",
    "    'data': dataset_x[0:2].to_dict(orient= 'records')\n",
    "    \n",
    "})\n",
    "\n"
   ]
  },
  {
   "cell_type": "code",
   "execution_count": 54,
   "metadata": {},
   "outputs": [
    {
     "name": "stdout",
     "output_type": "stream",
     "text": [
      "{\"data\": [{\"age\": 75.0, \"anaemia\": 0, \"creatinine_phosphokinase\": 582, \"diabetes\": 0, \"ejection_fraction\": 20, \"high_blood_pressure\": 1, \"platelets\": 265000.0, \"serum_creatinine\": 1.9, \"serum_sodium\": 130, \"sex\": 1, \"smoking\": 0, \"time\": 4}, {\"age\": 55.0, \"anaemia\": 0, \"creatinine_phosphokinase\": 7861, \"diabetes\": 0, \"ejection_fraction\": 38, \"high_blood_pressure\": 0, \"platelets\": 263358.03, \"serum_creatinine\": 1.1, \"serum_sodium\": 136, \"sex\": 1, \"smoking\": 0, \"time\": 6}]}\n"
     ]
    }
   ],
   "source": [
    "print(input_payload)"
   ]
  },
  {
   "cell_type": "code",
   "execution_count": 55,
   "metadata": {},
   "outputs": [
    {
     "name": "stdout",
     "output_type": "stream",
     "text": [
      "[1, 1]\n"
     ]
    }
   ],
   "source": [
    "output = webservice.run(input_payload)\n",
    "print(output)"
   ]
  },
  {
   "cell_type": "markdown",
   "metadata": {
    "collapsed": true,
    "gather": {
     "logged": 1598432765711
    },
    "jupyter": {
     "outputs_hidden": false,
     "source_hidden": false
    },
    "nteract": {
     "transient": {
      "deleting": false
     }
    }
   },
   "source": [
    "TODO: In the cell below, print the logs of the web service and delete the service"
   ]
  },
  {
   "cell_type": "code",
   "execution_count": 56,
   "metadata": {
    "jupyter": {
     "outputs_hidden": false,
     "source_hidden": false
    },
    "nteract": {
     "transient": {
      "deleting": false
     }
    }
   },
   "outputs": [],
   "source": [
    "webservice.delete()"
   ]
  },
  {
   "cell_type": "code",
   "execution_count": null,
   "metadata": {},
   "outputs": [],
   "source": []
  }
 ],
 "metadata": {
  "kernel_info": {
   "name": "python3-azureml"
  },
  "kernelspec": {
   "display_name": "Python 3",
   "language": "python",
   "name": "python3"
  },
  "language_info": {
   "codemirror_mode": {
    "name": "ipython",
    "version": 3
   },
   "file_extension": ".py",
   "mimetype": "text/x-python",
   "name": "python",
   "nbconvert_exporter": "python",
   "pygments_lexer": "ipython3",
   "version": "3.6.9"
  },
  "nteract": {
   "version": "nteract-front-end@1.0.0"
  }
 },
 "nbformat": 4,
 "nbformat_minor": 2
}
